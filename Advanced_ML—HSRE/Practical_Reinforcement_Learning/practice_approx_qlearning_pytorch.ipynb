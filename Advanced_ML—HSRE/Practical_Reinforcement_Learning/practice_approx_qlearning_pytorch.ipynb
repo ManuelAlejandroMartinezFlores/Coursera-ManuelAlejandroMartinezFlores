{
  "nbformat": 4,
  "nbformat_minor": 0,
  "metadata": {
    "colab": {
      "name": "practice_approx_qlearning_pytorch.ipynb",
      "provenance": []
    },
    "language_info": {
      "name": "python"
    },
    "kernelspec": {
      "name": "python3",
      "display_name": "Python 3"
    }
  },
  "cells": [
    {
      "cell_type": "markdown",
      "metadata": {
        "id": "omBdWpjdUyd-"
      },
      "source": [
        "# Approximate q-learning\n",
        "\n",
        "In this notebook you will teach a __PyTorch__ neural network to do Q-learning."
      ]
    },
    {
      "cell_type": "code",
      "metadata": {
        "id": "QqJFUTWyUyeA",
        "outputId": "46857a1e-abdb-4f38-bb1a-c986fbfed786",
        "colab": {
          "base_uri": "https://localhost:8080/"
        }
      },
      "source": [
        "import sys, os\n",
        "if 'google.colab' in sys.modules and not os.path.exists('.setup_complete'):\n",
        "    !wget -q https://raw.githubusercontent.com/yandexdataschool/Practical_RL/master/setup_colab.sh -O- | bash\n",
        "\n",
        "    !wget -q https://raw.githubusercontent.com/yandexdataschool/Practical_RL/coursera/grading.py -O ../grading.py\n",
        "    !wget -q https://raw.githubusercontent.com/yandexdataschool/Practical_RL/coursera/week4_approx/submit.py\n",
        "\n",
        "    !touch .setup_complete\n",
        "\n",
        "# This code creates a virtual display to draw game images on.\n",
        "# It will have no effect if your machine has a monitor.\n",
        "if type(os.environ.get(\"DISPLAY\")) is not str or len(os.environ.get(\"DISPLAY\")) == 0:\n",
        "    !bash ../xvfb start\n",
        "    os.environ['DISPLAY'] = ':1'"
      ],
      "execution_count": 2,
      "outputs": [
        {
          "output_type": "stream",
          "text": [
            "Selecting previously unselected package xvfb.\n",
            "(Reading database ... 160772 files and directories currently installed.)\n",
            "Preparing to unpack .../xvfb_2%3a1.19.6-1ubuntu4.9_amd64.deb ...\n",
            "Unpacking xvfb (2:1.19.6-1ubuntu4.9) ...\n",
            "Setting up xvfb (2:1.19.6-1ubuntu4.9) ...\n",
            "Processing triggers for man-db (2.8.3-2ubuntu0.1) ...\n",
            "Starting virtual X frame buffer: Xvfb.\n"
          ],
          "name": "stdout"
        }
      ]
    },
    {
      "cell_type": "code",
      "metadata": {
        "id": "HtIHxNH7UyeA"
      },
      "source": [
        "import gym\n",
        "import numpy as np\n",
        "import pandas as pd\n",
        "import matplotlib.pyplot as plt\n",
        "%matplotlib inline"
      ],
      "execution_count": 3,
      "outputs": []
    },
    {
      "cell_type": "code",
      "metadata": {
        "id": "pDIQFlQ_UyeB",
        "outputId": "12f21573-0453-4b53-ade8-4f7229557fd0",
        "colab": {
          "base_uri": "https://localhost:8080/",
          "height": 269
        }
      },
      "source": [
        "env = gym.make(\"CartPole-v0\").env\n",
        "env.reset()\n",
        "n_actions = env.action_space.n\n",
        "state_dim = env.observation_space.shape\n",
        "\n",
        "plt.imshow(env.render(\"rgb_array\"))\n",
        "env.close()"
      ],
      "execution_count": 4,
      "outputs": [
        {
          "output_type": "display_data",
          "data": {
            "image/png": "[encoded data removed]",
            "text/plain": [
              "<Figure size 432x288 with 1 Axes>"
            ]
          },
          "metadata": {
            "tags": [],
            "needs_background": "light"
          }
        }
      ]
    },
    {
      "cell_type": "markdown",
      "metadata": {
        "id": "Zj24A8shUyeB"
      },
      "source": [
        "# Approximate Q-learning: building the network\n",
        "\n",
        "To train a neural network policy one must have a neural network policy. Let's build it.\n",
        "\n",
        "\n",
        "Since we're working with a pre-extracted features (cart positions, angles and velocities), we don't need a complicated network yet. In fact, let's build something like this for starters:\n",
        "\n",
        "![img](https://raw.githubusercontent.com/yandexdataschool/Practical_RL/master/yet_another_week/_resource/qlearning_scheme.png)\n",
        "\n",
        "For your first run, please only use linear layers (`nn.Linear`) and activations. Stuff like batch normalization or dropout may ruin everything if used haphazardly. \n",
        "\n",
        "Also please avoid using nonlinearities like sigmoid & tanh: since agent's observations are not normalized, sigmoids might be saturated at initialization. Instead, use non-saturating nonlinearities like ReLU.\n",
        "\n",
        "Ideally you should start small with maybe 1-2 hidden layers with < 200 neurons and then increase network size if agent doesn't beat the target score."
      ]
    },
    {
      "cell_type": "code",
      "metadata": {
        "id": "N3aws9kmUyeB"
      },
      "source": [
        "import torch\n",
        "import torch.nn as nn\n",
        "import torch.nn.functional as F"
      ],
      "execution_count": 5,
      "outputs": []
    },
    {
      "cell_type": "code",
      "metadata": {
        "id": "fhi-bbbCb58o"
      },
      "source": [
        "nn.ReLU?"
      ],
      "execution_count": 6,
      "outputs": []
    },
    {
      "cell_type": "code",
      "metadata": {
        "id": "YGl6juUBUyeB",
        "outputId": "502c1c1d-a45a-4c1a-dbe9-d6edc09074d4",
        "colab": {
          "base_uri": "https://localhost:8080/"
        }
      },
      "source": [
        "network = nn.Sequential()\n",
        "#<YOUR CODE: stack layers!!!1>\n",
        "\n",
        "network.add_module('Linear1', nn.Linear(state_dim[0], 128))\n",
        "network.add_module('ReLU1', nn.ReLU())\n",
        "network.add_module('Linear2', nn.Linear(128, 128))\n",
        "network.add_module('ReLU2', nn.ReLU())\n",
        "network.add_module('Linear3', nn.Linear(128, n_actions))\n",
        "\n",
        "# hint: use state_dim[0] as input size\n",
        "network"
      ],
      "execution_count": 9,
      "outputs": [
        {
          "output_type": "execute_result",
          "data": {
            "text/plain": [
              "Sequential(\n",
              "  (Linear1): Linear(in_features=4, out_features=128, bias=True)\n",
              "  (ReLU1): ReLU()\n",
              "  (Linear2): Linear(in_features=128, out_features=128, bias=True)\n",
              "  (ReLU2): ReLU()\n",
              "  (Linear3): Linear(in_features=128, out_features=2, bias=True)\n",
              ")"
            ]
          },
          "metadata": {
            "tags": []
          },
          "execution_count": 9
        }
      ]
    },
    {
      "cell_type": "code",
      "metadata": {
        "id": "D_Od5QbWUyeC"
      },
      "source": [
        "def get_action(state, epsilon=0):\n",
        "    \"\"\"\n",
        "    sample actions with epsilon-greedy policy\n",
        "    recap: with p = epsilon pick random action, else pick action with highest Q(s,a)\n",
        "    \"\"\"\n",
        "    state = torch.tensor(state[None], dtype=torch.float32)\n",
        "    q_values = network(state).detach().numpy()\n",
        "\n",
        "    #<YOUR CODE>\n",
        "    possible_actions = list(range(env.action_space.n))\n",
        "\n",
        "    if np.random.choice([0,1], p=[epsilon, 1-epsilon]) == 1:\n",
        "        action = possible_actions[np.argmax(q_values)]\n",
        "    else:\n",
        "        action = np.random.choice(possible_actions)\n",
        "\n",
        "    return int(action)"
      ],
      "execution_count": 10,
      "outputs": []
    },
    {
      "cell_type": "code",
      "metadata": {
        "id": "EyMNBrP6UyeC",
        "outputId": "59836bf1-e3ef-4d64-a27b-ea7dab1f914a",
        "colab": {
          "base_uri": "https://localhost:8080/"
        }
      },
      "source": [
        "s = env.reset()\n",
        "assert tuple(network(torch.tensor([s]*3, dtype=torch.float32)).size()) == (\n",
        "    3, n_actions), \"please make sure your model maps state s -> [Q(s,a0), ..., Q(s, a_last)]\"\n",
        "assert isinstance(list(network.modules(\n",
        "))[-1], nn.Linear), \"please make sure you predict q-values without nonlinearity (ignore if you know what you're doing)\"\n",
        "assert isinstance(get_action(\n",
        "    s), int), \"get_action(s) must return int, not %s. try int(action)\" % (type(get_action(s)))\n",
        "\n",
        "# test epsilon-greedy exploration\n",
        "for eps in [0., 0.1, 0.5, 1.0]:\n",
        "    state_frequencies = np.bincount(\n",
        "        [get_action(s, epsilon=eps) for i in range(10000)], minlength=n_actions)\n",
        "    best_action = state_frequencies.argmax()\n",
        "    assert abs(state_frequencies[best_action] -\n",
        "               10000 * (1 - eps + eps / n_actions)) < 200\n",
        "    for other_action in range(n_actions):\n",
        "        if other_action != best_action:\n",
        "            assert abs(state_frequencies[other_action] -\n",
        "                       10000 * (eps / n_actions)) < 200\n",
        "    print('e=%.1f tests passed' % eps)"
      ],
      "execution_count": 11,
      "outputs": [
        {
          "output_type": "stream",
          "text": [
            "e=0.0 tests passed\n",
            "e=0.1 tests passed\n",
            "e=0.5 tests passed\n",
            "e=1.0 tests passed\n"
          ],
          "name": "stdout"
        }
      ]
    },
    {
      "cell_type": "markdown",
      "metadata": {
        "id": "jA-G9cQTUyeD"
      },
      "source": [
        "### Q-learning via gradient descent\n",
        "\n",
        "We shall now train our agent's Q-function by minimizing the TD loss:\n",
        "$$ L = { 1 \\over N} \\sum_i (Q_{\\theta}(s,a) - [r(s,a) + \\gamma \\cdot max_{a'} Q_{-}(s', a')]) ^2 $$\n",
        "\n",
        "\n",
        "Where\n",
        "* $s, a, r, s'$ are current state, action, reward and next state respectively\n",
        "* $\\gamma$ is a discount factor defined two cells above.\n",
        "\n",
        "The tricky part is with  $Q_{-}(s',a')$. From an engineering standpoint, it's the same as $Q_{\\theta}$ - the output of your neural network policy. However, when doing gradient descent, __we won't propagate gradients through it__ to make training more stable (see lectures).\n",
        "\n",
        "To do so, we shall use `x.detach()` function which basically says \"consider this thing constant when doingbackprop\"."
      ]
    },
    {
      "cell_type": "code",
      "metadata": {
        "id": "NR5RCgbjUyeD"
      },
      "source": [
        "def compute_td_loss(states, actions, rewards, next_states, is_done, gamma=0.99, check_shapes=False):\n",
        "    \"\"\" Compute td loss using torch operations only. Use the formula above. \"\"\"\n",
        "    states = torch.tensor(\n",
        "        states, dtype=torch.float32)    # shape: [batch_size, state_size]\n",
        "    actions = torch.tensor(actions, dtype=torch.long)    # shape: [batch_size]\n",
        "    rewards = torch.tensor(rewards, dtype=torch.float32)  # shape: [batch_size]\n",
        "    # shape: [batch_size, state_size]\n",
        "    next_states = torch.tensor(next_states, dtype=torch.float32)\n",
        "    is_done = torch.tensor(is_done, dtype=torch.uint8)  # shape: [batch_size]\n",
        "\n",
        "    # get q-values for all actions in current states\n",
        "    predicted_qvalues = network(states)\n",
        "\n",
        "    # select q-values for chosen actions\n",
        "    predicted_qvalues_for_actions = predicted_qvalues[\n",
        "      range(states.shape[0]), actions\n",
        "    ]\n",
        "\n",
        "    # compute q-values for all actions in next states\n",
        "    #predicted_next_qvalues = <YOUR CODE>\n",
        "    predicted_next_qvalues = network(next_states)\n",
        "\n",
        "    # compute V*(next_states) using predicted next q-values\n",
        "    #next_state_values = <YOUR CODE>\n",
        "    next_state_values = torch.max(predicted_next_qvalues, dim=1)[0]\n",
        "    assert next_state_values.dtype == torch.float32\n",
        "\n",
        "    # compute \"target q-values\" for loss - it's what's inside square parentheses in the above formula.\n",
        "    #target_qvalues_for_actions = <YOUR CODE>\n",
        "    target_qvalues_for_actions = rewards + gamma * next_state_values\n",
        "\n",
        "    # at the last state we shall use simplified formula: Q(s,a) = r(s,a) since s' doesn't exist\n",
        "    target_qvalues_for_actions = torch.where(\n",
        "        is_done, rewards, target_qvalues_for_actions)\n",
        "\n",
        "    # mean squared error loss to minimize\n",
        "    loss = torch.mean((predicted_qvalues_for_actions -\n",
        "                       target_qvalues_for_actions.detach()) ** 2)\n",
        "\n",
        "    if check_shapes:\n",
        "        assert predicted_next_qvalues.data.dim(\n",
        "        ) == 2, \"make sure you predicted q-values for all actions in next state\"\n",
        "        assert next_state_values.data.dim(\n",
        "        ) == 1, \"make sure you computed V(s') as maximum over just the actions axis and not all axes\"\n",
        "        assert target_qvalues_for_actions.data.dim(\n",
        "        ) == 1, \"there's something wrong with target q-values, they must be a vector\"\n",
        "\n",
        "    return loss"
      ],
      "execution_count": 29,
      "outputs": []
    },
    {
      "cell_type": "code",
      "metadata": {
        "id": "DMKPNXfGUyeE"
      },
      "source": [
        "# sanity checks\n",
        "s = env.reset()\n",
        "a = env.action_space.sample()\n",
        "next_s, r, done, _ = env.step(a)\n",
        "loss = compute_td_loss([s], [a], [r], [next_s], [done], check_shapes=True)\n",
        "loss.backward()\n",
        "\n",
        "assert len(loss.size()) == 0, \"you must return scalar loss - mean over batch\"\n",
        "assert np.any(next(network.parameters()).grad.detach().numpy() !=\n",
        "              0), \"loss must be differentiable w.r.t. network weights\""
      ],
      "execution_count": 30,
      "outputs": []
    },
    {
      "cell_type": "markdown",
      "metadata": {
        "id": "V_rLM_ALUyeE"
      },
      "source": [
        "### Playing the game"
      ]
    },
    {
      "cell_type": "code",
      "metadata": {
        "id": "XS--8ewHUyeE"
      },
      "source": [
        "opt = torch.optim.Adam(network.parameters(), lr=1e-4)"
      ],
      "execution_count": 31,
      "outputs": []
    },
    {
      "cell_type": "code",
      "metadata": {
        "id": "uitQ-7HIUyeE"
      },
      "source": [
        "def generate_session(env, t_max=1000, epsilon=0, train=False):\n",
        "    \"\"\"play env with approximate q-learning agent and train it at the same time\"\"\"\n",
        "    total_reward = 0\n",
        "    s = env.reset()\n",
        "\n",
        "    for t in range(t_max):\n",
        "        a = get_action(s, epsilon=epsilon)\n",
        "        next_s, r, done, _ = env.step(a)\n",
        "\n",
        "        if train:\n",
        "            opt.zero_grad()\n",
        "            compute_td_loss([s], [a], [r], [next_s], [done]).backward()\n",
        "            opt.step()\n",
        "\n",
        "        total_reward += r\n",
        "        s = next_s\n",
        "        if done:\n",
        "            break\n",
        "\n",
        "    return total_reward"
      ],
      "execution_count": 32,
      "outputs": []
    },
    {
      "cell_type": "code",
      "metadata": {
        "id": "tYzobu8JUyeF"
      },
      "source": [
        "epsilon = 0.5"
      ],
      "execution_count": 33,
      "outputs": []
    },
    {
      "cell_type": "code",
      "metadata": {
        "id": "49L2tkkSUyeF",
        "outputId": "3d9d6da5-ec0d-42ad-b67e-c1a0568c7c67",
        "colab": {
          "base_uri": "https://localhost:8080/"
        }
      },
      "source": [
        "for i in range(1000):\n",
        "    session_rewards = [generate_session(env, epsilon=epsilon, train=True) for _ in range(100)]\n",
        "    print(\"epoch #{}\\tmean reward = {:.3f}\\tepsilon = {:.3f}\".format(i, np.mean(session_rewards), epsilon))\n",
        "\n",
        "    epsilon *= 0.99\n",
        "    assert epsilon >= 1e-4, \"Make sure epsilon is always nonzero during training\"\n",
        "\n",
        "    if np.mean(session_rewards) > 300:\n",
        "        print(\"You Win!\")\n",
        "        break"
      ],
      "execution_count": 34,
      "outputs": [
        {
          "output_type": "stream",
          "text": [
            "epoch #0\tmean reward = 13.980\tepsilon = 0.500\n",
            "epoch #1\tmean reward = 13.750\tepsilon = 0.495\n",
            "epoch #2\tmean reward = 14.200\tepsilon = 0.490\n",
            "epoch #3\tmean reward = 13.970\tepsilon = 0.485\n",
            "epoch #4\tmean reward = 15.500\tepsilon = 0.480\n",
            "epoch #5\tmean reward = 23.080\tepsilon = 0.475\n",
            "epoch #6\tmean reward = 33.780\tepsilon = 0.471\n",
            "epoch #7\tmean reward = 45.200\tepsilon = 0.466\n",
            "epoch #8\tmean reward = 49.300\tepsilon = 0.461\n",
            "epoch #9\tmean reward = 60.630\tepsilon = 0.457\n",
            "epoch #10\tmean reward = 70.160\tepsilon = 0.452\n",
            "epoch #11\tmean reward = 100.270\tepsilon = 0.448\n",
            "epoch #12\tmean reward = 116.740\tepsilon = 0.443\n",
            "epoch #13\tmean reward = 131.860\tepsilon = 0.439\n",
            "epoch #14\tmean reward = 152.360\tepsilon = 0.434\n",
            "epoch #15\tmean reward = 161.160\tepsilon = 0.430\n",
            "epoch #16\tmean reward = 179.040\tepsilon = 0.426\n",
            "epoch #17\tmean reward = 182.960\tepsilon = 0.421\n",
            "epoch #18\tmean reward = 176.800\tepsilon = 0.417\n",
            "epoch #19\tmean reward = 203.640\tepsilon = 0.413\n",
            "epoch #20\tmean reward = 250.590\tepsilon = 0.409\n",
            "epoch #21\tmean reward = 300.780\tepsilon = 0.405\n",
            "You Win!\n"
          ],
          "name": "stdout"
        }
      ]
    },
    {
      "cell_type": "markdown",
      "metadata": {
        "id": "eRI7OH2gUyeF"
      },
      "source": [
        "### How to interpret results\n",
        "\n",
        "\n",
        "Welcome to the f.. world of deep f...n reinforcement learning. Don't expect agent's reward to smoothly go up. Hope for it to go increase eventually. If it deems you worthy.\n",
        "\n",
        "Seriously though,\n",
        "* __ mean reward__ is the average reward per game. For a correct implementation it may stay low for some 10 epochs, then start growing while oscilating insanely and converges by ~50-100 steps depending on the network architecture. \n",
        "* If it never reaches target score by the end of for loop, try increasing the number of hidden neurons or look at the epsilon.\n",
        "* __ epsilon__ - agent's willingness to explore. If you see that agent's already at < 0.01 epsilon before it's is at least 200, just reset it back to 0.1 - 0.5."
      ]
    },
    {
      "cell_type": "markdown",
      "metadata": {
        "id": "kyqLXqRvUyeF"
      },
      "source": [
        "### Record videos\n",
        "\n",
        "As usual, we now use `gym.wrappers.Monitor` to record a video of our agent playing the game. Unlike our previous attempts with state binarization, this time we expect our agent to act ~~(or fail)~~ more smoothly since there's no more binarization error at play.\n",
        "\n",
        "As you already did with tabular q-learning, we set epsilon=0 for final evaluation to prevent agent from exploring himself to death."
      ]
    },
    {
      "cell_type": "code",
      "metadata": {
        "id": "fYlkRtcZUyeG"
      },
      "source": [
        "# Record sessions\n",
        "\n",
        "import gym.wrappers\n",
        "\n",
        "with gym.wrappers.Monitor(gym.make(\"CartPole-v0\"), directory=\"videos\", force=True) as env_monitor:\n",
        "    sessions = [generate_session(env_monitor, epsilon=0, train=False) for _ in range(100)]"
      ],
      "execution_count": null,
      "outputs": []
    },
    {
      "cell_type": "code",
      "metadata": {
        "id": "lfRu718VUyeG"
      },
      "source": [
        "# Show video. This may not work in some setups. If it doesn't\n",
        "# work for you, you can download the videos and view them locally.\n",
        "\n",
        "from pathlib import Path\n",
        "from IPython.display import HTML\n",
        "\n",
        "video_names = sorted([s for s in Path('videos').iterdir() if s.suffix == '.mp4'])\n",
        "\n",
        "HTML(\"\"\"\n",
        "<video width=\"640\" height=\"480\" controls>\n",
        "  <source src=\"{}\" type=\"video/mp4\">\n",
        "</video>\n",
        "\"\"\".format(video_names[-1]))  # You can also try other indices"
      ],
      "execution_count": null,
      "outputs": []
    },
    {
      "cell_type": "markdown",
      "metadata": {
        "id": "VhNmmRY9UyeG"
      },
      "source": [
        "## Submit to Coursera"
      ]
    },
    {
      "cell_type": "code",
      "metadata": {
        "id": "7yMLrIyjUyeG"
      },
      "source": [
        "from submit import submit_cartpole\n",
        "submit_cartpole(generate_session, 'manuelalejandromartinezf@gmail.com', 'YourAssignmentToken')"
      ],
      "execution_count": null,
      "outputs": []
    }
  ]
}