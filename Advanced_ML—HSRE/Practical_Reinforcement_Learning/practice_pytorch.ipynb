{
  "nbformat": 4,
  "nbformat_minor": 0,
  "metadata": {
    "colab": {
      "name": "practice_pytorch.ipynb",
      "provenance": []
    },
    "language_info": {
      "name": "python"
    },
    "kernelspec": {
      "name": "python3",
      "display_name": "Python 3"
    },
    "accelerator": "GPU",
    "widgets": {
      "application/vnd.jupyter.widget-state+json": {
        "4f177a5b780a458b9eea64d0e702b40e": {
          "model_module": "@jupyter-widgets/controls",
          "model_name": "HBoxModel",
          "state": {
            "_view_name": "HBoxView",
            "_dom_classes": [],
            "_model_name": "HBoxModel",
            "_view_module": "@jupyter-widgets/controls",
            "_model_module_version": "1.5.0",
            "_view_count": null,
            "_view_module_version": "1.5.0",
            "box_style": "",
            "layout": "IPY_MODEL_3824e572fe2343a2a9cc099232325a7c",
            "_model_module": "@jupyter-widgets/controls",
            "children": [
              "IPY_MODEL_539a449f052b4675a26a6931045e547f",
              "IPY_MODEL_9c0f93987b334fb0bb994fd1b4de4d45"
            ]
          }
        },
        "3824e572fe2343a2a9cc099232325a7c": {
          "model_module": "@jupyter-widgets/base",
          "model_name": "LayoutModel",
          "state": {
            "_view_name": "LayoutView",
            "grid_template_rows": null,
            "right": null,
            "justify_content": null,
            "_view_module": "@jupyter-widgets/base",
            "overflow": null,
            "_model_module_version": "1.2.0",
            "_view_count": null,
            "flex_flow": null,
            "width": null,
            "min_width": null,
            "border": null,
            "align_items": null,
            "bottom": null,
            "_model_module": "@jupyter-widgets/base",
            "top": null,
            "grid_column": null,
            "overflow_y": null,
            "overflow_x": null,
            "grid_auto_flow": null,
            "grid_area": null,
            "grid_template_columns": null,
            "flex": null,
            "_model_name": "LayoutModel",
            "justify_items": null,
            "grid_row": null,
            "max_height": null,
            "align_content": null,
            "visibility": null,
            "align_self": null,
            "height": null,
            "min_height": null,
            "padding": null,
            "grid_auto_rows": null,
            "grid_gap": null,
            "max_width": null,
            "order": null,
            "_view_module_version": "1.2.0",
            "grid_template_areas": null,
            "object_position": null,
            "object_fit": null,
            "grid_auto_columns": null,
            "margin": null,
            "display": null,
            "left": null
          }
        },
        "539a449f052b4675a26a6931045e547f": {
          "model_module": "@jupyter-widgets/controls",
          "model_name": "FloatProgressModel",
          "state": {
            "_view_name": "ProgressView",
            "style": "IPY_MODEL_496d6515da2542be9548bd0815885f75",
            "_dom_classes": [],
            "description": "  1%",
            "_model_name": "FloatProgressModel",
            "bar_style": "danger",
            "max": 50000,
            "_view_module": "@jupyter-widgets/controls",
            "_model_module_version": "1.5.0",
            "value": 599,
            "_view_count": null,
            "_view_module_version": "1.5.0",
            "orientation": "horizontal",
            "min": 0,
            "description_tooltip": null,
            "_model_module": "@jupyter-widgets/controls",
            "layout": "IPY_MODEL_9e1e5adcf86b40839a2717bc98312cdf"
          }
        },
        "9c0f93987b334fb0bb994fd1b4de4d45": {
          "model_module": "@jupyter-widgets/controls",
          "model_name": "HTMLModel",
          "state": {
            "_view_name": "HTMLView",
            "style": "IPY_MODEL_958170232bd942888748a42250a16a92",
            "_dom_classes": [],
            "description": "",
            "_model_name": "HTMLModel",
            "placeholder": "​",
            "_view_module": "@jupyter-widgets/controls",
            "_model_module_version": "1.5.0",
            "value": " 599/50000 [01:36&lt;2:01:37,  6.77it/s]",
            "_view_count": null,
            "_view_module_version": "1.5.0",
            "description_tooltip": null,
            "_model_module": "@jupyter-widgets/controls",
            "layout": "IPY_MODEL_14053856b35f4af3ad717173ab273258"
          }
        },
        "496d6515da2542be9548bd0815885f75": {
          "model_module": "@jupyter-widgets/controls",
          "model_name": "ProgressStyleModel",
          "state": {
            "_view_name": "StyleView",
            "_model_name": "ProgressStyleModel",
            "description_width": "initial",
            "_view_module": "@jupyter-widgets/base",
            "_model_module_version": "1.5.0",
            "_view_count": null,
            "_view_module_version": "1.2.0",
            "bar_color": null,
            "_model_module": "@jupyter-widgets/controls"
          }
        },
        "9e1e5adcf86b40839a2717bc98312cdf": {
          "model_module": "@jupyter-widgets/base",
          "model_name": "LayoutModel",
          "state": {
            "_view_name": "LayoutView",
            "grid_template_rows": null,
            "right": null,
            "justify_content": null,
            "_view_module": "@jupyter-widgets/base",
            "overflow": null,
            "_model_module_version": "1.2.0",
            "_view_count": null,
            "flex_flow": null,
            "width": null,
            "min_width": null,
            "border": null,
            "align_items": null,
            "bottom": null,
            "_model_module": "@jupyter-widgets/base",
            "top": null,
            "grid_column": null,
            "overflow_y": null,
            "overflow_x": null,
            "grid_auto_flow": null,
            "grid_area": null,
            "grid_template_columns": null,
            "flex": null,
            "_model_name": "LayoutModel",
            "justify_items": null,
            "grid_row": null,
            "max_height": null,
            "align_content": null,
            "visibility": null,
            "align_self": null,
            "height": null,
            "min_height": null,
            "padding": null,
            "grid_auto_rows": null,
            "grid_gap": null,
            "max_width": null,
            "order": null,
            "_view_module_version": "1.2.0",
            "grid_template_areas": null,
            "object_position": null,
            "object_fit": null,
            "grid_auto_columns": null,
            "margin": null,
            "display": null,
            "left": null
          }
        },
        "958170232bd942888748a42250a16a92": {
          "model_module": "@jupyter-widgets/controls",
          "model_name": "DescriptionStyleModel",
          "state": {
            "_view_name": "StyleView",
            "_model_name": "DescriptionStyleModel",
            "description_width": "",
            "_view_module": "@jupyter-widgets/base",
            "_model_module_version": "1.5.0",
            "_view_count": null,
            "_view_module_version": "1.2.0",
            "_model_module": "@jupyter-widgets/controls"
          }
        },
        "14053856b35f4af3ad717173ab273258": {
          "model_module": "@jupyter-widgets/base",
          "model_name": "LayoutModel",
          "state": {
            "_view_name": "LayoutView",
            "grid_template_rows": null,
            "right": null,
            "justify_content": null,
            "_view_module": "@jupyter-widgets/base",
            "overflow": null,
            "_model_module_version": "1.2.0",
            "_view_count": null,
            "flex_flow": null,
            "width": null,
            "min_width": null,
            "border": null,
            "align_items": null,
            "bottom": null,
            "_model_module": "@jupyter-widgets/base",
            "top": null,
            "grid_column": null,
            "overflow_y": null,
            "overflow_x": null,
            "grid_auto_flow": null,
            "grid_area": null,
            "grid_template_columns": null,
            "flex": null,
            "_model_name": "LayoutModel",
            "justify_items": null,
            "grid_row": null,
            "max_height": null,
            "align_content": null,
            "visibility": null,
            "align_self": null,
            "height": null,
            "min_height": null,
            "padding": null,
            "grid_auto_rows": null,
            "grid_gap": null,
            "max_width": null,
            "order": null,
            "_view_module_version": "1.2.0",
            "grid_template_areas": null,
            "object_position": null,
            "object_fit": null,
            "grid_auto_columns": null,
            "margin": null,
            "display": null,
            "left": null
          }
        },
        "a1ccd9154abc4599b7c3787b46ab943a": {
          "model_module": "@jupyter-widgets/controls",
          "model_name": "HBoxModel",
          "state": {
            "_view_name": "HBoxView",
            "_dom_classes": [],
            "_model_name": "HBoxModel",
            "_view_module": "@jupyter-widgets/controls",
            "_model_module_version": "1.5.0",
            "_view_count": null,
            "_view_module_version": "1.5.0",
            "box_style": "",
            "layout": "IPY_MODEL_eb0e29d4ba2a498d9694a88f7075b75a",
            "_model_module": "@jupyter-widgets/controls",
            "children": [
              "IPY_MODEL_79dc954384624395a2277bc5f10a5311",
              "IPY_MODEL_f79e4a4a7d9444c2a8b52a2ee49f4344"
            ]
          }
        },
        "eb0e29d4ba2a498d9694a88f7075b75a": {
          "model_module": "@jupyter-widgets/base",
          "model_name": "LayoutModel",
          "state": {
            "_view_name": "LayoutView",
            "grid_template_rows": null,
            "right": null,
            "justify_content": null,
            "_view_module": "@jupyter-widgets/base",
            "overflow": null,
            "_model_module_version": "1.2.0",
            "_view_count": null,
            "flex_flow": null,
            "width": null,
            "min_width": null,
            "border": null,
            "align_items": null,
            "bottom": null,
            "_model_module": "@jupyter-widgets/base",
            "top": null,
            "grid_column": null,
            "overflow_y": null,
            "overflow_x": null,
            "grid_auto_flow": null,
            "grid_area": null,
            "grid_template_columns": null,
            "flex": null,
            "_model_name": "LayoutModel",
            "justify_items": null,
            "grid_row": null,
            "max_height": null,
            "align_content": null,
            "visibility": null,
            "align_self": null,
            "height": null,
            "min_height": null,
            "padding": null,
            "grid_auto_rows": null,
            "grid_gap": null,
            "max_width": null,
            "order": null,
            "_view_module_version": "1.2.0",
            "grid_template_areas": null,
            "object_position": null,
            "object_fit": null,
            "grid_auto_columns": null,
            "margin": null,
            "display": null,
            "left": null
          }
        },
        "79dc954384624395a2277bc5f10a5311": {
          "model_module": "@jupyter-widgets/controls",
          "model_name": "FloatProgressModel",
          "state": {
            "_view_name": "ProgressView",
            "style": "IPY_MODEL_054b2d019e984186bed4e1d13986026a",
            "_dom_classes": [],
            "description": "100%",
            "_model_name": "FloatProgressModel",
            "bar_style": "success",
            "max": 407,
            "_view_module": "@jupyter-widgets/controls",
            "_model_module_version": "1.5.0",
            "value": 407,
            "_view_count": null,
            "_view_module_version": "1.5.0",
            "orientation": "horizontal",
            "min": 0,
            "description_tooltip": null,
            "_model_module": "@jupyter-widgets/controls",
            "layout": "IPY_MODEL_31ae52d8a883426a9850c8cee9e52eae"
          }
        },
        "f79e4a4a7d9444c2a8b52a2ee49f4344": {
          "model_module": "@jupyter-widgets/controls",
          "model_name": "HTMLModel",
          "state": {
            "_view_name": "HTMLView",
            "style": "IPY_MODEL_1ac7e8d4a78641109a38614e54b302d5",
            "_dom_classes": [],
            "description": "",
            "_model_name": "HTMLModel",
            "placeholder": "​",
            "_view_module": "@jupyter-widgets/controls",
            "_model_module_version": "1.5.0",
            "value": " 407/407 [03:00&lt;00:00,  2.26it/s]",
            "_view_count": null,
            "_view_module_version": "1.5.0",
            "description_tooltip": null,
            "_model_module": "@jupyter-widgets/controls",
            "layout": "IPY_MODEL_bd9ea36759984cfca60603ac8a8ffadc"
          }
        },
        "054b2d019e984186bed4e1d13986026a": {
          "model_module": "@jupyter-widgets/controls",
          "model_name": "ProgressStyleModel",
          "state": {
            "_view_name": "StyleView",
            "_model_name": "ProgressStyleModel",
            "description_width": "initial",
            "_view_module": "@jupyter-widgets/base",
            "_model_module_version": "1.5.0",
            "_view_count": null,
            "_view_module_version": "1.2.0",
            "bar_color": null,
            "_model_module": "@jupyter-widgets/controls"
          }
        },
        "31ae52d8a883426a9850c8cee9e52eae": {
          "model_module": "@jupyter-widgets/base",
          "model_name": "LayoutModel",
          "state": {
            "_view_name": "LayoutView",
            "grid_template_rows": null,
            "right": null,
            "justify_content": null,
            "_view_module": "@jupyter-widgets/base",
            "overflow": null,
            "_model_module_version": "1.2.0",
            "_view_count": null,
            "flex_flow": null,
            "width": null,
            "min_width": null,
            "border": null,
            "align_items": null,
            "bottom": null,
            "_model_module": "@jupyter-widgets/base",
            "top": null,
            "grid_column": null,
            "overflow_y": null,
            "overflow_x": null,
            "grid_auto_flow": null,
            "grid_area": null,
            "grid_template_columns": null,
            "flex": null,
            "_model_name": "LayoutModel",
            "justify_items": null,
            "grid_row": null,
            "max_height": null,
            "align_content": null,
            "visibility": null,
            "align_self": null,
            "height": null,
            "min_height": null,
            "padding": null,
            "grid_auto_rows": null,
            "grid_gap": null,
            "max_width": null,
            "order": null,
            "_view_module_version": "1.2.0",
            "grid_template_areas": null,
            "object_position": null,
            "object_fit": null,
            "grid_auto_columns": null,
            "margin": null,
            "display": null,
            "left": null
          }
        },
        "1ac7e8d4a78641109a38614e54b302d5": {
          "model_module": "@jupyter-widgets/controls",
          "model_name": "DescriptionStyleModel",
          "state": {
            "_view_name": "StyleView",
            "_model_name": "DescriptionStyleModel",
            "description_width": "",
            "_view_module": "@jupyter-widgets/base",
            "_model_module_version": "1.5.0",
            "_view_count": null,
            "_view_module_version": "1.2.0",
            "_model_module": "@jupyter-widgets/controls"
          }
        },
        "bd9ea36759984cfca60603ac8a8ffadc": {
          "model_module": "@jupyter-widgets/base",
          "model_name": "LayoutModel",
          "state": {
            "_view_name": "LayoutView",
            "grid_template_rows": null,
            "right": null,
            "justify_content": null,
            "_view_module": "@jupyter-widgets/base",
            "overflow": null,
            "_model_module_version": "1.2.0",
            "_view_count": null,
            "flex_flow": null,
            "width": null,
            "min_width": null,
            "border": null,
            "align_items": null,
            "bottom": null,
            "_model_module": "@jupyter-widgets/base",
            "top": null,
            "grid_column": null,
            "overflow_y": null,
            "overflow_x": null,
            "grid_auto_flow": null,
            "grid_area": null,
            "grid_template_columns": null,
            "flex": null,
            "_model_name": "LayoutModel",
            "justify_items": null,
            "grid_row": null,
            "max_height": null,
            "align_content": null,
            "visibility": null,
            "align_self": null,
            "height": null,
            "min_height": null,
            "padding": null,
            "grid_auto_rows": null,
            "grid_gap": null,
            "max_width": null,
            "order": null,
            "_view_module_version": "1.2.0",
            "grid_template_areas": null,
            "object_position": null,
            "object_fit": null,
            "grid_auto_columns": null,
            "margin": null,
            "display": null,
            "left": null
          }
        },
        "89b886c0245c436c8948fe0b2cbcdc22": {
          "model_module": "@jupyter-widgets/controls",
          "model_name": "HBoxModel",
          "state": {
            "_view_name": "HBoxView",
            "_dom_classes": [],
            "_model_name": "HBoxModel",
            "_view_module": "@jupyter-widgets/controls",
            "_model_module_version": "1.5.0",
            "_view_count": null,
            "_view_module_version": "1.5.0",
            "box_style": "",
            "layout": "IPY_MODEL_4623a11cf2e64117b2dacf5f530b7eee",
            "_model_module": "@jupyter-widgets/controls",
            "children": [
              "IPY_MODEL_f15539dade0740c8b26ed8b7d2a6ac5f",
              "IPY_MODEL_0dd7d0a052b64796b00fea91805243c0"
            ]
          }
        },
        "4623a11cf2e64117b2dacf5f530b7eee": {
          "model_module": "@jupyter-widgets/base",
          "model_name": "LayoutModel",
          "state": {
            "_view_name": "LayoutView",
            "grid_template_rows": null,
            "right": null,
            "justify_content": null,
            "_view_module": "@jupyter-widgets/base",
            "overflow": null,
            "_model_module_version": "1.2.0",
            "_view_count": null,
            "flex_flow": null,
            "width": null,
            "min_width": null,
            "border": null,
            "align_items": null,
            "bottom": null,
            "_model_module": "@jupyter-widgets/base",
            "top": null,
            "grid_column": null,
            "overflow_y": null,
            "overflow_x": null,
            "grid_auto_flow": null,
            "grid_area": null,
            "grid_template_columns": null,
            "flex": null,
            "_model_name": "LayoutModel",
            "justify_items": null,
            "grid_row": null,
            "max_height": null,
            "align_content": null,
            "visibility": null,
            "align_self": null,
            "height": null,
            "min_height": null,
            "padding": null,
            "grid_auto_rows": null,
            "grid_gap": null,
            "max_width": null,
            "order": null,
            "_view_module_version": "1.2.0",
            "grid_template_areas": null,
            "object_position": null,
            "object_fit": null,
            "grid_auto_columns": null,
            "margin": null,
            "display": null,
            "left": null
          }
        },
        "f15539dade0740c8b26ed8b7d2a6ac5f": {
          "model_module": "@jupyter-widgets/controls",
          "model_name": "FloatProgressModel",
          "state": {
            "_view_name": "ProgressView",
            "style": "IPY_MODEL_08daff9cf1934dbba19a8b07d85114ff",
            "_dom_classes": [],
            "description": "  0%",
            "_model_name": "FloatProgressModel",
            "bar_style": "danger",
            "max": 100000,
            "_view_module": "@jupyter-widgets/controls",
            "_model_module_version": "1.5.0",
            "value": 99,
            "_view_count": null,
            "_view_module_version": "1.5.0",
            "orientation": "horizontal",
            "min": 0,
            "description_tooltip": null,
            "_model_module": "@jupyter-widgets/controls",
            "layout": "IPY_MODEL_ef3184d0194f4eeba8a210b403e836d0"
          }
        },
        "0dd7d0a052b64796b00fea91805243c0": {
          "model_module": "@jupyter-widgets/controls",
          "model_name": "HTMLModel",
          "state": {
            "_view_name": "HTMLView",
            "style": "IPY_MODEL_2e9a0967a0734a5590f58ffb97922b59",
            "_dom_classes": [],
            "description": "",
            "_model_name": "HTMLModel",
            "placeholder": "​",
            "_view_module": "@jupyter-widgets/controls",
            "_model_module_version": "1.5.0",
            "value": " 99/100000 [00:17&lt;4:56:24,  5.62it/s]",
            "_view_count": null,
            "_view_module_version": "1.5.0",
            "description_tooltip": null,
            "_model_module": "@jupyter-widgets/controls",
            "layout": "IPY_MODEL_472a7cc9a0d641bb8f2381db50e7310c"
          }
        },
        "08daff9cf1934dbba19a8b07d85114ff": {
          "model_module": "@jupyter-widgets/controls",
          "model_name": "ProgressStyleModel",
          "state": {
            "_view_name": "StyleView",
            "_model_name": "ProgressStyleModel",
            "description_width": "initial",
            "_view_module": "@jupyter-widgets/base",
            "_model_module_version": "1.5.0",
            "_view_count": null,
            "_view_module_version": "1.2.0",
            "bar_color": null,
            "_model_module": "@jupyter-widgets/controls"
          }
        },
        "ef3184d0194f4eeba8a210b403e836d0": {
          "model_module": "@jupyter-widgets/base",
          "model_name": "LayoutModel",
          "state": {
            "_view_name": "LayoutView",
            "grid_template_rows": null,
            "right": null,
            "justify_content": null,
            "_view_module": "@jupyter-widgets/base",
            "overflow": null,
            "_model_module_version": "1.2.0",
            "_view_count": null,
            "flex_flow": null,
            "width": null,
            "min_width": null,
            "border": null,
            "align_items": null,
            "bottom": null,
            "_model_module": "@jupyter-widgets/base",
            "top": null,
            "grid_column": null,
            "overflow_y": null,
            "overflow_x": null,
            "grid_auto_flow": null,
            "grid_area": null,
            "grid_template_columns": null,
            "flex": null,
            "_model_name": "LayoutModel",
            "justify_items": null,
            "grid_row": null,
            "max_height": null,
            "align_content": null,
            "visibility": null,
            "align_self": null,
            "height": null,
            "min_height": null,
            "padding": null,
            "grid_auto_rows": null,
            "grid_gap": null,
            "max_width": null,
            "order": null,
            "_view_module_version": "1.2.0",
            "grid_template_areas": null,
            "object_position": null,
            "object_fit": null,
            "grid_auto_columns": null,
            "margin": null,
            "display": null,
            "left": null
          }
        },
        "2e9a0967a0734a5590f58ffb97922b59": {
          "model_module": "@jupyter-widgets/controls",
          "model_name": "DescriptionStyleModel",
          "state": {
            "_view_name": "StyleView",
            "_model_name": "DescriptionStyleModel",
            "description_width": "",
            "_view_module": "@jupyter-widgets/base",
            "_model_module_version": "1.5.0",
            "_view_count": null,
            "_view_module_version": "1.2.0",
            "_model_module": "@jupyter-widgets/controls"
          }
        },
        "472a7cc9a0d641bb8f2381db50e7310c": {
          "model_module": "@jupyter-widgets/base",
          "model_name": "LayoutModel",
          "state": {
            "_view_name": "LayoutView",
            "grid_template_rows": null,
            "right": null,
            "justify_content": null,
            "_view_module": "@jupyter-widgets/base",
            "overflow": null,
            "_model_module_version": "1.2.0",
            "_view_count": null,
            "flex_flow": null,
            "width": null,
            "min_width": null,
            "border": null,
            "align_items": null,
            "bottom": null,
            "_model_module": "@jupyter-widgets/base",
            "top": null,
            "grid_column": null,
            "overflow_y": null,
            "overflow_x": null,
            "grid_auto_flow": null,
            "grid_area": null,
            "grid_template_columns": null,
            "flex": null,
            "_model_name": "LayoutModel",
            "justify_items": null,
            "grid_row": null,
            "max_height": null,
            "align_content": null,
            "visibility": null,
            "align_self": null,
            "height": null,
            "min_height": null,
            "padding": null,
            "grid_auto_rows": null,
            "grid_gap": null,
            "max_width": null,
            "order": null,
            "_view_module_version": "1.2.0",
            "grid_template_areas": null,
            "object_position": null,
            "object_fit": null,
            "grid_auto_columns": null,
            "margin": null,
            "display": null,
            "left": null
          }
        }
      }
    }
  },
  "cells": [
    {
      "cell_type": "markdown",
      "metadata": {
        "id": "dtL2q9LD-WJl"
      },
      "source": [
        "# Reinforcement Learning for seq2seq\n",
        "\n",
        "This time we'll solve a problem of transribing hebrew words in english, also known as g2p (grapheme2phoneme)\n",
        "\n",
        " * word (sequence of letters in source language) -> translation (sequence of letters in target language)\n",
        "\n",
        "Unlike what most deep learning practicioners do, we won't only train it to maximize likelihood of correct translation, but also employ reinforcement learning to actually teach it to translate with as few errors as possible.\n",
        "\n",
        "\n",
        "### About the task\n",
        "\n",
        "One notable property of Hebrew is that it's consonant language. That is, there are no vowels in the written language. One could represent vowels with diacritics above consonants, but you don't expect people to do that in everyay life.\n",
        "\n",
        "Therefore, some hebrew characters will correspond to several english letters and others --- to none, so we should use encoder-decoder architecture to figure that out.\n",
        "\n",
        "![img](https://esciencegroup.files.wordpress.com/2016/03/seq2seq.jpg)\n",
        "_(img: esciencegroup.files.wordpress.com)_\n",
        "\n",
        "Encoder-decoder architectures are about converting anything to anything, including\n",
        " * Machine translation and spoken dialogue systems\n",
        " * [Image captioning](http://mscoco.org/dataset/#captions-challenge2015) and [image2latex](https://htmlpreview.github.io/?https://github.com/openai/requests-for-research/blob/master/_requests_for_research/im2latex.html) (convolutional encoder, recurrent decoder)\n",
        " * Generating [images by captions](https://arxiv.org/abs/1511.02793) (recurrent encoder, convolutional decoder)\n",
        " * Grapheme2phoneme - convert words to transcripts\n",
        "  \n",
        "We chose simplified __Hebrew->English__ machine translation for words and short phrases (character-level), as it is relatively quick to train even without a gpu cluster."
      ]
    },
    {
      "cell_type": "code",
      "metadata": {
        "id": "J-9vlb7m-WJo",
        "outputId": "353bfcab-edc6-4fb6-8bc6-b4ba85be8074",
        "colab": {
          "base_uri": "https://localhost:8080/"
        }
      },
      "source": [
        "import sys, os\n",
        "if 'google.colab' in sys.modules and not os.path.exists('.setup_complete'):\n",
        "\n",
        "    !wget -q https://raw.githubusercontent.com/yandexdataschool/Practical_RL/master/setup_colab.sh -O- | bash\n",
        "\n",
        "    !wget -q https://raw.githubusercontent.com/yandexdataschool/Practical_RL/coursera/grading.py -O ../grading.py\n",
        "    !wget -q https://raw.githubusercontent.com/yandexdataschool/Practical_RL/coursera/week6_outro/seq2seq/submit.py\n",
        "    !wget -q https://raw.githubusercontent.com/yandexdataschool/Practical_RL/coursera/week6_outro/seq2seq/basic_model_torch.py\n",
        "    !wget -q https://raw.githubusercontent.com/yandexdataschool/Practical_RL/coursera/week6_outro/seq2seq/he-pron-wiktionary.txt\n",
        "    !wget -q https://raw.githubusercontent.com/yandexdataschool/Practical_RL/coursera/week6_outro/seq2seq/main_dataset.txt\n",
        "    !wget -q https://raw.githubusercontent.com/yandexdataschool/Practical_RL/coursera/week6_outro/seq2seq/voc.py\n",
        "\n",
        "    !touch .setup_complete"
      ],
      "execution_count": 1,
      "outputs": [
        {
          "output_type": "stream",
          "text": [
            "Selecting previously unselected package xvfb.\n",
            "(Reading database ... 160772 files and directories currently installed.)\n",
            "Preparing to unpack .../xvfb_2%3a1.19.6-1ubuntu4.9_amd64.deb ...\n",
            "Unpacking xvfb (2:1.19.6-1ubuntu4.9) ...\n",
            "Setting up xvfb (2:1.19.6-1ubuntu4.9) ...\n",
            "Processing triggers for man-db (2.8.3-2ubuntu0.1) ...\n"
          ],
          "name": "stdout"
        }
      ]
    },
    {
      "cell_type": "code",
      "metadata": {
        "id": "zn3jPQjM-WJp"
      },
      "source": [
        "# If True, only translates phrases shorter than 20 characters (way easier).\n",
        "EASY_MODE = True\n",
        "# Useful for initial coding.\n",
        "# If false, works with all phrases (please switch to this mode for homework assignment)\n",
        "\n",
        "# way we translate. Either \"he-to-en\" or \"en-to-he\"\n",
        "MODE = \"he-to-en\"\n",
        "# maximal length of _generated_ output, does not affect training\n",
        "MAX_OUTPUT_LENGTH = 50 if not EASY_MODE else 20\n",
        "REPORT_FREQ = 100                          # how often to evaluate validation score"
      ],
      "execution_count": 2,
      "outputs": []
    },
    {
      "cell_type": "markdown",
      "metadata": {
        "id": "JnxommEb-WJp"
      },
      "source": [
        "## Preprocessing\n",
        "\n",
        "We shall store dataset as a dictionary\n",
        "`{ word1:[translation1,translation2,...], word2:[...],...}`.\n",
        "\n",
        "This is mostly due to the fact that many words have several correct translations.\n",
        "\n",
        "We have implemented this thing for you so that you can focus on more interesting parts."
      ]
    },
    {
      "cell_type": "code",
      "metadata": {
        "id": "JAT0hGzV-WJp",
        "outputId": "e9285016-7b2b-47c7-f399-22e3a1bc06b3",
        "colab": {
          "base_uri": "https://localhost:8080/"
        }
      },
      "source": [
        "import numpy as np\n",
        "from collections import defaultdict\n",
        "word_to_translation = defaultdict(list)  # our dictionary\n",
        "\n",
        "bos = '_'\n",
        "eos = ';'\n",
        "\n",
        "with open(\"main_dataset.txt\", encoding=\"utf-8\") as fin:\n",
        "    for line in fin:\n",
        "\n",
        "        en, he = line[:-1].lower().replace(bos, ' ').replace(eos,\n",
        "                                                             ' ').split('\\t')\n",
        "        word, trans = (he, en) if MODE == 'he-to-en' else (en, he)\n",
        "\n",
        "        if len(word) < 3:\n",
        "            continue\n",
        "        if EASY_MODE:\n",
        "            if max(len(word), len(trans)) > 20:\n",
        "                continue\n",
        "\n",
        "        word_to_translation[word].append(trans)\n",
        "\n",
        "print(\"size =\", len(word_to_translation))"
      ],
      "execution_count": 3,
      "outputs": [
        {
          "output_type": "stream",
          "text": [
            "size = 130113\n"
          ],
          "name": "stdout"
        }
      ]
    },
    {
      "cell_type": "code",
      "metadata": {
        "id": "2wtsbwjs-WJq"
      },
      "source": [
        "# get all unique lines in source language\n",
        "all_words = np.array(list(word_to_translation.keys()))\n",
        "# get all unique lines in translation language\n",
        "all_translations = np.array([ts for all_ts in word_to_translation.values() for ts in all_ts])"
      ],
      "execution_count": 4,
      "outputs": []
    },
    {
      "cell_type": "markdown",
      "metadata": {
        "id": "xBnswWEu-WJq"
      },
      "source": [
        "### Split the dataset\n",
        "\n",
        "We hold out 10% of all words to be used for validation."
      ]
    },
    {
      "cell_type": "code",
      "metadata": {
        "id": "chBD5_e6-WJr"
      },
      "source": [
        "from sklearn.model_selection import train_test_split\n",
        "train_words, test_words = train_test_split(\n",
        "    all_words, test_size=0.1, random_state=42)"
      ],
      "execution_count": 5,
      "outputs": []
    },
    {
      "cell_type": "markdown",
      "metadata": {
        "id": "P6mqBXOV-WJr"
      },
      "source": [
        "## Building vocabularies\n",
        "\n",
        "We now need to build vocabularies that map strings to token ids and vice versa. We're gonna need these fellas when we feed training data into model or convert output matrices into english words."
      ]
    },
    {
      "cell_type": "code",
      "metadata": {
        "id": "0IVHIMWg-WJr"
      },
      "source": [
        "from voc import Vocab\n",
        "inp_voc = Vocab.from_lines(''.join(all_words), bos=bos, eos=eos, sep='')\n",
        "out_voc = Vocab.from_lines(''.join(all_translations), bos=bos, eos=eos, sep='')"
      ],
      "execution_count": 6,
      "outputs": []
    },
    {
      "cell_type": "code",
      "metadata": {
        "id": "h-6ckyKl-WJs",
        "outputId": "45fabafb-a706-40da-814d-29551cf57dba",
        "colab": {
          "base_uri": "https://localhost:8080/"
        }
      },
      "source": [
        "# Here's how you cast lines into ids and backwards.\n",
        "batch_lines = all_words[:5]\n",
        "batch_ids = inp_voc.to_matrix(batch_lines)\n",
        "batch_lines_restored = inp_voc.to_lines(batch_ids)\n",
        "\n",
        "print(\"lines\")\n",
        "print(batch_lines)\n",
        "print(\"\\nwords to ids (0 = bos, 1 = eos):\")\n",
        "print(batch_ids)\n",
        "print(\"\\nback to words\")\n",
        "print(batch_lines_restored)"
      ],
      "execution_count": 7,
      "outputs": [
        {
          "output_type": "stream",
          "text": [
            "lines\n",
            "['אנרכיזם' 'אוטיזם קלאסי' 'אלבדו' 'אלבמה' 'אכילס']\n",
            "\n",
            "words to ids (0 = bos, 1 = eos):\n",
            "[[  0 113 129 137 124 122 119 126   1   1   1   1   1   1]\n",
            " [  0 113 118 121 122 119 126   2 136 125 113 130 122   1]\n",
            " [  0 113 125 114 116 118   1   1   1   1   1   1   1   1]\n",
            " [  0 113 125 114 127 117   1   1   1   1   1   1   1   1]\n",
            " [  0 113 124 122 125 130   1   1   1   1   1   1   1   1]]\n",
            "\n",
            "back to words\n",
            "['אנרכיזם', 'אוטיזם קלאסי', 'אלבדו', 'אלבמה', 'אכילס']\n"
          ],
          "name": "stdout"
        }
      ]
    },
    {
      "cell_type": "markdown",
      "metadata": {
        "id": "CsnvEsIv-WJs"
      },
      "source": [
        "Draw word/translation length distributions to estimate the scope of the task."
      ]
    },
    {
      "cell_type": "code",
      "metadata": {
        "id": "vjZsxgdz-WJs",
        "outputId": "6ac55060-1eab-4d06-e32f-3f60966079cf",
        "colab": {
          "base_uri": "https://localhost:8080/",
          "height": 281
        }
      },
      "source": [
        "import matplotlib.pyplot as plt\n",
        "%matplotlib inline\n",
        "plt.figure(figsize=[8, 4])\n",
        "plt.subplot(1, 2, 1)\n",
        "plt.title(\"words\")\n",
        "plt.hist(list(map(len, all_words)), bins=20)\n",
        "\n",
        "plt.subplot(1, 2, 2)\n",
        "plt.title('translations')\n",
        "plt.hist(list(map(len, all_translations)), bins=20)\n",
        "plt.show()"
      ],
      "execution_count": 8,
      "outputs": [
        {
          "output_type": "display_data",
          "data": {
            "image/png": "[encoded data removed]",
            "text/plain": [
              "<Figure size 576x288 with 2 Axes>"
            ]
          },
          "metadata": {
            "tags": [],
            "needs_background": "light"
          }
        }
      ]
    },
    {
      "cell_type": "markdown",
      "metadata": {
        "id": "2LnuVPYp-WJs"
      },
      "source": [
        "## Deploy encoder-decoder\n",
        "\n",
        "__The assignment starts here__\n",
        "\n",
        "Our architecture consists of two main blocks:\n",
        "* Encoder reads words character by character and outputs code vector (usually a function of last RNN state)\n",
        "* Decoder takes that code vector and produces translations character by character\n",
        "\n",
        "Than it gets fed into a model that follows this simple interface:\n",
        "* __`model(inp, out, **flags) -> logp`__ - takes symbolic int32 matrices of hebrew words and their english translations. Computes the log-probabilities of all possible english characters given english prefices and hebrew word.\n",
        "* __`model.translate(inp, **flags) -> out, logp`__ - takes symbolic int32 matrix of hebrew words, produces output tokens sampled from the model and output log-probabilities for all possible tokens at each tick.\n",
        "  * if given flag __`greedy=True`__, takes most likely next token at each iteration. Otherwise samples with next token probabilities predicted by model.\n",
        "\n",
        "That's all! It's as hard as it gets. With those two methods alone you can implement all kinds of prediction and training."
      ]
    },
    {
      "cell_type": "code",
      "metadata": {
        "id": "jBcKw1d7-WJt"
      },
      "source": [
        "import torch\n",
        "import torch.nn as nn\n",
        "import torch.nn.functional as F"
      ],
      "execution_count": 9,
      "outputs": []
    },
    {
      "cell_type": "code",
      "metadata": {
        "id": "6im5LAVU-WJt"
      },
      "source": [
        "from basic_model_torch import BasicTranslationModel\n",
        "model = BasicTranslationModel(inp_voc, out_voc,\n",
        "                              emb_size=64, hid_size=256)"
      ],
      "execution_count": 10,
      "outputs": []
    },
    {
      "cell_type": "code",
      "metadata": {
        "id": "br0K4O_O-WJt",
        "outputId": "74393249-ecb7-42b5-d332-65114c5fd8b4",
        "colab": {
          "base_uri": "https://localhost:8080/"
        }
      },
      "source": [
        "# Play around with symbolic_translate and symbolic_score\n",
        "inp = torch.tensor(np.random.randint(0, 10, [3, 5]), dtype=torch.int64)\n",
        "out = torch.tensor(np.random.randint(0, 10, [3, 5]), dtype=torch.int64)\n",
        "\n",
        "# translate inp (with untrained model)\n",
        "sampled_out, logp = model.translate(inp, greedy=False)\n",
        "\n",
        "print(\"Sample translations:\\n\", sampled_out)\n",
        "print(\"Log-probabilities at each step:\\n\", logp)"
      ],
      "execution_count": 11,
      "outputs": [
        {
          "output_type": "stream",
          "text": [
            "Sample translations:\n",
            " tensor([[  0, 180, 282,  ..., 211,  97, 156],\n",
            "        [  0, 122,  53,  ..., 190,   5,   1],\n",
            "        [  0,  38, 228,  ...,  82,  63, 148]])\n",
            "Log-probabilities at each step:\n",
            " tensor([[[  0.0000, -69.0776, -69.0776,  ..., -69.0776, -69.0776, -69.0776],\n",
            "         [ -5.9199,  -5.6648,  -5.7358,  ...,  -5.8078,  -5.5806,  -5.6891],\n",
            "         [ -5.8338,  -5.5571,  -5.6469,  ...,  -5.7668,  -5.6426,  -5.6069],\n",
            "         ...,\n",
            "         [ -5.5360,  -5.8136,  -5.5595,  ...,  -5.7455,  -5.6110,  -5.5985],\n",
            "         [ -5.3985,  -5.5759,  -5.5211,  ...,  -5.6919,  -5.5470,  -5.7451],\n",
            "         [ -5.5747,  -5.7631,  -5.7351,  ...,  -5.5963,  -5.5545,  -5.8073]],\n",
            "\n",
            "        [[  0.0000, -69.0776, -69.0776,  ..., -69.0776, -69.0776, -69.0776],\n",
            "         [ -5.8630,  -5.7215,  -5.8079,  ...,  -5.8027,  -5.5522,  -5.6658],\n",
            "         [ -5.7361,  -5.6983,  -5.7287,  ...,  -5.6996,  -5.6282,  -5.6134],\n",
            "         ...,\n",
            "         [ -5.6559,  -5.5948,  -5.6269,  ...,  -5.7316,  -5.4530,  -5.7489],\n",
            "         [ -5.5120,  -5.6611,  -5.5970,  ...,  -5.7302,  -5.7073,  -5.6051],\n",
            "         [ -5.5587,  -5.6047,  -5.5379,  ...,  -5.7049,  -5.9203,  -5.5965]],\n",
            "\n",
            "        [[  0.0000, -69.0776, -69.0776,  ..., -69.0776, -69.0776, -69.0776],\n",
            "         [ -5.8481,  -5.7107,  -5.7942,  ...,  -5.7888,  -5.6092,  -5.6677],\n",
            "         [ -5.6691,  -5.5992,  -5.5249,  ...,  -5.6852,  -5.5785,  -5.6545],\n",
            "         ...,\n",
            "         [ -5.7207,  -5.7161,  -5.5423,  ...,  -5.7570,  -5.4509,  -5.7196],\n",
            "         [ -5.5646,  -5.7895,  -5.4754,  ...,  -5.8510,  -5.5729,  -5.6623],\n",
            "         [ -5.5559,  -5.6543,  -5.5237,  ...,  -5.7752,  -5.5187,  -5.6826]]],\n",
            "       grad_fn=<LogSoftmaxBackward>)\n"
          ],
          "name": "stdout"
        }
      ]
    },
    {
      "cell_type": "code",
      "metadata": {
        "id": "LeMZMTOU-WJu",
        "outputId": "b8f294a1-a914-4c8b-d896-971192519af7",
        "colab": {
          "base_uri": "https://localhost:8080/"
        }
      },
      "source": [
        "# score logp(out | inp) with untrained input\n",
        "logp = model(inp, out)\n",
        "print(\"Symbolic_score output:\\n\", logp)\n",
        "\n",
        "print(\"Log-probabilities of output tokens:\\n\",\n",
        "      torch.gather(logp, dim=2, index=out[:, :, None]))"
      ],
      "execution_count": 12,
      "outputs": [
        {
          "output_type": "stream",
          "text": [
            "Symbolic_score output:\n",
            " tensor([[[  0.0000, -69.0776, -69.0776,  ..., -69.0776, -69.0776, -69.0776],\n",
            "         [ -5.6444,  -5.7371,  -5.4948,  ...,  -5.7186,  -5.6650,  -5.5614],\n",
            "         [ -5.8596,  -5.7001,  -5.7368,  ...,  -5.7882,  -5.5796,  -5.6466],\n",
            "         [ -5.8150,  -5.6884,  -5.8418,  ...,  -5.7130,  -5.8362,  -5.7457],\n",
            "         [ -5.5820,  -5.5989,  -5.8340,  ...,  -5.6838,  -5.7997,  -5.7935]],\n",
            "\n",
            "        [[  0.0000, -69.0776, -69.0776,  ..., -69.0776, -69.0776, -69.0776],\n",
            "         [ -5.7166,  -5.6640,  -5.6504,  ...,  -5.6978,  -5.5712,  -5.6475],\n",
            "         [ -5.8045,  -5.4492,  -5.7117,  ...,  -5.7048,  -5.6947,  -5.6785],\n",
            "         [ -5.6089,  -5.4917,  -5.7598,  ...,  -5.6917,  -5.7164,  -5.7711],\n",
            "         [ -5.7226,  -5.3635,  -5.7464,  ...,  -5.6925,  -5.7858,  -5.7353]],\n",
            "\n",
            "        [[  0.0000, -69.0776, -69.0776,  ..., -69.0776, -69.0776, -69.0776],\n",
            "         [ -5.6204,  -5.6643,  -5.5870,  ...,  -5.8607,  -5.6429,  -5.7123],\n",
            "         [ -5.7339,  -5.6169,  -5.6671,  ...,  -5.7524,  -5.7056,  -5.7139],\n",
            "         [ -5.7831,  -5.6341,  -5.8049,  ...,  -5.7182,  -5.8725,  -5.7832],\n",
            "         [ -5.7277,  -5.6272,  -5.6537,  ...,  -5.8704,  -5.7095,  -5.8197]]],\n",
            "       grad_fn=<LogSoftmaxBackward>)\n",
            "Log-probabilities of output tokens:\n",
            " tensor([[[-69.0776],\n",
            "         [ -5.6444],\n",
            "         [ -5.7001],\n",
            "         [ -5.4792],\n",
            "         [ -5.4784]],\n",
            "\n",
            "        [[-69.0776],\n",
            "         [ -5.6504],\n",
            "         [ -5.7294],\n",
            "         [ -5.7598],\n",
            "         [ -5.7226]],\n",
            "\n",
            "        [[-69.0776],\n",
            "         [ -5.7774],\n",
            "         [ -5.6169],\n",
            "         [ -5.5413],\n",
            "         [ -5.7824]]], grad_fn=<GatherBackward>)\n"
          ],
          "name": "stdout"
        }
      ]
    },
    {
      "cell_type": "code",
      "metadata": {
        "id": "7OugUNa7-WJu"
      },
      "source": [
        "def translate(lines, max_len=MAX_OUTPUT_LENGTH):\n",
        "    \"\"\"\n",
        "    You are given a list of input lines. \n",
        "    Make your neural network translate them.\n",
        "    :return: a list of output lines\n",
        "    \"\"\"\n",
        "    # Convert lines to a matrix of indices\n",
        "    lines_ix = inp_voc.to_matrix(lines)\n",
        "    lines_ix = torch.tensor(lines_ix, dtype=torch.int64)\n",
        "\n",
        "    # Compute translations in form of indices\n",
        "    #trans_ix = <YOUR CODE>\n",
        "    trans_ix = model.translate(lines_ix, greedy=True, max_len=max_len)[0]\n",
        "\n",
        "    # Convert translations back into strings\n",
        "    return out_voc.to_lines(trans_ix.data.numpy())"
      ],
      "execution_count": 13,
      "outputs": []
    },
    {
      "cell_type": "code",
      "metadata": {
        "id": "VA04mOg--WJu",
        "outputId": "ffd2d898-6321-4958-8801-42bd56ee97fd",
        "colab": {
          "base_uri": "https://localhost:8080/"
        }
      },
      "source": [
        "print(\"Sample inputs:\", all_words[:3])\n",
        "print(\"Dummy translations:\", translate(all_words[:3]))\n",
        "trans = translate(all_words[:3])\n",
        "\n",
        "assert translate(all_words[:3]) == translate(\n",
        "    all_words[:3]), \"make sure translation is deterministic (use greedy=True and disable any noise layers)\"\n",
        "assert type(translate(all_words[:3])) is list and (type(translate(all_words[:1])[0]) is str or type(\n",
        "    translate(all_words[:1])[0]) is unicode), \"translate(lines) must return a sequence of strings!\"\n",
        "# note: if translation freezes, make sure you used max_len parameter\n",
        "print(\"Tests passed!\")"
      ],
      "execution_count": 14,
      "outputs": [
        {
          "output_type": "stream",
          "text": [
            "Sample inputs: ['אנרכיזם' 'אוטיזם קלאסי' 'אלבדו']\n",
            "Dummy translations: ['ħħħδķşķצص一一子ɱþכôいら2', 'ħħħδķşķצص一一子ɱþכôいら2', 'ħ星ħħħδķşķצص一一子ɱþכôい']\n",
            "Tests passed!\n"
          ],
          "name": "stdout"
        }
      ]
    },
    {
      "cell_type": "markdown",
      "metadata": {
        "id": "9RhysvZe-WJu"
      },
      "source": [
        "### Scoring function\n",
        "\n",
        "LogLikelihood is a poor estimator of model performance.\n",
        "* If we predict zero probability once, it shouldn't ruin entire model.\n",
        "* It is enough to learn just one translation if there are several correct ones.\n",
        "* What matters is how many mistakes model's gonna make when it translates!\n",
        "\n",
        "Therefore, we will use minimal Levenshtein distance. It measures how many characters do we need to add/remove/replace from model translation to make it perfect. Alternatively, one could use character-level BLEU/RougeL or other similar metrics.\n",
        "\n",
        "The catch here is that Levenshtein distance is not differentiable: it isn't even continuous. We can't train our neural network to maximize it by gradient descent."
      ]
    },
    {
      "cell_type": "code",
      "metadata": {
        "id": "kYlzmTZS-WJu"
      },
      "source": [
        "import editdistance  # !pip install editdistance\n",
        "\n",
        "\n",
        "def get_distance(word, trans):\n",
        "    \"\"\"\n",
        "    A function that takes word and predicted translation\n",
        "    and evaluates (Levenshtein's) edit distance to closest correct translation\n",
        "    \"\"\"\n",
        "    references = word_to_translation[word]\n",
        "    assert len(references) != 0, \"wrong/unknown word\"\n",
        "    return min(editdistance.eval(trans, ref) for ref in references)\n",
        "\n",
        "\n",
        "def score(words, bsize=100):\n",
        "    \"\"\"a function that computes levenshtein distance for bsize random samples\"\"\"\n",
        "    assert isinstance(words, np.ndarray)\n",
        "\n",
        "    batch_words = np.random.choice(words, size=bsize, replace=False)\n",
        "    batch_trans = translate(batch_words)\n",
        "\n",
        "    distances = list(map(get_distance, batch_words, batch_trans))\n",
        "\n",
        "    return np.array(distances, dtype='float32')"
      ],
      "execution_count": 15,
      "outputs": []
    },
    {
      "cell_type": "code",
      "metadata": {
        "id": "6afwN6Dy-WJv",
        "outputId": "35a7c601-2634-4165-aaf4-7e559a0041f9",
        "colab": {
          "base_uri": "https://localhost:8080/"
        }
      },
      "source": [
        "# should be around 5-50 and decrease rapidly after training :)\n",
        "[score(test_words, 10).mean() for _ in range(5)]"
      ],
      "execution_count": 16,
      "outputs": [
        {
          "output_type": "execute_result",
          "data": {
            "text/plain": [
              "[18.8, 18.7, 18.7, 18.6, 18.6]"
            ]
          },
          "metadata": {
            "tags": []
          },
          "execution_count": 16
        }
      ]
    },
    {
      "cell_type": "markdown",
      "metadata": {
        "id": "lU-hiFSv-WJv"
      },
      "source": [
        "## Supervised pre-training\n",
        "\n",
        "Here we define a function that trains our model through maximizing log-likelihood a.k.a. minimizing crossentropy."
      ]
    },
    {
      "cell_type": "code",
      "metadata": {
        "id": "NrIGVITz-WJv"
      },
      "source": [
        "import random\n",
        "\n",
        "\n",
        "def sample_batch(words, word_to_translation, batch_size):\n",
        "    \"\"\"\n",
        "    sample random batch of words and random correct translation for each word\n",
        "    example usage:\n",
        "    batch_x,batch_y = sample_batch(train_words, word_to_translations,10)\n",
        "    \"\"\"\n",
        "    # choose words\n",
        "    batch_words = np.random.choice(words, size=batch_size)\n",
        "\n",
        "    # choose translations\n",
        "    batch_trans_candidates = list(map(word_to_translation.get, batch_words))\n",
        "    batch_trans = list(map(random.choice, batch_trans_candidates))\n",
        "    return batch_words, batch_trans"
      ],
      "execution_count": 17,
      "outputs": []
    },
    {
      "cell_type": "code",
      "metadata": {
        "id": "rhMWKPZF-WJw",
        "outputId": "82ed9481-94f4-48de-8396-fcf92651af2e",
        "colab": {
          "base_uri": "https://localhost:8080/"
        }
      },
      "source": [
        "bx, by = sample_batch(train_words, word_to_translation, batch_size=3)\n",
        "print(\"Source:\")\n",
        "print(bx)\n",
        "print(\"Target:\")\n",
        "print(by)"
      ],
      "execution_count": 18,
      "outputs": [
        {
          "output_type": "stream",
          "text": [
            "Source:\n",
            "['בריאן שץ' 'רוסיה המאוחדת' 'מייקל מורקוק']\n",
            "Target:\n",
            "['brian schatz', 'united russia', 'michael moorcock']\n"
          ],
          "name": "stdout"
        }
      ]
    },
    {
      "cell_type": "code",
      "metadata": {
        "id": "52Ou3b8u-WJw"
      },
      "source": [
        "from basic_model_torch import infer_length, infer_mask, to_one_hot\n",
        "\n",
        "\n",
        "def compute_loss_on_batch(input_sequence, reference_answers):\n",
        "    \"\"\" Compute crossentropy loss given a batch of sources and translations \"\"\"\n",
        "    input_sequence = torch.tensor(inp_voc.to_matrix(input_sequence), dtype=torch.int64)\n",
        "    reference_answers = torch.tensor(out_voc.to_matrix(reference_answers), dtype=torch.int64)\n",
        "\n",
        "    # Compute log-probabilities of all possible tokens at each step. Use model interface.\n",
        "    #logprobs_seq = <YOUR CODE>\n",
        "    logprobs_seq = model.forward(input_sequence, reference_answers)\n",
        "\n",
        "    # compute elementwise crossentropy as negative log-probabilities of reference_answers.\n",
        "    crossentropy = - \\\n",
        "        torch.sum(logprobs_seq *\n",
        "                  to_one_hot(reference_answers, len(out_voc)), dim=-1)\n",
        "    assert crossentropy.dim(\n",
        "    ) == 2, \"please return elementwise crossentropy, don't compute mean just yet\"\n",
        "\n",
        "    # average with mask\n",
        "    mask = infer_mask(reference_answers, out_voc.eos_ix)\n",
        "    loss = torch.sum(crossentropy * mask) / torch.sum(mask)\n",
        "\n",
        "    return loss"
      ],
      "execution_count": 19,
      "outputs": []
    },
    {
      "cell_type": "code",
      "metadata": {
        "id": "88fDHaFg-WJw",
        "outputId": "b5762ed1-0ed5-45cf-940e-7466d37aee0a",
        "colab": {
          "base_uri": "https://localhost:8080/"
        }
      },
      "source": [
        "# test it\n",
        "loss = compute_loss_on_batch(*sample_batch(train_words, word_to_translation, 3))\n",
        "print('loss = ', loss)\n",
        "\n",
        "assert loss.item() > 0.0\n",
        "loss.backward()\n",
        "for w in model.parameters():\n",
        "    assert w.grad is not None and torch.max(torch.abs(w.grad)).item() != 0, \\\n",
        "        \"Loss is not differentiable w.r.t. a weight with shape %s. Check comput_loss_on_batch.\" % (\n",
        "            w.size(),)"
      ],
      "execution_count": 20,
      "outputs": [
        {
          "output_type": "stream",
          "text": [
            "loss =  tensor(5.3016, grad_fn=<DivBackward0>)\n"
          ],
          "name": "stdout"
        }
      ]
    },
    {
      "cell_type": "markdown",
      "metadata": {
        "id": "1AaGMTFM-WJw"
      },
      "source": [
        "### Actually train the model\n",
        "\n",
        "Minibatches and stuff..."
      ]
    },
    {
      "cell_type": "code",
      "metadata": {
        "id": "rYqacjDb14xJ"
      },
      "source": [
        "model = BasicTranslationModel(inp_voc, out_voc,\n",
        "                              emb_size=64, hid_size=256)"
      ],
      "execution_count": 21,
      "outputs": []
    },
    {
      "cell_type": "code",
      "metadata": {
        "id": "n9A0XPPN-WJw"
      },
      "source": [
        "from IPython.display import clear_output\n",
        "from tqdm.notebook import tqdm, trange\n",
        "loss_history = []\n",
        "editdist_history = []\n",
        "entropy_history = []\n",
        "opt = torch.optim.Adam(model.parameters())"
      ],
      "execution_count": 22,
      "outputs": []
    },
    {
      "cell_type": "code",
      "metadata": {
        "id": "JiFzOey6-WJx",
        "outputId": "21dc7ecb-03b4-4377-ff96-3952184e3d79",
        "colab": {
          "base_uri": "https://localhost:8080/",
          "height": 315,
          "referenced_widgets": [
            "4f177a5b780a458b9eea64d0e702b40e",
            "3824e572fe2343a2a9cc099232325a7c",
            "539a449f052b4675a26a6931045e547f",
            "9c0f93987b334fb0bb994fd1b4de4d45",
            "496d6515da2542be9548bd0815885f75",
            "9e1e5adcf86b40839a2717bc98312cdf",
            "958170232bd942888748a42250a16a92",
            "14053856b35f4af3ad717173ab273258"
          ]
        }
      },
      "source": [
        "for i in trange(50000):\n",
        "    loss = compute_loss_on_batch(*sample_batch(train_words, word_to_translation, 64))\n",
        "\n",
        "    # train with backprop\n",
        "    loss.backward()\n",
        "    opt.step()\n",
        "    opt.zero_grad()\n",
        "\n",
        "    loss_history.append(loss.item())\n",
        "\n",
        "    if (i+1) % REPORT_FREQ == 0:\n",
        "        clear_output(True)\n",
        "        current_scores = score(test_words)\n",
        "        editdist_history.append(current_scores.mean())\n",
        "        print(\"llh=%.3f, mean score=%.3f\" %\n",
        "              (np.mean(loss_history[-10:]), np.mean(editdist_history[-10:])))\n",
        "        plt.figure(figsize=(12, 4))\n",
        "        plt.subplot(131)\n",
        "        plt.title('train loss / traning time')\n",
        "        plt.plot(loss_history)\n",
        "        plt.grid()\n",
        "        plt.subplot(132)\n",
        "        plt.title('val score distribution')\n",
        "        plt.hist(current_scores, bins=20)\n",
        "        plt.subplot(133)\n",
        "        plt.title('val score / traning time (lower is better)')\n",
        "        plt.plot(editdist_history)\n",
        "        plt.grid()\n",
        "        plt.show()\n",
        "    \n",
        "        if np.mean(editdist_history[-10:]) <= 8.:\n",
        "            print('READY!!')\n",
        "            break"
      ],
      "execution_count": 28,
      "outputs": [
        {
          "output_type": "stream",
          "text": [
            "llh=1.665, mean score=7.986\n"
          ],
          "name": "stdout"
        },
        {
          "output_type": "display_data",
          "data": {
            "image/png": "[encoded data removed]",
            "text/plain": [
              "<Figure size 864x288 with 3 Axes>"
            ]
          },
          "metadata": {
            "tags": [],
            "needs_background": "light"
          }
        },
        {
          "output_type": "stream",
          "text": [
            "READY!!\n"
          ],
          "name": "stdout"
        }
      ]
    },
    {
      "cell_type": "markdown",
      "metadata": {
        "id": "ANf4EJZG-WJx"
      },
      "source": [
        "__How to interpret the plots:__\n",
        "\n",
        "* __Train loss__ - that's your model's crossentropy over minibatches. It should go down steadily. Most importantly, it shouldn't be NaN :)\n",
        "* __Val score distribution__ - distribution of translation edit distance (score) within batch. It should move to the left over time.\n",
        "* __Val score / training time__ - it's your current mean edit distance. This plot is much whimsier than loss, but make sure it goes below 8 by 2500 steps. \n",
        "\n",
        "If it doesn't, first try to re-create both model and opt. You may have changed it's weight too much while debugging. If that doesn't help, it's debugging time."
      ]
    },
    {
      "cell_type": "code",
      "metadata": {
        "id": "Kiunn8RX-WJx",
        "outputId": "631a83ba-ab8d-42c8-e9d0-773bd9c0f0e0",
        "colab": {
          "base_uri": "https://localhost:8080/"
        }
      },
      "source": [
        "for word in train_words[:10]:\n",
        "    print(\"%s -> %s\" % (word, translate([word])[0]))"
      ],
      "execution_count": 29,
      "outputs": [
        {
          "output_type": "stream",
          "text": [
            "כל אנשי סמיילי -> clans of schene\n",
            "קטגוריה:ערוץ 2 -> gree cong\n",
            "עבודה מהבית -> aber of arthem\n",
            "פראליה -> pralia\n",
            "קפלר 42 -> carl 13\n",
            "קטגוריה:מתאסלמים -> tammalism\n",
            "בושמי -> boshim\n",
            "לאונרדו -> lanord\n",
            "שאמה -> shama\n",
            "עכברה -> acharaba\n"
          ],
          "name": "stdout"
        }
      ]
    },
    {
      "cell_type": "code",
      "metadata": {
        "id": "LNLv15Mc-WJx",
        "outputId": "cdc42e9f-8a99-45a4-8cfd-ee663c44c50a",
        "colab": {
          "base_uri": "https://localhost:8080/",
          "height": 83,
          "referenced_widgets": [
            "a1ccd9154abc4599b7c3787b46ab943a",
            "eb0e29d4ba2a498d9694a88f7075b75a",
            "79dc954384624395a2277bc5f10a5311",
            "f79e4a4a7d9444c2a8b52a2ee49f4344",
            "054b2d019e984186bed4e1d13986026a",
            "31ae52d8a883426a9850c8cee9e52eae",
            "1ac7e8d4a78641109a38614e54b302d5",
            "bd9ea36759984cfca60603ac8a8ffadc"
          ]
        }
      },
      "source": [
        "test_scores = []\n",
        "for start_i in trange(0, len(test_words), 32):\n",
        "    batch_words = test_words[start_i:start_i+32]\n",
        "    batch_trans = translate(batch_words)\n",
        "    distances = list(map(get_distance, batch_words, batch_trans))\n",
        "    test_scores.extend(distances)\n",
        "\n",
        "print(\"Supervised test score:\", np.mean(test_scores))"
      ],
      "execution_count": 30,
      "outputs": [
        {
          "output_type": "display_data",
          "data": {
            "application/vnd.jupyter.widget-view+json": {
              "model_id": "a1ccd9154abc4599b7c3787b46ab943a",
              "version_minor": 0,
              "version_major": 2
            },
            "text/plain": [
              "HBox(children=(FloatProgress(value=0.0, max=407.0), HTML(value='')))"
            ]
          },
          "metadata": {
            "tags": []
          }
        },
        {
          "output_type": "stream",
          "text": [
            "\n",
            "Supervised test score: 7.788810328927144\n"
          ],
          "name": "stdout"
        }
      ]
    },
    {
      "cell_type": "markdown",
      "metadata": {
        "id": "siZL6YVZ-WJx"
      },
      "source": [
        "## Self-critical policy gradient\n",
        "\n",
        "In this section you'll implement algorithm called self-critical sequence training (here's an [article](https://arxiv.org/abs/1612.00563)).\n",
        "\n",
        "The algorithm is a vanilla policy gradient with a special baseline. \n",
        "\n",
        "$$ \\nabla J = E_{x \\sim p(s)} E_{y \\sim \\pi(y|x)} \\nabla log \\pi(y|x) \\cdot (R(x,y) - b(x)) $$\n",
        "\n",
        "Here reward R(x,y) is a __negative levenshtein distance__ (since we minimize it). The baseline __b(x)__ represents how well model fares on word __x__.\n",
        "\n",
        "In practice, this means that we compute baseline as a score of greedy translation, $b(x) = R(x,y_{greedy}(x)) $.\n",
        "\n",
        "![img](https://github.com/yandexdataschool/Practical_RL/raw/master/yet_another_week/_resource/scheme.png)\n",
        "\n",
        "\n",
        "Luckily, we already obtained the required outputs: `model.greedy_translations, model.greedy_mask` and we only need to compute levenshtein using `compute_levenshtein` function."
      ]
    },
    {
      "cell_type": "code",
      "metadata": {
        "id": "u9C8z5Ek-WJy"
      },
      "source": [
        "def compute_reward(input_sequence, translations):\n",
        "    \"\"\" computes sample-wise reward given token ids for inputs and translations \"\"\"\n",
        "    distances = list(map(get_distance,\n",
        "                         inp_voc.to_lines(input_sequence.data.numpy()),\n",
        "                         out_voc.to_lines(translations.data.numpy())))\n",
        "    # use negative levenshtein distance so that larger reward means better policy\n",
        "    return - torch.tensor(distances, dtype=torch.int64)"
      ],
      "execution_count": 32,
      "outputs": []
    },
    {
      "cell_type": "code",
      "metadata": {
        "id": "7g2-fvrt-WJy"
      },
      "source": [
        "def scst_objective_on_batch(input_sequence, max_len=MAX_OUTPUT_LENGTH):\n",
        "    \"\"\" Compute pseudo-loss for policy gradient given a batch of sources \"\"\"\n",
        "    input_sequence = torch.tensor(inp_voc.to_matrix(input_sequence), dtype=torch.int64)\n",
        "\n",
        "    # use model to __sample__ symbolic translations given input_sequence\n",
        "    #sample_translations, sample_logp = <YOUR CODE>\n",
        "    sample_translations, sample_logp = model.translate(input_sequence, max_len=max_len)\n",
        "    # use model to __greedy__ symbolic translations given input_sequence\n",
        "    #greedy_translations, greedy_logp = <YOUR CODE>\n",
        "    greedy_translations, greedy_logp = model.translate(input_sequence, max_len=max_len, greedy=True)\n",
        "\n",
        "    # compute rewards and advantage\n",
        "    rewards = compute_reward(input_sequence, sample_translations)\n",
        "    #baseline = <YOUR CODE: compute __negative__ levenshtein for greedy mode>\n",
        "    baseline = compute_reward(input_sequence, greedy_translations)\n",
        "\n",
        "    # compute advantage using rewards and baseline\n",
        "    #advantage =  <YOUR CODE>\n",
        "    advantage = rewards - baseline\n",
        "\n",
        "    # compute log_pi(a_t|s_t), shape = [batch, seq_length]\n",
        "    #logp_sample = <YOUR CODE>\n",
        "    logp_sample = model.forward(input_sequence, sample_translations)\n",
        "    logp_sample = torch.sum(logp_sample * to_one_hot(sample_translations, len(out_voc)), dim=-1)\n",
        "    \n",
        "    # ^-- hint: look at how crossentropy is implemented in supervised learning loss above\n",
        "    # mind the sign - this one should not be multiplied by -1 :)\n",
        "\n",
        "    # policy gradient pseudo-loss. Gradient of J is exactly policy gradient.\n",
        "    #print(logp_sample.shape)\n",
        "    #print(advantage[:,None].shape)\n",
        "    J = logp_sample * advantage[:, None]\n",
        "\n",
        "    assert J.dim() == 2, \"please return elementwise objective, don't compute mean just yet\"\n",
        "\n",
        "    # average with mask\n",
        "    mask = infer_mask(sample_translations, out_voc.eos_ix)\n",
        "    loss = - torch.sum(J * mask) / torch.sum(mask)\n",
        "\n",
        "    # regularize with negative entropy. Don't forget the sign!\n",
        "    # note: for entropy you need probabilities for all tokens (sample_logp), not just logp_sample\n",
        "    #entropy = <YOUR CODE: compute entropy matrix of shape[batch, seq_length], H = -sum(p*log_p), don't forget the sign!>\n",
        "    entropy = - torch.sum(torch.exp(sample_logp) * sample_logp, 2)\n",
        "    #print(entropy.shape)\n",
        "    # hint: you can get sample probabilities from sample_logp using math :)\n",
        "\n",
        "    assert entropy.dim(\n",
        "    ) == 2, \"please make sure elementwise entropy is of shape [batch,time]\"\n",
        "\n",
        "    reg = - 0.01 * torch.sum(entropy * mask) / torch.sum(mask)\n",
        "\n",
        "    return loss + reg, torch.sum(entropy * mask) / torch.sum(mask)"
      ],
      "execution_count": 33,
      "outputs": []
    },
    {
      "cell_type": "markdown",
      "metadata": {
        "id": "iVZJpvOp-WJy"
      },
      "source": [
        "## Policy gradient training"
      ]
    },
    {
      "cell_type": "code",
      "metadata": {
        "id": "xPjUN1QO1ckQ"
      },
      "source": [
        "model = BasicTranslationModel(inp_voc, out_voc,\n",
        "                              emb_size=64, hid_size=256)"
      ],
      "execution_count": 34,
      "outputs": []
    },
    {
      "cell_type": "code",
      "metadata": {
        "id": "3AD7JwMk-WJy"
      },
      "source": [
        "entropy_history = [np.nan] * len(loss_history)\n",
        "opt = torch.optim.Adam(model.parameters(), lr=1e-5)"
      ],
      "execution_count": 35,
      "outputs": []
    },
    {
      "cell_type": "code",
      "metadata": {
        "id": "I49xUCYo-WJy",
        "outputId": "92a0772e-109c-4bc4-9afd-33834d6f2c47",
        "colab": {
          "base_uri": "https://localhost:8080/",
          "height": 315,
          "referenced_widgets": [
            "89b886c0245c436c8948fe0b2cbcdc22",
            "4623a11cf2e64117b2dacf5f530b7eee",
            "f15539dade0740c8b26ed8b7d2a6ac5f",
            "0dd7d0a052b64796b00fea91805243c0",
            "08daff9cf1934dbba19a8b07d85114ff",
            "ef3184d0194f4eeba8a210b403e836d0",
            "2e9a0967a0734a5590f58ffb97922b59",
            "472a7cc9a0d641bb8f2381db50e7310c"
          ]
        }
      },
      "source": [
        "for i in trange(100000):\n",
        "    loss, ent = scst_objective_on_batch(\n",
        "        sample_batch(train_words, word_to_translation, 32)[0])  # [0] = only source sentence\n",
        "\n",
        "    # train with backprop\n",
        "    loss.backward()\n",
        "    opt.step()\n",
        "    opt.zero_grad()\n",
        "\n",
        "    loss_history.append(loss.item())\n",
        "    entropy_history.append(ent.item())\n",
        "\n",
        "    if (i+1) % REPORT_FREQ == 0:\n",
        "        clear_output(True)\n",
        "        current_scores = score(test_words)\n",
        "        editdist_history.append(current_scores.mean())\n",
        "        plt.figure(figsize=(12, 4))\n",
        "        plt.subplot(131)\n",
        "        plt.title('val score distribution')\n",
        "        plt.hist(current_scores, bins=20)\n",
        "        plt.subplot(132)\n",
        "        plt.title('val score / traning time')\n",
        "        plt.plot(editdist_history)\n",
        "        plt.grid()\n",
        "        plt.subplot(133)\n",
        "        plt.title('policy entropy / traning time')\n",
        "        plt.plot(entropy_history)\n",
        "        plt.grid()\n",
        "        plt.show()\n",
        "        print(\"J=%.3f, mean score=%.3f\" %\n",
        "              (np.mean(loss_history[-10:]), np.mean(editdist_history[-10:])))\n",
        "        \n",
        "        if np.mean(editdist_history[-10:]) <= 10.:\n",
        "            print('READY!!!')\n",
        "            break"
      ],
      "execution_count": 40,
      "outputs": [
        {
          "output_type": "display_data",
          "data": {
            "image/png": "[encoded data removed]",
            "text/plain": [
              "<Figure size 864x288 with 3 Axes>"
            ]
          },
          "metadata": {
            "tags": [],
            "needs_background": "light"
          }
        },
        {
          "output_type": "stream",
          "text": [
            "J=-0.150, mean score=9.308\n",
            "READY!!!\n"
          ],
          "name": "stdout"
        }
      ]
    },
    {
      "cell_type": "markdown",
      "metadata": {
        "id": "2xJS58sc-WJz"
      },
      "source": [
        "__Debugging tips:__\n",
        "<img src=https://github.com/yandexdataschool/Practical_RL/raw/master/yet_another_week/_resource/do_something_scst.png width=400>\n",
        "\n",
        " * As usual, don't expect improvements right away, but in general the model should be able to show some positive changes by 5k steps.\n",
        " * Entropy is a good indicator of many problems. \n",
        "   * If it reaches zero, you may need greater entropy regularizer.\n",
        "   * If it has rapid changes time to time, you may need gradient clipping.\n",
        "   * If it oscillates up and down in an erratic manner... it's perfectly okay for entropy to do so. But it should decrease at the end.\n",
        "   \n",
        " * We don't show loss_history cuz it's uninformative for pseudo-losses in policy gradient. However, if something goes wrong you can check it to see if everything isn't a constant zero."
      ]
    },
    {
      "cell_type": "markdown",
      "metadata": {
        "id": "OJecf3Wr-WJz"
      },
      "source": [
        "## Results"
      ]
    },
    {
      "cell_type": "code",
      "metadata": {
        "id": "UbOOP64q-WJz"
      },
      "source": [
        "for word in train_words[:10]:\n",
        "    print(\"%s -> %s\" % (word, translate([word])[0]))"
      ],
      "execution_count": null,
      "outputs": []
    },
    {
      "cell_type": "code",
      "metadata": {
        "id": "YrJcMmJD-WJz"
      },
      "source": [
        "test_scores = []\n",
        "for start_i in trange(0, len(test_words), 32):\n",
        "    batch_words = test_words[start_i:start_i+32]\n",
        "    batch_trans = translate(batch_words)\n",
        "    distances = list(map(get_distance, batch_words, batch_trans))\n",
        "    test_scores.extend(distances)\n",
        "print(\"Policy gradient test score:\", np.mean(test_scores))\n",
        "\n",
        "# ^^ If you get Out Of MemoryError, please replace this with batched computation"
      ],
      "execution_count": null,
      "outputs": []
    },
    {
      "cell_type": "markdown",
      "metadata": {
        "id": "nu9w9FCz-WJz"
      },
      "source": [
        "## Submit to Coursera"
      ]
    },
    {
      "cell_type": "code",
      "metadata": {
        "id": "5xrbOksB-WJ0",
        "outputId": "58bd6ad6-c45b-4a87-cd0b-92f93b083aed",
        "colab": {
          "base_uri": "https://localhost:8080/"
        }
      },
      "source": [
        "from submit import submit_seq2seq\n",
        "\n",
        "submit_seq2seq(test_scores, 'manuelalejandromartinezf@gmail.com', 'hLV3ISrk9gLajqw4')"
      ],
      "execution_count": 31,
      "outputs": [
        {
          "output_type": "stream",
          "text": [
            "Your average reward is 7.788810328927144\n",
            "Submitted to Coursera platform. See results on assignment page!\n"
          ],
          "name": "stdout"
        }
      ]
    },
    {
      "cell_type": "code",
      "metadata": {
        "id": "p5QP7pBuDPlE"
      },
      "source": [
        ""
      ],
      "execution_count": null,
      "outputs": []
    },
    {
      "cell_type": "markdown",
      "metadata": {
        "id": "SB-upWf7-WJ0"
      },
      "source": [
        "## Optional: Make it actually work\n",
        "\n",
        "In this section we want you to finally __restart with EASY_MODE=False__ and experiment to find a good model/curriculum for that task.\n",
        "\n",
        "We recommend you to start with the following architecture\n",
        "\n",
        "```\n",
        "encoder---decoder\n",
        "\n",
        "           P(y|h)\n",
        "             ^\n",
        " LSTM  ->   LSTM\n",
        "  ^          ^\n",
        " biLSTM  ->   LSTM\n",
        "  ^          ^\n",
        "input       y_prev\n",
        "```\n",
        "\n",
        "__Note:__ you can fit all 4 state tensors of both LSTMs into a in a single state - just assume that it contains, for example, [h0, c0, h1, c1] - pack it in encode and update in decode.\n",
        "\n",
        "\n",
        "Here are some cool ideas on what you can do then.\n",
        "\n",
        "__General tips & tricks:__\n",
        "* You will likely need to adjust pre-training time for such a network.\n",
        "* Supervised pre-training may benefit from clipping gradients somehow.\n",
        "* SCST may indulge a higher learning rate in some cases and changing entropy regularizer over time.\n",
        "* It's often useful to save pre-trained model parameters to not re-train it every time you want new policy gradient parameters. \n",
        "* When leaving training for nighttime, try setting REPORT_FREQ to a larger value (e.g. 500) not to waste time on it.\n",
        "\n",
        "### Attention\n",
        "There's more than one way to connect decoder to encoder\n",
        "  * __Vanilla:__ layer_i of encoder last state goes to layer_i of decoder initial state\n",
        "  * __Every tick:__ feed encoder last state _on every iteration_ of decoder.\n",
        "  * __Attention:__ allow decoder to \"peek\" at one (or several) positions of encoded sequence on every tick.\n",
        "  \n",
        "The most effective (and cool) of those is, of course, attention.\n",
        "You can read more about attention [in this nice blog post](https://distill.pub/2016/augmented-rnns/). The easiest way to begin is to use \"soft\" attention with \"additive\" or \"dot-product\" intermediate layers.\n",
        "\n",
        "__Tips__\n",
        "* Model usually generalizes better if you no longer allow decoder to see final encoder state\n",
        "* Once your model made it through several epochs, it is a good idea to visualize attention maps to understand what your model has actually learned\n",
        "\n",
        "* There's more stuff [here](https://github.com/yandexdataschool/Practical_RL/blob/master/week8_scst/bonus.ipynb)\n",
        "* If you opted for hard attention, we recommend [gumbel-softmax](https://blog.evjang.com/2016/11/tutorial-categorical-variational.html) instead of sampling. Also please make sure soft attention works fine before you switch to hard.\n",
        "\n",
        "### UREX\n",
        "* This is a way to improve exploration in policy-based settings. The main idea is that you find and upweight under-appreciated actions.\n",
        "* Here's [video](https://www.youtube.com/watch?v=fZNyHoXgV7M&feature=youtu.be&t=3444)\n",
        " and an [article](https://arxiv.org/abs/1611.09321).\n",
        "* You may want to reduce batch size 'cuz UREX requires you to sample multiple times per source sentence.\n",
        "* Once you got it working, try using experience replay with importance sampling instead of (in addition to) basic UREX.\n",
        "\n",
        "### Some additional ideas:\n",
        "* (advanced deep learning) It may be a good idea to first train on small phrases and then adapt to larger ones (a.k.a. training curriculum).\n",
        "* (advanced nlp) You may want to switch from raw utf8 to something like unicode or even syllables to make task easier.\n",
        "* (advanced nlp) Since hebrew words are written __with vowels omitted__, you may want to use a small Hebrew vowel markup dataset at `he-pron-wiktionary.txt`.\n",
        "\n"
      ]
    },
    {
      "cell_type": "code",
      "metadata": {
        "id": "i9tJYJCV-WJ0"
      },
      "source": [
        "assert not EASY_MODE, \"make sure you set EASY_MODE = False at the top of the notebook.\""
      ],
      "execution_count": null,
      "outputs": []
    },
    {
      "cell_type": "markdown",
      "metadata": {
        "id": "AT5iqHaG-WJ0"
      },
      "source": [
        "__Contributions:__ This notebook is brought to you by\n",
        "* Yandex [MT team](https://tech.yandex.com/translate/)\n",
        "* Denis Mazur ([DeniskaMazur](https://github.com/DeniskaMazur)), Oleg Vasilev ([Omrigan](https://github.com/Omrigan/)), Dmitry Emelyanenko ([TixFeniks](https://github.com/tixfeniks)) and Fedor Ratnikov ([justheuristic](https://github.com/justheuristic/))\n",
        "* Dataset is parsed from [Wiktionary](https://en.wiktionary.org), which is under CC-BY-SA and GFDL licenses.\n"
      ]
    }
  ]
}