{
  "nbformat": 4,
  "nbformat_minor": 0,
  "metadata": {
    "kernelspec": {
      "display_name": "Python 3",
      "language": "python",
      "name": "python3"
    },
    "language_info": {
      "codemirror_mode": {
        "name": "ipython",
        "version": 3
      },
      "file_extension": ".py",
      "mimetype": "text/x-python",
      "name": "python",
      "nbconvert_exporter": "python",
      "pygments_lexer": "ipython3",
      "version": "3.6.5"
    },
    "colab": {
      "name": "digits_classification.ipynb",
      "provenance": []
    },
    "accelerator": "GPU"
  },
  "cells": [
    {
      "cell_type": "code",
      "metadata": {
        "id": "5s5KQZxQoAI7",
        "outputId": "79a07b2a-bcc8-4caa-a2ac-4fe460b2986d",
        "colab": {
          "base_uri": "https://localhost:8080/"
        }
      },
      "source": [
        "# set tf 1.x for colab\n",
        "! shred -u setup_google_colab.py\n",
        "! wget https://raw.githubusercontent.com/hse-aml/intro-to-dl/master/setup_google_colab.py -O setup_google_colab.py\n",
        "import setup_google_colab\n",
        "# please, uncomment the week you're working on\n",
        "# setup_google_colab.setup_week1()\n",
        "setup_google_colab.setup_week2()\n",
        "# setup_google_colab.setup_week2_honor()\n",
        "# setup_google_colab.setup_week3()\n",
        "# setup_google_colab.setup_week4()\n",
        "# setup_google_colab.setup_week5()\n",
        "# setup_google_colab.setup_week6()\n",
        "%tensorflow_version 1.x"
      ],
      "execution_count": 1,
      "outputs": [
        {
          "output_type": "stream",
          "text": [
            "shred: setup_google_colab.py: failed to open for writing: No such file or directory\n",
            "--2021-01-22 20:17:30--  https://raw.githubusercontent.com/hse-aml/intro-to-dl/master/setup_google_colab.py\n",
            "Resolving raw.githubusercontent.com (raw.githubusercontent.com)... 151.101.0.133, 151.101.64.133, 151.101.128.133, ...\n",
            "Connecting to raw.githubusercontent.com (raw.githubusercontent.com)|151.101.0.133|:443... connected.\n",
            "HTTP request sent, awaiting response... 200 OK\n",
            "Length: 3636 (3.6K) [text/plain]\n",
            "Saving to: ‘setup_google_colab.py’\n",
            "\n",
            "setup_google_colab. 100%[===================>]   3.55K  --.-KB/s    in 0s      \n",
            "\n",
            "2021-01-22 20:17:30 (64.4 MB/s) - ‘setup_google_colab.py’ saved [3636/3636]\n",
            "\n",
            "**************************************************\n",
            "inception_v3_weights_tf_dim_ordering_tf_kernels_notop.h5\n",
            "**************************************************\n",
            "cifar-10-batches-py.tar.gz\n",
            "**************************************************\n",
            "mnist.npz\n",
            "TensorFlow 1.x selected.\n"
          ],
          "name": "stdout"
        }
      ]
    },
    {
      "cell_type": "markdown",
      "metadata": {
        "id": "3XxSS6GroAJE"
      },
      "source": [
        "# MNIST digits classification with TensorFlow"
      ]
    },
    {
      "cell_type": "markdown",
      "metadata": {
        "id": "VtTLpy-NoAJF"
      },
      "source": [
        "<img src=\"https://github.com/hse-aml/intro-to-dl/blob/master/week2/v2/images/mnist_sample.png?raw=1\" style=\"width:30%\">"
      ]
    },
    {
      "cell_type": "code",
      "metadata": {
        "id": "nG-ZRg2OoAJF",
        "outputId": "08330c79-bbd7-4a44-98b0-d13ef0f49451",
        "colab": {
          "base_uri": "https://localhost:8080/"
        }
      },
      "source": [
        "import numpy as np\n",
        "from sklearn.metrics import accuracy_score\n",
        "from matplotlib import pyplot as plt\n",
        "%matplotlib inline\n",
        "import tensorflow as tf\n",
        "print(\"We're using TF\", tf.__version__)\n",
        "\n",
        "import sys\n",
        "sys.path.append(\"../..\")\n",
        "import grading\n",
        "\n",
        "import matplotlib_utils\n",
        "from importlib import reload\n",
        "reload(matplotlib_utils)\n",
        "\n",
        "import grading_utils\n",
        "reload(grading_utils)\n",
        "\n",
        "import keras_utils\n",
        "from keras_utils import reset_tf_session"
      ],
      "execution_count": 2,
      "outputs": [
        {
          "output_type": "stream",
          "text": [
            "We're using TF 1.15.2\n"
          ],
          "name": "stdout"
        },
        {
          "output_type": "stream",
          "text": [
            "Using TensorFlow backend.\n"
          ],
          "name": "stderr"
        }
      ]
    },
    {
      "cell_type": "markdown",
      "metadata": {
        "id": "VLZp8WuHoAJG"
      },
      "source": [
        "# Fill in your Coursera token and email\n",
        "To successfully submit your answers to our grader, please fill in your Coursera submission token and email"
      ]
    },
    {
      "cell_type": "code",
      "metadata": {
        "id": "vo78cCR9oAJG"
      },
      "source": [
        "grader = grading.Grader(assignment_key=\"XtD7ho3TEeiHQBLWejjYAA\", \n",
        "                        all_parts=[\"9XaAS\", \"vmogZ\", \"RMv95\", \"i8bgs\", \"rE763\"])"
      ],
      "execution_count": 3,
      "outputs": []
    },
    {
      "cell_type": "code",
      "metadata": {
        "id": "L8JrEN75oAJH"
      },
      "source": [
        "# token expires every 30 min\n",
        "COURSERA_TOKEN = 'uIOXoep54csPHHb5'\n",
        "COURSERA_EMAIL = 'manuelalejandromartinezf@gmail.com'"
      ],
      "execution_count": 4,
      "outputs": []
    },
    {
      "cell_type": "markdown",
      "metadata": {
        "id": "65-DEfoMoAJH"
      },
      "source": [
        "# Look at the data\n",
        "\n",
        "In this task we have 50000 28x28 images of digits from 0 to 9.\n",
        "We will train a classifier on this data."
      ]
    },
    {
      "cell_type": "code",
      "metadata": {
        "id": "RMxoSopFoAJH",
        "outputId": "467be756-da85-4908-dbe8-fa690601a99a",
        "colab": {
          "base_uri": "https://localhost:8080/"
        }
      },
      "source": [
        "import preprocessed_mnist\n",
        "X_train, y_train, X_val, y_val, X_test, y_test = preprocessed_mnist.load_dataset()"
      ],
      "execution_count": 5,
      "outputs": [
        {
          "output_type": "stream",
          "text": [
            "Downloading data from https://s3.amazonaws.com/img-datasets/mnist.npz\n",
            "11493376/11490434 [==============================] - 1s 0us/step\n"
          ],
          "name": "stdout"
        }
      ]
    },
    {
      "cell_type": "code",
      "metadata": {
        "id": "IZCjs97SoAJI",
        "outputId": "ac3f533d-91a2-4e85-82a3-2dad5b0bdbbd",
        "colab": {
          "base_uri": "https://localhost:8080/",
          "height": 683
        }
      },
      "source": [
        "# X contains rgb values divided by 255\n",
        "print(\"X_train [shape %s] sample patch:\\n\" % (str(X_train.shape)), X_train[1, 15:20, 5:10])\n",
        "print(\"A closeup of a sample patch:\")\n",
        "plt.imshow(X_train[1, 15:20, 5:10], cmap=\"Greys\")\n",
        "plt.show()\n",
        "print(\"And the whole sample:\")\n",
        "plt.imshow(X_train[1], cmap=\"Greys\")\n",
        "plt.show()\n",
        "print(\"y_train [shape %s] 10 samples:\\n\" % (str(y_train.shape)), y_train[:10])"
      ],
      "execution_count": 6,
      "outputs": [
        {
          "output_type": "stream",
          "text": [
            "X_train [shape (50000, 28, 28)] sample patch:\n",
            " [[0.         0.29803922 0.96470588 0.98823529 0.43921569]\n",
            " [0.         0.33333333 0.98823529 0.90196078 0.09803922]\n",
            " [0.         0.33333333 0.98823529 0.8745098  0.        ]\n",
            " [0.         0.33333333 0.98823529 0.56862745 0.        ]\n",
            " [0.         0.3372549  0.99215686 0.88235294 0.        ]]\n",
            "A closeup of a sample patch:\n"
          ],
          "name": "stdout"
        },
        {
          "output_type": "display_data",
          "data": {
            "image/png": "[encoded data removed]",
            "text/plain": [
              "<Figure size 432x288 with 1 Axes>"
            ]
          },
          "metadata": {
            "tags": [],
            "needs_background": "light"
          }
        },
        {
          "output_type": "stream",
          "text": [
            "And the whole sample:\n"
          ],
          "name": "stdout"
        },
        {
          "output_type": "display_data",
          "data": {
            "image/png": "[encoded data removed]",
            "text/plain": [
              "<Figure size 432x288 with 1 Axes>"
            ]
          },
          "metadata": {
            "tags": [],
            "needs_background": "light"
          }
        },
        {
          "output_type": "stream",
          "text": [
            "y_train [shape (50000,)] 10 samples:\n",
            " [5 0 4 1 9 2 1 3 1 4]\n"
          ],
          "name": "stdout"
        }
      ]
    },
    {
      "cell_type": "markdown",
      "metadata": {
        "id": "wOsRbMDtoAJI"
      },
      "source": [
        "# Linear model\n",
        "\n",
        "Your task is to train a linear classifier $\\vec{x} \\rightarrow y$ with SGD using TensorFlow.\n",
        "\n",
        "You will need to calculate a logit (a linear transformation) $z_k$ for each class: \n",
        "$$z_k = \\vec{x} \\cdot \\vec{w_k} + b_k \\quad k = 0..9$$\n",
        "\n",
        "And transform logits $z_k$ to valid probabilities $p_k$ with softmax: \n",
        "$$p_k = \\frac{e^{z_k}}{\\sum_{i=0}^{9}{e^{z_i}}} \\quad k = 0..9$$\n",
        "\n",
        "We will use a cross-entropy loss to train our multi-class classifier:\n",
        "$$\\text{cross-entropy}(y, p) = -\\sum_{k=0}^{9}{\\log(p_k)[y = k]}$$ \n",
        "\n",
        "where \n",
        "$$\n",
        "[x]=\\begin{cases}\n",
        "       1, \\quad \\text{if $x$ is true} \\\\\n",
        "       0, \\quad \\text{otherwise}\n",
        "    \\end{cases}\n",
        "$$\n",
        "\n",
        "Cross-entropy minimization pushes $p_k$ close to 1 when $y = k$, which is what we want.\n",
        "\n",
        "Here's the plan:\n",
        "* Flatten the images (28x28 -> 784) with `X_train.reshape((X_train.shape[0], -1))` to simplify our linear model implementation\n",
        "* Use a matrix placeholder for flattened `X_train`\n",
        "* Convert `y_train` to one-hot encoded vectors that are needed for cross-entropy\n",
        "* Use a shared variable `W` for all weights (a column $\\vec{w_k}$ per class) and `b` for all biases.\n",
        "* Aim for ~0.93 validation accuracy"
      ]
    },
    {
      "cell_type": "code",
      "metadata": {
        "id": "itl8--t9oAJI",
        "outputId": "6ba9f975-ac0d-4a27-f656-02e6448b8913",
        "colab": {
          "base_uri": "https://localhost:8080/"
        }
      },
      "source": [
        "X_train_flat = X_train.reshape((X_train.shape[0], -1))\n",
        "print(X_train_flat.shape)\n",
        "\n",
        "X_val_flat = X_val.reshape((X_val.shape[0], -1))\n",
        "print(X_val_flat.shape)"
      ],
      "execution_count": 7,
      "outputs": [
        {
          "output_type": "stream",
          "text": [
            "(50000, 784)\n",
            "(10000, 784)\n"
          ],
          "name": "stdout"
        }
      ]
    },
    {
      "cell_type": "code",
      "metadata": {
        "id": "qbcjC-RFoAJJ",
        "outputId": "cdecb974-27fc-46b6-e72a-f95501b85b07",
        "colab": {
          "base_uri": "https://localhost:8080/"
        }
      },
      "source": [
        "import keras\n",
        "\n",
        "y_train_oh = keras.utils.to_categorical(y_train, 10)\n",
        "y_val_oh = keras.utils.to_categorical(y_val, 10)\n",
        "\n",
        "print(y_train_oh.shape)\n",
        "print(y_train_oh[:3], y_train[:3])"
      ],
      "execution_count": 8,
      "outputs": [
        {
          "output_type": "stream",
          "text": [
            "(50000, 10)\n",
            "[[0. 0. 0. 0. 0. 1. 0. 0. 0. 0.]\n",
            " [1. 0. 0. 0. 0. 0. 0. 0. 0. 0.]\n",
            " [0. 0. 0. 0. 1. 0. 0. 0. 0. 0.]] [5 0 4]\n"
          ],
          "name": "stdout"
        }
      ]
    },
    {
      "cell_type": "code",
      "metadata": {
        "id": "x9aw0cxXoAJJ",
        "outputId": "c0842273-df64-4667-be35-c087c32ba56c",
        "colab": {
          "base_uri": "https://localhost:8080/"
        }
      },
      "source": [
        "# run this again if you remake your graph\n",
        "s = reset_tf_session()"
      ],
      "execution_count": 9,
      "outputs": [
        {
          "output_type": "stream",
          "text": [
            "WARNING:tensorflow:From /content/keras_utils.py:68: The name tf.get_default_session is deprecated. Please use tf.compat.v1.get_default_session instead.\n",
            "\n",
            "WARNING:tensorflow:From /content/keras_utils.py:75: The name tf.ConfigProto is deprecated. Please use tf.compat.v1.ConfigProto instead.\n",
            "\n",
            "WARNING:tensorflow:From /content/keras_utils.py:77: The name tf.InteractiveSession is deprecated. Please use tf.compat.v1.InteractiveSession instead.\n",
            "\n"
          ],
          "name": "stdout"
        }
      ]
    },
    {
      "cell_type": "code",
      "metadata": {
        "id": "rao7ebtToAJJ"
      },
      "source": [
        "# Model parameters: W and b\n",
        "W = tf.get_variable('W', shape=(784,10),trainable=True, dtype=tf.float32) ### YOUR CODE HERE ### tf.get_variable(...) with shape[0] = 784\n",
        "b = tf.get_variable('b', shape=(10,), dtype=tf.float32) ### YOUR CODE HERE ### tf.get_variable(...)"
      ],
      "execution_count": 10,
      "outputs": []
    },
    {
      "cell_type": "code",
      "metadata": {
        "id": "8d7R2G64oAJK"
      },
      "source": [
        "# Placeholders for the input data\n",
        "input_X = tf.placeholder(tf.float32, shape=(None,784)) ### YOUR CODE HERE ### tf.placeholder(...) for flat X with shape[0] = None for any batch size\n",
        "input_y = tf.placeholder(tf.float32, shape=(None,10)) ### YOUR CODE HERE ### tf.placeholder(...) for one-hot encoded true labels"
      ],
      "execution_count": 11,
      "outputs": []
    },
    {
      "cell_type": "code",
      "metadata": {
        "id": "girJKu8JoAJK",
        "outputId": "9be16089-e1a7-49e5-9999-12d86541b3da",
        "colab": {
          "base_uri": "https://localhost:8080/"
        }
      },
      "source": [
        "# Compute predictions\n",
        "logits = tf.matmul(input_X,W)+b ### YOUR CODE HERE ### logits for input_X, resulting shape should be [input_X.shape[0], 10]\n",
        "probas = tf.nn.softmax(logits) ### YOUR CODE HERE ### apply tf.nn.softmax to logits\n",
        "classes = tf.argmax(probas, axis=1) ### YOUR CODE HERE ### apply tf.argmax to find a class index with highest probability\n",
        "\n",
        "# Loss should be a scalar number: average loss over all the objects with tf.reduce_mean().\n",
        "# Use tf.nn.softmax_cross_entropy_with_logits on top of one-hot encoded input_y and logits.\n",
        "# It is identical to calculating cross-entropy on top of probas, but is more numerically friendly (read the docs).\n",
        "loss = tf.reduce_mean(tf.nn.softmax_cross_entropy_with_logits(labels=input_y,logits=logits)) ### YOUR CODE HERE ### cross-entropy loss\n",
        "\n",
        "# Use a default tf.train.AdamOptimizer to get an SGD step\n",
        "step = tf.train.AdamOptimizer().minimize(loss) ### YOUR CODE HERE ### optimizer step that minimizes the loss"
      ],
      "execution_count": 12,
      "outputs": [
        {
          "output_type": "stream",
          "text": [
            "WARNING:tensorflow:From <ipython-input-12-0dabae4fc7a9>:9: softmax_cross_entropy_with_logits (from tensorflow.python.ops.nn_ops) is deprecated and will be removed in a future version.\n",
            "Instructions for updating:\n",
            "\n",
            "Future major versions of TensorFlow will allow gradients to flow\n",
            "into the labels input on backprop by default.\n",
            "\n",
            "See `tf.nn.softmax_cross_entropy_with_logits_v2`.\n",
            "\n"
          ],
          "name": "stdout"
        }
      ]
    },
    {
      "cell_type": "code",
      "metadata": {
        "scrolled": false,
        "colab": {
          "base_uri": "https://localhost:8080/",
          "height": 309
        },
        "id": "WFHSwb4HoAJK",
        "outputId": "33bb87d0-1cb2-4932-9f3d-a503dfb49e06"
      },
      "source": [
        "s.run(tf.global_variables_initializer())\n",
        "\n",
        "BATCH_SIZE = 512\n",
        "EPOCHS = 40\n",
        "\n",
        "# for logging the progress right here in Jupyter (for those who don't have TensorBoard)\n",
        "simpleTrainingCurves = matplotlib_utils.SimpleTrainingCurves(\"cross-entropy\", \"accuracy\")\n",
        "\n",
        "for epoch in range(EPOCHS):  # we finish an epoch when we've looked at all training samples\n",
        "    \n",
        "    batch_losses = []\n",
        "    for batch_start in range(0, X_train_flat.shape[0], BATCH_SIZE):  # data is already shuffled\n",
        "        _, batch_loss = s.run([step, loss], {input_X: X_train_flat[batch_start:batch_start+BATCH_SIZE], \n",
        "                                             input_y: y_train_oh[batch_start:batch_start+BATCH_SIZE]})\n",
        "        # collect batch losses, this is almost free as we need a forward pass for backprop anyway\n",
        "        batch_losses.append(batch_loss)\n",
        "\n",
        "    train_loss = np.mean(batch_losses)\n",
        "    val_loss = s.run(loss, {input_X: X_val_flat, input_y: y_val_oh})  # this part is usually small\n",
        "    train_accuracy = accuracy_score(y_train, s.run(classes, {input_X: X_train_flat}))  # this is slow and usually skipped\n",
        "    valid_accuracy = accuracy_score(y_val, s.run(classes, {input_X: X_val_flat}))  \n",
        "    simpleTrainingCurves.add(train_loss, val_loss, train_accuracy, valid_accuracy)"
      ],
      "execution_count": 13,
      "outputs": [
        {
          "output_type": "display_data",
          "data": {
            "text/html": [
              "<img src=\"data:image/jpeg;base64,/9j/4AAQSkZJRgABAQEASABIAAD/2wBDAAIBAQEBAQIBAQECAgICAgQDAgICAgUEBAMEBgUGBgYFBgYGBwkIBgcJBwYGCAsICQoKCgoKBggLDAsKDAkKCgr/2wBDAQICAgICAgUDAwUKBwYHCgoKCgoKCgoKCgoKCgoKCgoKCgoKCgoKCgoKCgoKCgoKCgoKCgoKCgoKCgoKCgoKCgr/wAARCAEgA2ADASIAAhEBAxEB/8QAHwAAAQUBAQEBAQEAAAAAAAAAAAECAwQFBgcICQoL/8QAtRAAAgEDAwIEAwUFBAQAAAF9AQIDAAQRBRIhMUEGE1FhByJxFDKBkaEII0KxwRVS0fAkM2JyggkKFhcYGRolJicoKSo0NTY3ODk6Q0RFRkdISUpTVFVWV1hZWmNkZWZnaGlqc3R1dnd4eXqDhIWGh4iJipKTlJWWl5iZmqKjpKWmp6ipqrKztLW2t7i5usLDxMXGx8jJytLT1NXW19jZ2uHi4%2BTl5ufo6erx8vP09fb3%2BPn6/8QAHwEAAwEBAQEBAQEBAQAAAAAAAAECAwQFBgcICQoL/8QAtREAAgECBAQDBAcFBAQAAQJ3AAECAxEEBSExBhJBUQdhcRMiMoEIFEKRobHBCSMzUvAVYnLRChYkNOEl8RcYGRomJygpKjU2Nzg5OkNERUZHSElKU1RVVldYWVpjZGVmZ2hpanN0dXZ3eHl6goOEhYaHiImKkpOUlZaXmJmaoqOkpaanqKmqsrO0tba3uLm6wsPExcbHyMnK0tPU1dbX2Nna4uPk5ebn6Onq8vP09fb3%2BPn6/9oADAMBAAIRAxEAPwD9/KKKKACiiigAooooAKKKKACiiigAooooAKKKKACiiigAooooAKKKKACiiigAooooAKKKKACiiigAooooAKKKKACiiigAooooAKKKKACiiigAooooAKKKKACiiigAooooAKKKKACiiigAooooAKKKKACiiigAooooAKKKKACiiigAooooAKKKKACiiigAooooAKKKKACiiigAooooAKKKKACiiigAooooAKKKKACiiigAooooAKKKKACiiigAooooAKKKKACiiigAooooAKKKKACiiigAooooAKKKKACiiigAooooAKKKKACiiigAooooAKKKKACiiigAooooAKKKKACiiigAooooAKKKKACuN%2BOP7QHwm/Zx8JW/jT4veJ5dPtL7U4dN0u2stLub%2B91K9lDGO1tLO0jluLudlR2EUMbvtR2xhWI7KvFv2u/gP8VPiX4h%2BGfxl%2BBd14fl8X/CrxjPrWmaJ4tu57bTdYhudLvdMubaW4ghmktH8q9aSOdYZtrR7TGyu2ACjpH/AAUr/Y71rxm3w8tvHviCDW7fSodU1bTtR%2BHOvWkmi2EhuAt3qXn2SDTIAbWcNLdmFEKYYqWUGbwn/wAFH/2NfGfg/wAQ%2BOtM%2BLFza6f4Y0e11fVBrnhPVdMuJNPuXMdreWtvd2sU19bzyAxwy2ySpM5CRlmIB86vP2GPjP8AHW0/aRP7Qt74V8My/tB/CPTvBskfgrWLrUzo7RWusWsr%2BbcWtqZ1VNRiZDsXeyygogxuy9Y/Y2/at%2BM%2Btaz8UP2lPh38G9X1e0%2BE6eBtB8E6d4n1QaRrSy6jaXt5fXd2bBJ9PYmyg%2BzxQw3BtnDP50hIwAeyX/7fP7N2k%2BAbH4h6tdeOLSHVPED6Jpeh3Xwj8SR67e3yW5uXjh0dtPGoShYAZTIluUCKzFsA49P8JeOfDfjbwTY/EPRbi5i0rULBbyCTVNPnsZY4iu7MsFykcsDAfeSRVZSCGAIIr41tv2Gf2tJfgpJ4W8feGPCnjS%2Bh%2BIcut%2BC9B1n9ofxXb3fgOxOmxWoi0/xbHp7atcSGUXcreZDGBHeGENsjGfUvB/7Bmq%2BKfgJo3hb9pz46%2BOPEfj5PhtdeFtf8Q6T8Q9at9Muhc2tzbyTPpa3SWN5MiXTBbq4tmmdoopWKuibADc8Mf8FJP2MvF/h7xJ4s0b4tXK6Z4W8GXni6/vr7wlqtpFe6BaruuNU09p7VBqtogK5nsvPQmSMAkyIG4n40f8FdP2YfAf7M/wATf2gfhW%2Bs%2BM7v4b%2BDYfEjeGW8L6xps2r2Nw7R2t3avNYFrixlkRh9vgjmtkVWdnCqSPHfC/8AwSh%2BNC/BPxf8LPFnh3w9J4h/4UL4j8A%2BC/Hmo/tD%2BNvECSXGpWEdp5h0jVUkttGtpDDE8scEl0yeVGqFggz6P%2B1L/wAE5vih%2B0BYeKtE0Pxj4d0q2179le%2B%2BGlrLM87GDVpLiOWGdo1iANqNhBIbzBnhO9AHqkv/AAUU/ZZt/E3hrwJeav41tvEni7TpdQ0HwpefCTxLDq8tnFd/Y5LmSwk08XNvCkxG6SaNEVGWUkRsrmXwN/wUT/Y7%2BJGqarpXhD4tyXB0rQ9Q1lbufw1qVvaapp1iwS8u9NuZrdYdVhhYqHeyedVLqCfmGcXwR8APjz4x/apsf2oPjn4f8HeH5JPg5f8Ag/VNE8J%2BK7vVTBcy6tHcpJDcz6fZl4mgiUsTGjJIdoV1USHwGb9hz9pf4bfs8%2BF/Cnxo1rwIPCP7N3wP8SaB4L1PwrfXcmpeKd2hHTLe4vbeW2ii04JZozSQxS3QknZXDxqgQgH0D4U/4Kl/sL%2BNPBus/ELQ/jLdrouheDj4tutRv/BmsWcdzoIKB9Vs/PtEN/ZxmRBJPbCWOLcPMZc167a/GD4c3vxcuPgVZ%2BIxN4qtPDUGv3emRWsrCHTp55beGd5QnlL5ksE6ohfe3kyEKQjEfFX7I/7P3xC8WfBL4Q/Hb9t/Uvhlovww%2BG/7L9z4fgk07W5wmr6bqmnaWby%2B1X7VBDDpkEVppyq0CS3CZleRplWNVrsP%2BCK3wr8d6P8As76n8evit4tbxFrHjW%2Bg03w54hlgaOS%2B8I6JF/ZWiXBD8/6VDDNqhPd9WcgKCFAB9lUUUUAFFFFABRRRQAUUUUAFFFFABRRRQAUUUUAFFFFABRRRQAUUUUAFFFFABRRRQAUUUUAFFFFABRRRQAUUUUAFFFFABRRRQAV4jpH/AAUY/Y91K716z1P4pXnh5vDnhy58QahJ418I6roMc2k27pHPf2smpWsC31ujyRK0tsZUBljGcuufab2K5ms5YbO6EEzxMsUxj3%2BWxHDbT1wecd6/MTV/%2BCOX7cvxf1bwvrnxu%2BOOhvrfhrwfqFnqHijUPit4m8TjxDrf2zSr611E6XfRQ2Wk20lzpi%2BfYWQCiOTassgVAoB9sv8At/8A7MNr8NG%2BLGseIPFWlaW2uQaNY2eufDLX7DVNTv5kMkMFlptxYpe37SIGdfs8MgZUdgSEYjovAf7VnwP%2BI%2Bv2XhPw54h1SHV7/wAKT%2BJIdI1rwrqWmXaabDd/ZJZZYby3ikgdZ/kMMirL32bea8m%2BJ3wc/bd%2BMTfD342654N%2BFWh/EP4UeOptY8P%2BGbXxxqV/ouuWdxpN3plzHcXz6VDNYzFL2SSN0tbgRmIKfMEjYq/En4Dftwa/8ZfDv7TXgfRvhXaeLL74Yar4L8Y6FqXivUpLDSFuL%2BG6tb%2ByuE04SagYhG6yW8sVoJS4xLFjkA7jSf8Ago3%2ByB4j17wL4W8K/EbVdZ1P4k%2BDdK8W%2BDdO0TwPrN7PeaHqL7LXUZEgtGa1t92PMknEa24ZTN5QYE7Hw1/bc/Zu%2BK/xGufhP4Z8X6tZ6/b6Xc6nDZeJ/BmraIt/Y28iRz3dlLqNrBHfwRvLEHltmkRfMQkgMpPlH7Cn7CXxY/Zh1/4caz488QeGrs%2BDv2UvCPwxv30i5nlZtW0t5muZovMgj3Wrb02MxV22/NGmBXjXw0/4JV/tjeJ/ij4X8TftTfGGz1SLT/AHivwv408TQfF/xJrV54il1exS2/tO10y%2Bhj0/QjlSxtLRSi5UCZxGq0AfUvhP/gov%2ByP410WPxVoPjvXP7DuNV0vT9P8AEt78P9btdK1GXUr2OyspLS%2Bns0tryCW5mijFxBI8IMqFnCsCfS/C3xd%2BHnjX4geKfhd4X8Q/a9c8FyWcfie0S0mC2Ml1B9ogjMrII3doSshRGZkWSMsFEibvmHxx4E%2BIvhX/AIJ7eNPgR/wUM8T/AAq8EeAtB%2BGkWgW3xM8O%2BLbsM06RpbWupPaXVnAmmzLMLeSGCO4umM5REcnaG7X/AIJX/D74seG/2RNK%2BKv7RVglv8TvixfS%2BOviJCtu0X2e/v1jMNpsb5k%2By2MdlZ7TkgWuDQB9G0UUUAFFFFABRRRQAUUUUAFFFFABRRRQAUUUUAFFFFABRRRQAUUUUAFFFFABRRRQAUUUUAFFFFABRRRQAUUUUAFFFFABRRRQAUVzHxo0Pxb4j%2BFut6R4F%2BJWpeD9Vksy9p4j0iytLi5sijB2Mcd5DNAzMqsn7yNwN%2BcEgV55%2BzR4s%2BJXx9/4J8/DP4heJPi1d6J4q8XfCjQNW1nxnYafY%2BfDd3Gn289zcpDNC1qjFmkIDRGJd33CBtoA9qrxf49eP/2i/wDhovwL8CPgL4z8FeH01/wV4l17V9T8X%2BC7vWiTp13odvDDDHb6lY%2BWG/tSVmZmfPloAF5JrfsEfEb4kfFL4W6/4r8X%2BPtQ8YeHG8Z3cXw08b6xptraXviPQFgtwl9LHZwwQMrXf21YZYoY0ntY7aYKfN3tzet/GXw14l/4KpfD74baZpmvw3WlfBrx8l7car4T1GwtpZP7V8HlfstzcwRwXy7Q%2B5rZ5VTC7iu9cptLcuEJVHaPZv7tWdf/AMIP/wAFC/8Ao6D4M/8Ahh9W/wDmoo/4Qf8A4KF/9HQfBn/ww%2Brf/NRXs1FMg8Z/4Qf/AIKF/wDR0HwZ/wDDD6t/81FH/CD/APBQv/o6D4M/%2BGH1b/5qK9mooA8Z/wCEH/4KF/8AR0HwZ/8ADD6t/wDNRR/wg/8AwUL/AOjoPgz/AOGH1b/5qK9mooA8Z/4Qf/goX/0dB8Gf/DD6t/8ANRR/wg//AAUL/wCjoPgz/wCGH1b/AOaivZqKAPGf%2BEH/AOChf/R0HwZ/8MPq3/zUUf8ACD/8FC/%2BjoPgz/4YfVv/AJqK9mooA8Z/4Qf/AIKF/wDR0HwZ/wDDD6t/81FH/CD/APBQv/o6D4M/%2BGH1b/5qK9mooA8Z/wCEH/4KF/8AR0HwZ/8ADD6t/wDNRR/wg/8AwUL/AOjoPgz/AOGH1b/5qK9mrN8YzzWvhHVbq2lZJI9NnaN1OCrCNiCPfNAHlf8Awg//AAUL/wCjoPgz/wCGH1b/AOaij/hB/wDgoX/0dB8Gf/DD6t/81FXvG/7QH7DXwt8T3PgP4l/HD4U%2BH9bsBGL3SNf8T6ba3kG%2BNZE8yOaQOpZHVwWHKsDyCDWT/wANf/8ABOD/AKOi%2BCP/AIW2j/8Ax2uaWNwUJOMqsU1/ej/8ke5R4Y4nxFKNWlgK8oySaaoV2mnqmmqLTTWzTafRssf8IP8A8FC/%2BjoPgz/4YfVv/moo/wCEH/4KF/8AR0HwZ/8ADD6t/wDNRVf/AIa//wCCcH/R0XwR/wDC20f/AOO16V4r0j4feEPC2peLNQ8D2k1vpenzXc8Vlon2iZ0jQuyxxRRs8jkKQERWZjgAEkCtKWIoV7%2BympW7NP8AJs48dlObZXy/XcNUo817e0p1Kd7b254Qva6va9rq9ro89/4Qf/goX/0dB8Gf/DD6t/8ANRR/wg//AAUL/wCjoPgz/wCGH1b/AOaiuM%2BBn7fH7HXxu8L/AAwvrXwLr2la/wDFXw5b6z4f8K3nwp1drpbd/sayzuVsNotIpL63Rr4kWpD7xLsyw3p/2r/2WL3Q9Q1DQNFhtb3Sde8OadqOl%2BNPAuraBcRrrOqxabZzrDdad58kcszyJFKsRgeWJkeaFVklj1PPNX/hB/8AgoX/ANHQfBn/AMMPq3/zUUf8IP8A8FC/%2BjoPgz/4YfVv/moql8PP2t/2Ifil43vfh/4Q1uxN9YNrSy3Op%2BC72wsJX0i7NpqaQ3t1ax21w1tMpWVYpXKAbyNnzVqftCfEzwV8Ivhzonij4f8Awr8P%2BLdY8X%2BIdN0Twbpv2mK0tNQur1xskku0hm8q3SES3DyJHK3lxNsR2KqQCD/hB/8AgoX/ANHQfBn/AMMPq3/zUUf8IP8A8FC/%2BjoPgz/4YfVv/mop3wS%2BItl8bPgdq/j3TPgJodn4v0PUta0XUfCEl9G1uNZ065ntXgS9%2Bzrut5ZIVaO4MKt5UyO0StujHjXxN/bwPwY%2BH3jW9%2BKX7NXw00fxT4G%2BIHhrwzrCXPxGEfhqFdZNqYrqXV5NKSSAQx3IeWN7MFRsIJWVXoA9j/4Qf/goX/0dB8Gf/DD6t/8ANRR/wg//AAUL/wCjoPgz/wCGH1b/AOaivN/jB%2B2n4E%2BFOh/DrSpvBvwQPif4haLeavbXOsfFeHT/AArFZW0ltGXh1p9NZ7qSV721WGNLQGTMrZVYix0fFn7V%2BmeF/jHe%2BFP%2BGZ9AuPBfhvx14c8E%2BNfF660i3OneINbisXs4Ley%2Bxlbq3DarpSSTmeJlN7lYnEbUAdv/AMIP/wAFC/8Ao6D4M/8Ahh9W/wDmoo/4Qf8A4KF/9HQfBn/ww%2Brf/NRXnXjv9r2T4D6/4s0P9o39lTwzpbaL8MtW8caGng7xMmsTX1nY3Nvbm0uUlsbUWV1PJdwLCoaaJyJ/3o8kk63hv42fFXxHpXjPwrN%2Byl8L9K8f%2BANSsz4m0bWPiLNHoo0m6sjdRX8GpJoryuQVeJopLSIK0Ex8wqqNIAdf/wAIP/wUL/6Og%2BDP/hh9W/8Amoo/4Qf/AIKF/wDR0HwZ/wDDD6t/81FeFeHP%2BChcmvn4G6XrH7N/wi8I6t8aPAMviq2sfH3xW/spYIjdWcVvZ2jNo7vf3csN7HMITHAy7WQgkE16v44/aX%2BHvhv9svwX%2ByR4b%2BBun6wniCS6t/E3ilXiih0C8Gm3Oo2toI/Jb7TNLBayO6b4zBHLbOdwnQUAb3/CD/8ABQv/AKOg%2BDP/AIYfVv8A5qKP%2BEH/AOChf/R0HwZ/8MPq3/zUV53%2Bxz%2B1XqX7Z3wi1z4k/Dv4K/BKTULOCP8Aszw3pnxZN/c29w0kim31fytGDaW%2BxNwCrckncMALuPE6/wD8FD9R8F/DC18c/EP9mb4P%2BHJb749aj8NbPVde%2BLZs/Dh%2Bw6bfXNzqMmqTaIrxqt5p13p4iNt800YPmYIFAHvX/CD/APBQv/o6D4M/%2BGH1b/5qKP8AhB/%2BChf/AEdB8Gf/AAw%2Brf8AzUVxn7Tnxy%2BK3wG%2BFXh34r%2BDf2VfhR4utdZOhWEtpH8SZ7aWfWNUvYLOG1sCmhzJeQebcxFbl2gLJudoowpNbXjT4x638Lv2gvC/wx%2BJH7MvhODwt451zUNK8K%2BING8RfbdUea00q71NprrTTYRrDbtFZTRh47mZhJJbqyL5uUANn/hB/wDgoX/0dB8Gf/DD6t/81FH/AAg//BQv/o6D4M/%2BGH1b/wCaivLvgP8Atq2nxw0UAfs7/DvRNZ1/4T2fxH8BWN949R7W70C4k2b9TuU00nTJYt0ZkEcd3F85CSyeW%2BF8Jfth33xI/Zb8SftNfDr4A/CK%2B03wVqmrReJtXn%2BJUv8Awj1zYWFuJ5tR0vVLfRZzqEABaNmNvCFlgnTLeXlgD1D/AIQf/goX/wBHQfBn/wAMPq3/AM1FUPA/jj9qzwd%2B1Z4c%2BCPxu%2BI/w98TaN4m%2BHviHXIZvCvw8vtFurS602%2B0S3RWe41e%2BSWN01SUlQiMGiQhsZB6X4Z39x8QP2adB%2BL3i/4NWPgnxLrPgu21i/8ADsEy3Euh3ctqszWv2gQxGR4nbYXCJkqeAKyfHH/KQv4X/wDZGfHn/p28IUAezUUUUAFFFFABRRRQAV84/CbxV%2B3f8ddH17x34X%2BN/wAJNA0u3%2BIXirQ9L0q/%2BD%2BqX9xFa6Xr1/pkLS3CeIoFlkeOzV2ZYo13OQFAAr6Orxn9g/8A5Ihrn/ZZviP/AOprrdAB/wAIP/wUL/6Og%2BDP/hh9W/8Amoo/4Qf/AIKF/wDR0HwZ/wDDD6t/81FezUUAeM/8IP8A8FC/%2BjoPgz/4YfVv/moo/wCEH/4KF/8AR0HwZ/8ADD6t/wDNRXs1FAHjP/CD/wDBQv8A6Og%2BDP8A4YfVv/moo/4Qf/goX/0dB8Gf/DD6t/8ANRXs1FAHjP8Awg//AAUL/wCjoPgz/wCGH1b/AOaij/hB/wDgoX/0dB8Gf/DD6t/81FezUUAeM/8ACD/8FC/%2BjoPgz/4YfVv/AJqKP%2BEH/wCChf8A0dB8Gf8Aww%2Brf/NRXs1FAHjP/CD/APBQv/o6D4M/%2BGH1b/5qKP8AhB/%2BChf/AEdB8Gf/AAw%2Brf8AzUV7NRQB4z/wg/8AwUL/AOjoPgz/AOGH1b/5qKP%2BEH/4KF/9HQfBn/ww%2Brf/ADUV7NRQB4z/AMIP/wAFC/8Ao6D4M/8Ahh9W/wDmoo/4Qf8A4KF/9HQfBn/ww%2Brf/NRXs1FAHjP/AAg//BQv/o6D4M/%2BGH1b/wCaij/hB/8AgoX/ANHQfBn/AMMPq3/zUV7NRQB4z/wg/wDwUL/6Og%2BDP/hh9W/%2Baij/AIQf/goX/wBHQfBn/wAMPq3/AM1FezUUAeM/8IP/AMFC/wDo6D4M/wDhh9W/%2Baij/hB/%2BChf/R0HwZ/8MPq3/wA1FezUyeeC1he5uZkjjRSzySMAqgdSSegoA8c/4Qf/AIKF/wDR0HwZ/wDDD6t/81FH/CD/APBQv/o6D4M/%2BGH1b/5qK2fFH7av7HXgnVTofjH9q74b6VejO611DxvYQyL9VaUEfjVR/wBvP9huO3N037Znwp8sfxj4h6aR/wCj65XjsFF2dWP/AIFH/wCSON5jl0W068E1/fh/8mUf%2BEH/AOChf/R0HwZ/8MPq3/zUUf8ACD/8FC/%2BjoPgz/4YfVv/AJqKoar/AMFOf%2BCe%2BjZ%2B2fti%2BAHx1%2ByeIYp//RRbNc5qH/BYz/gmjpjlLn9rHQ2I/wCfewvZR%2BaQGsZZtlUPixEF/wBvx/8AkjnnnmS0/ixVNf8AcSH/AMkdl/wg/wDwUL/6Og%2BDP/hh9W/%2Baij/AIQf/goX/wBHQfBn/wAMPq3/AM1FecXX/Bb3/gl1Z/639qaBv%2BuXhPWJP/QbQ1DH/wAFxv8AgmG0gWb9o6eFGOEmm8E6yqMfr9j/AJ1k88yVf8xNP/wOP%2BZi%2BJOHU/8AfKX/AIMj/mem/wDCD/8ABQv/AKOg%2BDP/AIYfVv8A5qKP%2BEH/AOChf/R0HwZ/8MPq3/zUVwMv/Baf/gmJDai8f9qvTyh7J4f1Nn/75Ftu/Ss7/h99/wAE6Lw48M/FfXdbPYaV4C1d8/TdbLTeeZMv%2BYmH/gUf0bB8R8Pr/mLp/wDgcX%2BTZ6f/AMIP/wAFC/8Ao6D4M/8Ahh9W/wDmoo/4Qf8A4KF/9HQfBn/ww%2Brf/NRXkus/8FrP2YtOtDe6V8HvjJq0QGQ%2Bn/Da4AP4zNGP1rzvWf8Ag4m/Zh0q4a3b9n/4l27AkBNZh0uxf8UkvcisKnEeRUfjxEV9/wD8id%2BCxtLM/wDcY1K3/XqjXq/%2BmqFRfifT3/CD/wDBQv8A6Og%2BDP8A4YfVv/moo/4Qf/goX/0dB8Gf/DD6t/8ANRXyTd/8HI/7OdoCzfADxcy9tmtaU5/Jbk1Ug/4OR/hHrsptfA/7I/j/AFecHHlQ3FuefT935lYPi3hxO31hfdL/AORPXjlefTjzRy7Ftf8AYHi/1wsV%2BJ9g/wDCD/8ABQv/AKOg%2BDP/AIYfVv8A5qKP%2BEH/AOChf/R0HwZ/8MPq3/zUV8kT/wDBb/8Aat8VoI/hH/wST%2BJGqFx8lxK99Io/4BDpzZH/AAMUaZ/wVJ/4KzSSefe/8EjtekhY5SNLfUIXA9CXhPP4D6Uf605Q37jnLzVKo1/6QT/Zmfcrl/Z%2BIsu9GUfwnOnJ/KLPrf8A4Qf/AIKF/wDR0HwZ/wDDD6t/81FW/wBlb4jfGnxhrHxQ8CfHTX/C%2Brap4B%2BIUWh2eq%2BE/DVzpNvdWsug6Pqas9vcXt4yyLJqMqFhLtKxodqnOfm3wx/wUr/4KY64wjb/AII2eJy3Qmfxr9iB/wC/9lxXqv8AwTf8d/E74mal8d/G/wAY/g3L8P8AxJffGWD%2B0fCM2tR6i1hs8I%2BG4483ESqsm%2BNUl4UbfM2nlSa9HB5phMfPlpKW19YTivvlFL5bnnqrUVd0alKpCSV/fpygvvd035J3PpiiiivRNgooooAKKKKACiiigAooooAKKKKACiiigAooooAKKKKACiiigDE%2BI3w/8P8AxU8E6h8PvFVzq8OnapCIruTQfEN7pV2FDBsR3djLFcQkkAExyKSCVOQSD5np37AP7Mmm/s63P7JsWieLZ/h9d%2BGD4dl8O33xQ8QXKrpZK/6Kk0t800aBVEQ2OCIsxAiMlD7PRQByvwe%2BDXgz4F%2BE28FeA73xHNYG5M6jxN4z1PXJozsSPYk%2BpXE8scQWNcRKwjU7iFBZifBv2hta/sv/AIK0fsy2O/H9pfDL4mW2PXEnhibH/kL9K%2Bo6%2BL/20dYbR/8AgsZ%2BxYzNiO60D4nW0nPXfYaOVH/fSrXLjJ%2Bzoc3nH8ZRX6nu8N4b63mnsu9Ou/8AwGhWl/7afaFFFFdR4QUUUUAFFFFABRRRQAUUUUAFFFFABWX45/5EnWP%2BwVcf%2Bi2rUrL8c/8AIk6x/wBgq4/9FtQByHjn9kX9lD4oeKbrxz8S/wBmH4eeItbvtn23WNd8FWF3dXGxFjTfLLEzvtRFQZJwqgDgCsn/AIYH/YV/6Ms%2BEv8A4bnTP/jFcj8c/wDgq1%2BwN%2BzX8U9U%2BCnxr%2BPX9i%2BJtF8j%2B09M/wCEW1W58nzoI54/3kFq8bZiljb5WON2Dgggcl/w/N/4JZf9HRf%2BWTrn/wAhV4dbGcNRqyjVnR5k3e/s7363ur3731NF4kYjAr6ss6nTUPd5ViqkVG2nLyqulG21kkltZHrf/DA/7Cv/AEZZ8Jf/AA3Omf8AxivVL6zh1Gxm0%2B5z5c8TRybTg7WGD/OvlD/h%2Bb/wSy/6Oi/8snXP/kKvqjxBqs2haDfa3b6NealJZ2cs6adp6obi6KIWEUQdlUu2Nq7mUZIyQOa7MDXyqtzfUpQdrX5OX5X5UvO1yZcU1eJfjx8sT7PvWnV5ebtzVKnLe3S17dbafPf7N/7CPjP4KjwMvi/48WutN4A%2BDdz8ONFudC8Jvpc7aez6d9nund725H2qNdPG5lCo7yhlSIJsbyv4N/8ABGp/hal/JcfGjwolxfW/gGC5m8K/CpdJN%2B3hnxEmtfbb5vt80l7f3uwwzXLuMEiQIcGNvY7/AP4KQfAkeArn4k%2BGtJ1fV9KtPhtoHje5vBf6Vp0EOnazPLFYxyXOp31tbwzsIJ5GSSVVVYvvFnjR/O/FP/BVjwprXg/SPjN8I2tpfA198EPiR4w1G7l06LVL601HwxquiaeYI1ttQS1uoxJfXwYR3PlzmKForlYzvf0CT0T4f/sO6h8Ob/wTrGjfFeCW78E%2BKvHWuWpuPDpMdzJ4iv728WN1W5BC27XYUkNmYR5/dbvl7f8AaE%2BBPiP44/DnRNK07x9Z6H4u8M%2BIdN1/QfEf9htc2kOpWjgkyWf2hGkt5UaaF4hOriOdtsquA48x8d/8FA7tf2g/A/wc%2BGHwl1y50TWvjDceB9d8eanYQHSZbm20jULy6tbQx3YuVnimtEjMstuLcmOeNXZwMeh/tJ/tDal8K/2arn4y/DzQTc6pqN5pOl%2BGbPxHp1zZKt/qmo22m2jXUEqxzxxpPdxPIhCPsVgNpwQAUfhd%2Bzr8W/g78G9U8B%2BCvjbo48S64fEmrat4rvvBbyq3iPU7p7qG9itReqqWdtJLIos2d3kiSFTcqyO8vN/s%2BfsrftM/s8/AaX4YeH/2gvh3qHiR9ZGpS%2BMNQ%2BE1%2B7apdS7mvbvUYm14yXV3PIQ/nJPCkYUIsflqiL1X7L/xe%2BKvxBb4j/DX4tS%2BHrrxd8NPG3/CP3useHdLnsdO1QTaTp2q29yltNcXElv%2B61KOJ4zNId8DsG2soHjfjb9rL9tD4daZ8ZvAtrb%2BCfiB4t%2BHnhfw/qOn6p4H%2BHerNbWuoahdTJLpVxpseoXFxeXENrHDdhYJ45Gjuot0UYeNpAC5L/wTF1bQ/B3h4fD34y6BaeL9O0fxrpWt67r3w7XULC8tPFOqLqmqR21gl7D9k2XKILcGaZI4d8ciz7y9amkf8E3ZvC3iWw8P%2BFfjfJH8N28ReEvEfiTwpqWgG51PU9Y8O2un2%2Bn3C6kLlFhjb%2Bx9JeaM20jO1mdskYlYVz3xB/bU%2BO2nfBnwD4u%2BF3xE0DxHNqnxEv8AQviL4q079nTxTeL4ZtrfTL65C3Hh6C/Oo2cwuIbOB2uJQqi5DlFDrXXfHP8AaU%2BN/gHwP8P/AI6/Cv4ofDPxZ4U8VXPhnT9P0W08MXrX3jK61K6jSSXS7pNRMdrH9lkN1GjwXW2OCVpJVjVpFAMrw1/wT3%2BLOtaF8Y/DX7Q37Rfh3xYPjFpl7a6l4i0b4d3Gma3p4YsunRRXEuq3UAtbCJ3ENstugaRmmdmkknM2zqX7DPxG8c/B74t%2BEfir%2B0JZ3vi74y29rpnijxT4e8HyabbWujRW8do9laWjX00kTvbm8/ftcOyzXjSBdqJCL3iv46ftFfDT9rDQPhLrereBfE%2BjeL7LXL%2By8OaJod1Y6t4f06yg8yG/vL2W9mgnhknMFqx%2Bz24WW7jKlxG%2Bfnn4Wf8ABVX9o7xb8IfEXjTxDpPhGG4tfD/gnVP7X1DwFrGi2fhhNb1R7O9nube8u2k1nTbCFftH9q2kkFncKjhZI1V5YwD6c/a2/Ze%2BIn7SXwu1P9nzwp8T/C3hXwD4m8LTeH/FGnz%2BAH1DUfscqmN/sFyL6GGzkWJiEaS2uAjqjhfl2nB8Sf8ABNX4Lah%2B054R/ag8KeKPGOjapoHja88T63pcfj/XpbHWLyfTpbLd9lOoC1tyN0RfZCRLHF5LqUdhXjcH/BUTx54k8JaTbaL8WfhRokcXjHxLoGtfGDXNAvpvCuo3GnQ2c9jDZW6agjrJqEF8rxE3cyn7HOIvtO6LN/wZ/wAFWpfjN4s%2BHo8N%2BI9A%2BH2h638N/BXi/wATSeKfAmr62Q3iIyGHTmurOaC30YIIhGt7el45ZrhVSM%2BU4YA9w%2BGP7M3xi0X40aj%2B0L8W/jR4X1rxR/wgx8L%2BH/8AhFvh9Lo9la2puPtJluopdRupLyQSrHtAliRF80KoMrNUvgX9mn4rfA39mHwT8AfgB8XvDVpqnhixSHWfEvjbwJNq6a1M0chu7xra31GzMVxcXMklwzea6gySLtO4MMq4%2BMX7Svhr9r6w/Z91rxZ4A1qx8WeH9d1fS7TRfCl7DfeE7O2lijsbvUJH1CSO9imeXyiqx2ZaRX8ssschTyjxJ%2B3d%2B0t8EtA%2BM%2BtfFjxJ8PfE1l4H8beFPA3hLW/D3gPU9MifxBqslqt0bi3/ALSv5buC2TU9Pby7cpLJJHcwL%2B824APW/BH7CukeCvBvwK%2BG0fxFuLzw98E7t9RXT7jS0U63qAsLi0tpmKOqW8UJu7iZIFRlDi32lfIG5/hT9l3466T%2B2hrX7Uni748eE/EGkX9qdM0Lw9efDu6S/wDDukeWpaxsr4asYYzLcolxcTtZtJPsjjJVIYBF4z8Yv%2BCiHxj8A/CnwdrHgv4geF/EV/q1x4kj8ReItN%2BBPiS5lsbnTI0kXTpPDEV%2BdUspD5jCa5nlMVv5aGRFFzFjofB/7cPxv1/4/wDg7QviFq/hXwN4J8TeD/CF/YXU3w61fWrPWtX1ZJzPptr4mtryPS4HWRbWKDekjTtcJsD70WgDp/hH%2Bwd4u%2BEHjjxf8cPCvjL4X6T8QNe0pdO0jUPC3wbOlaRaRtdrdXU95YxakZtQurlkiWWY3UXEEWxUIcyWLr9g3xD4p%2BB/jr4UfET41Wl9e/FP4jWXiX4h3mk%2BFDZ2F5ZxnTYrrSrSza7la1hurPTVgld5pmL3VzMdzSYGL8Bf21/Gt18UviHpn7VXxD8OeDtO8MX3i6fSvC%2Bo/CrWtEuW0PSdXlt4tXTWL67a01WH7EkM8v2SABDdxksgG15v2eP2lP2rv2jPCfxduNTbwT8MtU8FfEK3tdD/AOEm8J3moiy0GfQNK1eNdSgXUbUi%2BCaiRKUlSOIoU2SbDI4B9HeOf%2BRJ1j/sFXH/AKLavLfHH/KQv4X/APZGfHn/AKdvCFVv2TPix8Xvjx%2BwtoXxs%2BOFvo0Wu%2BLfDF3q8S6Do0%2Bn25064aaXT3NtcXFxJDK1k1s0iNK%2B2VnAwAALPjj/AJSF/C//ALIz48/9O3hCgD2aiiigAoorjvjx8bPDX7P3w6l%2BInibSNT1TdqVjpmmaLokMcl7qmoXt1FaWlpAsskcfmSTzRrukdI0BLu6IrMADsaK8dh/bY%2BGS/s76r%2B0Lq3hPxLp66Jr7eH9V8H3VnbtrEGt/wBoJp0embIp3gaaW6lhjjdZjA4njkEvltvqDTP2x7zxH4S1DVvBf7LPxK1vxDoPiaTQvFngSwbQ11TQbtbSG9H2mSbVI7Jle2urSZDDcyl1uo8DO4KAe014z%2Bwf/wAkQ1z/ALLN8R//AFNdbr0L4OfFjwZ8ePhL4Z%2BNnw6vZrjQPFug2mr6NNcW7RSPbXESyxl42%2BZG2sMqeQcg9K89/YP/AOSIa5/2Wb4j/wDqa63QB7NRRRQAUUUUAFFFFABRRRQAUVW1bWNJ0DTptY13VLaytLdN891dzrHHGvqzMQAPc189fFX/AIKz/sDfCrUD4eb49WPijWmYpbaH4Ft5NZuZ5B/yzU2qvGG9mdea5sTjMJg481epGK82l92t38kzkxePwOAjzYmrGC/vSS%2B5N3fyTPo6ivkFP2rv%2BCk37RjhP2W/2JbP4f6LKcxeLfjrqL20jIfTTLUmdGxyCWZTkVOf2Vf%2BCpXxDH/Fzf8AgpVpnhi2k/1%2Bl/D74Z2oJHol1ct5qY9cVxf2r7X/AHehUmu/Lyr75uP38p5yzv23%2B64erUXdRUIv0dRwuvNR%2B8%2Bt6ytY8eeB/Dys%2Bv8AjLSrEIMubzUYogv13MMV8uJ/wRu/Z78Zn7R%2B0t8ZPi18Wpm5lj8b/EK6NuG/6ZxWpi2L6LuOKh8Sf8Etv%2BCPHwRsl1f4g/BrwZ4ftlG5bjxT4yukjIHcm6u8EfWlLFZuo83sYQX96p%2BfLC34m1B8UY6qqeGwcXJ7R9pKcn/27SpSv6K57J42/b0/Ym%2BHVrNdeMf2svh5aGBSz2y%2BLbSW4IH92GORpGPsFJryF/8Agrl4F%2BI9y1l%2ByD%2BzF8Vfi%2BoYj%2B2tA8LSWWkjHGDd3ezBz0GznB5rg5/2hP8AggL8AtUitvDOg/Ce91WKQfZG8MeAv7auC46bJ4LaXB467x9a72L/AIK7/CTVYUtPhB%2Byd8efGIChLVfDfwum8kjoPmldNq%2B%2BOB2rzJ5tOcuWeMpQ8qadSX48yX/gLPtaHhT4y4%2Bkqk8BOhTe0nScL/8Ab%2BLqUIL15WKP2of%2BCrfi8%2Bb4P/4Jm6H4et%2BqS%2BLfi3ZyPIP%2Budum5D7GiT4g/wDBanxAv9n6T%2Bzz8DPD8s3yrqGseLL%2B7it/9pkgUM30FB/bJ/4KO/ET9z8Hf%2BCX97pMEn%2Br1j4i/ECzsBF6F7RAZj%2BB4pB8KP8Agsj8VD5vjP8Aas%2BFXwthk6W/gLwTLrUyL6M2osF3epXjPSl7SdX%2BHUxNT0jGC%2B%2BUIJfI3/4hJmeH1zbPaOG7p4qjOX/gvCUcTJenMmJH%2Bxt/wUa%2BJzf2h8cP%2BCmV7oSsMrofwv8ABdtYwwHvi6lzNIP95eMUsn/BKU6uhl%2BI3/BRP9pTWY8Zmtv%2BFmC1tWHfMccH9acP%2BCZHxX8YnzfjX/wU2%2BPGsO3MsPhfXoNBt5PUGKCNxt9s05P%2BCK37DuruJPibp/jjxu4OWfxZ8Q9SmLH1PlSxg0f2fWqb4RvzqV5P71FsX/EP/Cmh/vudVa76%2Bzw2Knf/ALer4mhF/wDgEV5HDeLv%2BCc//BIbwbvn%2BNnxoE13H96%2B8Y/G6eGZD3OTdRgflXl3iz4Y/wDBut4Klx4x%2BN9trNpC25tMt/iBrWqW7sOhK2kjlsfXH1r6/wDCH/BLH/gnd4I2/wBi/sg%2BCptnT%2B19L/tD8/tRkz%2BNep%2BD/gP8Dvh7sPgH4M%2BFND8v7n9j%2BHba22/Ty0GKP7CqT/5h8PH/ALdnN/i4p/MP9XPAnDf8weLxD81hKKf/AKkT%2B/m%2BZ8F%2BFvj3/wAEZdP0v%2BxP2e/%2BCd%2BqfEwPgQp4b%2BBD6nLN6fvL%2BNXI%2Bpq5HoN741uBe/Bn/g3U8IrA33L3x5H4e0Ro/QtbPA7H6A5FfonRXUsinJWnUil2hRpR/GUZs7VmHhlgoqOC4apTts8RWqVf/JaVPDQ/H5HwVpX7PX/BQjVAB4J/YM/ZA%2BH8bf8AQX0uW9ljHt9jhCFvrxXSad%2Bxr/wUz1JAbn9rb4ReDM9YfCPwWtbtI/8AdN0QT%2BNfaNFbRyHCr4qk3/29y/8ApEIG8OOIYXTA5Pl9H/Dgqc399adW/wA0fIdp%2BwD%2B3Hdf8jL/AMFXPEpJ%2B9/wj3wx0nS/y8snFTyf8EzPjFqCE63/AMFQ/j1K7jDi11y2gjP/AAARECvrWitf7Ey7qpP1qVH/AO3o2/4idxfBWpSo012hhMHFfcsKz46i/wCCQVveXRufEn/BQT9oa4B%2B8LHxvBaM/szJbZYe1aI/4Iz/ALK%2BoD/itfiF8WPErH77678TL2Qv9fLKV9aUUlkOTrein6uT/ObBeKXiBT/g4%2BVL/r3ChS/Glhqb/E%2BWdC/4Isf8E09Du/7Rk/Zuj1K5/in1nxLqd3u%2Bqy3JX9K9E0D/AIJ5/sIeGY0j0n9jn4aAp92S58F2U8g/4HLGzfrXsVFb0spyqj8GHgv%2B3I/5M8/G%2BIPHuZf71m2Kn64it%2BSqRX4HH%2BH/ANnr4BeE2DeFfgd4P0wr906f4ZtYcf8AfEYrrbe3t7SFbe1gSONRhUjUKAPYCn0V2wp06atCKXokvySPmcTjcbjJc2Iqym%2B8pSk/vlKTCiiirOYK8Z/Zf/5Lf%2B0d/wBlmsf/AFCvC9ezV4z%2By/8A8lv/AGjv%2ByzWP/qFeF6APZqKKKACiiigAooooAKKKKACiiigAooooAKKKKACiiigAooooAKKKKACiiigAr4K/wCCmWq/2F/wVU/Yf1Xdt3at4vtc/wDXf%2Bw4sfjur71r86v%2BCyd3LpH7f/7FPiKM4TT/AB3qD3LekTar4bjb/wBDrzM5lyZbOXblf/k9M%2B48NqKxPGuFov7arR%2B/C4v9bH6K0UUV6Z8OFFFFABRRRQAUUUUAFFFFABRRRQAVl%2BOf%2BRJ1j/sFXH/otq1KbPBDcwvb3ESvHIpV0YZDAjBBHpQA6ispfBmjIoSO41NVAwqprd0AB6ACTil/4Q/Sf%2BfvVf8AweXf/wAdoA1KKy/%2BEP0n/n71X/weXf8A8do/4Q/Sf%2BfvVf8AweXf/wAdoA8C0L/gl78CvCXgTxL4K8GeO/GelT%2BIPihD46sddhvbKa70C%2Bt5Y5LW0sluLSS3Flb7GWK3mhmCiWQ5LEMKo/4JV/Amf4d3vw71j4l%2BPtRTUvCfj7QNR1a%2B1Wze8uYvF%2Bq2mqarcMwtAnnrcWcfkkIERHdWST5Sv0P/AMIfpP8Az96r/wCDy7/%2BO0f8IfpP/P3qv/g8u/8A47QB41N/wT9%2BHbfG/SvjFbfFrx3bWGi/EO58cad4Dgv7IaLFrtzY3Nnc3WDaG6YSrd3EjRG4MQlkaRUUk59C%2BJfwJ0D4xfBC8%2BB3xJ8U6zqcF9ZxRy6%2BJILfUUuYZEmgvUaCFIY7iKaOOZCsQQPGp2EcHo/%2BEP0n/n71X/weXf8A8do/4Q/Sf%2BfvVf8AweXf/wAdoA4f4Qfs0W/wa0y/j0f4x%2BLtT1fXvE1xr3jDxLrC6a974ivJLFLFDciKyjhjWGCCzWNbaKAD7FCG3KZFk5D4B/sL6l%2Bzp8KtZ%2BFXgj9sX4q3aavcNeDX9XtvDUupW1/JcG4ub7zl0ZRdXE7EiR7tZwVOFC4BHs//AAh%2Bk/8AP3qv/g8u/wD47R/wh%2Bk/8/eq/wDg8u//AI7QB5Ron7Gt74Q8G3/h/wABftV/EzQta17xLca74u8aWa6FNqev3ktvDbZnW50uW1iVIbe3jQW0EGxYEA/i3YNp/wAE4/BXhrx98O/G3wy/aA%2BIvhW1%2BF3gmDwt4R8N6e2jXthbWiECab/iZabdTLdXEaxwzXCSpI0cYUFdzlvdf%2BEP0n/n71X/AMHl3/8AHaP%2BEP0n/n71X/weXf8A8doA8g8LfsMaJ4d%2BN3jz4z6n%2B0B4%2B12H4kvJH4q8J63HoslhNZ/Znt4NPjmTTUv4bSBZHaKFLoASSSSNvaaUvB8MP2C9N%2BE%2BnXz%2BHP2mviZPrreE9P8ADHh7xXqMujTX3h3R7OYyxWlqp00W8gYnEkt1DcTSALukJVSPZv8AhD9J/wCfvVf/AAeXf/x2j/hD9J/5%2B9V/8Hl3/wDHaAPLIf2Nk0X4VD4YeA/2k/iR4amvtYvtT8V%2BKdIn0ltV8SXN4SbiS6luNPlSIsSAptI7cwqkaQmNEVRkeMf%2BCcvwM8SPp%2Bk%2BG9f8SeFPDUHhfQ/DWt%2BDfDVxaJp2vaPo8zy6dZXRntpZ0SLzZU3W00DyRyFJGdVQL7V/wh%2Bk/wDP3qv/AIPLv/47R/wh%2Bk/8/eq/%2BDy7/wDjtAHlvwc/Y5X4MfHjxn8eNN/aO%2BIGtT%2BPNal1HXdA1%2BHRJbT7pS2tY5o9MjvUtrWM7IIftJVAWZt7ySM84/Yq%2BFi/AfUvgMNf1/ydT8Z3Hi5/Exubc6pDrr6ydajv0cw%2BSZIL0RtEjRNGEgjiZHQFT6X/AMIfpP8Az96r/wCDy7/%2BO0f8IfpP/P3qv/g8u/8A47QB4Wv/AATn8H2FxZeLvC37RPxL0XxzDea3PqfxH0670k6tqw1YWIvYp45dPeyVGGmaaF8m2iMX2GLyyvz79WT9g3wN/Y/gn4cWfxc8bW3w48AJ4eGgfC2CbThpG7RHt5NOaWY2R1BxHNaW0pT7WI3aEblKl1b1/wD4Q/Sf%2BfvVf/B5d/8Ax2j/AIQ/Sf8An71X/wAHl3/8doA8uvf2KvBXjP4k3HxA%2BPHxG8SfE6z/ALN1TTtK8IeObLSJdG0y01EoLqBLe1sIDdK0UaQg3j3DCPcM5d2bn/D/APwTB/ZI8BeBPjL8OvhB4Dt/Aen/ABxjEHi0%2BBtK0/S5LS1/syHTja2ZgtgIYjHFLLhg5We8uZFKmT5fcf8AhD9J/wCfvVf/AAeXf/x2j/hD9J/5%2B9V/8Hl3/wDHaAIPE%2Bnafo/w51HSNKsora1tdEmhtreBAqRRrCVVFUcAAAAAdAK808cf8pC/hf8A9kZ8ef8Ap28IV6ifBmhvhZ2vpkyCYrjVrmRG9mVpCrD2IIry7xx/ykL%2BF/8A2Rnx5/6dvCFAHs1FFFABXl/7W/wb8Z/Gf4YWFj8NbzTIvE3hrxhoviXQI9bnkisrq40%2B/huTazyRRyPEk0aSQ%2BaschiMgkCSbNjeoUUAfNvg79mD4rr8CfiL4H%2BLnwz8BeJ9T%2BI2uah4m1XRR4zv7fT01Ge4TyLFLpNP8%2BKOC3t7QrqCRib7QjSLbxYXHm1t%2Bw3%2B2B8M/gF4p8D/AAKn8I2Gt/Fr4nnX/ihDefFXWzNZaR/Zlpp7WOn65Pp91eT3c0Wn24kvp4UkT7RcNEI2ELR/bdFAHF%2BF/hbptx8BdK%2BD2u%2BEoPCVnB4ettNfQvAXii8todJiijVFt7K%2Bt1tLhI41QIkiLC21R8q9K8//AOCdPh6w8Jfs3X3hbSri%2BlttO%2BLfxDtreXU9Unvbl0TxnrSgy3Fw7zTuQOZJHZ2OSzEkmvdK8Z/YP/5Ihrn/AGWb4j/%2BprrdAHs1FFFABRRUV9fWWmWU2paleRW9tbxNJcXE8gRIkUZZmY8KAASSeABRsDaSJawfiX8U/hv8GvCF14/%2BLHjrSvDui2Yzc6nrF8lvCp7LucjLHoFGSTwATXzF49/4KPeNPjl4tvfgn/wTN%2BGUPxH1y1l%2Bz6x8RNUd4fCmgt6vcjm8cDkRw/eHKl8Fau/DP/gl14d8S%2BMLX40/t5fFHUPjd42gbzLSDXohFoGkMeSlppq/usDoTICGwG2K1eRLMqmJk4YGHP0c27U1895tdoJ%2BckeFLN6uMk6eWw9pbRzbtSX/AG8tZtdqaa6OaKN5/wAFVLn4yXcnh/8AYA/ZX8a/F%2BcSGIeJ5bU6J4diYHB3Xt2oLEHJ2bBuA4al/wCFS/8ABX/46fN8R/2mvh38HdMm%2B9p3w68NPq9/5f8Ace4viEjf/bi4HUDtX1miaVoOlhI0t7Kys4OAAscUESj8AqgD6ACvmT4o/wDBVb4L2fi2b4SfsreDtc%2BOHjmM7W0X4fxebY2jZwGutRIMEEeQQXUybTwQK5sVThRipZhipa7Rj7ifkowvUl/4Ff0PeyHgLini%2BtKFB1a3Krz9najRpx71Kl4qEf71WvD0exQ0n/gjp%2BzV4g1KLxH%2B0z4%2B%2BIvxl1SJ/MWb4h%2BNLma3if8A6ZwQGNFT0RtwA4r1Se4/Yb/YS8M75T8N/hbYNFwqrZ6Y9yB6AbXnY47bmJ9a8cHwB/4Ka/tYkXP7SH7RNl8FfC05y3gr4RP5urvGf4J9Vkz5Ug5BMAZGHau2%2BEf/AASk/YU%2BEeq/8JQvwStfFWvu4kuPEPjy5k1q7mkHSQ/ai0av7oi1nhqM4y5sDhIwv9uppJ%2Bdlz1H/wBvTj6H2WF4G8NuFpc2Y45Va3WGCpqq79pYuu40r93TVZLpJnK3v/BXz4NeN72TRP2SPgj8S/jNeq5j%2B0%2BDvCU0WmxOOCJbu6EYjXPG4KwqMeN/%2BCyHxuP/ABS/wY%2BFnwW0yXrN4t12XX9UjXsUS0Ag3d9rjjp1r60sbGx0yzi07TbOK3t4UCQwQRhEjUdAqjgD2FS13fUMdW/3jEy9IJQX3%2B9P8Ud/%2BtvC%2BW6ZRktK62nip1MVP15L0MOvT2c169fkcf8ABOH9or4ofvv2o/8Agpj8UtdSTmbSvAMdv4Xs2H/PNltw5kTtzgnrwa6DwH/wR%2B/4J5%2BB7/8Atu6/Z8tfEupu2641Lxnqdzq0k7erpcyNGT9EFfTFFVHJcrjLmlSU33neb%2B%2Bbl%2BSMa/idx5VpOjRx0qFN/Yw6hhoW7cuHhRuvWUjn/Anwm%2BFfwts/7O%2BGXw08P%2BHLfbt8jQtGgs0x6bYkUYroKKK9KMIQjyxSS8tPysfE18RiMVVdWvNzk93JuTfq5OTfzbCiiiqMQooooAKKKKACiiigAooooAKKKKACiiigAooooAKKKKACiiigArxn9l//AJLf%2B0d/2Wax/wDUK8L17NXjP7L/APyW/wDaO/7LNY/%2BoV4XoA9mooooAKKKKACiiigAooooAKKKKACiiigAooooAKKKKACiiigAooooA5r4xSfE2H4ZaxP8HNa0HTvEsVrv0y98TaVNfWMRVgXMsEE9vJKPLD4VZY/mK5bGa8bj/bB8fQ/8E0vB37Yc/hjSLjxf4t8AeGb620tBLFpw1nWVsoYVILvItst1epkb2cRqRuLc17Z8TPB2qfEHwHqfgvRviDrPhW41G38lPEHh%2BGzkvLMEgs0S3tvcW5JAKnzIXGGOADgjyjwT%2Bwf4U8MfsrWv7Hfib44ePPFXhDT/AAhB4e0ttcbSob2ygtvLFncRzWNhbkXFsIYvLkIPMas4d8sQDZ/Za%2BLvxR8c6x8RPhV8bJ9AvPE/w38YQ6Rd614X0qewsdVguNLsdSguEtZ7i5kt2C3phaMzy5aAuGAcKvw//wAFpvi58KPFX7R/wqsvBPxP8Pavrvw2t9SvfEukaVrUFxd6M7eI/CCRi6ijcvblsvgOFJ2nHQ19%2B/AL9n/R/gJpuvGPxzr/AIr1zxXr51nxT4q8UNafbtUu/s1vaIzrZ29vbxrHbWttCqRQxqFhBILMzN8Vf8F8LGe68MWl9Zj/AEjTvg74kvID/daPxb4EJP8A3zurys9X/CLiH2hJ/dr%2Bh9/4VSS8S8ni9pYilB%2BlRum/wqH6J0VDpt9DqmnW%2Bp2xzHcQpLGf9lgCP51NXqp3R8DKLjJp7oKKKKBBRRRQAUUUUAFFFFABRRRQAUUUUAFFFFABRRRQAUUUUAFFFFABRRRQAUUUUAFFFFABRRRQAUUUUAFFFFABRRRQAV4z44/5SF/C/wD7Iz48/wDTt4Qr2avGfHH/ACkL%2BF//AGRnx5/6dvCFAHs1FFFABRRRQAUUUUAFeM/sH/8AJENc/wCyzfEf/wBTXW69mrxn9g//AJIhrn/ZZviP/wCprrdAHs1FFVdd1zR/DGiXniTxFqcFlp%2Bn2slzfXtzIEjghjUs8jseFVVBJJ6AUm0ldibUVdnEftQ/tK/DT9kn4K6x8cPinftHp%2BmRBbazgwbjUbp%2BIbWBT9%2BWRuAOgGWOFViPmvRP2Uv2p/8AgoX9k8f/APBQPxHN4N%2BHtx5d1pXwI8JX8kRnjOGT%2B2btdskr4xmFNoUgH92wZaj/AGfPD2u/8FMf2iLT9tr4oaRcW3wg8C38sfwR8LX8RUaxdo22TX7iNuvzLiBWHy7QcAqTJ9s14dOn/bUnVq39h9mOyn/fls3F/Zjs170k7pHzdKl/rDJ1q1/q20IapVO857Nwf2INpNLnknzRRj%2BAfh94F%2BFnhKy8BfDbwhp2haLp0QisdL0q0SCCFfRUQAcnknqSSTkmvF/2of8Agol8IP2evE0Pwe8IaPqXxF%2BKGoDbpXw38Gp9ovSxGQ1y6grZxAEMzSfMFO4IwBNedfH39pv4v/tf/FXUv2K/2BvEZ0%2BHTJfI%2BKvxktwXtvDcZyHsrFwQJr9gGXKn93zghgzxe4/st/sZfs/fsfeF5NA%2BDPgtIL29%2BbW/EeoP9o1PVpc5aS5uW%2BdyWJbaMICx2qM1f1nEYyTo4C0YR0dS11daONOOik1s2/cT095ppftmG4byDhDA0sVxJCU604qVLBQfs3yNJwniaiXNRhNWcKUI%2B3qQtJ%2BxhKMpeE2n7FP7VP7bV1F4o/4KO/E7%2BxfCbSCW1%2BB3w91B4bLaDkLqd6h8y7bplEbYGG5GXJWvqj4XfCL4XfBLwlB4E%2BEPw%2B0jw1o9v/qtP0awS3jzjBZggG5j3ZssTySa6KiuzC5dhsJJzScpvecneT%2Bb2XkuWK7HhZ/xlnfEFGOFqSjSwsHeGHpR9nQh5qnF%2B9LvUqOrVl1n0Ciiiu4%2BVCiiigAooooAKKKKACiiigAooooAKKKKACiiigAooooAKKKKACiiigAooooAKKKKACiiigArxn9l/wD5Lf8AtHf9lmsf/UK8L17NXjP7L/8AyW/9o7/ss1j/AOoV4XoA9mooooAKKKKACiiigAooooAKKKKACiiigAooooAKKKKACiiigAooooAKKKKACvhT/gsvov8Ab9je2Ozd5f7NfxBucf8AXHWfBs2f/HK%2B66%2BQf%2BClWi/8JF4t1DRlTc8/7JfxZEQ/2xP4WK/%2BPAVxZnD2mW14d4T/APSZH0/BGJ%2Bpca5XX/kxOHf3V6P%2BZ9H/ALPutf8ACSfAXwR4i3bvt/hDTbnd677WNv6119eR/sBa1/wkH7DPwd1YvuaT4Y6EsrerrYQq3/jymvXK1wc/aYOnPvGL%2B%2BMWcPEeG%2BpcRY3D/wAlatH/AMBq1Y/oFFFFdB4wUUUUAFFFFABRRRQAUUUUAFFFFABRRRQAUUUUAFFFFABRRRQAUUUUAFFFFABRRRQAUUUUAFFFFABRRRQAUUUUAFeM%2BOP%2BUhfwv/7Iz48/9O3hCvZq8Z8cf8pC/hf/ANkZ8ef%2BnbwhQB7NRRRQAVzvxX%2BK/gH4I%2BAr34mfE3XG0/R7B4I5porOa5lklmmSCCCKCBHlnmlmljijijRpJJJERFZmAPRV5B%2B2v8N/H3xD%2BE%2BkX3wy8MtruseE/H/h3xPD4dS7hgfVotP1O3uJ7aOSd0iWYwpIYvNdIzKsYd0Ul1ANuy/at%2BAl98C7r9pFPHTQ%2BELGSeG%2BvbzSLu3uba5huTaSWkllLEt0l0LlTB9laITGXEYQuQpx7/8Abl/Zr034dWvxNuvFOu/ZLzxE%2Bg2%2BjxeBNZk1xtUSF7h7M6QtodQWZbeN7gobcEQL5xxH89eV%2BFfgT478T/s7fFDw98ZP2fvGdtd%2BO/G95440/QPDmv6MupaXcJfwSadbwzte/Zl1KI2Freks5tBLJs86UBs%2BffCz9l39qb4OeMbb9rrU/hx418da3qPxk1XxJq/gjWfEOgf8JGmnXPhWy0KKZ5YprbSftSyaZDI0MEqRR290yIzvFtkAPtzwL438I/EzwVpHxG8AeILbVtC17TINR0bVLOTdFd2s0ayRSoe6sjKw9jXl37B//JENc/7LN8R//U11ul/Za%2BAvxD%2BGP7FfhP4F%2BJPGd14Z8UWvh1U1LVPDJtbh9JvJXM0sdsbuCaCVYnkaJWkhZWVAdgyAKH/BOnSb/Qf2br7RNV8T32t3Nn8W/iHDcaxqccCXN86%2BM9aBmlW3iihDuRuIjjRMk7VUYAAPdK%2BOv2/PFHiH9rL41aB/wTC%2BE2sT29vrMEeufGnW7F8NpXh2N1K2Qcfdmun2qB1CFSVKSNj6b%2BOfxW0P4FfBjxV8ZvEhBsfC3h%2B71S4QtjzBDE0gjH%2B0xUKB3LAV4X/wSr%2BCmteEv2fj%2B0h8VJWvfiP8aJk8V%2BMdTmj2uFnUvZ2iA8xxQwOoWP8AhLuOBgDyMx5sXWhgI7SXNN/3E7W9Zv3f8PN3PBzbmx2IhlkdFNOVR/8ATtNLl9akvc8o8/c%2Bj/Cvhfw94H8Mad4M8I6PBp%2BlaTYxWem2Fsm2O3giQJHGo7KqgAfSvlf9tr47fEv44/FSH/gnH%2ByN4gey8U6xZrcfE7xta5ZfBuhvjcAwIxeTq22NMhgHB%2BXcJE7/APb9/az1X9mX4X2OgfC7SF1v4n%2BPNQGh/DXw4oDNc38mAbh1P/LCAMJHY4X7ikqH3DR/Ye/ZC0X9kT4Tvot/rD69418R3Z1X4heMLpi9xrWqSZaSQu3zeUpZljXsMkjc7Ezi5Txlf6hQfLFJe0ktLRe0I22lJb2%2BGGu7jb9l4ZweC4TyaHE%2BPpxnUbccFRkk4zqQspYipF6Ojh3ZRi1y1q6jB3p0qqfZfs9/s%2BfCn9l74T6V8GPg14Yi0vRNKh2oigGW5lIG%2BeZ8ZklcjLOevQYAAHa0UV61OnTo01TppKKVklskj4HG43GZljKmLxdSVSrUk5SlJtylKTu227ttt/1okUUUVZzBRRRQAUUUUAFFFFABRRRQAUUUUAFFFFABRRRQAUUUUAFFFFABRRRQAUUUUAFFFFABRRRQAUUUUAFeM/sv/wDJb/2jv%2ByzWP8A6hXhevZq8Z/Zf/5Lf%2B0d/wBlmsf/AFCvC9AHs1FFFABRRRQAUUUUAFFFFABRRRQAUUUUAFFFFABRRRQAUUUUAFFFFABRXO/Fz4peDfgf8LfEXxj%2BId%2B9roXhbRbnVNWnihaWRbeCJpH2IuWkchSFRQWZiAASRXEfDv8AbA8EeMPBPjnxb428CeKPAd58Nomn8aeG/Fttavf6fb/YlvkuALC4uoZo3gbcpilc7kkjIWSN0AB6zXzf%2B1dov/CSftOaD4d2bvt/7N/xNttvrvvfCi4/Wu3/AGaf2uvC/wC0rqmseHLL4Z%2BKvCWraNo2k6xLpfipbBnn03U1uGsruOSwu7qErJ9luB5bSLKnl5eNQ6Fs74iWsN9/wUA%2BGllcLmOb4K%2BPkkHqp1XwgDUVIKpTlHumvvTX6nRg8Q8Ji6ddbwlGX/gMoy/9tOf/AOCSutf2/wD8E4fhHfbs%2BX4WW2z/ANcZpIf/AGSvoqvk/wD4Ii3Uzf8ABNTwDo92%2BZ9Ju9asZ/Zk1e8wP%2B%2BStfWFefks3PJ8NL/p3D/0lf5H2Hibh1hfEfOaS2WKxFvR1ZtfhK4UUUV6Z8OFFFFABRRRQAUUUUAFFFFABRRRQAUUUUAFFFFABRRRQAUUUUAFFFFABRRRQAUUUUAFFFFABRRRQAUUUUAFFFFABXjPjj/lIX8L/wDsjPjz/wBO3hCvZq8Z8cf8pC/hf/2Rnx5/6dvCFAHs1FFFABRRRQAUUUUAFeM/sH/8kQ1z/ss3xH/9TXW69mrxn9g//kiGuf8AZZviP/6mut0AeW/8Fc9QvviF8Ovh9%2Bxb4fupEv8A41/ESw0i/EL4kj0e2kW7v5xjnCKkWfVXP4/UHiPX/B/wn8AX3ijXbmDS9A8N6PJdXcu3bHaWlvEWY4HRVRDx6Cvlrwp/xkZ/wWF8Q%2BKD%2B/0L4AfD%2BHSLI9UXXdXzLNIh6ZFopiYDkEDPpU3/AAVR8Q618U7HwB/wT88A6jLDrPxp8SLb69PbN%2B8sfDlmVuNQnyPukqqoAcBx5i186sV7KOKx6V3dU4Lvy%2B6l/wBvVJP7m%2Bh0eHmQri7i%2BUKk%2BSlOfLOf/PvD4eMp16n/AG6o1pLvJQXVFP8AYE8BeLP2pPirqH/BT/47aPJbXHiCzfT/AIN%2BG7vDf8I/4cyQLkjkC4usl2YfwOcHbIFX7Dqn4c8PaL4R8PWHhTw3p0Vnp2mWUVpYWkK4SCCNAiIo7BVUAfSrletgMIsFhlBu8nrKXWUn8T%2B/ZdEklse7xZxDPiXOZYmMPZ0YpU6NNbUqMLqnTXpHWct51JVJybcgooorsPmgooooAKKKKACiiigAooooAKKKKACiiigAooooAKKKKACiiigAooooAKKKKACiiigAooooAKKKKACiiigArxn9l/8A5Lf%2B0d/2Wax/9QrwvXs1eM/sv/8AJb/2jv8Ass1j/wCoV4XoA9mooooAKKKKACiiigAooooAKKKKACiiigAooooAKKKKACiiigAooooA8/8A2q/grdftGfs3eNvgdp2vR6VeeJ/Dl1Y6dqc0JljtLpkJgmdAQXRZQjMgILKCMjOa8r8Kfs%2BftW63D8XfF/jnU/CPhDxf8WdBOlW9/wCD/Ed3qMfhRbXTDbWFxC1xY25vZTcz3Vw%2B5YBGvkxjzSrOfpSigD5m/wCCf/7HHi39lvxF4t13UPhj8Ofh5pGvaDoOn23gP4WahcXOmNfWIvBc61K81naYu7tLi2icCJm2afEZJpmI2aV/8MfDfg7/AIKbeC/Gek6l4hmvPEPwe8cSX8Oq%2BLtRvrSIpq3hLAtrW5nkgsgdxytukYbA3A7Vx9D14z44/wCUhfwv/wCyM%2BPP/Tt4QoA8x/4I2/8AEv8A2afFvg/p/wAI98YvE%2Bnbf7u2834/8iV9aV8l/wDBKnOlal%2B0h4Pbj%2Bz/ANpvxNNCn92GYWzoP0NfWleTkemU0l2TX3Smv0P0DxU97xCzCp/PKE//AAZQw1T85sKKKK9Y/PwooooAKKKKACiiigAooooAKKKKACiiigAooooAKKKKACiiigAooooAKKKKACiiigAooooAKKKKACiiigAooooAK8Z8cf8AKQv4X/8AZGfHn/p28IV7NXjPjj/lIX8L/wDsjPjz/wBO3hCgD2aiiigAoorN8YeMvCHw88L3/jjx/wCK9N0PRdLtmuNT1jWL6O2tbOFRlpJZZCEjQDqzEAUAaVFc5pvxh%2BEes/DIfGvR/in4cu/Bh0978eLbbXLeTTPsiAl7j7UrmLylCtl920bTk8Vz11%2B15%2BydY/C6D44Xv7T/AMO4fBV1fGytvF8vjWwXS5rkbgYFuzL5TSDY/wAgbd8rccGgD0SvE/2INQtNJ%2BAHiPVL%2BURwW3xg%2BJMszn%2BFF8aa2SfyFeyaVqul67pdtreialb3lleW6T2d5aTLJFPE6hkkR1JDKykEEHBBBFfKei%2BM/wDhXn/BM743%2BN1l2SaZ4k%2BL89u2cfvR4p8QeWPxfaPxrKvVVChOo/spv7k3%2Bhjiayw%2BGnVe0Yt/cm/0D/gjVpV54h/ZU1H9pnxJH/xPvjJ471nxZqxblog93Jbwwg/3FSAMo6ASHFUP2F/%2BMrP2wPiv%2B37qH%2BkaFY3B8AfCuRuUOm2b7727j7FZ7k5VhggCRTUeheMv%2BGQf%2BCHemeNI5fsl7pPwQtpbRs7THqN9aIIvxFzcpXtn7BvwZX9n39jX4bfCN7MW9zpXhK0OpRBcYvZU8%2B5/8jySGvnMDRc5YPDS2p01Vl5zlpG/zlUl6%2Bh9pwVSfDfhLXx//L7FunhIvqockcVipLzm3RpSfaUl1PW6KKK%2BoPkQooooAKKKKACiiigAooooAKKKKACiiigAooooAKKKKACiiigAooooAKKKKACiiigAooooAKKKKACiiigAooooAK8Z/Zf/AOS3/tHf9lmsf/UK8L17NXjP7L//ACW/9o7/ALLNY/8AqFeF6APZqKKKACiiigAooooAKKKKACiiigAooooAKKKKACiiigAooooAKKKKACiiigArxnxx/wApC/hf/wBkZ8ef%2BnbwhXs1fL37Q3xLTwL/AMFYf2aPC8021PGPw0%2BJWkgMeC6SeGL1fx/0MgfUjvUVKkaUeaW10vvaX5tGdWrCjDmltdL72kvxaMz/AIJ8/wDEn/a7/av8H9PI%2BJ1hqOz0%2B12AfP47K%2BtK%2BS/2Tv8AiSf8FT/2rtDPCalZ%2BCdRgT6aXLG5/FsV9aV5mS6YJx7TqL7qk/8AM/RPEz3%2BJ4Vv%2BfmGwU//AALB4e/4xf3BRRRXrH5%2BFFFFABRRRQAUUUUAFFFFABRRRQAUUUUAFFFFABRRRQAUUUUAFFFFABRRRQAUUUUAFFFFABRRRQAUUUUAFFFFABXjPjj/AJSF/C//ALIz48/9O3hCvZq8Z8cf8pC/hf8A9kZ8ef8Ap28IUAezUUUUAFeIft/eG/EWu/BPRtW0TwpqWv2nhv4l%2BFdf8QaHo%2BnSXl1eabY61aXNwYraJWkuXhWP7SIUVpJPs%2B1Fdyqn2%2BigD4S8R%2BFfGnjD9hn40%2BH9F%2BD3jWI%2BNfiTeeKvDWgv4Qv7bUdP0afXLYyajDbSQqTfK0F3q0enOPPkZ41lhzMyHzmH4bfFS1v4fiPeXnxy07RpPjvrmsWvxs0z4USTeNbuGbwlZWKXFz4f/smSOKOSdbiwEv8AZUaiHTrd/LRpzdt%2BmdFAHiH7HPgb4teDf%2BCfnw0%2BHFjoOleA/F2k/DjSrCHTtX0ie%2BttJmito4wk1sLuOVyFX5o/tO5WJBkbGT8sftD694u8If8ABEj4rWPiHVrLUfEWpfFPxnpFxc6Vp72cF5dXPxD1GGUwwSTTNCjBpCI2lkKjguxGT%2Bi1fnH%2B0J/xUf7Lfw0%2BD6fN/wAJp%2B3T4h066i9bVfHXiCaVj6hfLQn615edyayiulu4uK9ZWj/7ceLxFJxyLEqO8oOK9Z2gv/Sz0/8A4KUeGbbV/A3wA/YQ0rEkPjn4j6PY6pbAcS6JpUa3F3x3wEgPpxX2bXyNd/8AF7f%2BCzdrB/rdM%2BCPwkebPXyNY1eXZj23WQz68V9c1GWxVTE4istuZQXpTio/%2BlOX3H61xfFZZw7keTR05MO8RNf38XUc4381QpUV6NdGgooor1z8/CiiigAooooAKKKKACiiigAooooAKKKKACiiigAooooAKKKKACiiigAooooAKKKKACiiigAooooAKKKKACiiigArxn9l/wD5Lf8AtHf9lmsf/UK8L17NXjP7L/8AyW/9o7/ss1j/AOoV4XoA9mooooAKKKKACiiigAooooAKKKKACiiigAooooAKKKKACiiigAooooAzfGfjHwr8O/B%2BrfEDxzr9rpWiaFps%2Boaxql7KEhs7WGNpJZpGPCoiKzE9gDXNfBf9ov4SfH/w9qfiX4ba7fNDot99j1q017w/faPe6fN5EdwFntNQhhuId0M0Uql4wHjkV1JUg1j/ALanwh8VfHz9kz4h/B3wK9qNb8QeFLy10eO%2BlKW810YyYopWAJWJ3Co7YOFZjg4wfIvDnwh%2BOXxqHx41fxv8HNe%2BHcnxp8MDw/o9tqeq6XdTaIltpD2y3t4bG8mTfLPdzCNYGmIjtEaQxFwgAPcvgf8AtH/Cn9ozTbrXPhJe63e6dbLDJFqmo%2BENT020v4ZQxinsp7y3ijv4HCFlmtmljKlSGw6k/Ff/AAWH8SX/AMOP27/2QvjLatstfCms67PrM2ceXYXGo%2BGrOc/lcAfjXtv/AATv%2BFf7R/wx1DV9P%2BJ/hrxr4e8Lw%2BC/D9ha6J488dQa9PN4gtxdrqd/ZPDdXItbCWNrFY4N0KgwuVtbYZ8zxD/grl8AvFPjPxJ4hkvfix4j16Of9nnx1rmjaHqNtpyW%2BhNp2teDr0rZva2kVw28Q4P2iWdvlAUrlt3m5xGcsrrcnxKLkvWNpL/0k8jPoVJ5LiPZ/EouS9YWmv8A0i3zPXPhcRof/BZ34paSSFOu/BfRNSC5%2B95F21vn8M4r60r4U%2BJ3xJi0v9ob9kf/AIKEWcix6b8SdCh8E%2BLbheAyatard2CMf4Ql35rHPTGOK%2B66wyepF%2B3guk3Jf4aijOL%2B5v5o/VeNpwzHL8lzei706%2BCowv8A38O50Jr1/hS/wzQUUUV7J8CFFFFABRRRQAUUUUAFFFFABRRRQAUUUUAFFFFABRRRQAUUUUAFFFFABRRRQAUUUUAFFFFABRRRQAUUUUAFFFFABXjPjj/lIX8L/wDsjPjz/wBO3hCvZq8Z8cf8pC/hf/2Rnx5/6dvCFAHs1FFFABRRRQAUUUUAFfnHpX/FY/tP/s1/C1fnij/aE%2BNfiK9XtH9i8SayYWP1d2A96/RyvzC%2BBfisRft4%2BIPEfmfuPhd4D%2BL/AIg83tDczfELXY8exMSbvpXkZ1JLCwi9pVKa%2BSlzP8IM8rNqFTGLD4OnrKtXoQXm3Ui7f%2BSo%2BhP%2BCV//ABdDX/jt%2B17P8/8Awsb4tXdro1z187R9LUWlm2fxlGOgxX1zXzX/AMEffCn/AAhv/BNf4T6SYtpn0GW/PHX7Vdz3Ofx82vpSrySDjlNFy3lHmfrO83%2BMvwP1DxOxFOt4gZlCl/Do1XQh/wBe8Oo4eH/ktG/rJhRRRXqHwgUUUUAFFFFABRRRQAUUUUAFFFFABRRRQAUUUUAFFFFABRRRQAUUUUAFFFFABRRRQAUUUUAFFFFABRRRQAUUUUAFeM/sv/8AJb/2jv8Ass1j/wCoV4Xr2avGf2X/APkt/wC0d/2Wax/9QrwvQB7NRRRQAUUUUAFFFFABRRRQAUUUUAFFFFABRRRQAUUUUAFFFFABRRRQAUUUUAFeD/Gnwvpnjf8Abd8CeC9bj32Wr/Af4h2V2mPvRS6l4Rjcfkxr3ivGfHH/ACkL%2BF//AGRnx5/6dvCFJpSTT2YpRUouL2Z8dfDXwJ4l/aA/4INap8M1kceNPhPJqUdnLD/rbbUdD1CS4iWP0c26LGP%2Bulfen7NXxj039oX9n3wZ8b9LKCPxR4btNQkjjPEMskSmWL6pJvQ%2B6mvnv/gn1BB4C/ar/ap/ZqvIV%2Bz2vxKt/FltbSLlHi1uzEzhQeCoMQBA4BOKd/wSVuJ/hj4X%2BKH7FOqzN5/wc%2BJV9ZaRFIxLf2Jeu15YyHPPzh5j9AOa%2BVyhvD1sPf7UJUn/AIqMpcvzcL/cfU8IylnHg1UwktauWV4zXf2VVywtX5KtRw8351L9dfrmiiivqz5cKKKKACiiigAooooAKKKKACiiigAooooAKKKKACiiigAooooAKKKKACiiigAooooAKKKKACiiigAooooAKKKKACvGfHH/ACkL%2BF//AGRnx5/6dvCFezV4z44/5SF/C/8A7Iz48/8ATt4QoA9mooooAKKK%2Bfv%2BClx0wfs12v8Awmnl/wDCFf8ACwvC/wDwsj7R/wAe/wDwj39s2n237Vnj7H5f/Hzu/d/ZvP8AM/d76APoGivzv1HxR8OX/wCCZnxo8EfDHxPp8Pgqbxxfv8O7fR7iNrOx8KT63Bbm/wDITJfQI7n7e7iMCF7CKVImEZQjySws9Hg%2BHNj4QXx98EV%2BC5/aT1Ya74yvPDez4W3a/wDCJW09kbfSlvlhSwW8823aBr54G1WJ5/NaVktwAfrXX49/B7xDPaRf8FEPiXc5QeGh4s8LadOfW/8AEPiCVgp9pJU/Eiv0i/Zd8e%2BNPGf7EPgjx38Pfgp4e0HV7nwXZvo3gmW9m0nSbdVjVIoo5FtZZLa1Mahoh9nZljKAoDnH5j6Lp3i6D/gm9%2B2f4k8R6TZab4m8e/tb614els9Ovnu7eOZPEsfmRxTPFC08YMtwiu0cbMFyUTO0fO8SuSwakvs%2B0l91Kol%2BMke5wXlyzbxM4dwsvheNouXpF8zb8lZv5H6pfsb%2BFP8AhBP2Rvhd4MMe1tL%2BHmjW0gx/GljCrE%2B5YE/jXpFV9J0y10XSrbRrBNsFpbpDCvoiqFA/IVYr3aFNUaEKa%2BykvuSX6HDmmNlmWaYjGS3q1Jzf/b85z/8AbwooorU4QooooAKKKKACiiigAooooAKKKKACiiigAooooAKKKKACiiigAooooAKKKKACiiigAooooAKKKKACiiigAooooAK8Z/Zf/wCS3/tHf9lmsf8A1CvC9ezV4z%2By/wD8lv8A2jv%2ByzWP/qFeF6APZqKKKACiiigAooooAKKKKACiiigAooooAKKKKACiiigAooooAKKKKACiiigArxnxx/ykL%2BF//ZGfHn/p28IV7NXjPjj/AJSF/C//ALIz48/9O3hCgDyD9oa/n/Y8/wCCk3gr9qfUsDwN8X9Jh8A%2BMLphhdM1VJDLpt07dNsnMJJ4RVdiegqH9reXVf2E/wBsPSf%2BCgenJJL8PfG1vZ%2BFfjTAkef7O2ts0/WOBnbGWEL%2Bi4ABaQY%2Bhf2tP2cvCn7Wf7O/in4BeLyscGv6a0dpelMtZXaEPb3K98xyqj47gEdCa8l/Ya%2BJcP7aH7IGs/Ab9p7Q0u/FvhZ7rwP8V9FvTlprmFTEbgngkTR7ZRIuB5m/aflBr5rEYWccVPDxfK5v2tJ9qkfjj6PdrrGU%2ByOvgbiCjwdxbUo4ym6mCxkZxqQ2coT5VXhFvRTi1TxFF9KlPtzI%2BnLS7tb%2B1ivrG5jmhmjWSGaJwyupGQwI4II5BFSV8cfsFfGDXP2YPiJe/wDBMf8AaT8Tyf2x4ccv8H/EeqAovirw8cmGJHPytc24BjaMHO1cKCIyx%2Bx69nA4yGNw6mlaS0lHrGS3T9Hs%2Bqaa0Z7PFXDeI4XzeWFlL2lKSU6NVJqNajPWnUj5SWklduFSNSnK0oNBRRRXYfNhRRRQAUUUUAFFFFABRRRQAUUUUAFFFFABRRRQAUUUUAFFFFABRRRQAUUUUAFFFFABRRRQAUUUUAFFFFABXjPjj/lIX8L/APsjPjz/ANO3hCvZq8Z8cf8AKQv4X/8AZGfHn/p28IUAezUUUUAFFFFABRRRQAV%2BYnj/AMDRaX%2Bzx4L%2BHsciSSfEn/goj4kuL6OMf8u48Za2HJ9dq20Wa/TuvzkhP/CUftCfsz/DMfMs37Svxn12ROy/2f4j1mRWPpzIcV4%2BeRjPL3F7txiv%2B3pwT/C5994YQjHjfD4p/wDMPTxNb09nhMTK/wB/L9yP0booor2D4EKKKKACiiigAooooAKKKKACiiigAooooAKKKKACiiigAooooAKKKKACiiigAooooAKKKKACiiigAooooAKKKKACiiigArxn9l//AJLf%2B0d/2Wax/wDUK8L17NXjP7L/APyW/wDaO/7LNY/%2BoV4XoA9mooooAKKKKACiiigAooooAKKKKACiiigAooooAKKKKACiiigAooooA8e/4KDnxyP2HPiwfhv/AGn/AGx/wgWp/Z/7E3/btn2d/N%2BzeX8/n%2BV5nl7Pn37dvzYrw39kb4h/CfwNdfHb/hgHRfCPiHwe0NtefCPwX4R1mystK1/X7fRY3v7bTX3rbrGztpyTyRny455JmkIk82vtOigD4m/4JH2njzw78U/2ivC/xF%2BEvjPQ9ck8f6PqniTV/GF1pDy6jq1z4c0x7ptunajeLHl/3qRhjFFBNBEjZjaOP1K/1L4r3f8AwU28F2fjbwX4e0/Qrf4PeOB4a1HSvE895d36HVvCXmNc20llCloRhMBJrgNuOSu0bvoevGfHH/KQv4X/APZGfHn/AKdvCFAHs1fIn7WnwV%2BNf7M/xwvv%2BCh/7IOiS67c3llBb/GD4aRjH/CTafbrtS8tcDK3sEecDneowATuSX67orkxmDhjKXK24yTvGS3jJbNfk09Gm09GcOYYCnmFBQbcZRfNGS3jJbSX3tNPSSbi1Z6fPHizwZ%2Byh/wVo/Zc0vxTomtPd6fcMLzwz4m0x/I1bwzqaYO5GHzQXEbhQ8ZOGwOoKtXnnwn/AG4/iV%2ByF4ltP2Z/%2BCmbPYzC5Fp4P%2BNkdoV0PxLDj92LqQcWd2B98PheCxIGHfW%2BMH7DHxl%2BDXxR1n9qD/gnJ4%2BsvDfiHW7gXfjD4Z67Hnw74olH3pNq4Nnctz%2B9TAZjyU3OzO8Af8FBP2X/ANouC9/Zb/bT%2BH9v8OfG1xGLXXfhv8TYY/st6T0a1uZAILuNjzGwKuxGVU8MfBqTqU8SpVZKjiNuZr91VS2T1Vn2TanG7UXOOh9Rw14hYfA4BcO8W0HUwrk3BqSg6c3vUwtWSlGEp2TqYar%2B7qNarmUaq%2BrbG%2BstUsodS0y8iuLa4iWS3uIJA6SowyrKw4YEEEEcGpa%2BOf8AhhH9qP8AZFnm1r/gm/8AtAwDw0Zmn/4U58SzJe6QuTlksrsEz2gPOEyQWbLPirui/wDBWDw98Lr6Hwh%2B3v8As%2B%2BMvgvrBlELavf6c%2Bp%2BH7qToPI1C1VlbJ5wVwuRljya9JZvCh7uNg6T7vWD9JpW%2BUlBn1dTw9xOaJ1uF8RHMKe/JD3MVFb2nhpyU211lQliIO11ZbfXNFc58M/i/wDCn4z%2BH08V/CP4kaH4m01wMXuhapFdRgnsTGx2n2OCO4ro69WE4VIqUGmn1Wq%2B9XPgMRhsRg68qNeEoTi7OMk4yT7OMlFp%2BTSCiiiqMQooooAKKKKACiiigAooooAKKKKACiiigAooooAKKKKACiiigAooooAKKKKACiiigAooooAK8Z8cf8pC/hf/ANkZ8ef%2BnbwhXs1eM%2BOP%2BUhfwv8A%2ByM%2BPP8A07eEKAPZqKKKACiiigAooooAK/N/9m6/s9b/AOCkng3TL6cLF4MT4w665IJ8v7X8QdYsQcDnJICjHJPFfpBX5of8E7f%2BKu/4KMfGrxD97/hENU13Qt39z7V8StXvdvtnGa8nNfe%2Br0/5qsP/ACXml/7aj9A4A/c/2vi/%2BfWAxP31fYUF9/tZL5n6Nf8ACYaT/wA%2Bmqf%2BCO7/APjVL/wmGk/8%2Bmq/%2BCO7/wDjVfO3j7/gsj/wTe%2BF/jvWvhp45/aN%2Bw634d1a50zWLL/hENYl%2Bz3VvK0Use%2BO0ZH2ujDcpKnGQSOayf8Ah%2BX/AMEtP%2Bjof/LJ1v8A%2BQqqWeZLCTjLE001/fj/AJmdHwt8TMRRjVpZJi5Rkk01h6rTTSaaahZpppp9U0%2Bp9P8A/CYaT/z6ar/4I7v/AONUf8JhpP8Az6ar/wCCO7/%2BNV87eAf%2BCyP/AATe%2BKHjvRfhp4G/aN%2B3a34i1a20zR7L/hENYi%2B0XVxKsUUe%2BS0VE3O6jcxCjOSQOa779v74wfEz9n39ib4p/HH4N2mmzeJ/CXgfUNV0ddXmZLdZYIWk3vtjk3bVDME24dlCFkDF168LjcHjYuWHqRmlvytO3rY%2BfzzhniThitClnGCq4aU03FVac6bkk7NpTSbSeja66Hpf/CYaT/z6ar/4I7v/AONUf8JhpP8Az6ar/wCCO7/%2BNV896n%2B258bfCvxD8c%2BC/iF8CvAmhaf8Mvh5aeJvHPie7%2BKl0bG3e7i1Rre2tsaOJZ1D6fGJZXSIolwWjjmdBFJzPw2/4KVav8VdU8M6Hq3wn1fwvrcXxol8HeIdIWW8toZEPg/UNfhn26xo9pevC6QxJt%2Bz2kglQMsskKlbjpPDPqr/AITDSf8An01X/wAEd3/8ao/4TDSf%2BfTVf/BHd/8Axqvnn9kr9vn4k/tD6folx45/Zg/4R%2B78WfCbRfiD4T0vw941h1We606%2BYI8E5uILKK3uIS8TFQ8iOj5DhlMddT%2B1X4s%2BKupfFr4X/s8fC34r6h4Ebxtdaxdat4r0bTbG6vYrewshIttAt/b3FurSTTQszPE58qCVV2swkQA9d/4TDSf%2BfTVf/BHd/wDxqj/hMNJ/59NV/wDBHd//ABqvnKD9oT9pH4n/APBMjwh8f/h9aXP/AAnOu6R4dm8Q3fhXQ1vbi3tJb%2B0i1jUNOspFkE8qWZvLm3gKy7mWNdk5xG/A%2BFf2l/iD41/Zl%2BIXjfxn%2B1V8S/BUPws%2BI1/4e07xEfh/pEPiLxh5lpY3Gmwy6beaYyC5kkv0tktoLa3mmdY1KxOzJQB9l/8ACYaT/wA%2Bmq/%2BCO7/APjVH/CYaT/z6ar/AOCO7/8AjVfDn7QP7Vf7dvwIsND%2BIvxdtPFOjXeleBPBV7N4X8FeB4dR8P6/rVzdmLxFZ3%2BotbTNYCFTGtuBcWuS6shu2JhXc8Eftv8Aj7WPjl4u8TfEbxx408K%2BHoPHfi7wf4ItNS0HR08G3F5olreuwurkI%2Brmdo9Ou74zK0Vp5aeQu6VCHAPsb/hMNJ/59NU/8Ed3/wDGqv2F/aanaJfWM4kikGVYAjvgjB5BByCDyCK%2BQ/8AgmV%2B0B%2B058TfGOteD/2l9b8Vi4l%2BGvhfxJpmneO9K0W3vZJ7xr9by6sjo0axf2WzQ26wxXX%2Bnxssn2hIw8W76t8H/wDIJm/7Cl9/6Vy0AatFFFABRRRQAUUUUAFFFFABRRRQAUUUUAFFFFABRRRQAUUUUAFFFFABRRRQAV4z%2By//AMlv/aO/7LNY/wDqFeF69mrxn9l//kt/7R3/AGWax/8AUK8L0AezUUUUAFFFFABRRRQAUUUUAFFFFABRRRQAUUUUAFFFFABRRRQAUUUUAFFFFABXjPjj/lIX8L/%2ByM%2BPP/Tt4Qr2avGfHH/KQv4X/wDZGfHn/p28IUAezUUUUAFcb8bP2efgd%2B0f4VbwV8dPhZovijTSD5cOrWSyPATwWik4eF/9pGVveuyoqKlOnVg4TSae6aun8nczq0qVem6dSKlF7ppNP1TTR8fxf8E4/wBoX9ncGT9gb9t7xF4Y0mFt1t8PviDbDXtFRe0ELyfv7SPpyu9uvPNM1H9qX/gon8K9Nm8O/tVf8E5bbx9pDRmO%2B174P65HqEN0ncLpd3%2B/YEdmIB6Yr7Dory/7Ip0l/stSVNdk%2BaP/AIBPmSXknE8iOSRwslLAV6lBrZRlzRXpCfMl/wBuyjbpbp%2BXviTxL/wQ0%2BIvjH%2B0fEGk%2BL/2dfHrklJrfStS8KX1qx6nECvZoQcZJHX8a9T%2BHPhT9pZY42/Yq/4LK%2BEviPY4/wBE8O/ES3sNYkf0El9ayfaSexGwH8a%2B4PEfhXwx4x0x9E8XeHLDVbKT/WWmpWaTxN9UcEH8q8N%2BIn/BKv8A4J2/FFpJPFH7JHhCF5STJJodm2lsSepzZNEc%2B9eZPJMXTk5UlTv3j7Si36%2BzcoP5wPu8P4keKuGoRw%2BKxVHH0oqyhi6Sq2XZOrGtKP8A25VjbolucSP2hf8Agrb8Lf3fxO/YO8FfECCPi41P4ZfEFbLj%2B8ltqCmR/wDdBBpR/wAFbfCnhAeT8fP2Nfjv4CZP9ffap8P3ubBfUrcW7tvA9QtH/DnT4EeGxj4LftB/G74dhP8AUQ%2BDvifcxxx%2Bg2ziXK%2B2aP8Ahgf9t7wp/wAkq/4Kz%2BPLZU/1aeL/AAbp2uZHozSlCfrS5OIqHw87/wC3qNT81Sl%2BJt/r3leJ/wCRpwpSb6ywmKqUH8oTlVp/KyR0Xgv/AIK//wDBN3x04g039qjQ7GXO14dftLrTTG3cMbqKMDH1xXrng79pv9m74iBD4A/aC8Ea55n3BpHiuzuSfwjkNfMHjT9kf/gqDrqGHxL8a/2f/iUgGMfEL4UeWJB/tC3D4/CvJPGP/BOb9qTVd/8Awmf/AATa/ZG8QZ%2B8fBF7qmhF/p9zaaP7Uz6l8dDm/wC3Jr/0mdRC/t3wrxH8XBZphX5RwmKivmpUZv7j9MUdJEEkbhlYZVgcgilr8ln/AOCf/wAcfBbl/Cv/AASY8R6Fg5N18OP2rPsuw/3lju2kJ%2BlA%2BHX7bHgj5tJ8A/twaHt6W9p8WtO8QW8fssZiTI/Hmj/WPFU/4mFl8ub/ANupL8w5/Cut/DzqvS8q%2BWYpfe6NStH8z9aaK/JY/Hn/AIKQeDONP%2BI/7YGnKnfWP2YdJ1yL6NL9qU/iBmj/AIeR/wDBQ7wlxf8AxX8Qz7Ov/CZ/szXljn/e%2BxyPj8KP9bcHH%2BJRmvkn/kH9n8DVf4PE2C9KkcbRfz9pgnFf%2BBM/WmivyXX/AILc/ti%2BFz/xU/ir4Hywr1%2B3%2BAfGdnOfri3dBVmw/wCDiH4kWp233g34T6wynDDTte1mwz9PtdiMfjTXGeRLSUpR9Y/5SYLIMoqO1DPssn6Y%2BjB/dVp0T9X6K/L/AEn/AIOMtYkYR6t%2ByR4dde9xZ/G3T1B%2BiTW6kfia6Ox/4OKvhiihvEH7OF1AP4vsHxG0a5x9P3qZraPF3D0v%2BX9vWMl%2Bhr/qjjJv91jMFU/wZjgJf%2B7cT9HaK/PKD/g5G/Y9tmCa/wDBz4iRMTj/AIlyaTdjP/Ab4V0Wj/8ABwt%2BwxqwBk8H/E21B7z%2BE4mx/wB%2Brl62jxRw9N2WJj97/wDkTV8CcUcvNGlCS7xxODl/6Tjm/wAD7ror41sP%2BC7/APwT7ugDe%2BIvGFiO5uvBN4cf9%2B1atW1/4Llf8ExpSEvf2h7myY9Fu/BWsL%2BotCK3Wf5HL/mJh/4El%2BdiVwHxnL4MBUl/hUZ/%2BkVZn1rRXzFYf8Fl/wDgmZqWPs/7Vukrn/n40jUIv/Q7cVtWP/BVv/gnRqOPs/7Xfg9c/wDPe8eL/wBDUVtHOMoltiKf/gcf8xPgLjlf8yvE/KhVf5QkfQdFeKWP/BSL9gLUMeR%2B2T8N1z/z38XWsX/obitey/bp/Yk1H/jw/bE%2BFkxPaL4g6ax/ITVrHMMvltWh/wCBx/8Akjlq8H8XUf4mW4heuHr/APyk9UorgbP9qz9l3Ucf2f8AtJeAZ89PJ8Y2TfylrUtPjp8EtQx9g%2BMXhWfPTyfENs38nrZYnDS2nF/9vL/M8%2BpkudUf4mFqx9aVRfnTR1VFZNp498DX%2BPsHjTSZ89PJ1GJv5NWlb3lpdrvtbqOUesbhv5VopRlsziqUa1L44teqa/NIkoooqjIKKKKACvGfHH/KQv4X/wDZGfHn/p28IV7NXjPjj/lIX8L/APsjPjz/ANO3hCgD2aiiigAr5%2B/4KXHTB%2BzXa/8ACaeX/wAIV/wsLwv/AMLI%2B0f8e/8Awj39s2n237Vnj7H5f/Hzu/d/ZvP8z93vr6BooA/O/UfFHw5f/gmZ8aPBHwx8T6fD4Km8cX7/AA7t9HuI2s7HwpPrcFub/wAhMl9Ajuft7uIwIXsIpUiYRlCPML%2Bx%2BImofsO/GH4RfBL4W23xC%2BF174%2B8RT%2BK/E/wLbSdI8NXelw%2BG9NnjttIsb7U0W206S7kaG8W3uLzfLY6mOWvCsP6v0UAeSfs1%2BIfiFf/ALEngHxD4R%2BHMUPiJvh9pTWXhzxZrSWaeYLWIBJ7myS9WJSBu3RrLwQCM5A%2BMv8Agi/o3ia8%2BL/7W3xF8aaRZWWrX/7Rc2n39ppuoPd21tPb%2BINQeWKGeSKFpYw9xgOYoywAJRSdo/SiviT/AIJP%2BFm0bwN%2B0P4inj/ea1%2B2j43lRyOsUfiMQqPwZJPzrgxdP2mKw7/llJ/%2BSSX6n1vD%2BNWDyDOI31q0aVP78VSm/wAKaPtuivmLx/8A8FNf%2BEC8d634F/4d8/tPa1/Yur3Nh/bGgfCf7TYX/kytH59tL9pHmwvt3o%2BBuVlOBmsj/h7D/wBY1P2tP/DN/wD3VWUs6yyMnF1NV/dn/wDKz85lxDk0JOMquq0%2BGp00/wCfR9aVi/Ef4eeDPi58Ptc%2BFXxG0GLVfD/iXSLnS9c0ydmVLq0uImimiJQhgGRmGVIIzkEHmvnzwD/wU1/4T3x3ovgX/h3z%2B09ov9tavbWH9sa/8J/s1hYedKsfn3Mv2k%2BVCm7e74O1VY4OK9m/aT8YfE74efALxf8AEH4M%2BHLTWfE%2Bg6Bc6lo%2Bi3sLumpSQIZTagI6EPKqNGjbsK7qxDAFT14bGYbGRcqMrpb6SX/pUY/qduDx%2BDzCLlh5cyWj0kvP7UY/hcxoP2Nf2eF8K%2BKfB2p%2BENS1ez8a%2BG7fQfFUviLxXqep3WpWEH2nyY5Lm7uZJ96fa58ShxKNy/P8ibc7wP8AsFfstfD3Ul1zw/4C1KbUh4uHiiXVta8Y6tqV5cauNIm0YXc1xeXUss7DT55bfEjMu0qcbkRl8N8R/wDBR/4m/Ejwtc%2BMf2XG0PVbDxH47m0j4USxeEl1RvEGnWGkLdareyNc63pVtDHFd%2BfAHa4XaLNwElaQeXxPg39ur4jfFzxHonx4svtNrp3jz4Zfs76rH4UbX737DpU/iLxdrttfyQfZp4tzmLyUZjlJ1tYVmSWJfKPSdh9h%2BGP2TvgR4JsdEsPB3hO90pfDnga08HaJNp3iPUIZrTRbV43gtVlScOdpijzIWMjAEM7BmB0fjf8As9fCn9onRNP0P4paPqMw0jUTfaRf6J4ivtIvrG4MMsDPDeWE0NxFuhmmicJIA6SMrAqSK%2BTfgn%2B1T%2B1B8bv2pPhB4w1PxV4R/sTx38LfH%2Bt%2BHPh7pV1e6e1rJZ3%2BjQW0GrSma4S6lj80o1wltEbaR7hFikzk%2B3ftv6t4kn0z4UfDeXxVqvh3SPHfxXsND8Z6l4b1240%2B6hszp9/dJBDe27RT2/n3trZ2vmRtHIy3BVSpcUAehSfs7/CxPAY%2BGGjWOsaLoEXhyw0Ky0zwz4r1HSo9PsbMk26Wn2O4iNm6g7TLAUldERGdljRV4vxL/wAE9f2VfFfhTwn4O1Hwl4kt7bwTr13rnh270j4j69YX0WqXSyrcX815bXsdzd3MgnmDTzySSHzpPm%2Bds8D8ItR/aF%2BKf/BNvxvofwn%2BJN3P40s9S8d%2BHPAPizWNVLXFxb6fr2qafplxJeShy0ptbaAfa3Dl2xO2/cc8V%2Bz7Z/FX4s6d8b/gWfBfj6wsPCXinRj4J8PeOP2hNWtNVhv5dKinu9Pu/EGk3V9dJGNyXQhWa62rdJuVVZYogD6V8Qfsl/BTxd4g8MeI/F1p4m1aTwhb2EWj2Wq%2BP9ZubF3spPNtbi6tJLtre/uo5cSi6uo5Z/MRHMhZFYQXH7GX7Nt78Vbr4y6j8O3u9ZvJ7m4mtr3W72bTFubm0ayuLpNNeY2UdzLbPJBJcJCsrxyyKzkSOG%2BC5/jV8XPF/wCzRqWv%2BMP2kvGWmav8Lv2a/EXinw1f6X4su7YXvifTtY1Gzma4eGYf27BZvYWVsv2jzYrtLwSyRl7hdv1poNt4j0X/AIKXaXdzeMvFaQeMPgdqOqa14VvvFd7caTaXtrf6Nbxvb2Mkpt7Z1SWYM8aKzmVyxbPAB6R8B/2S/gR%2BzVc3t98I/DGpW9zf6daadLd614p1LV54rG18z7NZQyahcTPb2sRmlKW8RSJDIxCAk12ng/8A5BM3/YVvv/SuWtSsvwf/AMgmb/sK33/pXLQBqUUUUAFFFFABRRRQAUUUUAFFFFABRRRQAUUUUAFFFFABRRRQAUUUUAFFFFABXjP7L/8AyW/9o7/ss1j/AOoV4Xr2avGf2X/%2BS3/tHf8AZZrH/wBQrwvQB7NRRRQAUUUUAFFFFABRRRQAUUUUAFFFFABRRRQAUUUUAFFFFABRRRQAUUUUAFeM%2BOP%2BUhfwv/7Iz48/9O3hCvZq%2BcP2j9X%2BNej/ALeHwnn%2BB3w/8LeItSb4R%2BO1u7TxX4wudFgjg/tTwkS6S2%2Bn3rO%2B7aNhjUYJO/ICkA%2Bj6K8Z/wCE4/4KF/8ARr/wZ/8AD8at/wDMvR/wnH/BQv8A6Nf%2BDP8A4fjVv/mXoA9morxn/hOP%2BChf/Rr/AMGf/D8at/8AMvR/wnH/AAUL/wCjX/gz/wCH41b/AOZegD2aivnHSf2jv27dY%2BM%2Bv/A63/ZQ%2BEi6p4d8L6Rrt5cv8ddU8iSDUbnUreFEI8Mbi6tpc5YFQAHjwWJYL1H/AAnH/BQv/o1/4M/%2BH41b/wCZegD2aivGf%2BE4/wCChf8A0a/8Gf8Aw/Grf/MvR/wnH/BQv/o1/wCDP/h%2BNW/%2BZegD2aivGf8AhOP%2BChf/AEa/8Gf/AA/Grf8AzL1y/gH9o79u34ieK/G/hDR/2UPhJDceA/FEWharJc/HXVAk88mlafqYeLb4YJKeTqMKksFO9HGMAMwB9HUV4z/wnH/BQv8A6Nf%2BDP8A4fjVv/mXo/4Tj/goX/0a/wDBn/w/Grf/ADL0AezUV4z/AMJx/wAFC/8Ao1/4M/8Ah%2BNW/wDmXo/4Tj/goX/0a/8ABn/w/Grf/MvQB7NRXzj8Iv2jv27fjL4Uu/F/hz9lD4SW1vZ%2BKNb0KSO9%2BOuqK5n0vVbrTJ3G3www2NNaSMhzkoykhTlR1H/Ccf8ABQv/AKNf%2BDP/AIfjVv8A5l6APZqq6hoei6sNuq6Pa3IPUXFur/zFeR/8Jx/wUL/6Nf8Agz/4fjVv/mXo/wCE4/4KF/8ARr/wZ/8AD8at/wDMvSaT3E0mrM9Av/gv8HdVz/afwn8M3Oevn6Dbvn80rGvv2Uf2W9Tz/aX7NfgC4z18/wAHWL/zirmP%2BE4/4KF/9Gv/AAZ/8Pxq3/zL1y/wR/aO/bt%2BPHwY8IfHHwr%2Byh8JLXS/GfhfT9d0221D466os8MF3bR3EaSBPDDKHCyAMFZhkHBI5rKWHw8vihF/Jf5GMsLhZ/FTi/WMX%2BcTuL39hH9iDUc/bv2OPhXKT/FJ8PtNJ/Pyay7v/gm9%2BwFe5879jT4arn/nj4PtI/8A0FBUn/Ccf8FC/wDo1/4M/wDh%2BNW/%2BZej/hOP%2BChf/Rr/AMGf/D8at/8AMvWTy/AS3ow/8Aj/APImEsryuXxYem/%2B3If/ACBj3f8AwSx/4J23ufO/Y/8ABK5/55aUI/8A0Eis66/4JE/8E27vPm/skeGhn/nk9wn/AKDKK6n/AITj/goX/wBGv/Bn/wAPxq3/AMy9cv8AG79o79u34D/Bjxf8cfFX7KHwkutL8GeF9Q13UrbT/jrqjTzQWltJcSJGH8MKpcrGQoZlGSMkDmsnlOVS3w8P/AI//ImMsjyWW%2BFp/wDguH/yJnXP/BGP/gmTdZ839lHShn/nnrOoJ/6DcCqNx/wRB/4JdXX%2Bs/ZZgH/XPxbrCf8AoN4K9H/4Tj/goX/0a/8ABn/w/Grf/MvR/wAJx/wUL/6Nf%2BDP/h%2BNW/8AmXqHkmTPfDU//AI/5GT4d4flvhKX/guH%2BR5XP/wQq/4Jdy8Rfs4zxf8AXPxrrH/s12apT/8ABBT/AIJjzf6v4I6nF/ueMdSP/oU5r2H/AITj/goX/wBGv/Bn/wAPxq3/AMy9H/Ccf8FC/wDo1/4M/wDh%2BNW/%2BZeoeQZG/wDmFp/%2BAL/IqGQZHT%2BDDQXpFL8mjxOf/ggF/wAE05f9X8Mdei/3PF15/VzVSb/g3x/4Jvyfc8H%2BKY/9zxXN/UGvT/i7%2B0d%2B3b8GvClp4v8AEf7KHwkube88UaJoUcdl8ddUZxPqmq2umQOd3hhRsWa7jZznIRWIDHCnqP8AhOP%2BChf/AEa/8Gf/AA/Grf8AzL1D4dyF/wDMLD/wFHRHLMDD4YW9JTX5VEfP8v8Awbx/8E6pPuaV4zj/ANzxQf6xmq0n/But/wAE9WOYpvHsR7GPxNHx%2BcBr6J/4Tj/goX/0a/8ABn/w/Grf/MvR/wAJx/wUL/6Nf%2BDP/h%2BNW/8AmXqHw1w%2B/wDmFh/4D/wTeOGhD4ZTXpVrL8q6PnVf%2BDeD9h2H/jx8ffFO29PI8VwDH52pqaL/AIN/P2TrU5sPj38a7bHTyPGtsv8A7Z19Cf8ACcf8FC/%2BjX/gz/4fjVv/AJl65fx9%2B0d%2B3b8O/FfgjwhrH7KHwkmuPHniiXQtKktvjrqhSCePStQ1MvLu8MAhPJ06ZQVDHe6DGCWU/wBWsgW2Gj%2BP/wAkN0FLedT/AMHV/wD5oPL7f/ghJ8A7L/jw/a1/aDt8dPI%2BINuuP/JOr9t/wRS%2BG9j/AMeH7dX7TEHp5PxOhX%2BVnXtP/Ccf8FC/%2BjX/AIM/%2BH41b/5l6P8AhOP%2BChf/AEa/8Gf/AA/Grf8AzL1a4eySO1BL5y/%2BTOeeW4Sp8XO/%2B4tf/wCXnkMX/BHzTbT/AI8P%2BCjH7UkPps%2BKwH8rYUnwL/ZKu/2W/wDgoX4NFx%2B058VfiMuufBnxlsHxN8WHVP7O8nVvC2fs2UXyvM80b%2Bu7yo/7tev/APCcf8FC/wDo1/4M/wDh%2BNW/%2BZeqHgfwP%2B1Z4x/as8OfG743fDj4e%2BGdG8M/D3xDocMPhX4h32tXV3dalfaJcIzJcaRYpFGiaXKCwd2LSoAuMkdFDKcuwtVVKVOzXnP8nNr8CaOVYDD1lVpxfMurnUf4SqSX4M91ooor0T0QooooAKKKKACvnL9iHwxpvhb9njxZe2PmEXv7Q3j/AFO%2BdhnB/wCE81Te3A6KkY/Ba%2Bja%2BSv2SvFn7Z2n/D3xRZ/DH4B/DDV9CT40/EX%2Bz9R174u6jpt3Mv8AwmesljJbRaBcpEQ24ACZ8gA5BO0JpNp9i41KkYSgnpK1/Ozuvuep9Qf8Jz4J/wChw0v/AMGEf/xVL/wnPgn/AKHDSv8AwYR//FV5b/wnH/BQv/o1/wCDP/h%2BNW/%2BZej/AITj/goX/wBGv/Bn/wAPxq3/AMy9Mg9S/wCE58E/9DhpX/gwj/8AiqP%2BE58E/wDQ4aV/4MI//iq8t/4Tj/goX/0a/wDBn/w/Grf/ADL0f8Jx/wAFC/8Ao1/4M/8Ah%2BNW/wDmXoA1L74GfsUap8ONJ%2BDup/B34W3HhHQL37ZoXhWfw9pr6bptzukbzoLYp5UMm6WU70UHMjnPzHOhp/w4/ZR0m1tbLSvAfw9tobK00m0sobfS7FFt4NLnkuNMiQBQES0nlllt1GBBJI7xhWYk%2BZ/BH9o79u348fBjwh8cfCv7KHwktdL8Z%2BF9P13TbbUPjrqizwwXdtHcRpIE8MMocLIAwVmGQcEjmuo/4Tj/AIKF/wDRr/wZ/wDD8at/8y9AGrY/A/8AYq0vxTrfjnTPhB8LrfW/EsF1D4j1iDw/pqXWqx3WPtKXMoTfOsu1fMDkh8DdnFdB430r4AfEzwRc/DL4kab4O8QeG7yFIrvw9rkNpd2M8aMrIjwSho2VWVSAVwCoI6CuK/4Tj/goX/0a/wDBn/w/Grf/ADL0f8Jx/wAFC/8Ao1/4M/8Ah%2BNW/wDmXoA6oeCf2YR4et/CI8I%2BAxpNp4bn8PWul/YLL7PDpE4jWbTkj27VtZBDEHgA8thEgKnaMYd1%2Bz5%2BwxffC21%2BB178EPhPN4Ksr831n4Pl8NaY2lwXR35nS0MfkpJ%2B8f5wob5255NcT8bv2jv27fgP8GPF/wAcfFX7KHwkutL8GeF9Q13UrbT/AI66o080FpbSXEiRh/DCqXKxkKGZRkjJA5rqP%2BE4/wCChf8A0a/8Gf8Aw/Grf/MvQBu%2BIPhN%2ByB4ssfDGl%2BKvhp8NtTtvBMscvgy31DRtPmj0B0CBGsldCLUqI0wYtpGxcdBVe%2B%2BB/7FWqfGeL9o7UvhB8Lbj4hwFTD48n8P6a%2BtRlYhCu29KeeMRARjD8KAvTisr/hOP%2BChf/Rr/wAGf/D8at/8y9H/AAnH/BQv/o1/4M/%2BH41b/wCZegD1H/hOfBP/AEOGl/8Agwj/APiqPBh36GZ1B2TX13LESMbke5kZW%2BhUgj2NeXf8Jx/wUL/6Nf8Agz/4fjVv/mXrl/i7%2B0d%2B3b8GvClp4v8AEf7KHwkube88UaJoUcdl8ddUZxPqmq2umQOd3hhRsWa7jZznIRWIDHCkA%2BjqK8Z/4Tj/AIKF/wDRr/wZ/wDD8at/8y9H/Ccf8FC/%2BjX/AIM/%2BH41b/5l6APZqK8Z/wCE4/4KF/8ARr/wZ/8AD8at/wDMvR/wnH/BQv8A6Nf%2BDP8A4fjVv/mXoA9mor5x8fftHft2/DvxX4I8Iax%2Byh8JJrjx54ol0LSpLb466oUgnj0rUNTLy7vDAITydOmUFQx3ugxgll6j/hOP%2BChf/Rr/AMGf/D8at/8AMvQB7NRXjP8AwnH/AAUL/wCjX/gz/wCH41b/AOZej/hOP%2BChf/Rr/wAGf/D8at/8y9AHs1FeM/8ACcf8FC/%2BjX/gz/4fjVv/AJl65fVv2jv27dH%2BM%2BgfA64/ZQ%2BEjap4i8L6vrtncp8ddU8iODTrnTbeZHJ8Mbg7NqkBUBSCEkyVIUMAfR1FeM/8Jx/wUL/6Nf8Agz/4fjVv/mXo/wCE4/4KF/8ARr/wZ/8AD8at/wDMvQB7NRXjP/Ccf8FC/wDo1/4M/wDh%2BNW/%2BZej/hOP%2BChf/Rr/AMGf/D8at/8AMvQB7NRXzjpP7R37dusfGfX/AIHW/wCyh8JF1Tw74X0jXby5f466p5EkGo3OpW8KIR4Y3F1bS5ywKgAPHgsSwXqP%2BE4/4KF/9Gv/AAZ/8Pxq3/zL0AezUV4z/wAJx/wUL/6Nf%2BDP/h%2BNW/8AmXo/4Tj/AIKF/wDRr/wZ/wDD8at/8y9AHs1FeM/8Jx/wUL/6Nf8Agz/4fjVv/mXrl/AP7R37dvxE8V%2BN/CGj/sofCSG48B%2BKItC1WS5%2BOuqBJ55NK0/Uw8W3wwSU8nUYVJYKd6OMYAZgD6Oorxn/AITj/goX/wBGv/Bn/wAPxq3/AMy9H/Ccf8FC/wDo1/4M/wDh%2BNW/%2BZegD2avGf2X/wDkt/7R3/ZZrH/1CvC9H/Ccf8FC/wDo1/4M/wDh%2BNW/%2BZerf7K3w5%2BNPg/WPih47%2BOmgeF9J1Tx98Qotcs9K8J%2BJbnVre1tYtB0fTFV7i4srNmkaTTpXKiLaFkQbmOcAHrdFFFABRRRQAUUUUAFFFFABRRRQAUUUUAFFFFABRRRQAUUUUAFFFFABRRRQAV8r/tPftafFz4YfGPxZrXgHw74Pk8MfB/w/wCH73xqda0i4m1XVLfV7%2BVLmCwuI7iNLLyLazjuMyRTi5kKRkQ%2BX5p%2BqK8Z%2BM/7EPw4%2BN3xSPxM1zxz4q0uLUbXSLXxf4a0a6tU07xTBpd7Je2MV8stvJMFjmmlz9nlgMschimMsYVAAezUUUUAFFFFAHzH4c/aV%2BJkP7f/AIo%2BD/xG1jw94T8Nr4gtNE8GRaj8ItZS68YwDQINRxB4ja7XTmlju7nUALQQvJ5dpMAoLNIv05Xlfiz9lqDx/wDGTSPin49%2BN/jXV9K8Pa7HrWgeALg6ZFo1jqEdu8Ec4aGyS9l2eZJIqTXUkYkfds%2BRAvqlABRRRQB4v/wUF%2BLvxw/Z%2B/ZH8afHr4BXvhSPWPBOhXeuXUHjDRbm%2Btru0tbaWZ7dEtrq2ZJXZEUSFyqAsSj8CvP/AB5%2B1p8XPBfx48W6n4U8O%2BEIvh54Q%2BMfhH4feMrObSLg63quq67BoqR6hDdpcLDHHB/bmkxmKS3leRIZ8Sx7UFew/tY/s42X7WnwI179n3Wvir4p8I6T4nspbHXL/wAILp32u5spYnimtt1/aXUaI6vyyIsgKja6854uD9gHwdP8RbP4i%2BKvjj4%2B11jrOk654m0bUJdKisfE%2BuaYkaWOrXsdtYRMtxEILTC2zQQMbG2LxMY8kA97ooooAK8X/bJ%2BLvxw%2BCVr4B8Y/Cy98Kf2NqHxM8OeHvF9j4g0W5ubq5tdV1mx00GzlhuoUtpI1uZZN8iTqSiLs5Jr2ivKv2rv2W3/AGqvDeheF5/j7438DW%2BheJLDXUbwXDo7Pd3tjeQXlm0p1LT7wbYri3jcLGEDcrJvU7QAecfs8/tK/EzW/wBqrxb8Efihq/h7wnp0PinW7fwT4Sk%2BEWs6Zc69bQukpv7fWri7%2Bwag7GSaWWK2gL8l2K4Yn6cryXSf2UQ/xk0X4y/Ef9oDx341m8L3d5d%2BE9C8QjSYbDR7q5t5LWS4iWw0%2B2llf7PNPCvnySqizvtAJBHrVABRRRQB4f8At3fFz48fs/fBrV/jr8KPGPgWx0/wtotzeXui%2BLPDN7f3PiG9yi2emWcltewfZ5riUi3RvKumaWeILCx%2BVvP/AII/tffGfXPiX4K/tbwZ4S0j4aeN/if4o%2BG3hXw1p2lzR6vol/oEOrb557kXDW80EjeH9TRYY7eIxq1sfMkywHp/7Sv7IMH7SXjzwR8QJv2gfHfhC58A3dze6LY%2BGItGns5L2VBGt5NBqenXiPPDH5iwyAKYxPKR8zZFXwH%2Bw18PfAfxlt/i7D8RfF2pQadrup69onhDUrmy/snStb1GN49Q1SBIrVJ/PnE92WV5nhRr65McUfmcAHtdFFFABXy/%2B1z8eP2l/gt8RNP8KaVD4A8a6P45h1q20X4cxeD76TWEtbTQ7q7kv7icXrxXVsLqK3tpIRaxA/b4UExkZEk%2BoK8Om/YmuI/2j/Ff7TWiftV/EvTtX8W6bDp1zpcMHh%2Be00%2BzhgaOG2s2udJlubeJZXe62LNtedy7hwdtADP2EP2g/G/x7%2BHt5dfFfx9o194u04Wba/4bsvhdq/hG80B57ZZRBc2Wr3U9w4Lb/LuAEjkVDtDbSa90rzf4Hfs3ad8GfE/iT4h6x8UvFPjjxV4risbfWPE/i5rBbl7SzE32W1SLT7W1to4o2ublxthDM1xIWZsjHpFABRRRQB8c/wDBQT9uP4qfsYeOf7T1zRdA8Y%2BEX0bUdbt/Csvw51Oylt003Rr7Ukk/4SKa6fTJ7v7Xpo2WKwJdCOZZQNsLSN69%2BzR8Xfjnq3xU8b/s9ftHXPhTUPE/hHSdD1qPWvBWkXNhY3NjqgvI0iMFzc3LrLFcaddqX83EiGJtkZJUVvjr%2Bwl4I/ac1q6tfj/8W/GvijwXcyXEi/DK8k02HRYpJrGayZt9vZR30gEdxMwSW6dA77tvyIF6f9nz9mbSPgHea94iu/ih4s8ceI/Ehs49W8VeNbize%2BltrSIxWtqPsdtbwrFEHlYYj3s88ruzs5NAHpVFFFABXxH%2B1P8AtlftZ/Bv41eIPhR4O8N%2BHPGup2Gi3Gu%2BGAnwP8QRyaKBqOmWqGFvtzjxNILHVLjzv7L8p4WhKyiMTCOvtyvD9e/Yt1PxL49PxO1r9rn4oza3p8F5F4NvCmgAeFVupoZJ/skY0nZOzRwLb7r1bpliZwpV3ZyAdV%2Byx8WH%2BMnwjg8WXvxM0bxVfw6jdWWqX2jeDL7w6La4ilZWtZtN1C4nurOeMYV45nD5%2BbaoYCvRq4b4B/AXw98APDOp6NpXinW/EGo6/r1xrfiTxJ4jmga91W/mCI08ot4oYExHFDEqQxRxqkSAKMEnuaACiiigAooooAKKKKACiiigCj4o8Q2HhLw1qPivVQ5tdMsZru5ES5by40LtgdzhTXzn%2BxN%2B0n8a/H/inR/Bnxs8PeDLMeOvhbZfEbwzD4M0q4tBpkd5cE3en3ZmuJRdzRvc2z/bEEAnaWYmCPaC/wBLXdpa39rLY3tuk0M0bRzRSqGV1IwVIPBBHGK8h/Zm/Yr8Bfswaq%2Br6B8QfFviWW28MWPhnw6PFl7azDQNCs3ke3021Nvbwlo1MnzSzma4kEcXmTP5a4APYqKKKACuF/ag8efEX4Wfs0fET4nfB/wouveLfDngXV9U8LaG1jNdDUdRt7OWW2tjDAyyzCSVETy42DtuwpBINd1Wd4t0S/8AEvhjUPD%2Bl%2BK9R0K5vbSSG31rSFga6sXZSBNELiKWIup5AkjdMj5lYZBAPLv2Kfi1P8UPhnfWWrfELw/rOp%2BHdVXTrzTNE%2BGGp%2BDn0NBbQSRWdxpWqXM9zC4RxIrt5aPFLFsTA3v7FXnnwH/Z20n4HXniXxHc/ETxJ4x8SeL9RhvPEXinxW9mLu6MNulvBEI7G2traKKONAFWOFMlnZizMzH0OgAooooA%2BXP2qP2sfih%2Bzh8XvHFl8StG8JeIvhfYfs7%2BL/HttoVvolwmqu2iDS1ntri5kuXt5op1vpwEFshUImXfLCu3/Zn%2BL/x81T4ueMv2df2ln8JXnijwx4Y8PeJY9V8FaTc2NlJZas%2BpW62xhubm5cyw3GkXYMokCyI8TeXGdy1B8Y/2FfDvx0%2BOrfGXx58dvHMumzeCtT8I33w9hg0X%2BxLvRtSW2%2B32khfTWvSJ2tIHZxdB1KEIyIzIek/Z3/Zd0P8AZ9vta8Rz/FDxb438Q6/a2Flf%2BJ/G1zaSXpsLFJFs7MfZLa3j8qIz3DglDI73Mru7s2aAPT6KKKACvkT41/tL/tbeDNd/aA8CW/hXwZ4svfAXh/wp4k%2BG1jpPw/1O/nWPUdV1KEJeWsV48uozwLpsc6m2FuS5IVflVq%2Bu68Ll/Yo8QxfHTxt8f9C/bQ%2BK2lat430ix0y5sbKz8MNaabbWVxcz2aWwl0V5P3RvLpQZnlLrORJ5hVCoB1f7Knxbm%2BMvwpHibUfido3inUbXVbmx1a60fwRf%2BGzZ3ETfNaz6ZqNxPdWk6KV3JMwYhlbaqsK9JrhPgH8A9A%2BAOhazY6f4t1zxHqvibxBLrnifxN4klt2vdVv5IYYPNkFtDDBGFgt7eFUiijRUhQBc5J7ugAooooA%2BNv2lv2u/2lv2ePjNB8NtZT4Z%2BNb7W4IJvCMOneFr20l8F3mpeIdM8PaRNqcr30wuop21ecFols5HFjdLGGXzDF7j%2Byr8X/iR8Rh4/wDh98Yjok/ir4aePG8NazqvhrTprOw1PzNL07Vre4ht5p55LfNrqlujxtNLiSOTDEEY4W2/4Jq%2BEmuviG/iH9pf4nazb/EnXjrmsW%2BpHQvMs9SiuIZ9Puba6i0tLpTYPb24tI3mkiiWFAyPzn1j4B/AXQ/gH4e1bTbLxfrniTVvEWvTa14n8UeJXtjf6vfSRxQ%2BdMLWCCBdkEFvAiRRRoscEaheCSAd1RRRQAy5%2B0/ZpPsezzth8rzc7d2OM45xmviD4rftc/tp/DT4ia58Nre28B%2BM9e8MXvhq31bx14I%2BCuv6tH4ct9Wa8e9sJdKs9Snu7maOGysbomKdP3d1C0sCAxNJ9vXcMlxay28N1JA8kbKs8QUvGSMBl3ArkdRkEeoNfPfwY/YC8QfAT4bXHw0%2BHf7dXxiijutWfU5tZvLLwnPqEt3K8slzPNM%2BhH7TJO8u6SScSPmNNhQDBAPWfgJ8Q7L4rfB3w/8AEKw%2BIGjeKk1PTxI%2Bv%2BH9JmsLS7kBKyFLWeaaW2KurI0MkjvGysrHcpA6%2BuS%2BBfwX8Jfs%2B/C/TvhT4Kub%2B4srCW6uJr7VbkTXV9d3VzLdXV1M4VQ0s1xPNK%2B1VXdIdqquFHW0AFUfE8PiS58N6hb%2BDdTsbLV5LKVdLvNTsHuraC4KERySwxyxNNGrYLIskZYAgOpO4XqzfGOg3/ijwtf%2BHdL8W6loNzeWrxQa1o4gN1YuRxNELiKWIup5AkjdDj5lYZFAHw98N/27P2tfjB8U9b%2BCXws034fJ4z02112%2Bk8Z%2BK/hdrWhrqmmaRa6LKljLol5fJqGnyvd%2BIdiTTzPH5UMlwkLrOgP2N8Avi1pvx8%2BBPgr466NpstnZ%2BNfCWm69aWcz7ngivLWO4WNiAMlRIAT6ivFtX/4JkeB9a1y%2B%2BIt3%2B0p8U0%2BIGrJeWutfEm2vdIh1a/0y6trW2m0wommizhtillaMPItopVkgWVZQ5Zj9B%2BC/B/hr4eeDtJ8AeDNJi0/R9D0yDT9JsIc7La2hjWOKNc84VFVR9KANOiiigDl/jTqPjjRvhbrWt/DnxDY6Xq1hZm6hvtQ8H3viBEjjIeUDTrGeC5vJGiV1SKGQOXZcK5%2BRvi34S/8ABRH4/eJPGmh6n43uPCPgTwZqU86%2BIPHF58DPEU1trF/Dr91pCJcyrfRp4ZnktbS1/cao0ksDyrG%2BdgSvtv4meDNd8e%2BEpvDnhv4pa/4NvJJY3i1/wzFYvdwbWBKqt/bXMDBgCpDxNwTjBwR4rdf8E5vCmoeD7j4bat%2B0h8TbvwxrmoTX/jzQJrjRxF4wu57xrq4mvpV00XEXmllhaOzltYhDEkaoo3bgD6JooooAKKKKACiiigAooooAKKKKACiiigAooooAKKKKACiiigAooooAKKKKACiiigAooooAKKKKACiiigAooooAKKKKACiiigAooooAKKKKACiiigAooooAKKKKACiiigAooooAKKKKACiiigAooooAKKKKACiiigAooooAKKKKACiiigAooooAKKKKACiiigAooooAKKKKACiiigAooooAKKKKACiiigAooooAKKKKACiiigAooooAKKKKACiiigAooooAKKKKACiiigAooooAKKKKACiiigAooooAKKKKACiiigAooooAKKKKACiiigAooooA/9k%3D\">"
            ]
          },
          "metadata": {
            "tags": []
          }
        }
      ]
    },
    {
      "cell_type": "markdown",
      "metadata": {
        "id": "YDPj-bc7oAJL"
      },
      "source": [
        "# Submit a linear model"
      ]
    },
    {
      "cell_type": "code",
      "metadata": {
        "id": "nsf2TiDPoAJM"
      },
      "source": [
        "## GRADED PART, DO NOT CHANGE!\n",
        "# Testing shapes \n",
        "grader.set_answer(\"9XaAS\", grading_utils.get_tensors_shapes_string([W, b, input_X, input_y, logits, probas, classes]))\n",
        "# Validation loss\n",
        "grader.set_answer(\"vmogZ\", s.run(loss, {input_X: X_val_flat, input_y: y_val_oh}))\n",
        "# Validation accuracy\n",
        "grader.set_answer(\"RMv95\", accuracy_score(y_val, s.run(classes, {input_X: X_val_flat})))"
      ],
      "execution_count": 14,
      "outputs": []
    },
    {
      "cell_type": "code",
      "metadata": {
        "id": "UPvfk-Q2oAJM",
        "outputId": "6965858c-4400-453e-d0c8-6e6c5f72021d",
        "colab": {
          "base_uri": "https://localhost:8080/"
        }
      },
      "source": [
        "# you can make submission with answers so far to check yourself at this stage\n",
        "grader.submit(COURSERA_EMAIL, COURSERA_TOKEN)"
      ],
      "execution_count": 15,
      "outputs": [
        {
          "output_type": "stream",
          "text": [
            "Submitted to Coursera platform. See results on assignment page!\n"
          ],
          "name": "stdout"
        }
      ]
    },
    {
      "cell_type": "markdown",
      "metadata": {
        "id": "VYUecatEoAJM"
      },
      "source": [
        "# MLP with hidden layers"
      ]
    },
    {
      "cell_type": "markdown",
      "metadata": {
        "id": "dbIz4yCYoAJM"
      },
      "source": [
        "Previously we've coded a dense layer with matrix multiplication by hand. \n",
        "But this is not convenient, you have to create a lot of variables and your code becomes a mess. \n",
        "In TensorFlow there's an easier way to make a dense layer:\n",
        "```python\n",
        "hidden1 = tf.layers.dense(inputs, 256, activation=tf.nn.sigmoid)\n",
        "```\n",
        "\n",
        "That will create all the necessary variables automatically.\n",
        "Here you can also choose an activation function (remember that we need it for a hidden layer!).\n",
        "\n",
        "Now define the MLP with 2 hidden layers and restart training with the cell above.\n",
        "\n",
        "You're aiming for ~0.97 validation accuracy here."
      ]
    },
    {
      "cell_type": "code",
      "metadata": {
        "id": "5p2gOevboAJN"
      },
      "source": [
        "# write the code here to get a new `step` operation and then run the cell with training loop above.\n",
        "# name your variables in the same way (e.g. logits, probas, classes, etc) for safety.\n",
        "### YOUR CODE HERE ###\n",
        "s = reset_tf_session()\n",
        "W = tf.get_variable('W', shape=(784,10),trainable=True, dtype=tf.float32)\n",
        "b = tf.get_variable('b', shape=(10,), dtype=tf.float32) \n",
        "input_X = tf.placeholder(tf.float32, shape=(None,784))\n",
        "input_y = tf.placeholder(tf.float32, shape=(None,10))\n",
        "\n",
        "hidden1 = tf.layers.dense(input_X, 256, activation=tf.nn.sigmoid)\n",
        "hidden2 = tf.layers.dense(hidden1, 256, activation=tf.nn.sigmoid)\n",
        "\n",
        "logits = tf.layers.dense(hidden2,10)\n",
        "probas = tf.nn.softmax(logits)\n",
        "classes = tf.argmax(probas, axis=1)\n",
        "\n",
        "loss = tf.reduce_mean(tf.nn.softmax_cross_entropy_with_logits(labels=input_y, logits=logits))\n",
        "step = tf.train.AdamOptimizer().minimize(loss) "
      ],
      "execution_count": 19,
      "outputs": []
    },
    {
      "cell_type": "code",
      "metadata": {
        "scrolled": false,
        "colab": {
          "base_uri": "https://localhost:8080/",
          "height": 309
        },
        "id": "9UeDtvSDwjOe",
        "outputId": "bd48a3a8-df5e-4885-92e9-aae5122e5b7f"
      },
      "source": [
        "s.run(tf.global_variables_initializer())\n",
        "\n",
        "BATCH_SIZE = 512\n",
        "EPOCHS = 40\n",
        "\n",
        "# for logging the progress right here in Jupyter (for those who don't have TensorBoard)\n",
        "simpleTrainingCurves = matplotlib_utils.SimpleTrainingCurves(\"cross-entropy\", \"accuracy\")\n",
        "\n",
        "for epoch in range(EPOCHS):  # we finish an epoch when we've looked at all training samples\n",
        "    \n",
        "    batch_losses = []\n",
        "    for batch_start in range(0, X_train_flat.shape[0], BATCH_SIZE):  # data is already shuffled\n",
        "        _, batch_loss = s.run([step, loss], {input_X: X_train_flat[batch_start:batch_start+BATCH_SIZE], \n",
        "                                             input_y: y_train_oh[batch_start:batch_start+BATCH_SIZE]})\n",
        "        # collect batch losses, this is almost free as we need a forward pass for backprop anyway\n",
        "        batch_losses.append(batch_loss)\n",
        "\n",
        "    train_loss = np.mean(batch_losses)\n",
        "    val_loss = s.run(loss, {input_X: X_val_flat, input_y: y_val_oh})  # this part is usually small\n",
        "    train_accuracy = accuracy_score(y_train, s.run(classes, {input_X: X_train_flat}))  # this is slow and usually skipped\n",
        "    valid_accuracy = accuracy_score(y_val, s.run(classes, {input_X: X_val_flat}))  \n",
        "    simpleTrainingCurves.add(train_loss, val_loss, train_accuracy, valid_accuracy)"
      ],
      "execution_count": 20,
      "outputs": [
        {
          "output_type": "display_data",
          "data": {
            "text/html": [
              "<img src=\"data:image/jpeg;base64,/9j/4AAQSkZJRgABAQEASABIAAD/2wBDAAIBAQEBAQIBAQECAgICAgQDAgICAgUEBAMEBgUGBgYFBgYGBwkIBgcJBwYGCAsICQoKCgoKBggLDAsKDAkKCgr/2wBDAQICAgICAgUDAwUKBwYHCgoKCgoKCgoKCgoKCgoKCgoKCgoKCgoKCgoKCgoKCgoKCgoKCgoKCgoKCgoKCgoKCgr/wAARCAEgA2ADASIAAhEBAxEB/8QAHwAAAQUBAQEBAQEAAAAAAAAAAAECAwQFBgcICQoL/8QAtRAAAgEDAwIEAwUFBAQAAAF9AQIDAAQRBRIhMUEGE1FhByJxFDKBkaEII0KxwRVS0fAkM2JyggkKFhcYGRolJicoKSo0NTY3ODk6Q0RFRkdISUpTVFVWV1hZWmNkZWZnaGlqc3R1dnd4eXqDhIWGh4iJipKTlJWWl5iZmqKjpKWmp6ipqrKztLW2t7i5usLDxMXGx8jJytLT1NXW19jZ2uHi4%2BTl5ufo6erx8vP09fb3%2BPn6/8QAHwEAAwEBAQEBAQEBAQAAAAAAAAECAwQFBgcICQoL/8QAtREAAgECBAQDBAcFBAQAAQJ3AAECAxEEBSExBhJBUQdhcRMiMoEIFEKRobHBCSMzUvAVYnLRChYkNOEl8RcYGRomJygpKjU2Nzg5OkNERUZHSElKU1RVVldYWVpjZGVmZ2hpanN0dXZ3eHl6goOEhYaHiImKkpOUlZaXmJmaoqOkpaanqKmqsrO0tba3uLm6wsPExcbHyMnK0tPU1dbX2Nna4uPk5ebn6Onq8vP09fb3%2BPn6/9oADAMBAAIRAxEAPwD9/KKKKACiiigAooooAKKKKACiiigAooooAKKKKACiiigAooooAKKKKACiiigAooooAKKKKACiiigAooooAKKKKACiiigAooooAKKKKACiiigAooooAKKKKACiiigAooooAKKKKACiiigAooooAKKKKACiiigAooooAKKKKACiiigAooooAKKKKACiiigAooooAKKKKACiiigAooooAKKKKACiiigAooooAKKKKACiiigAooooAKKKKACiiigAooooAKKKKACiiigAooooAKKKKACiiigAooooAKKKKACiiigAooooAKKKKACiiigAooooAKKKKACiiigAooooAKKKKACiiigAooooAKKKKACuN%2BOP7QHwm/Zx8JW/jT4veJ5dPtL7U4dN0u2stLub%2B91K9lDGO1tLO0jluLudlR2EUMbvtR2xhWI7KvFv2u/gP8VPiX4h%2BGfxl%2BBd14fl8X/CrxjPrWmaJ4tu57bTdYhudLvdMubaW4ghmktH8q9aSOdYZtrR7TGyu2ACjpH/AAUr/Y71rxm3w8tvHviCDW7fSodU1bTtR%2BHOvWkmi2EhuAt3qXn2SDTIAbWcNLdmFEKYYqWUGbwn/wAFH/2NfGfg/wAQ%2BOtM%2BLFza6f4Y0e11fVBrnhPVdMuJNPuXMdreWtvd2sU19bzyAxwy2ySpM5CRlmIB86vP2GPjP8AHW0/aRP7Qt74V8My/tB/CPTvBskfgrWLrUzo7RWusWsr%2BbcWtqZ1VNRiZDsXeyygogxuy9Y/Y2/at%2BM%2Btaz8UP2lPh38G9X1e0%2BE6eBtB8E6d4n1QaRrSy6jaXt5fXd2bBJ9PYmyg%2BzxQw3BtnDP50hIwAeyX/7fP7N2k%2BAbH4h6tdeOLSHVPED6Jpeh3Xwj8SR67e3yW5uXjh0dtPGoShYAZTIluUCKzFsA49P8JeOfDfjbwTY/EPRbi5i0rULBbyCTVNPnsZY4iu7MsFykcsDAfeSRVZSCGAIIr41tv2Gf2tJfgpJ4W8feGPCnjS%2Bh%2BIcut%2BC9B1n9ofxXb3fgOxOmxWoi0/xbHp7atcSGUXcreZDGBHeGENsjGfUvB/7Bmq%2BKfgJo3hb9pz46%2BOPEfj5PhtdeFtf8Q6T8Q9at9Muhc2tzbyTPpa3SWN5MiXTBbq4tmmdoopWKuibADc8Mf8FJP2MvF/h7xJ4s0b4tXK6Z4W8GXni6/vr7wlqtpFe6BaruuNU09p7VBqtogK5nsvPQmSMAkyIG4n40f8FdP2YfAf7M/wATf2gfhW%2Bs%2BM7v4b%2BDYfEjeGW8L6xps2r2Nw7R2t3avNYFrixlkRh9vgjmtkVWdnCqSPHfC/8AwSh%2BNC/BPxf8LPFnh3w9J4h/4UL4j8A%2BC/Hmo/tD%2BNvECSXGpWEdp5h0jVUkttGtpDDE8scEl0yeVGqFggz6P%2B1L/wAE5vih%2B0BYeKtE0Pxj4d0q2179le%2B%2BGlrLM87GDVpLiOWGdo1iANqNhBIbzBnhO9AHqkv/AAUU/ZZt/E3hrwJeav41tvEni7TpdQ0HwpefCTxLDq8tnFd/Y5LmSwk08XNvCkxG6SaNEVGWUkRsrmXwN/wUT/Y7%2BJGqarpXhD4tyXB0rQ9Q1lbufw1qVvaapp1iwS8u9NuZrdYdVhhYqHeyedVLqCfmGcXwR8APjz4x/apsf2oPjn4f8HeH5JPg5f8Ag/VNE8J%2BK7vVTBcy6tHcpJDcz6fZl4mgiUsTGjJIdoV1USHwGb9hz9pf4bfs8%2BF/Cnxo1rwIPCP7N3wP8SaB4L1PwrfXcmpeKd2hHTLe4vbeW2ii04JZozSQxS3QknZXDxqgQgH0D4U/4Kl/sL%2BNPBus/ELQ/jLdrouheDj4tutRv/BmsWcdzoIKB9Vs/PtEN/ZxmRBJPbCWOLcPMZc167a/GD4c3vxcuPgVZ%2BIxN4qtPDUGv3emRWsrCHTp55beGd5QnlL5ksE6ohfe3kyEKQjEfFX7I/7P3xC8WfBL4Q/Hb9t/Uvhlovww%2BG/7L9z4fgk07W5wmr6bqmnaWby%2B1X7VBDDpkEVppyq0CS3CZleRplWNVrsP%2BCK3wr8d6P8As76n8evit4tbxFrHjW%2Bg03w54hlgaOS%2B8I6JF/ZWiXBD8/6VDDNqhPd9WcgKCFAB9lUUUUAFFFFABRRRQAUUUUAFFFFABRRRQAUUUUAFFFFABRRRQAUUUUAFFFFABRRRQAUUUUAFFFFABRRRQAUUUUAFFFFABRRRQAV4jpH/AAUY/Y91K716z1P4pXnh5vDnhy58QahJ418I6roMc2k27pHPf2smpWsC31ujyRK0tsZUBljGcuufab2K5ms5YbO6EEzxMsUxj3%2BWxHDbT1wecd6/MTV/%2BCOX7cvxf1bwvrnxu%2BOOhvrfhrwfqFnqHijUPit4m8TjxDrf2zSr611E6XfRQ2Wk20lzpi%2BfYWQCiOTassgVAoB9sv8At/8A7MNr8NG%2BLGseIPFWlaW2uQaNY2eufDLX7DVNTv5kMkMFlptxYpe37SIGdfs8MgZUdgSEYjovAf7VnwP%2BI%2Bv2XhPw54h1SHV7/wAKT%2BJIdI1rwrqWmXaabDd/ZJZZYby3ikgdZ/kMMirL32bea8m%2BJ3wc/bd%2BMTfD342654N%2BFWh/EP4UeOptY8P%2BGbXxxqV/ouuWdxpN3plzHcXz6VDNYzFL2SSN0tbgRmIKfMEjYq/En4Dftwa/8ZfDv7TXgfRvhXaeLL74Yar4L8Y6FqXivUpLDSFuL%2BG6tb%2ByuE04SagYhG6yW8sVoJS4xLFjkA7jSf8Ago3%2ByB4j17wL4W8K/EbVdZ1P4k%2BDdK8W%2BDdO0TwPrN7PeaHqL7LXUZEgtGa1t92PMknEa24ZTN5QYE7Hw1/bc/Zu%2BK/xGufhP4Z8X6tZ6/b6Xc6nDZeJ/BmraIt/Y28iRz3dlLqNrBHfwRvLEHltmkRfMQkgMpPlH7Cn7CXxY/Zh1/4caz488QeGrs%2BDv2UvCPwxv30i5nlZtW0t5muZovMgj3Wrb02MxV22/NGmBXjXw0/4JV/tjeJ/ij4X8TftTfGGz1SLT/AHivwv408TQfF/xJrV54il1exS2/tO10y%2Bhj0/QjlSxtLRSi5UCZxGq0AfUvhP/gov%2ByP410WPxVoPjvXP7DuNV0vT9P8AEt78P9btdK1GXUr2OyspLS%2Bns0tryCW5mijFxBI8IMqFnCsCfS/C3xd%2BHnjX4geKfhd4X8Q/a9c8FyWcfie0S0mC2Ml1B9ogjMrII3doSshRGZkWSMsFEibvmHxx4E%2BIvhX/AIJ7eNPgR/wUM8T/AAq8EeAtB%2BGkWgW3xM8O%2BLbsM06RpbWupPaXVnAmmzLMLeSGCO4umM5REcnaG7X/AIJX/D74seG/2RNK%2BKv7RVglv8TvixfS%2BOviJCtu0X2e/v1jMNpsb5k%2By2MdlZ7TkgWuDQB9G0UUUAFFFFABRRRQAUUUUAFFFFABRRRQAUUUUAFFFFABRRRQAUUUUAFFFFABRRRQAUUUUAFFFFABRRRQAUUUUAFFFFABRRRQAUVzHxo0Pxb4j%2BFut6R4F%2BJWpeD9Vksy9p4j0iytLi5sijB2Mcd5DNAzMqsn7yNwN%2BcEgV55%2BzR4s%2BJXx9/4J8/DP4heJPi1d6J4q8XfCjQNW1nxnYafY%2BfDd3Gn289zcpDNC1qjFmkIDRGJd33CBtoA9qrxf49eP/2i/wDhovwL8CPgL4z8FeH01/wV4l17V9T8X%2BC7vWiTp13odvDDDHb6lY%2BWG/tSVmZmfPloAF5JrfsEfEb4kfFL4W6/4r8X%2BPtQ8YeHG8Z3cXw08b6xptraXviPQFgtwl9LHZwwQMrXf21YZYoY0ntY7aYKfN3tzmtfGXw14l/4KpfD74baZpevw3Wk/Bnx8l7car4T1GwtpZP7W8HlfstzcwRwXy7Q%2B5rd5VTC7iu9cptLcuEJVHaPZv7tWdd/wg//AAUL/wCjoPgz/wCGH1b/AOaij/hB/wDgoX/0dB8Gf/DD6t/81FezUUyDxn/hB/8AgoX/ANHQfBn/AMMPq3/zUUf8IP8A8FC/%2BjoPgz/4YfVv/mor2aigDxn/AIQf/goX/wBHQfBn/wAMPq3/AM1FH/CD/wDBQv8A6Og%2BDP8A4YfVv/mor2aigDxn/hB/%2BChf/R0HwZ/8MPq3/wA1FH/CD/8ABQv/AKOg%2BDP/AIYfVv8A5qK9mooA8Z/4Qf8A4KF/9HQfBn/ww%2Brf/NRR/wAIP/wUL/6Og%2BDP/hh9W/8Amor2aigDxn/hB/8AgoX/ANHQfBn/AMMPq3/zUUf8IP8A8FC/%2BjoPgz/4YfVv/mor2aigDxn/AIQf/goX/wBHQfBn/wAMPq3/AM1FH/CD/wDBQv8A6Og%2BDP8A4YfVv/mor2aigDxn/hB/%2BChf/R0HwZ/8MPq3/wA1FH/CD/8ABQv/AKOg%2BDP/AIYfVv8A5qKta/8AG/8AZE%2BFNppGk/HT4w/Dnw5rmoaLBqBtvF3iGwtLu4jkyPP23Dq7IzpIA3TKMM8EDN/4a/8A%2BCcH/R0XwR/8LbR//jtc08Zg6cnGdWKa6OUU/uckz2sPw3xJi6Ea1DA15wkrqUaNaUWu6lGjKLWj1Ta03LH/AAg//BQv/o6D4M/%2BGH1b/wCaij/hB/8AgoX/ANHQfBn/AMMPq3/zUVX/AOGv/wDgnB/0dF8Ef/C20f8A%2BO16doGi/CzxXoVl4p8LaT4f1LTNStI7rTtR0%2BCCaC6gkUPHLHIgKujKQyspIIIIODV0sTh67apzjK3aSf5NnPjsmznK4RnjcLVpKTsnUp1Kab3snOnBN21sm3bW1tTzn/hB/wDgoX/0dB8Gf/DD6t/81FH/AAg//BQv/o6D4M/%2BGH1b/wCaivPPh9/wUa/Yv8X%2BB7Pxh4h%2BHvifQZ9U8ca14W0TRrn4Pa3Peate6dcX8ci2kUOns90TDp887LErmEAxybJFZR2XxC/ao/Za8C2Xj20vNEi0/WPAXhDWvEN5beLPAmraTZ3dnpi/6XPb3UmnOL23iZohJLZJdFRNGwR96K%2Bx5po/8IP/AMFC/wDo6D4M/wDhh9W/%2Baij/hB/%2BChf/R0HwZ/8MPq3/wA1FVbD9qz9jDUPjPJ%2Bz9DeW/8AwlFv4gj0G6j/AOEGvxYQ6q%2BnR6lHYtqDWgtFne0lSZIzKGcHCgsCo2fjX8Vfgr8JP2edd/aH0fwjo3ijTtLsGk0230NbaQardNKIILWKYAoGkuGSHcTtVmJboaAKH/CD/wDBQv8A6Og%2BDP8A4YfVv/moo/4Qf/goX/0dB8Gf/DD6t/8ANRTv2c/iJZ/Fe58Z%2BC/it8DfDXhPxd4B1%2BLTfEOmaTqS6rYOk1jb30Fzb3clpavJG0VyFO%2BCNllhlXDKqu/m3wJ/a31n462lmNJ/ZD8M2F544%2BGf/Ce/B23uvFKlfEGj%2BdBHi/b%2BzwdLuAt7YSPGi3aqt3gOzRstAHo//CD/APBQv/o6D4M/%2BGH1b/5qKP8AhB/%2BChf/AEdB8Gf/AAw%2Brf8AzUV5r4m/a81rT/8Agndo37d/hb9kfwnqNzLoqav4l8JXXi0W0em2arIZ2gvBpztdOrIqohgiD78lowDW18Zf2oPDfw1/bH8NfskaT8NfhNHPr3h601ZdQ8cfEFNDursTX01qbXTrNdOuDqFwqwmTy/MizuVcjO4AHYf8IP8A8FC/%2BjoPgz/4YfVv/moo/wCEH/4KF/8AR0HwZ/8ADD6t/wDNRXKfEL45ePPhh%2B1J4X%2BB/iT9lbwDd%2BG/FFprupw69ovjGe41a00nS7RZZb2XTG0dI%2Bbi4sbbYl2xD3iEFsEV5xoX/BSLwk/w8bxP4y/Zl8I2Os654M8K%2BKfAWi6X4xgvY9Q07xBqsOlWTX9wbKMacYrm4gNwyLcxRxuzxyT%2BW6gA9y/4Qf8A4KF/9HQfBn/ww%2Brf/NRR/wAIP/wUL/6Og%2BDP/hh9W/8AmorjPCvx/wDHnxH8D%2BJ7j4b/ALL/AMMLvxX8PfGV74d%2BI2map8Rza6Rpc9vZ297ut9RXSJHuN0F5bMRJbQeWzSK5Ux/NxOrf8FIPhvH4Z0n4p6P%2BzXosHgyH4ZeD/HXjjUPE%2BtQ6dqOj6b4inmhtUtrMWsq300JglMytNbrnakTTOSgAPaf%2BEH/4KF/9HQfBn/ww%2Brf/ADUUf8IP/wAFC/8Ao6D4M/8Ahh9W/wDmoryvw5%2B3l4C8Q/th6j%2BypD8BfCPnWGt6tps1tD4mifxFYpY2Bu/7UvtH%2Bxj7JpU5CQwXn2iTzHubX92POOzM%2BBf/AAUB0D4y/scWX7Vlp8D/AITahd%2BIbrw1p3hfwn4F%2BJya266rrU1tBBYapOdLgGmyQy3kPnAJOyIsrBWKBXAPZ/8AhB/%2BChf/AEdB8Gf/AAw%2Brf8AzUUf8IP/AMFC/wDo6D4M/wDhh9W/%2BaivI739uC%2Be8tvhnov7Jngv/hYtnP4pHizQ9Z8bpZaRp0WgjT3uWg1I6a7XLTQ6rYTwI9tBmN5WlMPktUX/AA8a%2BEWsyaZ4/wDBvwK8O3Hw1ksvA9xrfinWNaistRt18VPCumva6f8AZZFuo1%2B0wGV2uISP3oiWZoipAPYf%2BEH/AOChf/R0HwZ/8MPq3/zUUf8ACD/8FC/%2BjoPgz/4YfVv/AJqK83%2BDn7Znhv4teLfi1pMPwm%2BE0Vr8LbzxHaz6Rp/xHS78SStpd5LbJLdaV/ZiCxguPJd1kNxLtDRgK%2B4lbX7Ov7ZXw0%2BLX7Jd5%2B1v438B/C5NKhsrWW00z4YeOE8VTSXVxHEYtMkJsLMR6g808NutsA5aSVF3AsBQB33/AAg//BQv/o6D4M/%2BGH1b/wCaiqHgfxx%2B1Z4O/as8OfBH43fEf4e%2BJtG8TfD3xDrkM3hX4eX2i3VpdabfaJborPcavfJLG6apKSoRGDRIQ2Mgz/s3fE6x/aJ/ZPsPj9qXwc03wZrV9Y6ibjRrG9S8Om3Vpc3FuypdLDD5uHgLBgi9enrY8cf8pC/hf/2Rnx5/6dvCFAHs1FFFABXC/tE/tI/CH9lP4az/ABe%2BOOt6lpvh61l2Xd9pvhu/1RrcCN5GkkisYJpEiVI3Z5WURoFJZlFd1XhX/BS3wz8VPiD%2Bw18S/hP8Fvg7rPjfxJ4y8IajoOl6RouoabatFLdWssazyyajd20SwqxUNtdpPmG1G5wAenfF74x/Dz4E%2BCpPiB8TdZns9OS7t7SJbLTLm%2Burq5nlWGC3t7W1jknuZpJHVViiR3YngGvP/FH/AAUF/ZI8G%2BBtA%2BJGvfFC4XSPElnf3ljNa%2BF9TuJba1sZVhv7m9hhtml06C0ldYrmW7WFLaRgkzRtxWD%2B0RafGj4v%2BDvAfxN8Lfs3%2BKLfV/h98QNK8UTeCNX1bRUvdVgNtdWtzawyRahJai4gS7aUCWeOJ5IVVZcHePAZ/wBlj9rjwN4b17xxoP7PEviHV/il4Q%2BIml33hWPxHpkR8JXWveIJtU083ck1ysUtuIrllvGtGuHWWIGGO4VtwAP0CR0kQSRuGVhlWByCPWvnL4TeKv27/jro%2BveO/C/xv%2BEmgaXb/ELxVoel6Vf/AAf1S/uIrXS9ev8ATIWluE8RQLLI8dmrsyxRrucgKABXsGj/AAz1jRvgjpvwj0j4j6rpN7p3h610yLxRpMFq15E0MSR%2BfGl3DPCWOzOJI5F%2BY8HrXkn7Dmj3%2BifspXvhzV/FF/rc8Xxp8cWl7q%2BpJAlzqGfHmrRySyi2iiiDyAsWEccaZYhVUYAAOj/4Qf8A4KF/9HQfBn/ww%2Brf/NRR/wAIP/wUL/6Og%2BDP/hh9W/8Amop%2Bv/tQf8E/fCmu3vhbxT%2B0R8HNN1PTbuS11HTtQ8XaVDPazxsUkikjeUMjqwKsrAEEEEZFVP8Ahr//AIJwf9HRfBH/AMLbR/8A47XK8dgU7OrD/wADj/8AJHvQ4V4pqQU4ZfiGmk01QrtNPVNNUGmmmmmm00002mmWP%2BEH/wCChf8A0dB8Gf8Aww%2Brf/NRR/wg/wDwUL/6Og%2BDP/hh9W/%2Bain6B%2B1B/wAE/fFeu2Xhbwt%2B0R8HNS1PUruO107TtP8AFulTT3U8jBI4o40lLO7MQqqoJJIAGTV79qv4l/Cr9lD9m/xr%2B0l4p%2BFy6tp/grw9cardabpGiCa4uViXOxFjjYjJxlyNqLl3KqrMNaVehXTdOalbs0/ybPPx2V5nlc4wxuHqUnJXSqQnTbW10pwg2r6XSavpe%2Bhnf8IP/wAFC/8Ao6D4M/8Ahh9W/wDmoo/4Qf8A4KF/9HQfBn/ww%2Brf/NRVDSf2s/2P9c8by/DXS/DWvy%2BIbbw4uvahov8AwprXVutPsHju3iluo208NatL9huVijmCSTPGI41d3RWdpn7Tn7MHiaTw7/wiumWCHWfHU3hW9sPEvhLUdH1Gxvo9GutXMLWVzYCZJTa26zKtwtvG8MnmLKzGKObU4S7/AMIP/wAFC/8Ao6D4M/8Ahh9W/wDmoo/4Qf8A4KF/9HQfBn/ww%2Brf/NRVD4Kftf8A7C/7QWjTeI/ht4m0v%2BzovD%2Bn66l/4i8I3eiwXOl3zMtrewSajbQLc28jqUEsRdQ%2BEJDECrv7RvxEb4V6/wCD/hp8IPgB4a8XeM/G17eJpWl61qq6RYwWtnatcXNzPdJZ3ToB%2B5iVVhctJcR52IHdQB3/AAg//BQv/o6D4M/%2BGH1b/wCaij/hB/8AgoX/ANHQfBn/AMMPq3/zUVz2v/tSfC2D9i3w1%2B1/4T%2BClleDxePDtvo3h3VDBZ%2BRf6xf2mnwQXdyI5Ft44rm8RZpVWTaschRZDtVuKtf23F8RX1l8LPBP7M3gK8%2BJSeLvEGgeItGvvHK22hadPo9rb3dzs1Qaa8k7NBeWjpGbSNvmm8zyhA5oA9W/wCEH/4KF/8AR0HwZ/8ADD6t/wDNRR/wg/8AwUL/AOjoPgz/AOGH1b/5qK8u8W/tjavd/B/4T/tGfAv9lrwD4p8E/FyTwtBoI1bxrJp2sifWZolKLaRaRcwSLbQSNcSN9pX5LefAGwFtvwF%2B158O/id8e/F/wu8DfDT4dX2leDbjVbW9t4/GcB8V30%2Bn7ormS10FbRi9sLtHtRNJcxs0kbER7djOAdt/wg//AAUL/wCjoPgz/wCGH1b/AOaij/hB/wDgoX/0dB8Gf/DD6t/81Fef/sB/tm%2BAv24rnX7e0%2BDvga0j0XQ9H1Nr/wAHeKotftbd78XJOl3sn2O2NnqtsLcG4s9snlLcQnzDvxX0j4MGzQzApOyG%2Bu4ogTnaiXMiqv0CgAewoA8u/wCEH/4KF/8AR0HwZ/8ADD6t/wDNRR/wg/8AwUL/AOjoPgz/AOGH1b/5qK9mooA8Z/4Qf/goX/0dB8Gf/DD6t/8ANRR/wg//AAUL/wCjoPgz/wCGH1b/AOaivZqKAPGf%2BEH/AOChf/R0HwZ/8MPq3/zUUf8ACD/8FC/%2BjoPgz/4YfVv/AJqK9mooA8Z/4Qf/AIKF/wDR0HwZ/wDDD6t/81FH/CD/APBQv/o6D4M/%2BGH1b/5qK9mooA8Z/wCEH/4KF/8AR0HwZ/8ADD6t/wDNRR/wg/8AwUL/AOjoPgz/AOGH1b/5qK9mooA8Z/4Qf/goX/0dB8Gf/DD6t/8ANRR/wg//AAUL/wCjoPgz/wCGH1b/AOaivZqKAPGf%2BEH/AOChf/R0HwZ/8MPq3/zUUf8ACD/8FC/%2BjoPgz/4YfVv/AJqK9mooA8Z/4Qf/AIKF/wDR0HwZ/wDDD6t/81FH/CD/APBQv/o6D4M/%2BGH1b/5qK9mooA8Z/wCEH/4KF/8AR0HwZ/8ADD6t/wDNRR/wg/8AwUL/AOjoPgz/AOGH1b/5qK9mooA8Z/4Qf/goX/0dB8Gf/DD6t/8ANRR/wg//AAUL/wCjoPgz/wCGH1b/AOaivZqpa74j8PeFrBtV8Ta9Zadap9%2B5v7pIY1%2BrOQBSbSV2VCE6k1GCbb2STbfoldv7jyb/AIQf/goX/wBHQfBn/wAMPq3/AM1FH/CD/wDBQv8A6Og%2BDP8A4YfVv/moqt8Q/wDgpP8AsD/CwSL4w/a18DrJFnzbbTdcjv5k9jHa%2BY4PtjNecN/wWP8A2d/FrGH9nn4OfF74quxxDL4G%2BHN08LH1Z7nydq%2BpxxXnVc4yqjLllXjfsmpP7o8z/A%2BywPhzx9mNH21DK6/s/wCeVN04fOdb2MF85HqH/CD/APBQv/o6D4M/%2BGH1b/5qKt/srfEb40%2BMNY%2BKHgT46a/4X1bVPAPxCi0Oz1Xwn4audJt7q1l0HR9TVnt7i9vGWRZNRlQsJdpWNDtU5z5KP20P%2BCjXjIZ%2BGf8AwSm1S2t5P9Xf%2BM/idp2nlB2LW%2B1pPwB4rov%2BCdes/GTxBrfx51j9oDwbpPh/xdP8ZoDq2j6HqBu7W2A8I%2BGxEElIG8mERs3ozMBwK0w2YUMXUcaalte7hKK%2B%2BSVzjzvhDNeH8Kq2MqULuXLyQxFCrUWjd3ClUqOKVrNt6Oy6n0nRRRXcfLhRRRQAUUUUAFFFFABRRRQAUUUUAFFFFABRRRQAUUUUAFFFFAGJ8Rvh/wCH/ip4J1D4feKrnV4dO1SERXcmg%2BIb3SrsKGDYju7GWK4hJIAJjkUkEqcgkHzPTv2Af2ZNN/Z1uf2TYtE8Wz/D678MHw7L4dvvih4guVXSyV/0VJpb5po0CqIhscERZiBEZKH2eigDlfg98GvBnwL8Jt4K8B3viOawNyZ1HibxnqeuTRnYkexJ9SuJ5Y4gsa4iVhGp3EKCzE%2BFftAav/Zv/BWT9mqy34/tD4XfEy3x64m8Ly4/8hV9P18b/thaudL/AOCxv7GcBbC33hj4oW7H/tx0ZwPzQVzYufs6PN5x/GUV%2Bp7fD2H%2BtZn7P/p3Wf8A4DQrS/8AbT7IooorpPECiiigAooooAKKKKACiiigAooooAKKKKAPM9S/Zk/Zt%2BNGj6D4p%2BMX7PfgfxZqdv4ftbWDUfEvhOzv544FUusSyTxswQM7sFBwC7HGSapf8MD/ALCv/Rlnwl/8Nzpn/wAYrk/i9/wUg/Yv/Y%2Bl8OfDT9ov4y/8I7rd94Us9TtbL/hHdRu99q%2B%2BJZN9rbyIMvDKNpYN8ucYIJ5D/h%2Bb/wAEsv8Ao6L/AMsnXP8A5CrxcRi%2BHadeUa86Smnrzezvfzur39TReIeIypfVI5xOkqenIsTUgo9bKKrxUd9lFb7anrf/AAwP%2Bwr/ANGWfCX/AMNzpn/xivTtA0DQvCmhWXhbwtotppumabaR2unadp9ssMFrBGoSOKONAFRFUBVVQAAAAMCvlb/h%2Bb/wSy/6Oi/8snXP/kKvp7wD468K/FDwJovxL8C6p9u0TxFpFtqej3vkPF9otbiJZYpNkiq6bkdTtZQwzggHiujA4jJ605LByptpa8nLe3nypaX7ilxdV4k/dTzGWJ5NbOvOry30vaVWpa%2B10lfa/Q8J%2BGH7C/ivwB488Ka1qfxn03UNB8D/ABQ8VeL/AA1pcPhCSC7C67/azz2lxcm9dJTFLqrFJUhi/dwhGQsxkHketf8ABGGXXvFPj3xJefHbw7FceMvAXj/wv/bVr8L0TW7mPxNIri41XUTfF9Uey2iOFAtunljbtTAYe7WH7fnwj1fTrGbSfCniOa%2ButF8W6ld6TL9gt5dLTw5erYajHdyT3aQQMLt0gRml8tiSxdY1d14Twb/wU%2B8D/Hab4caj8BILOWx134z6j4G8bwX99Y6lLp5t/Bur%2BIUNtc6VfXFnK7G0sDvSeZAk00bBJVPlekQddJ%2BwwH8Q6rr4%2BKGDqfx10n4jmIaJ/q/sWkafpv2DPn/Nv%2BweZ52Bt83b5bbdzd58a/gdqH7QH7POu/BLx/4xit7/AFqwaNPEGh6WYBZXSSia1uooJZZctDKkL7WdldoznAbA%2BePFv/BVaV/gh4U8a/CL4U6/4jvdUg%2BHsniPxTL4fgt9G0VvEl3pypBcwDUmuY7hrW981UgN1FA00HmzMpJb6Q%2BMPx48P/CT4BePPj7daNqVzY%2BAvD%2BsapfWVxp81pLcDToZZZVjE6KWVvJYJKoaNwQyMykEgHOfAj9nv4mfC7VPEfjfx18V9B8R%2BJ/HXiyLVfG1/aeDpbGzltIdMisLeysbZr6ZrQL9nglaSWW53M1wNqiVPJ4j9n79hb4m/ACOxuNN/aA0fV7vwN8MW8BfB19R8DSiLQdI82BwdRRNQD6rORZaejyRvZhltOFVpGat/wDZa%2BNnx%2B8Q/FTxN8Bv2lR4RufEWjeCvDviu11LwXpVzZWgtdVk1KA2TR3NzcO8tvPpc2Zw6LKk0ZEUZDLXDfCj9r/9oz4lfELRIro%2BCrDwx8UL3xlpPw42eH7yW90O80a5mitbjUW%2B2qmoRXMVtPO8US2jQkJCJJNxmUAZ/wAMB/tIH/gnNP8AsGP%2B1J4IN7PZyaT/AMJiPhJeCJdHeM5i%2Bxf25n7V5hLC48/y9uF%2Bz5%2Bc9v8AtAfswftBftI/D%2B2%2BEfjz48%2BCbbw5qumWNv47XSvhfcJf388Nz58k2nXEurSJpwYKgQSRXbwspdZCxXb4/q37bX7YXgfwB8SfEfiPWPAGv2/hv4y6T4D8PeKPDfww1Yht6Ww1O7Gjxarc3eqtDdXDWaW1rKkrSW07bWVMVx3xI/4KsftJeGfgH4U%2BJej6B4Xivr/wz421W%2BuV%2BHms6pHqEuh6sLG2t5rG2u1uPDKXER824udRd4tMkJt7nEiNkA%2BydH%2BA/wBk/ai139pnXPFX2%2Be98F2Hhrw/pH2HYujW8Vzc3N3Ism8%2Ba91JLbb/AJUAWxgHJBJ8g%2BGv/BOqTwLceP8AxreXfwik8VeNfDy6KkWi/BJdP8OLbGd57l73S11F5NRmuXZRPI90gZYIVVY9rmTl9f8A%2BCkXjLwl%2B1dbfCzxhq3gbTdLufiNofhKz8B/ZbifxFqNtqem2s0XiG3u1uRC2nre3X2U4tWjPkSf6SspEA6j4Nfti/Gf9of49/EvwJ4Ds/DOkeD7L4f6brvwq8SXmiXeoXGpLNe6nZyahcQRXMX2i0lksDJbRQmN5YCkvmnz1WMA5/V/%2BCX/AI0svgCfgb8L/jX4J8N2niTx63ib4paZB8KHXQvE8YtILSHSI9OtNUtmsdOWG0so3hFxKZ47by5XdJplk7P9o79hDUf2qpfCOnfGDWvhndadpGm2lv4iuofhHu1icpKsl1Fpd/NqEh0i1uVRYXi8u4kETOFmDssi%2BTJ/wU5%2BLVn8NodK1caQnijV/jbP4D8P%2BI5PhN4gi328OgDWZb2Xwp576uk42zWqWZlWSUeVdgrbyCof2iv%2BCqPif4EeF7b4if8AC1vhnd%2BGtH%2BEtr40k1S68M38D/EeUXV5Hf6ZocTX26wubWGzSSWOb7Y8RvoRIirFI9AHrOi/sF%2BN9H%2BNVl4%2BPx50%2Bfw7oPxG8QeOvDWkS%2BCydUh1jVbG%2BtJI7rUftmLqyiXUJzHAtvE4WK2jMxSEBqmu/sA/Ej4iah4t%2BJPxT%2BPugS%2BPtbi8JjQNZ8KfD2TTdM0qTw7qk2q6fJLZS6jcy3ha5nkSYG5QNBiKPySWka18XP2rfi58D/2v/DPwt8SahpGreEPE41GeWzg%2BG%2Bq6fPpFna6ReX3nLrk92%2Bn6ncmWzEZ0%2BGKO5EdwZyPLtpGblfhH/wAFAvi74f0GDxD%2B0/oHhu6bxX8JdK8deB9I8C6dcQ3XnX1ylrH4ec3NzKt5dme60%2BGK6X7OkzzvmGEICwBveJ/%2BCffjXxP8Jbvwbq/xJ%2BHGs%2BJPEXja/wDFPi7xL4u%2BDa6tCuoXEaQxT6TZzaiF02W2gihihkle7wIgXEhLZd45/wCCZ3gLxdffDLwdap4HtvAnww0jQNO0aC6%2BHSXXilbbSJo5YLSHXHuv9HtJDb26zRLal3QTKJV83K8rF%2B2N%2B2ZL%2BwrYftIX9v8ADOw8WaH8X9W8LeOdNTQtQurC5tbLxpc%2BHStj/psUkUpjhSTzpWkXcGPkgMEW5%2B1l%2B3n8afgb%2B1dZfBzwno2hDQ4z4S81NQ8I6jejUxq%2BsTWFx52r29wll4e8iOMPF9ujf7ZITHDuYbaAPStS/Zg%2BMvi74%2B2Pxu8e/GrwpOvhOy16D4fabovw6ltHs21IKmdRnk1KY6gkaImY4ltFlkHmMAQgTBsv%2BCeem/EjxZ4o%2BI/7WfxBXxR4g8STaA0c/wAOI9V8F2%2Bn/wBjfbzZTRGz1SW7Nxu1K53ytdEMq26hFEK1jfC39sT9oHxz8U9CfU7HwdH4N%2BI/ivxn4Y8B2kOlXa6jpd9oc95HDc305umju4bpNNu5THHDA0G6FN8pLMMx/wBrn9r63/Yo1j4oR6R4a1f4g6F8aZ/Buo3Xhb4ZazqtimnW/ioaTc6jHo1peyX05ishLcGNLgndGTwuVoA9U/Zr/Za0b9jf9k%2B5%2BBWh%2BNNX8QRWS6xeNqetaneXUrtczTz7Qbu4uHRVEgXAfDMrPgM7U/xx/wApC/hf/wBkZ8ef%2BnbwhWz8J/iZD8Xv2Y/%2BE9j%2BI2jeK5LrS9Qiu9a0Hw7c6RbvcQvNDLEbG7nnntJYpI2hkhmkMiSxOGCkFFxvHH/KQv4X/wDZGfHn/p28IUAezUUUUAFFFFABRRRQAV4L%2Bx//AMm9av8A9l78c/8AqwNVr3qvBf2P/wDk3rV/%2By9%2BOf8A1YGq0AdZr/7E37GXivXb3xT4p/ZH%2BGOpanqV3JdajqOoeAdOmnup5GLySySPCWd2YlmZiSSSScmqn/DA/wCwr/0ZZ8Jf/Dc6Z/8AGK878f8A/BZT/gm58L/Het/DTx1%2B0d9h1vw7q9zpmsWX/CIaxL9nureVopY98doyPtdGG5WKnGQSOayP%2BH5v/BLL/o6L/wAsnXP/AJCrwZ43hhTalOje7vf2d79b6b3vc0/4ibiaH7pZ5OPLpb63VVraWt9YVrWtayta1lay9m0D9ib9jLwprtl4p8Lfsj/DHTdT027jutO1HT/AOnQz2s8bB45Y5EhDI6sAyspBBAIORWt%2B018E7L9pP9nTx3%2Bz3qGvy6TD438I6hob6rBAJXs/tVu8ImCEgOULhtpIDbcZGc1414B/4LKf8E3Pih470X4aeBf2jvt2t%2BItXttM0ey/4RDWIvtF1cSrFFHvktFRNzuo3MwUZySBzXuPx1%2BMPhz9n34PeI/jf4y0zUbrRvCulS6nrKaVCkk8VnEN08wV3QMscYeVhnO2NtoZsKfQwNbLa0JPByg0nryctr%2BfKlrbuTLiSpxJ%2B9njXieTS7qyq8t9bXlUqWvvZNX3t1PI/EX7E3xC8f6D8XZfHvx9tYvEnxb%2BHem%2BGb7WvCfhWbTYdNksxqIW5iikvp5GRxfgNEZgcRNiQeYNnDfBH/glNF8IvEUPiaH4k%2BELDb8XB45fQfAXwvj0DSIGHhG88OGztrVLyUwhvtQu2lZ5GZ0ZSPnDp6L8Z/8Agoh8Hfgtpfi7XNU8N6nqFj4K8W2fhvWNRHiDQdKtHv7jTYtRCQ3Gr6lZwybIJ4AwD798wVFfZIU5G1/4KO6T4p8fR3/gm4tLjwFrngz4Sa74R1WLQpJ7y6/4TDxBq2mlZke7hWOMRWdmVYAvA0kzslzhYK7iTq/gb%2BxR4h%2BAUfgS78I/Fyyub/wN8DdK%2BHVvLqHhd2hu/sckDG%2BaNLtWXesLAQhzsLg%2BY23a3WftG/ALxx8VPEHg/wCJnwf%2BJ%2BneEfGfgm9vH0rVNa8NPq9jPa3lq1vc209ql1au4P7mVWWZCslvHnehdG8w8G/8FGj8TP2ivB/gjwh8H/E1l4B8R%2BCvFmv2nizVNCWdvEMOk3GnQxz6XHZXM05jf7VK3lT26TzBoGhQgnPpP7Unxo%2BIHw90bwL4W%2BDiaRD4o%2BJPje38O6FqHifS57iy03NleahPcz2sc1vLNttbC4CxCWImRkBZRmgCn4d/ZY1jwF%2By7a/sreDPFPhfUND0zwPYaFY/8J34JbWI7yePcLu51CBbyCO7juE25gQQ7HMjb3V1RPO7P/gmvF4b/Z5f4L%2BEb34SPeat4ym8SeI5/E3wPh1HRku3gS3iOmaSL%2BKPTjbwQ20UBeS42pB84lZ2c9DpX7XXxTf9gnxr%2B0e/w7stY8ceBf8AhK9MvtE0eG4FnqGp6HqV9pss0MYMk628slkZxEDJKsb7Mu4yeT%2BCP7ZnxH%2BPXg/4maP4K/aa%2BEF1f/DDULK71D4paX4Gvb7wzqOjz6ebpmjtk1lWSWGRJ43kW9mjHkHKh2aOIA9I8K/sUeE/BV78DdE8P%2BK7j/hE/gToFza%2BH9AvLUSzXuoHT49NtdRluNwG%2BKzk1FCvlnzHvy%2B5PL2vw97/AME1IL/4mXOop8XINO8FN468ReNLHRdE8M/Zdbh1zW9KvdOvZX1b7SweDGo3UyRi2SRXEAMzJCEbxv4o/wDBTH9sv4Ufs3/Db4k%2BLvCfhCz8SeJ/g9qfjvVbeH4c6xfW08kclu9ppk0Vtfs3h6M291GLjVb6WWzgkDbiAuD758Sf2lfjX8Nv2xPh38JH1DQdU8MfETUPIi0uP4e6rbPpluNMu7hp/wDhI3um027n8%2BzIGnpCly0MwkC7Y2kYA1P2Tv2PvGfwC8YXPj34kfFvR/E2pJ4B0TwZpKeHPBR0K2h0vTHungaeI3dz59yzXT5dWjiVQBHDHufd7J4P/wCQTN/2Fb7/ANK5a1Ky/B//ACCZv%2Bwrff8ApXLQBqUUUUAFFFFABRVDxL4p8MeDNHl8Q%2BMPEdhpOn24zPfaleJBDGPVnchR%2BJr50%2BIP/BXr9hLwZrZ8JeFfipc%2BPddOfK0T4caNPrM02P7kkCmE84H%2Bs71y4nHYLBq9epGPq0m/Rbv5JnvZJwtxLxJNxyrBVa9t3CEpRj/ilZQj6ynG2%2B2p9NUV8j/8Nyft2fFv93%2Bzf/wTL8T2NrL/AKvXPi34gt9CEI7M9nl5nHsrZpD8Bf8AgrX8avl%2BL37Zfgf4Y6fN/r9L%2BFHhJ7y4ZP7n2u/IeJvV0zyOOK4/7XhU/wB3pVKnmouK/wDAp8i/Bn0n/EPMTgtc4zDCYTupV41an/grCrESv5Ocf1PqzxD4m8OeEdJl17xZ4gsdLsYBma91G7SCKMf7TuQB%2BJr56%2BJf/BW79gP4b6l/wjtv8ebTxXrLsUttG8CWc2sz3D/3Ea1V4s%2BzOKxfDn/BHT9ki41aLxV8e77xr8XtcjO4at8TPGFzfFWPXbEjRxbfRWVgBX0L8NPgn8HPgzpv9j/CL4U%2BHPC9qVCtB4f0WCzVh/teUq7vqc0c2d19owpLzbqS%2B5ckfxYey8L8r%2BOrisdNfyRp4Sk/%2B3qjxFdr/tyD9D5uH7fH7Zvxa4/Zk/4Jj%2BNXs5eItb%2BKetW3hxEHaT7M5eWRT22kHBzTl8B/8Fnvif8Av/Efx7%2BDfwvgk/1cHhTwtc61cwr/ALZvSI2cf7Py19bUUf2ZWqfx8TUl5Jqmvugr/wDkwv8AXnLsFplWS4Sj2lUhPFT%2BcsRU5L%2BlFLyPkof8E5f2lfGfzfGv/gqn8YdQL/64eCI7Pw2reuBAsm2lH/BGX9lHUv3vjzx18VfFVw3%2Btu/EPxLvpJJP94xsg/SvrSij%2Bw8qfx0%2Bb/E5S/8ASpv8hf8AEU%2BPYaYbG%2BwXajToUF/5Sw8H/wCTM%2BS/%2BHIH/BNuT5r74K6rdP3ln8d6wWP1xdCl/wCHHv8AwTSTmD4EahE39%2BPx1rIP/pXX1nRR/YOSf9A1P/wFB/xFfxQ/6HeL/wDB9T/Ox8ln/giv%2BxLpv73wOnj7wxP2udA%2BIupRyD8ZJXH6UD/gkrokH7rTf%2BCg37Utnbj/AFdra/F9hHGPQA25P619aUUf2Fk62openNH/ANJlEP8AiKviNL%2BJmdSf/XxUqr%2B%2BrQqv8T5L/wCHQ/w61D5PGP7Zf7R3iKL/AJ4a18WZXTHp8kSH9at6H/wRd/4J42GoLrXif4O6h4pvk%2B7eeKvFuo3rY9CjThD%2BKmvqmimsjydO7oRfqnL/ANKciZ%2BKfiNKDjHNa0E/%2Bfco0v8A0zTonnHw8/Y8/ZP%2BExST4a/s1%2BBtEljxtutP8LWscxPqZRHvY%2B5Jr0ZVVVCqoAAwAB0paK9GlRo0I8tOKivJJfkkfHY7MsyzSt7XG151Z95znN/fOUn%2BIV4z%2By//AMlv/aO/7LNY/wDqFeF69mrxn9l//kt/7R3/AGWax/8AUK8L1ocR7NRRRQAUUUUAFFFFABRRRQAUUUUAFFFFABRRRQAUUUUAFFFFABRRRQAUVzXxik%2BJsPwy1if4Oa1oOneJYrXfpl74m0qa%2BsYirAuZYIJ7eSUeWHwqyx/MVy2M143H%2B2D4%2Bh/4JpeDv2w5/DGkXHi/xb4A8M31tpaCWLThrOsrZQwqQXeRbZbq9TI3s4jUjcW5oA%2Bia%2BFP%2BCi%2Bpf2L/wAFaP2IdT3YzceObbP/AF2i0WLH/j1fSH7LXxd%2BKPjnWPiJ8KvjZPoF54n%2BG/jCHSLvWvC%2BlT2FjqsFxpdjqUFwlrPcXMluwW9MLRmeXLQFwwDhV%2BLf%2BCpXxu%2BFOv8A/BVD9jnwt4J%2BKHh7V9c8MePtUsvE2j6VrUFxd6Q91faBGiXUMbl7cth8Bwudpx0Nebm8uTL5y7OP/pdM%2B18O6H1rjDD0f5o119%2BFxf8AkfpbRRRXpHxQUUUUAFFFFABRRRQAUUUUAFFFFABRRRQBleBv%2BRJ0f/sF2/8A6LWtWsoeDNDTKwNfQpkkRW%2BrXMaL7KqyBVHsABS/8IfpP/P3qv8A4PLv/wCO0AalFZf/AAh%2Bk/8AP3qv/g8u/wD47R/wh%2Bk/8/eq/wDg8u//AI7QB4f4g/4Jp/s%2BeJfEfxm8S6hq/iYS/G3Traz1y3TUYfJ0QRKS0mmoYSIGmnIuZhL5qSzKpZSvyF/gr/gnd8OfC3i6P4heIPjF4%2B8U%2BID8TpPHd5rHiC90/wAy71NvCs/hfy2S1soYktxYTlljiSPEyI2dm6Nvbf8AhD9J/wCfvVf/AAeXf/x2j/hD9J/5%2B9V/8Hl3/wDHaAPnL/h1J8GLPwvoHgHw58Z/iRpHh3SLHwhDqmg6dqeniDxBN4aa1OmXd4z2LSibbZWyS/Z3gjlSJQyfKuPoHWPh1pHi3wPrvw6%2BIV9c%2BI9J8RQ31tqVrqkcKhrK6Dq9mPIjjBiWNzGpbMhUDe7tljc/4Q/Sf%2BfvVf8AweXf/wAdo/4Q/Sf%2BfvVf/B5d/wDx2gDzP4Hfse6X8C5NS1nTvjn478Qa/qkOi2N14o8TT6bPfHSNKkle00keXZRxfZh9ouwzmM3LG8mcz%2BYVkWH4W/sQ/Dj4UfGH/hbOk%2BOfFWoQWV1rd14X8I6pdWraV4cn1e7F3qUtmsduk5aabcR580whWWSOERRuUr1L/hD9J/5%2B9V/8Hl3/APHaP%2BEP0n/n71X/AMHl3/8AHaAPJm/YU%2BG1t8CfDfwR8PeP/Fuk3HhLxXL4o0TxtZXVm2sR63Nc3Vxc6g5mtntZpJ3vbzzVe3aNhcuNg4xy%2Bp/8EwvhdP4ej0rw98c/iToWoXmla7pvi/xDpWo6ab3xVbaxfNf6gt751jJFGz3Ekjq9pHbPCJGSJo0wo%2Bgf%2BEP0n/n71X/weXf/AMdo/wCEP0n/AJ%2B9V/8AB5d//HaAPOtQ/ZG8Max8QvDnifW/iZ4qu/DHg%2Be1ufC3w0lOnroWnXVvam2guBstFvJmRWZ1Sa5kiWUiQRhkjKcx4S/4Jm/sl/CX4n698Zv2b/hto/wp8Ta34NtvDkWq/Drwlo1g2mQw3M1wbi3RrF0E8jSqknmLJHIlvApj%2BTJ9s/4Q/Sf%2BfvVf/B5d/wDx2j/hD9J/5%2B9V/wDB5d//AB2gDxiP9gDwamly6o/xw8eyeOZfHS%2BL1%2BKMkmlHWYtUXSzpAdIvsH9nrF/Zxa18n7J5ZV2fb5p82pL39gTwNefC3Q/gOnxk8dw%2BA7C3kj8S%2BEEudOa38XmW7e7uX1KaSya6JuJpJWmW2mt0kWV0K7Dtr2P/AIQ/Sf8An71X/wAHl3/8do/4Q/Sf%2BfvVf/B5d/8Ax2gDzrxB%2Bybp3jf4xaV8U/iV8avGfiXTvD%2BtT6t4b8CaqNLXR9MvJbOezMq%2BRYx3c4WC6uVVLi4mRTMW25SMpynw3/4Jn/s1%2BENEufCnxLsrz4qaL/wjuneHtE0P4qWOnatZ6LothK8tpp9vF9kRXSN3B864865cxRb5n8tMe4f8IfpP/P3qv/g8u/8A47R/wh%2Bk/wDP3qv/AIPLv/47QB893H/BLH4EaF%2BzPe/so/A/xr4j%2BF3hfVPiHfeMdUPw/wBK0G3mu7y41R9SSBxcaZPELeCT7PDCFjWRbeytoWkdEIbd8c/8E/vBXxF8Vt4n8U/G/wAfyxatZaFB490mK40yO08ZyaTL5ttcX4WxDwyM3%2BtFi9pHIoCFNgCj2f8A4Q/Sf%2BfvVf8AweXf/wAdo/4Q/Sf%2BfvVf/B5d/wDx2gDyjwN%2Bwz8Pvh/8WZvipovxH8XyRW99ruoeF/C91c2T6Z4Z1DWJjPqN7ZqLUTNLLK8zgXEs8cf2iZYkjRytU/hD%2BxJ4l%2BCvw68R%2BAPCf7bHxZll8R%2BKrnxA2v31l4Xa8sLy6uprq88lU0RbcpPLO5dZYZNmFEXlY59j/wCEP0n/AJ%2B9V/8AB5d//HaP%2BEP0n/n71X/weXf/AMdoA4z4ffBDwv8As9/AXVfh54X1fVNTEn9r6pqesa5cJLealqF7NPd3d1M0aRxh5J5pG2xokaAhUREVVGB44/5SF/C//sjPjz/07eEK9RPgzQ3ws7X0yZBMVxq1zIjezK0hVh7EEV5d44/5SF/C/wD7Iz48/wDTt4QoA9mooooAK534r/FfwD8EfAV78TPibrjafo9g8Ec00VnNcyySzTJBBBFBAjyzzSzSxxRxRo0kkkiIiszAHoq8g/bX%2BG/j74h/CfSL74ZeGW13WPCfj/w74nh8OpdwwPq0Wn6nb3E9tHJO6RLMYUkMXmukZlWMO6KS6gG3ZftW/AS%2B%2BBd1%2B0injpofCFjJPDfXt5pF3b3Ntcw3JtJLSSyliW6S6Fypg%2BytEJjLiMIXIU413%2B3P%2BzZZeBrHx7J4m8QSR6j4gl0O00K28A61NrralFA9xLato8dmdQSRIEadg1uNsW2Q4RlY%2BWeFfgT478T/ALO3xQ8PfGT9n7xnbXfjvxveeONP0Dw5r%2BjLqWl3CX8EmnW8M7Xv2ZdSiNha3pLObQSybPOlAbPkDfsR/tFNpR%2BJ3xI%2BG/xN8YJ4n%2BOl54y8QeH9O%2BIWl6R46sbf/hFLbQbSRdT068sLOB2az3zQ2N1CnkXEcQaVY5UlAPvX4dfEPwV8W/AWj/E/4ceIoNW0DX9Nhv8ASNSts7Lm3lQOjgMARkEZBAIOQQCCK8e/Y/8A%2BTetX/7L145/9WBqta/7LPwY%2BKXgX9iDwR8C/GniiXwl4o0nwbaabcah4VhsHl0lo0CokQltpLSSSNAqM3kNG7BmVcEVk/8ABPfw1Jafsx6j4V8R%2BIb3X5Lf4tfEKC61bVEgS5vnTxprQM8gto4olkYjcfKjjUMflVRgAA96orK/4Q/Sf%2BfvVP8AweXf/wAdpf8AhD9J/wCfvVf/AAeXf/x2gDUqpr2haP4o0O98M%2BItNivNP1G0ktb6zuE3RzwyKUeNh3VlJBHoarf8IfpP/P3qv/g8u/8A47R/wh%2Bk/wDP3qv/AIPLv/47QB8/eCf%2BCYPwo%2BGnwj8B/DD4efGr4j6VqHw%2B1vU9U0vxyup6fc63eS36TRXQupLmykgk3RTeUrrCksaQxCN02kmx4G/4JifAP4f%2BGvD3hXRPFvjCS28NeGvh5odg13qVs8j23g3VbvVNLaRvs43SSz3kq3DcB0VBGIWBdvef%2BEP0n/n71X/weXf/AMdo/wCEP0n/AJ%2B9V/8AB5d//HaAPEPht/wTu8C/Cn4iaX8QPCXx1%2BIir4X8N67oXgPQri802Sw8LWeqzW00yWiGx3ymJ7SDyTdPcbFTYdyfLXpHxz%2BAeifHfwbpfhzV/Gmu6Jqmga1a6x4e8WaA9quo6ZqEAZVuYhPBLbsWjkmidJIXjeOaRSmDx0//AAh%2Bk/8AP3qv/g8u/wD47R/wh%2Bk/8/eq/wDg8u//AI7QBxfw2/ZtsPhF8MIfhX8Pfir4qsLVNO1dbjUSbCa8utU1K6a8uNakeW0ZTe/aZbiYAKLYvcyboHAjCczc/sK%2BANd%2BCvxB%2BDvjv4n%2BMvEc3xVbb4/8Xapc2Meqatb%2BRFbG0P2a0itoLc2sX2fy4YIxsllYYlkeU%2Btf8IfpP/P3qv8A4PLv/wCO0f8ACH6T/wA/eq/%2BDy7/APjtAHlf7Rf7Efgj9onXpfEM3xR8ZeD5tQ8HXPhPxGng66so01vQ533vYzi6tZzEATJtmtjDOgmk2yjIxb1L9kLR9e%2BJvh/xr4l%2BM/jTUPD/AIT1eHVPC/w6mbTI9F0y7htmt4ZFaGyS9lEau7rHNdSRh2DbfkQL6T/wh%2Bk/8/eq/wDg8u//AI7R/wAIfpP/AD96r/4PLv8A%2BO0AalZXg/8A5BM3/YUvv/SuWsD4leJfg58G/C83jb4s/EuPw3pEHEmo654umtoQeyhpJgCx7KMk9ga%2BdJP%2BCpWj/EaR/BP/AAT3/Zj8Z/GK5gdoV1y2tG0nw9BJnB8zULsDLA5ONvz4JDd64sVmOCwclGrNcz2iruT9IpOT%2B63mfTZFwbxNxHSlXwGGk6MdJVZONOjD/HWqSp0o%2BnO5dovY%2Bv68b/aK/wCCgH7IX7K9x/ZPxl%2BNul2ersQsXh3T999qUjH7q/ZbcPIu48AsFX3ryI/sm/8ABQ39qT/Sf2vP2uY/h94euOZfAHwSia2kaM/wTapODKTj5XVQyNk4Ir2X9nL9hP8AZQ/ZSi874J/BnStO1JgftHiC6Q3epzk/eL3UxaX5iSSoYLk8AVy/Wc0xX8Ckqcf5qm/ypxd//ApL0Pe/sXgPINc1x8sZVX/LrB6QT7SxVaKi/P2FCp5T6nkC/t9ftg/HM%2BT%2Bx9/wTw8UNYS/6rxb8W76Pw/ZgdpUtiWmuIz2KEHHanL%2By5/wU9%2BNp%2B0ftAft66V4CsZf9d4c%2BDPhcIRn%2B7qF5%2B/QjpwCO/avrmin/Zc62uJrzn5J8kfuhZ/fJk/6%2BYfLvdyPK8NhrbTlD61W9faYnnin/goR8j5V8Of8EcP2NF1eHxR8ZYPGPxV1mE7l1X4m%2BMrrUnLdyY1aOJs%2BjIRX0X8PPhT8L/hHoo8N/Cr4c6F4a08AYstB0mG0i46fLEqgn3rforqw2X4DBu9ClGL7pav1bu382eDnfGPFfEcFDM8dVrQW0ZTfIv8ADTjyU4/9u01bpYKKKK7D5sKKKKACimTzwWsTXFzMkcajLO7AAD3JrjPGH7S37Ofw9ha48e/H3wVoiJ959W8U2lsB/wB/JBUTq0qSvOSS82l%2BbRnUrUaMb1JKK82l%2BbR21FfOutf8FbP%2BCb%2BgX7adfftc%2BFZJE6tZSTXMf4PDGyn8DWRrH/BZ/wD4JlaJb/abn9qnTZsnCx2OiajcOx9NsVuxrglnGUR3xEP/AAOP%2BZ5ss/yKF%2BbFU1b/AKeQ/wDkj6hor5K/4fP/ALJOo/vPBvg/4peIoT/q7jRPhrfuj/QuqH9KB/wV8%2BGUnzWn7Hv7Rc6H7ssPwmmKn6ZlFR/bmUdK0X6Xf5RZl/rJkPTERfpzP8oM%2BtaK%2BSj/AMFjPgJph83xv%2Bz78cvDNv8A8/evfC26jjx65jZz%2BlW9K/4LZf8ABMzUpPstx%2B0mun3CnEltqnhXVbd4z6NvtQv60LPMnbs8RBer5f8A0pRGuJMgbs8VBesuX/0pRPqqivnI/wDBXL/gm6IRP/w1x4Y2kZA/f7vy8vIrE17/AILR/wDBOzTZ10zw18a7vxTqMgzDpfhXwtqF7NJ9NsATPsWFXLOcoirvEQ/8Dj%2Bjf5Fy4gyKCu8VT/8AA4v8m3%2BB9UUV8kD/AIKf/Evxp8vwM/4Jp/HbX1b/AFF54h8Pw6HaTehWWeRsr7kCnL%2B1p/wVUuh9otf%2BCS1pFG/MaXPx10kSAdtwEXB9u1R/bWAfwc0v8NOo19/IjP8A1hyyX8Pnmu8aVWS%2B9U0j61rxn9l//kt/7R3/AGWax/8AUK8L15efjp/wWH8YHyfDn7Cfw38HMeBN4t%2BJw1FAfXFigOPbrXRf8E6v%2BF6/218eT%2B0r/wAIr/wmx%2BM0B1oeCftP9mDPhHw35Ih%2B0/veIfKDbv4w%2BOMV0YbHQxU3GMJrzlBxX/k1nf5HVhMyp42o4Qp1ErXvKnKC9Lys7%2BXL8z6UooortPRCiiigAooooAKKKKACiiigAooooAKKKKACiiigAooooAKKKKAML4meDtU%2BIPgPU/BejfEHWfCtxqNv5KeIPD8NnJeWYJBZolvbe4tySAVPmQuMMcAHBHlHgn9g/wAKeGP2VrX9jvxN8cPHnirwhp/hCDw9pba42lQ3tlBbeWLO4jmsbC3IuLYQxeXIQeY1Zw75Y%2B6UUAcD8Av2f9H%2BAmm68Y/HOv8AivXPFevnWfFPirxQ1p9u1S7%2BzW9ojOtnb29vGsdta20KpFDGoWEEgszM3xH/AMFt/wDQP2sP2WfFnT%2Bwdc1HUN393brvhRM/%2BRK/Rqvzl/4L0f6Dq/gPxX0/sHwRreobv7u3xV4ITP8A5Eryc9/5E1d9o3%2B5xf6H6B4U6%2BJGVQ/nrKH/AIMjVp/%2B5D9GqKKK9Y/PwooooAKKKKACiiigAooooAKKKKACiiigAooooAKKKKACiiigAooooAKKKKACiiigAooooAKKKKACiiigAooooAKKKKACvGfHH/KQv4X/APZGfHn/AKdvCFezV4z44/5SF/C//sjPjz/07eEKAPZqKKKACiiigAooooAK8Z/YP/5Ihrn/AGWb4j/%2BprrdezV4z%2Bwf/wAkQ1z/ALLN8R//AFNdboA9mooooAKKKKACiiigAooooAKKK%2BUvjz%2B3l4%2B8ffFG7/ZN/wCCeXhiw8Z%2BPrVxH4p8X35ZvD3g1CSC1zKnE9wMECBMncpyGKNHXLi8bQwVNSqPV6JLWUn2it2/wW7aWp7/AA9w1mvE2LlRwcUowXNUqTahSpQW86tR%2B7CK2V7yk7RhCc2onvHx2/aL%2BCH7MvgmT4h/Hj4l6X4a0lCVSfUJvnuHAz5cMSgyTPjnZGrNjnFfNg/ax/bq/bRYWP7D3wPX4eeDLjgfFr4rWRSW4jP/AC00/TBlpMjlJJcxsDghDXI3/wAP/wBgX9ifxxH8c/8Agol%2B1Va/E/4wHa0d34o/02WwYnKpp%2Bj24k%2Byx7sFW2HaeVZMkV3g/wCCofxD%2BJp8r9lH/gnj8XvHCt/qNW1%2Bwi8OaXP6FLq6LZH1UYrwK2YSr1HDEVvZL/n3T9%2Br/wBvSipcvpFX/vnqYrizwz4KqvD4FRzLGR3qVYzdCD/6dYSN6lW3SeKlCL3VC2hrfDP/AIJSfBK38VQ/Fb9qvxfrvxx8bR8jWPiFP51jak8lbbTgTBDHkAhGEm09CK%2BndN0zTdG0%2BHSdH0%2BC0tbeMR29tbRCOOJBwFVVACgegr5PPjj/AILS/Evjw98Dvgn8M7eT758VeJbzWbqEf7P2ICJmHvxR/wAMTf8ABQb4lfvPjl/wVE1zT7eT7%2Bk/DPwXZ6R5XqFuyWlb6svFdOFq0cNFrB4Oeu7aUL%2BblUlzP539D4/PfEHibiurGeLjXrqOkFJRpUoLtTptwp04%2BUKMfO%2B59bkhQWYgADkmuT8S/Hv4F%2BC5TB4x%2BNHhPSXBwU1PxHawHP0eQV86r/wRh/ZQ8SsJfjr45%2BKfxQlPMknj34k3s5c%2Bp%2BztDXW%2BGf8Agkt/wTh8JxiLS/2RfCkoAxnU4pb0/ncO5rr9tnU/howj/im2/wDyWFvxPB9vxFU%2BGhTh/iqSk/8AySml%2BJ2uvftzfsW%2BGNOm1TXP2tPhvBDAm6T/AIrWxdsegRZSzH2AJNeQXv8AwWL/AGc/EuoS6V%2Bzf8KPir8YpYXKTz/DjwBcXFtCw675Z/KAH%2B0oYV6hov8AwTz/AGEfD19FqekfsefDaK4gcPDKfBtm7Iw6EbozyPWvXdO07T9IsYtM0mwhtbaBAkNvbxBEjUdAqqAAPYUvZ53V0lUpwX92MpP/AMnaS%2B5h7LiKtpKrSpr%2B7CU3/wCVHGK%2B5nygP2%2B/21/Efz/Dj/gkv8QLpD9w%2BJ/GGnaM34iXfig/tIf8FcfEf7rRP%2BCbPhLw2z/dm8Q/GG0vEj92FrGCfwr61op/2fjJfFi5/JU4/wDtjf4h/ZWPl8eOqfJUo/lTb/E%2BSf7A/wCC2fjr5dU%2BIH7P3gS3f7raLpWqandxD/aFwREx%2BnFC/sL/ALfHiw/afih/wVi8Vl2/5d/CHgHTtJjjH90MhYt/vHmvraij%2Bx8PL%2BJUqT9akvyjyIP7Bws/41WrP/FVn%2BUXBHyV/wAOu/H99%2B%2B13/gp7%2B0lJN3bT/HMVqn/AHwsBFB/4JQHUf8ARvFX/BRb9p3VLM/6yxm%2BKWyOX2bZbgke2RX1rRR/YmV9ad/%2B3p//ACwP9XMme9K/rOo//cp8mQf8ES/%2BCfd9Mt78QPh/4k8YXSnP2vxR481SdyfU%2BXOin8q7Pwh/wSs/4J1%2BCJluNF/ZB8GTMn3f7X046gPxF00gP419AUVcMmyim7xw8L/4U397TNKfD%2BRUZc0MLTv35It/e02cpofwH%2BB3hiwXS/DXwa8Kafap9y2sfDttDGv0VEAFa%2BkeBvBXh%2B4%2B2aD4P0uymxjzbTT442/NVBrUorujSpQ%2BGKXyX%2BR6UaFGFuWCVuyS/JBRRRWhqFVNU0LQ9ci8jWtGtLxMY2XVusg/Jgat0Umk1ZiaTVmcuPgh8FxMbgfCHwv5jHLSf2Bbbifrsra0Pwv4a8MQtbeGvDtjp0bnLx2NokKsfUhAM1eoqY0qcHeMUvkv8iI0aMHeMUvRJfkgoooqzQK8Z/Zf/wCS3/tHf9lmsf8A1CvC9ezV4z%2By/wD8lv8A2jv%2ByzWP/qFeF6APZqKKKACiiigAooooAKKKKACiiigAooooAKKKKACiiigAooooAKKKKACiuO/aD%2BM2hfs7/A7xZ8c/EmmXV9Z%2BFNAudSk0%2Bx2%2BfeNFGWS3i3EL5kjBY13EDc4yQMmuG%2BGP7VHjjWND%2BJWmfF74JDR/GnwwtY7zVfC3hDXn1xNTtprH7ZbPZTvbWryvJtmg8toUImgcAshR2APaq/Pf/gu3o/8AbfhKWz258v4EeLbj/v14p8Cy5/8AHK%2Bgf2Cv28bf9tuLxI9l4a8KpD4fs9Kuf7Z8CePB4j0qR76KaQ2D3X2S28rULYRKbi12N5S3Nud7eYQvk/8AwV60f%2B3BqNltzs/Zf%2BJNxj/rlqfhCX/2SvOziHtMpxEe8J/%2BkyPsvDnEfVPELJ6/8uKw7/8AK1P/ADPs3wbq/wDwkHhDSteDbvt2mwXGfXfGrf1rSrhP2W9Y/wCEh/Zl%2BHWv7t327wJpFxu9d9lE39a7uuyhP2lGE%2B6T%2B9J/qfN5nh/qeZ18P/JUnH/wGc4/%2B2hRRRWpwhRRRQAUUUUAFFFFABRRRQAUUUUAFFFFABRRRQAUUUUAFFFFABRRRQAUUUUAFFFFABRRRQAUUUUAFFFFABRRRQAV4z44/wCUhfwv/wCyM%2BPP/Tt4Qr2avGfHH/KQv4X/APZGfHn/AKdvCFAHs1FFFABWb4w8ZeEPh54Xv/HHj/xXpuh6Lpds1xqesaxfR21rZwqMtJLLIQkaAdWYgCtKvEP2/vDfiLXfgno2raJ4U1LX7Tw38S/Cuv8AiDQ9H06S8urzTbHWrS5uDFbRK0ly8Kx/aRCitJJ9n2oruVUgHpmmfGH4R618Mh8a9H%2BKXhy78GnT3vx4tttct5NMNogJe4%2B1K5i8pQrZfdtG05PFZn/DSv7OX/CpP%2BF/f8L/APBP/CB5x/wm3/CVWf8AZH%2Bt8r/j88zyf9Z8n3/vfL14r5k8NfD20%2BJP7J/xb8PeL9C8deEdO8T/ABLv/HnhO2/4Vlql1d2drFrMF3ayvpot/Mma4vbN7yTTsLcvDdkPHG0hx5Knwi/amv57P9pHxz4w8c2Hh/U/2nLzxXdal4Q%2BDVwms2GnHwTFosGoW3hy7gv7i1B1G3kURzwXMyx3f2l0VnaSIA/Rzwr4r8L%2BOvDVh408EeJLDWdH1W0ju9L1bSrxLi2vIJFDJLFLGSkiMpBDKSCCCDXlH7B//JENc/7LN8R//U11ur37Peq/tJ%2BOP2RfDureO307w38SL7Qg00%2BveGXkihl3ny5rrT4biBkkeIJJJbrNH5cjsmRtxWH/AME6bfxLafs3X1r4y1axv9Xj%2BLfxDXU77TNOe0triceM9a8ySKB5pmhQtkhGlkKggF2xkgHulFFFABRRRQAUUUUAFc38Wvi/8MPgR4Cv/ih8YfHGn%2BHtA0yPfeanqU4RF9EUdXdjwqKCzEgKCSBXjP7dv/BST4K/sRaLDoN4kniv4hauoTwz8PNDfzL69kc7Y2lCBjBEWOAxUs%2BCI1cggeG/AH9gX9oL9tvx3p37WX/BVu8%2B0RW0gufBfwTgBTS9IQ8q95Dk73PBMTFmYACZmGYV8bFZrL6w8Jgo%2B0q9f5Iec5L8Ir3n2S1OeviaVOPLTanVe0E9V/eqNX9nDtf35vSnB6zj4x8ff%2BCrXxh/b48ZXnwS/ZE%2BHfxNtvh0kjW%2Bsar4B8OPceINeXvGkx/c6VbP0MrFpQCCUILR17N%2Bz7%2BwD%2B174z%2BG1j8M/FXiez/Zx%2BFsXz/8K4%2BFV8J/EGo5A3PqWssCTMwGGMe4MuFKrgY%2B89G0TRvDmlwaJ4e0i1sLK2QJbWdlbrFFEo6KqKAFHsBVquShw/Odd18dXlUk%2Bi9yNv5VZ83L5KUb/acunqZtm%2Bd57ldPKsTVVLBQal9Xw8XSpzna3tK8%2BeVbEVLXSlVqKMU2oU4RbT8b/Z0/4J//ALIf7K7rqXwd%2BCmlWusZLS%2BJdSVr3U5XPLMbqcvIu48kKVXPavZKKK96hh8Phaap0YKMeySS/A8zDYXC4OkqWHgoRXSKSX4L/N%2BYUUUVsbhRRRQAUUUUAFFFFABRRRQAUUUUAFFFFABRRRQAUUUUAFFFFABRRRQAUUUUAFeM/sv/APJb/wBo7/ss1j/6hXhevZq8Z/Zf/wCS3/tHf9lmsf8A1CvC9AHs1FFFABRRRQAUUUUAFFFFABRRRQAUUUUAFFFFABRRRQAUUUUAFFFFAHHftCfBnQ/2ifgb4s%2BBniTVLqws/FegXOmyahY7fPs2ljKpcR7gV8yNisi7gRuQZBGRXlvh79jT4maj4f8AiZbfGP4%2B2Gr6z8XNGn0rxfrfhbwjNo72toNNFjZppytf3BtWi33M7PI05kluCV8pUVB9B0UAeKfsvfsseN/gr488Q/FP4o/FPRPEuva54U0Hw1EvhfwWdBsLbTtJN81uTbm7ui9wzahPvk8xU2JCiRRhDu8T/bs%2BBfwo0X40eKPEPgj4X%2BHtI17xn%2Byj8Vh4j1nStEgt7vVpVm8MiJ7maNA9wyl22lyxG446mvtevnP9qPR/%2BEh/am8OaBt3fbv2c/iXb7fXffeE1/rWGKh7TC1Id4yX3xkv1PVyHEfU89wmI/kq0pf%2BA1aUv/bTqP8Agndq/wDbn7Bfwavy24j4ZaJCx9THZRRn9Ur2SvnL/gkZrH9uf8E3fhJe7s7PDJt8/wDXK4li/wDZK%2Bja58rn7TLKEu8If%2BkxPW48w/1TjnNaH8uJxC/8r1f8wooorvPlAooooAKKKKACiiigAooooAKKKKACiiigAooooAKKKKACiiigAooooAKKKKACiiigAooooAKKKKACiiigAooooAK8Z8cf8pC/hf8A9kZ8ef8Ap28IV7NXjPjj/lIX8L/%2ByM%2BPP/Tt4QoA9mooooAKKKKACiiigArxn9g//kiGuf8AZZviP/6mut17NXjP7B//ACRDXP8Ass3xH/8AU11ugD2aiiigAoorM8aeM/Cvw68Jal488c6/baVo2j2Ul3qeo3kgSK2gjUs7sewABpSlGMW27JClKMIuUnZIb458c%2BD/AIZ%2BENR8f/EDxJZ6PoukWj3OpanfziOG3iUZLMx6fzJIA5Nfmp%2B0H/wVk/aa/bO%2BKNr%2Byb/wS98DXthJrS5k8fatbGG4NlwHvIo3U/YrUAgi4lBkfcBGivjPCftZftIfHX/gqD8X/Dvwi%2BE/hWePwzq9z9q%2BHPgfUUKLqkCNhvE%2Btrg%2BXYR4Jt7dwfOYAlXHyyfor%2BxZ%2BxN8M/2MPh7LoPhqeXWfE2sutz4x8Z6kub3WrvnLu3JSJSSI4gcID/ExZm%2BPnjMdxFipUMHN08PHSU1pKXlF9LrrvZ3drxT93LskwryWGeZ25RoVk3hcPFuFTFJNp4irNWnRwaknGnyctbFyUvZypUFKrLk/2Ev%2BCafwi/Y0sZPHGr3kvjX4oawDL4l%2BIuv5nvJ5XH7xIGkLNDGSTnBLydXZsKF%2BkqKK%2BowmEw2BoKjQioxX9Xb3bfVttvueEoUoXVOEYL%2BWMVGK9EtF%2BL7tu7ZRRRXSMKKKKACiiigAooooAKKKKACiiigAooooAKKKKACiiigAooooAKKKKACiiigAooooAKKKKACvGf2X/wDkt/7R3/ZZrH/1CvC9ezV4z%2By//wAlv/aO/wCyzWP/AKhXhegD2aiiigAooooAKKKKACiiigAooooAKKKKACiiigAooooAKKKKACiiigAornfi58UvBvwP%2BFviL4x/EO/e10LwtotzqmrTxQtLItvBE0j7EXLSOQpCooLMxAAJIrkvg/8AtU%2BEPihofi2/8VeC/EHw/wBR8ByqPF%2BgeOPsUd1pkL2iXkdy72dzcW7wvA%2B4OkzAFJEba8bqoB6fXivxDtor3/goD8M7O4XMcvwV8fI49QdV8IA11X7Pvx4vf2gPDj%2BMY/gf408I6RcW1vdaDfeL4tPiOs2k6s8dxDDbXc80A2hWMd1HBMvmKDGDuC8z44/5SF/C/wD7Iz48/wDTt4QoGm07o81/4IiXMzf8E0fh/pN02Z9LutaspvYpq95gf98la%2BsK%2BS/%2BCNH%2Bg/sseIfCfT%2Bwfiz4m0/b/d23zPj/AMiV9aV5WRf8iXDrtCK%2B66/Q%2B%2B8Vkv8AiJmcSX2sRVn/AOBuNT/3IFFFFeqfABRRRQAUUUUAFFFFABRRRQAUUUUAFFFFABRRRQAUUUUAFFFFABRRRQAUUUUAFFFFABRRRQAUUUUAFFFFABRRRQAV4z44/wCUhfwv/wCyM%2BPP/Tt4Qr2avGfHH/KQv4X/APZGfHn/AKdvCFAHs1FFFABWb4w8ZeEPh54Xv/HHj/xXpuh6Lpds1xqesaxfR21rZwqMtJLLIQkaAdWYgCtKvEP2/vDfiLXfgno2raJ4U1LX7Tw38S/Cuv8AiDQ9H06S8urzTbHWrS5uDFbRK0ly8Kx/aRCitJJ9n2oruVUgHpmmfGH4R618Mh8a9H%2BKXhy78GnT3vx4tttct5NMNogJe4%2B1K5i8pQrZfdtG05PFQaL8dfgj4k%2BFc/x08O/GPwrf%2BCLayuLy58Y2XiG2l0qK3g3efM12rmFY49j73LYXY2SMGvljw18PbT4k/sn/ABb8PeL9C8deEdO8T/Eu/wDHnhO2/wCFZapdXdnaxazBd2sr6aLfzJmuL2ze8k07C3Lw3ZDxxtIceX6l%2Bz5%2B3h8XPgV8UPEtp4Y0HxVoXjv4rah4sv8Aw34ts9U8E3GsWVr4b0uxskg0w2eo3NtE2p2Mt19juCss/kQNI%2BLiZCAfoxoutaP4k0e08ReHdWtr/T7%2B2jubG%2Bsp1lhuYXUMkkbqSroykEMCQQQRXkX7B/8AyRDXP%2ByzfEf/ANTXW6k/ZZ0P44Wf7Cvw88M39jo/g7x1a/DrSrV7fVLK51S1025jtYk2zwk2M0jBV%2BePdCUcsu47dzZv/BOm38S2n7N19a%2BMtWsb/V4/i38Q11O%2B0zTntLa4nHjPWvMkigeaZoULZIRpZCoIBdsZIB7pRRRQAV%2BVv/BTL9tC9/az%2BJkP7Nnwb0ubxJ4H0fxMmlpo%2BnyEf8LE8UoysmnKykE6daEpLcyghSdoDIXhlHvP/BZL9uZ/gN8Lz%2Bzt8NfFJ07xd4v0qW41vWLc5fw3oAPlz3vUYmlY/Z4FypaRztYMEzW/4JGfsDf8Kp8L6d%2B1H8XvCS6d4m1HQ0s/Avhib5/%2BER0N8usZyBm8uN7S3EuAxaVhhC0i18jm%2BIr5tjv7JwrslrVl2X8v%2Ba6uyeilf2%2BHcny3M3WzXOY82W4SSjKndp4zE2U4YRNWapQjy1sbNaxpclFNVK65fY/2Cf2JbL9lDwbe%2BKvHerxeIfid4vMdz468VeUFDyBQEsrZQAIrSBQEjjUKMKDtUbUT3%2BiivpsLhaGDoRo0laK/ptvq29W3q2Y53nWY8Q5pUzDHT5qk2tklFJJKMIRVowhCKjCEIpRhGMYpWWpRRRXQeUFFFFABRRRQAUUUUAFFFFABRRRQAUUUUAFFFFABRRRQAUUUUAFFFFABRRRQAUUUUAFFFFABRRRQAV4z%2By//AMlv/aO/7LNY/wDqFeF69mrxn9l//kt/7R3/AGWax/8AUK8L0AezUUUUAFFFFABRRRQAUUUUAFFFFABRRRQAUUUUAFFFFABRRRQAUUUUAef/ALVfwVuv2jP2bvG3wO07Xo9KvPE/hy6sdO1OaEyx2l0yEwTOgILosoRmQEFlBGRnNeV%2BFP2YPjn8Qofi7eftFaZ4R0q5%2BNOgnQdatvB3ie7vo9D06HTDZweTJcWFubyWSW5vZXLLAIlaFAJirOfpSigD5k/YA/Y5%2BI37MPiDXta8WeGvA/hexv8AwloOir4d%2BH%2Bq3V3a6pf2BvPtOv3RuLa3KXt2tzCjrtlfbap5lzOdvl6l/wDDHw34O/4KbeC/Gek6l4hmvPEPwe8cSX8Oq%2BLtRvrSIpq3hLAtrW5nkgsgdxytukYbA3A7Vx9D14z44/5SF/C//sjPjz/07eEKAPMf%2BCTn/EusP2hPCbcf2T%2B094riiX0iY2zofxya%2BtK%2BS/8AgnF/xKf2iv2qPCnTyfjS2obf%2Bvq0jfP47a%2BtK8nI9MshHs5r7qlRH6B4o%2B9xziav/PyOHn/4HhMJL87hRRRXrH5%2BFFFFABRRRQAUUUUAFFFFABRRRQAUUUUAFFFFABRRRQAUUUUAFFFFABRRRQAUUUUAFFFFABRRRQAUUUUAFFFFABXjPjj/AJSF/C//ALIz48/9O3hCvZq8Z8cf8pC/hf8A9kZ8ef8Ap28IUAezUUUUAFFFFABRRRQAV4z%2Bwf8A8kQ1z/ss3xH/APU11uvZq8Z/YP8A%2BSIa5/2Wb4j/APqa63QB7NXm37WH7UXw4/ZA%2BCmp/Gj4kTSSRWu2DStJtTm51a%2BkyIbOBerSOw9DtUMx4Umu/wBb1rSvDei3niLXr%2BO1sbC1kub26mbCQxIpZ3Y9gFBJ%2BlflV8fvjF8Vf2q9S0b9rwaNOl94r1yTwp%2ByJ4Auzh0uJG8u58WXSchXiQb42IKxMImPCrI3i51mby/D2p61JJ262WicmuurSivtTcY92qwWAzTP87wuR5Xb6ziZWi5fBTgtaleo%2BlOjBSnLvy27lL9hz9mr4h/t9ftn%2BIPjX%2B0pbpe2PhvxDFqvxEGN9tc65GP9A8OREkhrbT48GZRw0vyP5gEclfrZXnH7Jn7Nfgv9kj4AeHfgT4IUSQ6PZj%2B0NQZMSajev81xdSdy0khZuSdo2qOFFej0ZFlf9mYP39ak/em93d9L9bXt5u76q30vEuYZZOVDKcnusBg4unR5viqXlzVcRU/6e4mrzVp/yp0qa92kkFFFFe0fMBRRRQAUUUUAFFFFABRRRQAUUUUAFFFFABRRRQAUUUUAFFFFABRRRQAUUUUAFFFFABRRRQAUUUUAFFFFABXjP7L/APyW/wDaO/7LNY/%2BoV4Xr2avGf2X/wDkt/7R3/ZZrH/1CvC9AHs1FFFABRRRQAUUUUAFFFFABRRRQAUUUUAFFFFABRRRQAUUUUAFFFFABRWb4z8Y%2BFfh34P1b4geOdftdK0TQtNn1DWNUvZQkNnawxtJLNIx4VERWYnsAa5z4IftCfCr9ojRNQ134W6xqMy6RqAsdWsNb8O32kX1jcGGKdUns7%2BGG4i3QzQyoXjAdJUdSVYGgDta8Y8cso/4KGfC5Cwyfgx48IGf%2Bot4QrsvhJ%2B0T8GvjtrfjDw98JvG0es3XgHxNJ4e8ViC0nRLLUo4o5JLcSSIqTFVkUM0RdVcMhYOjqvzJ%2B3R8bpvgT/wVS/ZF1S7uvJ0rxVo3jrwrqrE4z9tl8OfZl/8Cobc/hWOIrww1J1J7K34tL9Uc%2BKxNPCUHVqbJq/zlGP5yRufsWf8Sn/gpB%2B114XPAXVvB2oIPX7RpEjMR%2BKivrSvkv4Af8Sb/gr1%2B0DpvT%2B2vAfhTUMf3vJikgz%2BuK%2BtK8/JtMLOPapVX/lST/U/SPEn38%2Bw9b%2BfB4GX/lpSi/xpsKKKK9Y/PwooooAKKKKACiiigAooooAKKKKACiiigAooooAKKKKACiiigAooooAKKKKACiiigAooooAKKKKACiiigAooooAK8Z8cf8pC/hf/ANkZ8ef%2BnbwhXs1eM%2BOP%2BUhfwv8A%2ByM%2BPP8A07eEKAPZqKKKACiivn7/AIKXHTB%2BzXa/8Jp5f/CFf8LC8L/8LI%2B0f8e//CPf2zafbftWePsfl/8AHzu/d/ZvP8z93voA%2BgaK%2BC/BFp8L/H37AXxa%2BF/w/wDjL4K8LeBI/Hepat4CbVtajtdEPhGHWIpHidkb9zod1PBqFmJowYRazHyg0YRT5hofxX/ZV%2BG/7KvjjxB%2B0z8HvgdrHhDxH8dZbD9m7wSdStZPBTSSaDpyTPY3l9BDAmnx30erTS3wgjUEXTQI5khSQA/UOvGf2D/%2BSIa5/wBlm%2BI//qa63V79nTRfE/w%2B/Yr8CeGPhd4%2B0T4parongDS7LS/E9/4keGw8SSQ2sUf2s3sUd24jl2lxIEnYgjJYktWH/wAE6bjxLd/s3X114y0mxsNXk%2BLfxDbU7HTNRe7trec%2BM9a8yOKd4YWmQNkB2ijLAAlFzgAHFf8ABXX4j69p/wCzbY/s4eANTW28UfGnxHbeD9NlLY%2BzWk7Zvrl%2BR%2B6S3Dq5z8omBPFcH/wTg%2BG2iftB/Ga7/bOtNKeH4e%2BA9IHgH9nzTp0wE0q0XyLrVQMffnZWjVsBtvmI2dqmvEP%2BCk3xe8R/GP8Aas8Zt8P2N1P4E0q1%2BFnw5iVuJ/F3iPKX00bDkNDYCaJiBlJFjORkV%2BlHwH%2BEPhz4A/Bfwt8FPCSj%2Bz/C%2BhW2m277cGXyowrSsP7zsGdvUsa%2BRwy/tbiCpVetOlZLzcW1H/ybnn6qL6I%2Bq4Zl/YnCGPz9aV8wnLBUH1jhcPyvFzj29viJww/MvsU6iXxM6yiiivrj5UKKKKACiiigAooooAKKKKACiiigAooooAKKKKACiiigAooooAKKKKACiiigAooooAKKKKACiiigAooooAKKKKACvGf2X/8Akt/7R3/ZZrH/ANQrwvXs1eM/sv8A/Jb/ANo7/ss1j/6hXhegD2aiiigAooooAKKKKACiiigAooooAKKKKACiiigAooooAKKKKACiiigDzD9tT4Q%2BKvj5%2ByZ8Q/g74Fe1Gt%2BIPCl5a6PHfSlLea6MZMUUrAErE7hUdsHCsxwcYPmHw18CftLeOfEvxm%2BIs3w/134Ra18VNJt9L8KX2pyaRqs/heSx0swxandw2l%2B8UzvdXMpjhikkDR2aGVoTJtX6eooA%2BW/%2BCdX7Kv7Qf7LXjj4s6N8VdY8IXXhnU9Z0MeDJPC3hafTRdQ2ug2FlJOVn1W/lA3W/lFZSJHkhlmLssyqviP8AwVp/Zr8c%2BP8A4nHX9L%2BLviTWtV0v4K%2BM/FfgzSb%2B001YPD11pms%2BEbkrZNbWkU7mSNZE/wBIlnbJXaVyc/olXivxDtba%2B/4KA/DOxvbdJYZvgr4%2BSWKRQVdTqvhAFSD1BHGK58XhoYzC1KEtpJr71v8AJ2fyOTH4SGPwVXDT2nFx9Lrf5Oz%2BR88fCz46aSn/AAUM%2BGH7U2tQrb%2BFv2jvgjZaTomoRv8Au7XXreQXTWUp6KxRjGnOWk%2BUA4JH3jX5vfAn9mm9%2BNH7HHxh/wCCc0WqPZeNPgN8Trq4%2BGOqPLtmsQ0j3%2Bj3Qc8p5m%2BeMnnajnHQY%2Bvv2Df2oY/2t/2a9F%2BJ%2Bp2X2HxHatJpPjXSGTY%2BnazbER3ULJ1TLYkVTyEkTPOa8LIsTNSdKrvUvNf4k1GrH1jOPMv7svI%2B/wATiHxh4eZZxDFfvsLCGCxUV9mVP2ioVPKNSKq0pdFVpLbnSPY6KKK%2BlPiwooooAKKKKACiiigAooooAKKKKACiiigAooooAKKKKACiiigAooooAKKKKACiiigAooooAKKKKACiiigAooooAK8Z8cf8pC/hf/2Rnx5/6dvCFezV4z44/wCUhfwv/wCyM%2BPP/Tt4QoA9mooooAKKKKACiiigArwH9lHxlp3w6/ZS8cfEHWCBaaF8TvihqN0Scfu4PGGuyNz9FNe/V8EftD/EaX4Zf8Ed/jdqtpIRc6p8SPiLoltGh%2BaRr/x5q9myj1%2BSZz9Aa5cdiFhMFVr/AMsZP7k3%2BdjjzHFfUsvrYj%2BSMpfdFtfjY8T/AOCT/gTUP2hf2iPA2teJ83i%2BAdG1H4keOrxxlb7xb4imb7IXHcpp0cEqHOVdWxjJr9Y6%2BL/%2BCEfwgsvA37DFj8VJoSNT%2BIerXOqXHmHLQWkDmys7YN3jSG3DKO3mmvtCvH4Wwrw%2BTU5y%2BKolJ/NLl/8AJVf1kz73jOjHKMVheHKfwZZQp4X1qwXPip%2Bs8VUrtvqoRd9gooor6I%2BOCiiigAooooAKKKKACiiigAooooAKKKKACiiigAooooAKKKKACiiigAooooAKKKKACiiigAooooAKKKKACiiigArxn9l//kt/7R3/AGWax/8AUK8L17NXjP7L/wDyW/8AaO/7LNY/%2BoV4XoA9mooooAKKKKACiiigAooooAKKKKACiiigAooooAKKKKACiiigAooooAKKjvb2z06zl1DULuKC3giaSeeaQKkaKMszMeAAASSelcz4B%2BOnwR%2BK3gKf4qfC74x%2BFfEnhe2MwufEmgeIba8sIvJGZd1xC7RrsHLZb5R1xQB1VeM%2BOP8AlIX8L/8AsjPjz/07eEK774T/ABw%2BC3x60CbxX8DPi/4X8aaXb3RtrjUvCfiC21G3imCqxiaS3d1VwrKdpOcMD3FcD44/5SF/C/8A7Iz48/8ATt4QoA8j/ax8EfGr9kD9pTUP%2BCi/wF8JSeLvDusaHa6b8ZfAtnF/p0tna5EWq2Zz%2B8lhjO1oz/Ap7MWj4o%2BNde%2BA/jTVv%2BCl37D9lF8TPgr8UFg1H4oeDNDUjUdNuolKS6rZxkjMoy32iBgH3Bi3Hzxfe9fIvxI/YY%2BOf7PPxI1n9oX/AIJreOtM0K51y6%2B2%2BLPhF4jh/wCKe16cD5pYCuGsbhh/EmFY4yUUEH5rMMur0Z%2B1w93Hmc7Rs5Qm95QT0lGX26beu8XfQ14dz7MOBsyr16OHWKwWJTjicNK/vRclJyg01JSUoqcXF89OolUp3vUp1Poz4HfHX4UftIfDTTvi78F/Gdprug6nHut7u1blHH3opEOGikUnDIwDKeorrq/LTR/H/hfR/jhqXiX4A%2BNp/wBlT49X06y%2BK/g58S0x4R8Xz8jzIpQBDmQkhZ4irsSdiZZpD9QfCX/gqL4M07xXb/BP9uLwJdfBT4gOdkMXiGXdoerkYHnWWoj9y6EkcOwwSFDOQa0wOf4eqlDEtRltzfYb7a2cJf3Kii09E5LU%2B1XC%2BXcUYWeZcF13jKMdZ0NsZh%2BrjVoJKVSMdV7ajGUWledOk2z6ropltc295bx3dncJLFKgeKWNwyupGQQRwQR3p9fQnwzTTswooooEFFFFABRRRQAUUUUAFFFFABRRRQAUUUUAFFFFABRRRQAUUUUAFFFFABRRRQAUUUUAFFFFABRRRQAV4z44/wCUhfwv/wCyM%2BPP/Tt4Qr2avGfHH/KQv4X/APZGfHn/AKdvCFAHs1FFFABRRXz9/wAFLjpg/Zrtf%2BE08v8A4Qr/AIWF4X/4WR9o/wCPf/hHv7ZtPtv2rPH2Py/%2BPnd%2B7%2Bzef5n7vfQB9A0V8F%2BCLT4X%2BPv2Avi18L/h/wDGXwV4W8CR%2BO9S1bwE2ra1Ha6IfCMOsRSPE7I37nQ7qeDULMTRgwi1mPlBowinyb4dS/DC70vTNV/ad0D4W6T%2BzDeftDaxJoum6Xex3PgCC2Hg%2B1S2Ec9xBBbz6edXTV2SV4Y4Hv2Vo13G3JAP1Nr8kv8Agpv8QrvRv%2BCemk/DXSLxYrzW/wBpj4lam6vyJLbTfFHiK4dcf9dGg/KvvT9iG7%2BMVl/wT2%2BHl5a6CNU8Tp4Ktjo%2Bn%2BM9WuLBp7fH%2BhreXH2e4nik%2BzeTvZoZJN%2Bd67t1flB%2B2vq3iv4z6x4Y%2BCHiKytNP17TfEvj6Wa00jUXvLa01TWfibqNlLBFPJDC0w8mCTazRRsyfMUXoPmuLq0qWQVVHedor5tfoj0ciy2lnfFOVZXU%2BDEYvC05dVye3pzqXXVeyo1L%2BVz9gf2E/An/AArP9i74VeB3h8uaw%2BH%2BlLdpjGJ2tY3l/wDIjPXq9Q6fYWmlWEGl2EIjgtoVihjXoqKAAB9ABU1e/h6Sw%2BHhSW0Ul9yS/QM3zCpm2bYnHVPirVKlR%2Bs5zn/7db5BRRRWx5wUUUUAFFFFABRRRQAUUUUAFFFFABRRRQAUUUUAFFFFABRRRQAUUUUAFFFFABRRRQAUUUUAFFFFABRRRQAUUUUAFeM/sv8A/Jb/ANo7/ss1j/6hXhevZq8Z/Zf/AOS3/tHf9lmsf/UK8L0AezUUUUAFFFFABRRRQAUUUUAFFFFABRRRQAUUUUAFFFFABRRRQAUUUUAeRft9/D7xp8Vv2KPin8OPh5o0up6zrPgbUbWy0iBwr6mWgbdZqWIUGdd0I3EL%2B85IGTXnH7O/jXSpvil8a/jjN8IfHem%2BDPF8dhLo%2Bjap8MdWtbvVX0zR44764NhLarMjSI1vZxJKiPcmxKwrIqoT9SUUAfMf/BPLxHqHxj8SfEP9qHxv4D8W%2BE/FPjiXS47nwh4l%2BH%2BraH/YWlWkdwmn2jSahawLf3mJbiS5lgMkcbzJCrNHFFJLq3%2Bm/Fe0/wCCm3gu88beNPD2oaFcfB7xwfDWnaV4Yns7uwQat4S8xbm5kvZkuycpgpDbhdpyG3Db9D14z44/5SF/C/8A7Iz48/8ATt4QoA9mooooA5D40fAH4K/tFeEn8DfHH4YaN4o0tslLbVrJZDCxGC8T/fif/bQqw9a%2BSvid/wAEmPiT4S8IXXgv9lL9oaO78HSncvwh%2BM%2BmDxB4fHHypbzODc2KjqGj3SAnIcV9yUV5%2BMyvA4581WHvWtzLSVu11uvJqS8jjqYGhLFwxdNyp14NONWnKVOpFrZxqQcZK3TVryPx/wDs3/BRr/gnVPJceAfhj478E6JbSF5NE07d428DyjOSyDd9u0iEnrzLKT3AOK9n/Z8/4OHvgnr5g0D9pvwBP4duvmEniPwlK2p6ayqcNNJbkLeWq88K8Tt71%2BjNeWfGz9iL9kb9osyz/Gn9nfwprt1OCJNTn0pI70/S5i2zD8HFeGsizbL3fLsVaP8AJUV4/ht8kvQ%2BynxpnuOjyZ7So5l/08qxeHxfzxWGivavzxOGqt/am9W9v4K/tK/AD9o3RRr/AMDPjB4f8UW4QPKuk6kkksAPaWLPmRH2dVPtXcV8C/EL/g3k/ZGv9ZHi34FfEzx78OtXgffYzaVrX2qG2bsV84efkeonFWvD37Kf/Baf9m7ZB8HP25vB3xT0e0UlNJ%2BKekTxzzADhfOQSzE9ublRXZSzHOaGmMwjf96lJTX/AIDLll%2BZ87jcblV3KhQr0/7slSrL5Toypyf/AG9Ri%2BrtsfeFFfEFx/wUM/4KP/BKzt4/2m/%2BCVuvalGCxutd%2BFviGPVIyg/iFpEszxjv%2B8lH4VH4Z/4OCv2Cr3UW0T4iWXj3wRfQvsurXxL4TYtA3cMtrJMw/FQfatv9Ycoi1GrU9m%2B04yg//Jopfc2ef9foKm6kozjFbydOqorzcvZuKXnKUV2ufcdFfPPgn/grD/wTl8fhDoX7XfhG33/d/tu6fTMfX7YkWPxr1rwh8e/gX8QQh8A/Gjwnrnmf6v8AsfxHa3O76eXIc16FHH4HEfwqsZekov8AJ/oLD5nluL/gV4S9Jxf5Sv8AgdZRRRXUdoUUUUAFFFFABRRRQAUUUUAFFFFABRRRQAUUUUAFFFFABRRRQAUUUUAFFFFABXjPjj/lIX8L/wDsjPjz/wBO3hCvZq8Z8cf8pC/hf/2Rnx5/6dvCFAHs1FFFABRRRQAUUUUAFfh98EfDV98VP%2BCm2paRqa%2BdDJ%2B2frMekrjpb6Lq%2Bt6ldxn1XzL2JiOnTNfuDX5WfsD/AAvZf%2BCpItZoVMmn%2BPfjP4%2BcAhvL%2B2%2BLr3QkY46EpZLx1wa%2Bc4joPE08PDp7WF/v/wCAz7DgDDOXFkMw%2Bzg6GNxHpKODrUqb/wDBmJj8/M/VOiiivoz48KKKKACiiigAooooAKKKKACiiigAooooAKKKKACiiigAooooAKKKKACiiigAooooAKKKKACiiigAooooAKKKKACiiigArxn9l/8A5Lf%2B0d/2Wax/9QrwvXs1eM/sv/8AJb/2jv8Ass1j/wCoV4XoA9mooooAKKKKACiiigAooooAKKKKACiiigAooooAKKKKACiiigAooooAKKKKACvGfHH/ACkL%2BF//AGRnx5/6dvCFezV4z44/5SF/C/8A7Iz48/8ATt4QoA9mooooAKKKKACiiigAooooAK5r4kfBj4P/ABi07%2ByPi18K/Dnie127RB4g0WC8VR7CVGx%2BFdLRUzhCpFxmk0%2BjSa%2B53N8NicTg6yrYepKE1tKMnGS9JRcWvk0fIvxS/wCCG/8AwTk%2BJYnmsPg/eeFLq4BEt14S124th%2BELtJAPwjrwLx5/wbe%2BDY4fL%2BEH7Rgito/uad4w8EWl40w7K91am3lX/eUZr9N6K8PEcMZBineeHin3j7v/AKTb8j6L/XPPay5cc6WKj2xOHw%2BJv869Cc//ACr6a6n5KH/gj/8Att/Bs48EeB/Cur2cI/cf8K3%2BMGvaDfMB6/b3lgVvpkUf8Id%2B2p8Jhnxn4f8A26PDwj%2B%2Bvhv4g6f44gi/3VSOLK/jX610Vxf6pYOl/u9WcPua/OD/ABM/7Q4HxX%2B%2B8N4Rvvh5YrBy%2B6hiZU1/4K%2BS2PyYtP2yvF/hG5Sw13/gsV8UPh7cM21LD4q/s1xzsT/dZ1Vwv1zXpXgn9qj9pjxLsXwF/wAFnf2c/EMj/wCqt/FHhq30qWT28sSq2fYCv0Zu7O0v7Z7O%2BtY5oZFxJFMgZWHoQeDXm3jb9iv9j/4j738dfsufD7VJH%2B9cXfhCzab8JPL3j8DR/YeZUv4de/rKtH8qk1%2BAf2Z4Q4rfDZjhX/06xsa0V6RxFOD/APJmzwXw34k/4LMaxa/bvBHxH/ZQ8X2oGTNDLrSsw9jAxQVpf8LG/wCC02k/8hD9m/4G6vjr/ZXi%2B%2Bgz9POXitLxJ/wRh/4Jt%2BIbr%2B0oP2codIvFOYrvQPEOo2TRn1VYrgIP%2B%2Bazv%2BHRPw80H5vhX%2B2F%2B0H4N2/6qDQfijL5I9iksb7h7Zo%2BpZ3T6zf%2BGuvyqUf1D/U7w3xH%2B78Q46j5VsMppfOjVlf15fkJ/wANH/8ABXHTP%2BP7/gm34R1THX%2BzfjDaQZ%2BnnR0f8Nmf8FM7D/kN/wDBIK%2BAHV9P%2BN2j3GfoBGDQf2B/22vDI/4tl/wVm8fWu3/VjxV4N07Wvz83Zupf%2BFKf8FifC3/IC/ba%2BGHirb93/hJ/hu1jv%2Bv2Nzj8KP8AhVh8X1hensJ/omH/ABDfLKv%2B6cW0X5VIVaT%2BfPgpxX/gQn/Dfn7aVl/yG/8Agkz8Q48fe%2Bw%2BLdOufy24zR/w8p%2BO1n/yGv8Agln8dY8fe%2Bw6ZbXP5bZBml/t/wD4Lc%2BGf%2BQl4A/Zx8TRr0/sfVdZspXHv54Kg/Tij/hpz/grF4d/5Dv/AATH8P6%2Bq/fk8P8Axlsbf8QtxGSfpR9ZxcfirV4%2BtCL/APSUw/4hRxLP/dc%2BwdX0xODX/p2NAT/h6rrln/yGv%2BCZv7UcWOps/hgtwB%2BK3Ao/4e7eA7f/AJDP7Ev7SmnY6/bvhJKuPrtmNL/w8D/bA0T/AJHf/glB8TLfH3/7B8Q6fqePp5ZXNH/D1q40r5fGX/BOb9pvTMffnj%2BGAuIF/wCBpP8A0o/tCcd8a1/iw7X/ALaH/EIPFCX8CtTq/wCCeAn/AOk42Lf3Cf8AD5H9m63/AOQx8HPjNp/r9t%2BF94uP%2B%2Bc0v/D6v9h%2BD/kK3fjuw9ftfw61IY/KI0f8PlP2YLD/AJG74Y/F3w/j739s/DK9Tb9dganwf8FvP%2BCaiyi31r4832lTHpFqfgnWIz%2BYtSB%2BdH9qpf8AMwpfOCX5ziJ%2BD/jUleGCqz/w4X2n/pqtMZ/w/A/4JuQ/8hH4z6vZ%2Bv2nwHrAx%2BVqadH/AMFyf%2BCW8h2n9qAIe4k8F60MfnZVv6V/wWB/4Jrazj7J%2B1n4fTPT7Xa3cH/o2Fa6Cw/4KVf8E9tcAWL9sH4d4PQXniS3h/8ARrLW0cwrT%2BHHUH/26v8A5cedX8N/F/C/xcDVXrgcT%2BlzhV/4Lef8EumGR%2B1NB%2BPhPWB/7Z02T/guF/wS4jGW/aliP%2B74Q1k/ys69W0/9sz9hfWiDpn7Vfwnuiegi8caY5/ITZre0z9oP9mbUcHRvjf4Enz937L4lsm/9BkrojWzCfw4qi/SN/wD3MeTW4X8RMP8AxaTj64TEL87Hgv8Aw/I/4JjScWP7Q93dHsLfwPrRz%2BdmKP8Ah9n%2BwPP/AMgrxX4uvvT7J8PtUOfzgFfTVh8SvhzqmP7M8f6JcZ6eRqsL/wAmrXtryzvU8yzuo5V/vRSBh%2BlbKnnE9sRT%2BVN//LGebVy/imi7Va0I%2BtCa/wDSqiPk7/h85%2ByZNzp3gv4qXg/vW3w0vyP1UUf8Pkv2bTynwd%2BMzL3dfhfeYFfWtFV9Wzj/AKCY/wDgpf8AyZj9Uz7/AKC4/wDglf8Ayw%2BSv%2BHzX7KkfN78P/ixbDuZ/hnfAD8lNKf%2BC1n7DkP/ACEb/wAdWfr9p%2BHWpjH5QmvrSij6vnK/5iI/%2BCv8ph9Vz9bYqH/gn/KofJX/AA%2B%2B/wCCcsXF/wDFvXLU9xceAtXGPytjVT4Kfty/sw/tn/8ABQvwYP2cfiNJr7eGvgz4y/tpZdDvbI232jVvCvk/8fUMe/d5Ev3c4284yM/YFeM%2BOP8AlIX8L/8AsjPjz/07eEK1oUs0jVTq1YSj1Sg0/v53%2BRvhqOcwrJ168JQ6pU3F/J%2B0klr5M9mooor0D1AoorxD9v7xJ4i0L4J6NpGieK9S0C08SfEvwr4f1/XNH1CSzurPTr7WrS2uBFcxMr2zzLJ9mEyMrx/aNyMjhWAB7fRXxD4j%2BJnxG8K/8E%2BfjNo3hr4u6%2BZfDHxVvvB3gLxVqGvXE99cQyaza2kNpLqUkhnQJcXMunNfs7TW6RGZmeSEsfKrfXv2mtbvo/2V7DxXq1z4p0/4763ZXXgG4%2BPviC1slsIfCVjqKWkfjKKI6vcRxvfQXnlyQCRpbmW3aNYLVZqAP0zr85v%2BCR9vN42/4KCftO%2BNLiM7fBfi/XvDVpIw4K3Xi/XdQdVPswGfcivqr9jj4seK/Ev/AAT7%2BGnxcli8SfETXLn4caVc3RRLG31PXbr7NGJZP39zHaiR3DPuNx5bZyJGBBPg/wDwQ%2B0DULvTf2k/i9rvha90S/8AFH7UvjVJNK1J4GubRLfU5sQytbySxM6STTIxjkkTch2uwwx83HU3VxOGXRTcn/27CVvxZ9pwtjKeAyTOpv4p4aNKP/cTE0Ob74U2n5H3PRRRXpHxYUUUUAFFFFABRRRQAUUUUAFFFFABRRRQAUUUUAFFFFABRRRQAUUUUAFFFFABRRRQAUUUUAFFFFABRRRQAUUUUAFFFFABXjP7L/8AyW/9o7/ss1j/AOoV4Xr2avGf2X/%2BS3/tHf8AZZrH/wBQrwvQB7NRRRQAUUUUAFFFFABRRRQAUUUUAFFFFABRRRQAUUUUAFFFFABRRRQB49/wUHPjkfsOfFg/Df8AtP8Atj/hAtT%2Bz/2Jv%2B3bPs7%2Bb9m8v5/P8rzPL2fPv27fmxXzZ8IvEvw8074Y/tPeGv8AgnJr/hqDw7qXhaZ/grYeBbq3WwuvEsXh3N4dJSE%2BW4SV9NMpgBVblpd%2BJTLX3pRQB8b/APBMs/s%2BH4x%2BPf8Ahi06R/wqf/hW/grzP%2BEc2/Yf%2BEq36z/aXmbOP7R%2Bx/2R9r3fvd3k%2BZ%2B8316Df6l8V7v/AIKbeC7Pxt4L8PafoVv8HvHA8NajpXiee8u79Dq3hLzGubaSyhS0IwmAk1wG3HJXaN30PXzh%2B0fq/wAa9H/bw%2BE8/wADvh/4W8Rak3wj8drd2nivxhc6LBHB/anhIl0lt9PvWd920bDGowSd%2BQFIB9H0V4z/AMJx/wAFC/8Ao1/4M/8Ah%2BNW/wDmXo/4Tj/goX/0a/8ABn/w/Grf/MvQB7NRXjP/AAnH/BQv/o1/4M/%2BH41b/wCZej/hOP8AgoX/ANGv/Bn/AMPxq3/zL0AezUV846T%2B0d%2B3brHxn1/4HW/7KHwkXVPDvhfSNdvLl/jrqnkSQajc6lbwohHhjcXVtLnLAqAA8eCxLBeo/wCE4/4KF/8ARr/wZ/8AD8at/wDMvQB7NRXjP/Ccf8FC/wDo1/4M/wDh%2BNW/%2BZej/hOP%2BChf/Rr/AMGf/D8at/8AMvQB7NRXjP8AwnH/AAUL/wCjX/gz/wCH41b/AOZeuX8A/tHft2/ETxX438IaP%2Byh8JIbjwH4oi0LVZLn466oEnnk0rT9TDxbfDBJTydRhUlgp3o4xgBmAPo6ivGf%2BE4/4KF/9Gv/AAZ/8Pxq3/zL0f8ACcf8FC/%2BjX/gz/4fjVv/AJl6APZqK8Z/4Tj/AIKF/wDRr/wZ/wDD8at/8y9H/Ccf8FC/%2BjX/AIM/%2BH41b/5l6APZqK%2BcfhF%2B0d%2B3b8ZfCl34v8OfsofCS2t7PxRrehSR3vx11RXM%2Bl6rdaZO42%2BGGGxprSRkOclGUkKcqOo/4Tj/AIKF/wDRr/wZ/wDD8at/8y9AHs1FeM/8Jx/wUL/6Nf8Agz/4fjVv/mXo/wCE4/4KF/8ARr/wZ/8AD8at/wDMvQB7NRXjP/Ccf8FC/wDo1/4M/wDh%2BNW/%2BZeuX%2BCP7R37dvx4%2BDHhD44%2BFf2UPhJa6X4z8L6frum22ofHXVFnhgu7aO4jSQJ4YZQ4WQBgrMMg4JHNAH0dRXjP/Ccf8FC/%2BjX/AIM/%2BH41b/5l6P8AhOP%2BChf/AEa/8Gf/AA/Grf8AzL0AezUV4z/wnH/BQv8A6Nf%2BDP8A4fjVv/mXrl/jd%2B0d%2B3b8B/gx4v8Ajj4q/ZQ%2BEl1pfgzwvqGu6lbaf8ddUaeaC0tpLiRIw/hhVLlYyFDMoyRkgc0AfR1Mnt4LqIw3MCSI3VHUEH8DXjn/AAnH/BQv/o1/4M/%2BH41b/wCZej/hOP8AgoX/ANGv/Bn/AMPxq3/zL0DTad0ejar8JfhVruf7b%2BGfh%2B8z1%2B1aNBJn/vpDXOan%2ByN%2ByjrWf7Z/Zi%2BHl3nr9p8F2Mmf%2B%2BojXOf8Jx/wUL/6Nf8Agz/4fjVv/mXo/wCE4/4KF/8ARr/wZ/8AD8at/wDMvWMsPh5/FCL9Un%2BaZ6NDOc4wv8DFVYf4alSP/pNSJJqP/BPP9g3VM/a/2M/heCepg8DWMR/NIhWFqH/BK/8A4J26nn7T%2ByD4LXP/AD76Z5P/AKLIqh8Xf2jv27fg14UtPF/iP9lD4SXNveeKNE0KOOy%2BOuqM4n1TVbXTIHO7wwo2LNdxs5zkIrEBjhT1H/Ccf8FC/wDo1/4M/wDh%2BNW/%2BZeueWWZbP4qEH/25H/5E9ajxxxth/4WaYmPpiK//wAuZxl9/wAEcf8AgmhqOftH7J%2Birn/nhqV9F/6BOKybn/gh/wD8Ev7h/NT9mQQP2e38Y6yhH4C8xXpP/Ccf8FC/%2BjX/AIM/%2BH41b/5l6P8AhOP%2BChf/AEa/8Gf/AA/Grf8AzL1jLJMmlvhqf/gEf8j0qfij4l0fgzvFr/uZrf8AybPMv%2BHJX/BPmDjSfh94msMdPsfj/VVx/wB9XBo/4cxfshQf8gvxJ8TbH0%2ByfEnUBj83Nem/8Jx/wUL/AOjX/gz/AOH41b/5l65fx9%2B0d%2B3b8O/FfgjwhrH7KHwkmuPHniiXQtKktvjrqhSCePStQ1MvLu8MAhPJ06ZQVDHe6DGCWWf7CyXph4fJW/Jo2/4it4mP4s4xD9ajl/6VGRzX/Dnf4Bw/8g34/wDxws/QWvxSuhj8waP%2BHRXw/i/5B/7aX7SNp6C2%2BLUox%2BcJr03/AITj/goX/wBGv/Bn/wAPxq3/AMy9H/Ccf8FC/wDo1/4M/wDh%2BNW/%2BZej%2Bwso/wCfK%2B%2BS/KaD/iKniJ1zKb9Y0Zf%2BlYeR5j/w6btIv%2BPH/goz%2B1Xb%2Bgi%2BMBx%2BttVP4K/sq3n7Mn/BQvwWt1%2B0x8U/iKut/BnxlsHxM8VDUzp/k6t4Vz9nIjTy/M80b%2Bu7yo%2Bm3n1r/hOP%2BChf/Rr/AMGf/D8at/8AMvVDwP4H/as8Y/tWeHPjd8bvhx8PfDOjeGfh74h0OGHwr8Q77Wrq7utSvtEuEZkuNIsUijRNLlBYO7FpUAXGSNqGVZfhqqqUoWkv703%2BDm1%2BB5%2BacfcX53gZ4PHYrnpztdezw6vZpr3oYanNapbTXZ3V0/daKKK9A%2BPCs3xj4M8H/ETwtf8Agf4geFNN13RNUtmt9T0fWLGO6tbyFhho5YpAUkQjqrAg1pUUAcdpv7O37P2jeEW8AaR8C/B1poL6EdEfRLbwxaR2jaYXdzYmFYwhty0kjeTjZl2OMk1l3n7IP7Jmo/DC2%2BCOofsvfDqfwXZXxvbPwhN4JsG0uC5O7M6Wpi8pZDvf5wob5m55Nei0UAQaXpemaHpltomiadBZ2VnAkFpaWsKxxQRIoVERFACqoAAAGAAAK8N/4J2eFNL8MfBXxdPpobfqvx5%2BJV9ds2PmlbxnrCduwVFH4V7zXyV%2ByV4s/bO0/wCHviiz%2BGPwD%2BGGr6Enxp%2BIv9n6jr3xd1HTbuZf%2BEz1ksZLaLQLlIiG3AATPkAHIJ2hOKbTfQuNSpCEoJ6Stdd7O6%2B56n1rRXjP/Ccf8FC/%2BjX/AIM/%2BH41b/5l6P8AhOP%2BChf/AEa/8Gf/AA/Grf8AzL0yD2aivGf%2BE4/4KF/9Gv8AwZ/8Pxq3/wAy9H/Ccf8ABQv/AKNf%2BDP/AIfjVv8A5l6APZqK%2Bcfgj%2B0d%2B3b8ePgx4Q%2BOPhX9lD4SWul%2BM/C%2Bn67pttqHx11RZ4YLu2juI0kCeGGUOFkAYKzDIOCRzXUf8Jx/wUL/AOjX/gz/AOH41b/5l6APZqK8Z/4Tj/goX/0a/wDBn/w/Grf/ADL0f8Jx/wAFC/8Ao1/4M/8Ah%2BNW/wDmXoA9mor5x%2BN37R37dvwH%2BDHi/wCOPir9lD4SXWl%2BDPC%2Boa7qVtp/x11Rp5oLS2kuJEjD%2BGFUuVjIUMyjJGSBzXUf8Jx/wUL/AOjX/gz/AOH41b/5l6APZqK8Z/4Tj/goX/0a/wDBn/w/Grf/ADL0f8Jx/wAFC/8Ao1/4M/8Ah%2BNW/wDmXoA9morxn/hOP%2BChf/Rr/wAGf/D8at/8y9cv8Xf2jv27fg14UtPF/iP9lD4SXNveeKNE0KOOy%2BOuqM4n1TVbXTIHO7wwo2LNdxs5zkIrEBjhSAfR1FeM/wDCcf8ABQv/AKNf%2BDP/AIfjVv8A5l6P%2BE4/4KF/9Gv/AAZ/8Pxq3/zL0AezUV4z/wAJx/wUL/6Nf%2BDP/h%2BNW/8AmXo/4Tj/AIKF/wDRr/wZ/wDD8at/8y9AHs1FfOPj79o79u34d%2BK/BHhDWP2UPhJNcePPFEuhaVJbfHXVCkE8elahqZeXd4YBCeTp0ygqGO90GMEsvUf8Jx/wUL/6Nf8Agz/4fjVv/mXoA9morxn/AITj/goX/wBGv/Bn/wAPxq3/AMy9H/Ccf8FC/wDo1/4M/wDh%2BNW/%2BZegD2aivGf%2BE4/4KF/9Gv8AwZ/8Pxq3/wAy9cvq37R37duj/GfQPgdcfsofCRtU8ReF9X12zuU%2BOuqeRHBp1zptvMjk%2BGNwdm1SAqApBCSZKkKGAPo6ivGf%2BE4/4KF/9Gv/AAZ/8Pxq3/zL0f8ACcf8FC/%2BjX/gz/4fjVv/AJl6APZqK8Z/4Tj/AIKF/wDRr/wZ/wDD8at/8y9H/Ccf8FC/%2BjX/AIM/%2BH41b/5l6APZqK%2BcdJ/aO/bt1j4z6/8AA63/AGUPhIuqeHfC%2Bka7eXL/AB11TyJINRudSt4UQjwxuLq2lzlgVAAePBYlgvUf8Jx/wUL/AOjX/gz/AOH41b/5l6APZqK8Z/4Tj/goX/0a/wDBn/w/Grf/ADL0f8Jx/wAFC/8Ao1/4M/8Ah%2BNW/wDmXoA9morxn/hOP%2BChf/Rr/wAGf/D8at/8y9cv4B/aO/bt%2BInivxv4Q0f9lD4SQ3HgPxRFoWqyXPx11QJPPJpWn6mHi2%2BGCSnk6jCpLBTvRxjADMAfR1FeM/8ACcf8FC/%2BjX/gz/4fjVv/AJl6P%2BE4/wCChf8A0a/8Gf8Aw/Grf/MvQB7NXjP7L/8AyW/9o7/ss1j/AOoV4Xo/4Tj/AIKF/wDRr/wZ/wDD8at/8y9W/wBlb4c/GnwfrHxQ8d/HTQPC%2Bk6p4%2B%2BIUWuWeleE/Etzq1va2sWg6Ppiq9xcWVmzSNJp0rlRFtCyINzHOAD1uiiigAooooAKKKKACiiigAooooAKKKKACiiigAooooAKKKKACiiigAooooAK%2BV/2nv2tPi58MPjH4s1rwD4d8HyeGPg/4f8AD9741OtaRcTarqlvq9/KlzBYXEdxGll5FtZx3GZIpxcyFIyIfL80/VFeM/Gf9iH4cfG74pH4ma5458VaXFqNrpFr4v8ADWjXVqmneKYNLvZL2xivllt5Jgsc00ufs8sBljkMUxljCoAD2aiiigAooooA%2BY/Dn7SvxMh/b/8AFHwf%2BI2seHvCfhtfEFpongyLUfhFrKXXjGAaBBqOIPEbXa6c0sd3c6gBaCF5PLtJgFBZpF%2BnK8r8WfstQeP/AIyaR8U/Hvxv8a6vpXh7XY9a0DwBcHTItGsdQjt3gjnDQ2SXsuzzJJFSa6kjEj7tnyIF9UoAKKKKAPF/%2BCgvxd%2BOH7P37I/jT49fAK98KR6x4J0K71y6g8YaLc31td2lrbSzPboltdWzJK7IiiQuVQFiUfgV5/48/a0%2BLngv48eLdT8KeHfCEXw88IfGPwj8PvGVnNpFwdb1XVddg0VI9Qhu0uFhjjg/tzSYzFJbyvIkM%2BJY9qCvYf2sf2cbL9rT4Ea9%2Bz7rXxV8U%2BEdJ8T2Utjrl/4QXTvtdzZSxPFNbbr%2B0uo0R1flkRZAVG115zxcH7APg6f4i2fxF8VfHHx9rrHWdJ1zxNo2oS6VFY%2BJ9c0xI0sdWvY7awiZbiIQWmFtmggY2NsXiYx5IB73RRRQAV4v%2B2T8Xfjh8ErXwD4x%2BFl74U/sbUPiZ4c8PeL7HxBotzc3Vza6rrNjpoNnLDdQpbSRrcyyb5EnUlEXZyTXtFeVftXfstv%2B1V4b0LwvP8ffG/ga30LxJYa6jeC4dHZ7u9sbyC8s2lOpafeDbFcW8bhYwgblZN6naADzj9nn9pX4ma3%2B1V4t%2BCPxQ1fw94T06HxTrdv4J8JSfCLWdMudetoXSU39vrVxd/YNQdjJNLLFbQF%2BS7FcMT9OV5LpP7KIf4yaL8ZfiP8AtAeO/Gs3he7vLvwnoXiEaTDYaPdXNvJayXES2Gn20sr/AGeaeFfPklVFnfaASCPWqACiiigDw/8Abu%2BLnx4/Z%2B%2BDWr/HX4UeMfAtjp/hbRbm8vdF8WeGb2/ufEN7lFs9Ms5La9g%2BzzXEpFujeVdM0s8QWFj8ref/AAR/a%2B%2BM%2BufEvwV/a3gzwlpHw08b/E/xR8NvCvhrTtLmj1fRL/QIdW3zz3IuGt5oJG8P6miwx28RjVrY%2BZJlgPT/ANpX9kGD9pLx54I%2BIE37QPjvwhc%2BAbu5vdFsfDEWjT2cl7KgjW8mg1PTrxHnhj8xYZAFMYnlI%2BZsir4D/Ya%2BHvgP4y2/xdh%2BIvi7UoNO13U9e0TwhqVzZf2TpWt6jG8eoapAkVqk/nzie7LK8zwo19cmOKPzOAD2uiiigAr5f/a5%2BPH7S/wW%2BImn%2BFNKh8AeNdH8cw61baL8OYvB99JrCWtpod1dyX9xOL14rq2F1Fb20kItYgft8KCYyMiSfUFeHTfsTXEf7R/iv9prRP2q/iXp2r%2BLdNh0650uGDw/PaafZwwNHDbWbXOky3NvEsrvdbFm2vO5dw4O2gBn7CH7Qfjf49/D28uviv4%2B0a%2B8XacLNtf8N2Xwu1fwjeaA89ssogubLV7qe4cFt/l3ACRyKh2htpNe6V5v8Dv2btO%2BDPifxJ8Q9Y%2BKXinxx4q8VxWNvrHifxc1gty9pZib7LapFp9ra20cUbXNy42whma4kLM2Rj0igAooooA%2BOf8AgoJ%2B3H8VP2MPHP8AaeuaLoHjHwi%2Bjajrdv4Vl%2BHOp2Utumm6Nfakkn/CRTXT6ZPd/a9NGyxWBLoRzLKBthaRvXv2aPi78c9W%2BKnjf9nr9o658Kah4n8I6ToetR614K0i5sLG5sdUF5GkRgubm5dZYrjTrtS/m4kQxNsjJKit8df2EvBH7TmtXVr8f/i3418UeC7mS4kX4ZXkmmw6LFJNYzWTNvt7KO%2BkAjuJmCS3ToHfdt%2BRAvT/ALPn7M2kfAO817xFd/FDxZ448R%2BJDZx6t4q8a3Fm99LbWkRitbUfY7a3hWKIPKwxHvZ55XdnZyaAPSqKKKACviP9qf8AbK/az%2BDfxq8QfCjwd4b8OeNdTsNFuNd8MBPgf4gjk0UDUdMtUMLfbnHiaQWOqXHnf2X5TwtCVlEYmEdfbleH69%2BxbqfiXx6fidrX7XPxRm1vT4LyLwbeFNAA8KrdTQyT/ZIxpOydmjgW33Xq3TLEzhSruzkA6r9lj4sP8ZPhHB4svfiZo3iq/h1G6stUvtG8GX3h0W1xFKytazabqFxPdWc8YwrxzOHz821QwFejVw3wD%2BAvh74AeGdT0bSvFOt%2BINR1/XrjW/EniTxHNA17qt/MERp5RbxQwJiOKGJUhijjVIkAUYJPc0AFFFFABRRRQAUUUUAFFFFAFHxR4hsPCXhrUfFeqhza6ZYzXdyIly3lxoXbA7nCmvnP9ib9pP41%2BP8AxTo/gz42eHvBlmPHXwtsviN4Zh8GaVcWg0yO8uCbvT7szXEou5o3ubZ/tiCATtLMTBHtBf6Wu7S1v7WWxvbdJoZo2jmilUMrqRgqQeCCOMV5D%2BzN%2BxX4C/Zg1V9X0D4g%2BLfEstt4YsfDPh0eLL21mGgaFZvI9vptqbe3hLRqZPmlnM1xII4vMmfy1wAexUUUUAFcL%2B1B48%2BIvws/Zo%2BInxO%2BD/hRde8W%2BHPAur6p4W0NrGa6Go6jb2csttbGGBllmEkqInlxsHbdhSCQa7qs7xbol/4l8Mah4f0vxXqOhXN7aSQ2%2BtaQsDXVi7KQJohcRSxF1PIEkbpkfMrDIIB5d%2BxT8Wp/ih8M76y1b4heH9Z1Pw7qq6deaZonww1Pwc%2BhoLaCSKzuNK1S5nuYXCOJFdvLR4pYtiYG9/Yq88%2BA/wCztpPwOvPEviO5%2BIniTxj4k8X6jDeeIvFPit7MXd0YbdLeCIR2NtbW0UUcaAKscKZLOzFmZmPodABRRRQB8uftUftY/FD9nD4veOLL4laN4S8RfC%2Bw/Z38X%2BPbbQrfRLhNVdtEGlrPbXFzJcvbzRTrfTgILZCoRMu%2BWFdv%2BzP8X/j5qnxc8Zfs6/tLP4SvPFHhjwx4e8Sx6r4K0m5sbKSy1Z9St1tjDc3Ny5lhuNIuwZRIFkR4m8uM7lqD4x/sK%2BHfjp8dW%2BMvjz47eOZdNm8Fan4Rvvh7DBov9iXejaktt9vtJC%2BmtekTtaQOzi6DqUIRkRmQ9J%2Bzv%2By7of7Pt9rXiOf4oeLfG/iHX7Wwsr/xP42ubSS9NhYpItnZj7JbW8flRGe4cEoZHe5ld3dmzQB6fRRRQAV8ifGv9pf9rbwZrv7QHgS38K%2BDPFl74C8P%2BFPEnw2sdJ%2BH%2Bp386x6jqupQhLy1ivHl1GeBdNjnU2wtyXJCr8qtX13Xhcv7FHiGL46eNvj/AKF%2B2h8VtK1bxvpFjplzY2Vn4Ya0022sri5ns0thLoryfujeXSgzPKXWciTzCqFQDq/2VPi3N8ZfhSPE2o/E7RvFOo2uq3Njq11o/gi/8NmzuIm%2Ba1n0zUbie6tJ0UruSZgxDK21VYV6TXCfAP4B6B8AdC1mx0/xbrniPVfE3iCXXPE/ibxJLbte6rfyQwwebILaGGCMLBb28KpFFGipCgC5yT3dABRRRQB8bftLftd/tLfs8fGaD4baynwz8a32twQTeEYdO8LXtpL4LvNS8Q6Z4e0ibU5XvphdRTtq84LRLZyOLG6WMMvmGL3H9lX4v/Ej4jDx/wDD74xHRJ/FXw08eN4a1nVfDWnTWdhqfmaXp2rW9xDbzTzyW%2BbXVLdHjaaXEkcmGIIxwtt/wTV8JNdfEN/EP7S/xO1m3%2BJOvHXNYt9SOheZZ6lFcQz6fc211FpaXSmwe3txaRvNJFEsKBkfnPrHwD%2BAuh/APw9q2m2Xi/XPEmreItem1rxP4o8SvbG/1e%2Bkjih86YWsEEC7IILeBEiijRY4I1C8EkA7qiiigBlz9p%2BzSfY9nnbD5Xm527scZxzjNfEHxW/a5/bT%2BGnxE1z4bW9t4D8Z694YvfDVvq3jrwR8Fdf1aPw5b6s1497YS6VZ6lPd3M0cNlY3RMU6fu7qFpYEBiaT7eu4ZLi1lt4bqSB5I2VZ4gpeMkYDLuBXI6jII9Qa%2Be/gx%2BwF4g%2BAnw2uPhp8O/26vjFFHdas%2BpzazeWXhOfUJbuV5ZLmeaZ9CP2mSd5d0kk4kfMabCgGCAes/AT4h2XxW%2BDvh/4hWHxA0bxUmp6eJH1/w/pM1haXcgJWQpazzTS2xV1ZGhkkd42VlY7lIHX1yXwL%2BC/hL9n34X6d8KfBVzf3FlYS3VxNfarcia6vru6uZbq6upnCqGlmuJ5pX2qq7pDtVVwo62gAqj4nh8SXPhvULfwbqdjZavJZSrpd5qdg91bQXBQiOSWGOWJpo1bBZFkjLAEB1J3C9Wb4x0G/8UeFr/w7pfi3UtBuby1eKDWtHEBurFyOJohcRSxF1PIEkbocfMrDIoA%2BHvhv%2B3Z%2B1r8YPinrfwS%2BFmm/D5PGem2uu30njPxX8Lta0NdU0zSLXRZUsZdEvL5NQ0%2BV7vxDsSaeZ4/KhkuEhdZ0B%2BxvgF8WtN%2BPnwJ8FfHXRtNls7Pxr4S03XrSzmfc8EV5ax3CxsQBkqJACfUV4tq//BMjwPrWuX3xFu/2lPimnxA1ZLy11r4k217pEOrX%2BmXVta202mFE00WcNsUsrRh5FtFKskCyrKHLMfoPwX4P8NfDzwdpPgDwZpMWn6PoemQafpNhDnZbW0MaxxRrnnCoqqPpQBp0UUUAcv8AGnUfHGjfC3Wtb%2BHPiGx0vVrCzN1Dfah4PvfECJHGQ8oGnWM8FzeSNErqkUMgcuy4Vz8jfFvwl/4KI/H7xJ400PU/G9x4R8CeDNSnnXxB44vPgZ4imttYv4dfutIRLmVb6NPDM8lraWv7jVGklgeVY3zsCV9t/EzwZrvj3wlN4c8N/FLX/Bt5JLG8Wv8AhmKxe7g2sCVVb%2B2uYGDAFSHibgnGDgjxW6/4JzeFNQ8H3Hw21b9pD4m3fhjXNQmv/HmgTXGjiLxhdz3jXVxNfSrpouIvNLLC0dnLaxCGJI1RRu3AH0TRRRQAUUUUAFFFFABRRRQAUUUUAFFFFABRRRQAUUUUAFFFFABRRRQAUUUUAFFFFABRRRQAUUUUAFFFFABRRRQAUUUUAFFFFABRRRQAUUUUAFFFFABRRRQAUUUUAFFFFABRRRQAUUUUAFFFFABRRRQAUUUUAFFFFABRRRQAUUUUAFFFFABRRRQAUUUUAFFFFABRRRQAUUUUAFFFFABRRRQAUUUUAFFFFABRRRQAUUUUAFFFFABRRRQAUUUUAFFFFABRRRQAUUUUAFFFFABRRRQAUUUUAFFFFABRRRQAUUUUAFFFFABRRRQAUUUUAFFFFABRRRQB/9k%3D\">"
            ]
          },
          "metadata": {
            "tags": []
          }
        }
      ]
    },
    {
      "cell_type": "markdown",
      "metadata": {
        "id": "7ILHCwenoAJN"
      },
      "source": [
        "# Submit the MLP with 2 hidden layers\n",
        "Run these cells after training the MLP with 2 hidden layers"
      ]
    },
    {
      "cell_type": "code",
      "metadata": {
        "id": "oCLBrjNooAJN"
      },
      "source": [
        "## GRADED PART, DO NOT CHANGE!\n",
        "# Validation loss for MLP\n",
        "grader.set_answer(\"i8bgs\", s.run(loss, {input_X: X_val_flat, input_y: y_val_oh}))\n",
        "# Validation accuracy for MLP\n",
        "grader.set_answer(\"rE763\", accuracy_score(y_val, s.run(classes, {input_X: X_val_flat})))"
      ],
      "execution_count": 21,
      "outputs": []
    },
    {
      "cell_type": "code",
      "metadata": {
        "id": "4C6ZdvYaoAJN",
        "outputId": "a08f77f7-41db-48e7-8c37-067fd1fbe147",
        "colab": {
          "base_uri": "https://localhost:8080/"
        }
      },
      "source": [
        "# you can make submission with answers so far to check yourself at this stage\n",
        "grader.submit(COURSERA_EMAIL, COURSERA_TOKEN)"
      ],
      "execution_count": 22,
      "outputs": [
        {
          "output_type": "stream",
          "text": [
            "Submitted to Coursera platform. See results on assignment page!\n"
          ],
          "name": "stdout"
        }
      ]
    },
    {
      "cell_type": "code",
      "metadata": {
        "id": "DKp6ZDuaoAJN"
      },
      "source": [
        ""
      ],
      "execution_count": null,
      "outputs": []
    }
  ]
}