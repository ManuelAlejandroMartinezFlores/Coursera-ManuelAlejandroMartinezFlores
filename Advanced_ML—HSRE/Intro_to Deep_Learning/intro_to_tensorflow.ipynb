{
  "nbformat": 4,
  "nbformat_minor": 0,
  "metadata": {
    "kernelspec": {
      "display_name": "Python 3",
      "language": "python",
      "name": "python3"
    },
    "language_info": {
      "codemirror_mode": {
        "name": "ipython",
        "version": 3
      },
      "file_extension": ".py",
      "mimetype": "text/x-python",
      "name": "python",
      "nbconvert_exporter": "python",
      "pygments_lexer": "ipython3",
      "version": "3.6.5"
    },
    "colab": {
      "name": "intro_to_tensorflow.ipynb",
      "provenance": []
    },
    "accelerator": "GPU"
  },
  "cells": [
    {
      "cell_type": "code",
      "metadata": {
        "colab": {
          "base_uri": "https://localhost:8080/"
        },
        "id": "xd0zFOnod8MQ",
        "outputId": "55815157-a973-445f-acb3-1f0baa4e24e2"
      },
      "source": [
        "! shred -u setup_google_colab.py\n",
        "! wget https://raw.githubusercontent.com/hse-aml/intro-to-dl/master/setup_google_colab.py -O setup_google_colab.py\n",
        "import setup_google_colab\n",
        "# please, uncomment the week you're working on\n",
        "# setup_google_colab.setup_week1()\n",
        "setup_google_colab.setup_week2()\n",
        "# setup_google_colab.setup_week2_honor()\n",
        "# setup_google_colab.setup_week3()\n",
        "# setup_google_colab.setup_week4()\n",
        "# setup_google_colab.setup_week5()\n",
        "# setup_google_colab.setup_week6()"
      ],
      "execution_count": 20,
      "outputs": [
        {
          "output_type": "stream",
          "text": [
            "--2021-01-22 19:27:28--  https://raw.githubusercontent.com/hse-aml/intro-to-dl/master/setup_google_colab.py\n",
            "Resolving raw.githubusercontent.com (raw.githubusercontent.com)... 151.101.0.133, 151.101.64.133, 151.101.128.133, ...\n",
            "Connecting to raw.githubusercontent.com (raw.githubusercontent.com)|151.101.0.133|:443... connected.\n",
            "HTTP request sent, awaiting response... 200 OK\n",
            "Length: 3636 (3.6K) [text/plain]\n",
            "Saving to: ‘setup_google_colab.py’\n",
            "\n",
            "\rsetup_google_colab.   0%[                    ]       0  --.-KB/s               \rsetup_google_colab. 100%[===================>]   3.55K  --.-KB/s    in 0s      \n",
            "\n",
            "2021-01-22 19:27:28 (46.3 MB/s) - ‘setup_google_colab.py’ saved [3636/3636]\n",
            "\n",
            "**************************************************\n",
            "inception_v3_weights_tf_dim_ordering_tf_kernels_notop.h5\n",
            "**************************************************\n",
            "cifar-10-batches-py.tar.gz\n",
            "**************************************************\n",
            "mnist.npz\n"
          ],
          "name": "stdout"
        }
      ]
    },
    {
      "cell_type": "markdown",
      "metadata": {
        "id": "8jIayaFad4cL"
      },
      "source": [
        "# Intro to TensorFlow\n",
        "\n",
        "This notebook covers the basics of TF and shows you an animation with gradient descent trajectory.\n",
        "<img src=\"https://github.com/hse-aml/intro-to-dl/blob/master/week2/v2/images/gradient_descent.png?raw=1\" style=\"width:50%\">"
      ]
    },
    {
      "cell_type": "markdown",
      "metadata": {
        "id": "UqHH94o2d4cM"
      },
      "source": [
        "# TensorBoard"
      ]
    },
    {
      "cell_type": "markdown",
      "metadata": {
        "id": "ZIVp14mVd4cM"
      },
      "source": [
        "**Plase note that if you are running on the Coursera platform, you won't be able to access the tensorboard instance due to the network setup there.**\n",
        "\n",
        "Run `tensorboard --logdir=./tensorboard_logs --port=7007` in bash.\n",
        "\n",
        "If you run the notebook locally, you should be able to access TensorBoard on http://127.0.0.1:7007/"
      ]
    },
    {
      "cell_type": "code",
      "metadata": {
        "colab": {
          "base_uri": "https://localhost:8080/"
        },
        "id": "fw1lJXINd4cM",
        "outputId": "18804675-c2fd-4e34-cc9a-67be9f44c7d0"
      },
      "source": [
        "import tensorflow as tf\n",
        "import sys\n",
        "sys.path.append(\"../..\")\n",
        "from keras_utils import reset_tf_session\n",
        "s = reset_tf_session()\n",
        "print(\"We're using TF\", tf.__version__)"
      ],
      "execution_count": 21,
      "outputs": [
        {
          "output_type": "stream",
          "text": [
            "We're using TF 1.15.2\n"
          ],
          "name": "stdout"
        }
      ]
    },
    {
      "cell_type": "code",
      "metadata": {
        "id": "vCcd9k-9d4cF"
      },
      "source": [
        "# set tf 1.x for colab\n",
        "%tensorflow_version 1.x"
      ],
      "execution_count": 22,
      "outputs": []
    },
    {
      "cell_type": "markdown",
      "metadata": {
        "id": "ahQ-_T9Vd4cN"
      },
      "source": [
        "# Warming up\n",
        "For starters, let's implement a python function that computes the sum of squares of numbers from 0 to N-1."
      ]
    },
    {
      "cell_type": "code",
      "metadata": {
        "id": "0e0iSlFUd4cN"
      },
      "source": [
        "import numpy as np\n",
        "\n",
        "def sum_python(N):\n",
        "    return np.sum(np.arange(N)**2)"
      ],
      "execution_count": 23,
      "outputs": []
    },
    {
      "cell_type": "code",
      "metadata": {
        "colab": {
          "base_uri": "https://localhost:8080/"
        },
        "id": "SqArR1rfd4cN",
        "outputId": "c9a8d521-6c76-46fa-a46c-b43e1c15fe11"
      },
      "source": [
        "%%time\n",
        "sum_python(10**5)"
      ],
      "execution_count": 24,
      "outputs": [
        {
          "output_type": "stream",
          "text": [
            "CPU times: user 1.51 ms, sys: 138 µs, total: 1.65 ms\n",
            "Wall time: 1.26 ms\n"
          ],
          "name": "stdout"
        },
        {
          "output_type": "execute_result",
          "data": {
            "text/plain": [
              "333328333350000"
            ]
          },
          "metadata": {
            "tags": []
          },
          "execution_count": 24
        }
      ]
    },
    {
      "cell_type": "markdown",
      "metadata": {
        "id": "BibcNE0Ld4cN"
      },
      "source": [
        "# Tensoflow teaser\n",
        "\n",
        "Doing the very same thing"
      ]
    },
    {
      "cell_type": "code",
      "metadata": {
        "id": "C8QA63ZUd4cO"
      },
      "source": [
        "# An integer parameter\n",
        "N = tf.placeholder('int64', name=\"input_to_your_function\")\n",
        "\n",
        "# A recipe on how to produce the same result\n",
        "result = tf.reduce_sum(tf.range(N)**2)"
      ],
      "execution_count": 25,
      "outputs": []
    },
    {
      "cell_type": "code",
      "metadata": {
        "colab": {
          "base_uri": "https://localhost:8080/"
        },
        "id": "Sr1eIZHUd4cO",
        "outputId": "a116f50e-2d05-4bfe-9022-45df3e370664"
      },
      "source": [
        "# just a graph definition\n",
        "result"
      ],
      "execution_count": 26,
      "outputs": [
        {
          "output_type": "execute_result",
          "data": {
            "text/plain": [
              "<tf.Tensor 'Sum:0' shape=() dtype=int64>"
            ]
          },
          "metadata": {
            "tags": []
          },
          "execution_count": 26
        }
      ]
    },
    {
      "cell_type": "code",
      "metadata": {
        "colab": {
          "base_uri": "https://localhost:8080/"
        },
        "id": "fbjvllqjd4cO",
        "outputId": "3fcf98e0-8725-4eed-9e7e-14f4ad240acf"
      },
      "source": [
        "%%time\n",
        "# actually executing\n",
        "result.eval({N: 10**5})"
      ],
      "execution_count": 27,
      "outputs": [
        {
          "output_type": "stream",
          "text": [
            "CPU times: user 6.38 ms, sys: 0 ns, total: 6.38 ms\n",
            "Wall time: 7.92 ms\n"
          ],
          "name": "stdout"
        },
        {
          "output_type": "execute_result",
          "data": {
            "text/plain": [
              "333328333350000"
            ]
          },
          "metadata": {
            "tags": []
          },
          "execution_count": 27
        }
      ]
    },
    {
      "cell_type": "code",
      "metadata": {
        "id": "xhn-ACj5d4cP"
      },
      "source": [
        "# logger for tensorboard\n",
        "writer = tf.summary.FileWriter(\"tensorboard_logs\", graph=s.graph)"
      ],
      "execution_count": 28,
      "outputs": []
    },
    {
      "cell_type": "markdown",
      "metadata": {
        "id": "Lpra_neId4cP"
      },
      "source": [
        "# How does it work?\n",
        "1. Define placeholders where you'll send inputs\n",
        "2. Make a symbolic graph: a recipe for mathematical transformation of those placeholders\n",
        "3. Compute outputs of your graph with particular values for each placeholder\n",
        "  * `output.eval({placeholder: value})`\n",
        "  * `s.run(output, {placeholder: value})`\n",
        "\n",
        "So far there are two main entities: \"placeholder\" and \"transformation\" (operation output)\n",
        "* Both can be numbers, vectors, matrices, tensors, etc.\n",
        "* Both can be int32/64, floats, booleans (uint8) of various size.\n",
        "\n",
        "* You can define new transformations as an arbitrary operation on placeholders and other transformations\n",
        " * `tf.reduce_sum(tf.arange(N)**2)` are 3 sequential transformations of placeholder `N`\n",
        " * There's a tensorflow symbolic version for every numpy function\n",
        "   * `a+b, a/b, a**b, ...` behave just like in numpy\n",
        "   * `np.mean` -> `tf.reduce_mean`\n",
        "   * `np.arange` -> `tf.range`\n",
        "   * `np.cumsum` -> `tf.cumsum`\n",
        "   * If you can't find the operation you need, see the [docs](https://www.tensorflow.org/versions/r1.3/api_docs/python).\n",
        "   \n",
        "`tf.contrib` has many high-level features, may be worth a look."
      ]
    },
    {
      "cell_type": "code",
      "metadata": {
        "id": "Mw1B2IyDd4cP"
      },
      "source": [
        "with tf.name_scope(\"Placeholders_examples\"):\n",
        "    # Default placeholder that can be arbitrary float32\n",
        "    # scalar, vertor, matrix, etc.\n",
        "    arbitrary_input = tf.placeholder('float32')\n",
        "\n",
        "    # Input vector of arbitrary length\n",
        "    input_vector = tf.placeholder('float32', shape=(None,))\n",
        "\n",
        "    # Input vector that _must_ have 10 elements and integer type\n",
        "    fixed_vector = tf.placeholder('int32', shape=(10,))\n",
        "\n",
        "    # Matrix of arbitrary n_rows and 15 columns\n",
        "    # (e.g. a minibatch of your data table)\n",
        "    input_matrix = tf.placeholder('float32', shape=(None, 15))\n",
        "    \n",
        "    # You can generally use None whenever you don't need a specific shape\n",
        "    input1 = tf.placeholder('float64', shape=(None, 100, None))\n",
        "    input2 = tf.placeholder('int32', shape=(None, None, 3, 224, 224))\n",
        "\n",
        "    # elementwise multiplication\n",
        "    double_the_vector = input_vector*2\n",
        "\n",
        "    # elementwise cosine\n",
        "    elementwise_cosine = tf.cos(input_vector)\n",
        "\n",
        "    # difference between squared vector and vector itself plus one\n",
        "    vector_squares = input_vector**2 - input_vector + 1"
      ],
      "execution_count": 29,
      "outputs": []
    },
    {
      "cell_type": "code",
      "metadata": {
        "id": "LtaRINhwd4cP"
      },
      "source": [
        "my_vector =  tf.placeholder('float32', shape=(None,), name=\"VECTOR_1\")\n",
        "my_vector2 = tf.placeholder('float32', shape=(None,))\n",
        "my_transformation = my_vector * my_vector2 / (tf.sin(my_vector) + 1)"
      ],
      "execution_count": 30,
      "outputs": []
    },
    {
      "cell_type": "code",
      "metadata": {
        "colab": {
          "base_uri": "https://localhost:8080/"
        },
        "id": "i2twm6fEd4cQ",
        "outputId": "249f2cf3-f8af-4696-8fb1-c27c60eacacc"
      },
      "source": [
        "print(my_transformation)"
      ],
      "execution_count": 31,
      "outputs": [
        {
          "output_type": "stream",
          "text": [
            "Tensor(\"truediv:0\", shape=(?,), dtype=float32)\n"
          ],
          "name": "stdout"
        }
      ]
    },
    {
      "cell_type": "code",
      "metadata": {
        "colab": {
          "base_uri": "https://localhost:8080/"
        },
        "id": "XtPIN5uTd4cQ",
        "outputId": "28b48047-fe6c-4ef7-c129-14728a4683e9"
      },
      "source": [
        "dummy = np.arange(5).astype('float32')\n",
        "print(dummy)\n",
        "my_transformation.eval({my_vector: dummy, my_vector2: dummy[::-1]})"
      ],
      "execution_count": 32,
      "outputs": [
        {
          "output_type": "stream",
          "text": [
            "[0. 1. 2. 3. 4.]\n"
          ],
          "name": "stdout"
        },
        {
          "output_type": "execute_result",
          "data": {
            "text/plain": [
              "array([0.       , 1.6291324, 2.0950115, 2.6289961, 0.       ],\n",
              "      dtype=float32)"
            ]
          },
          "metadata": {
            "tags": []
          },
          "execution_count": 32
        }
      ]
    },
    {
      "cell_type": "code",
      "metadata": {
        "id": "n0RcjEwJd4cQ"
      },
      "source": [
        "writer.add_graph(my_transformation.graph)\n",
        "writer.flush()"
      ],
      "execution_count": 33,
      "outputs": []
    },
    {
      "cell_type": "markdown",
      "metadata": {
        "id": "LW8Eusw_d4cQ"
      },
      "source": [
        "TensorBoard allows writing scalars, images, audio, histogram. You can read more on tensorboard usage [here](https://www.tensorflow.org/get_started/graph_viz)."
      ]
    },
    {
      "cell_type": "markdown",
      "metadata": {
        "id": "u9gBSiZad4cQ"
      },
      "source": [
        "# Summary\n",
        "* Tensorflow is based on computation graphs\n",
        "* A graph consists of placeholders and transformations"
      ]
    },
    {
      "cell_type": "markdown",
      "metadata": {
        "id": "P2Q0_NnPd4cR"
      },
      "source": [
        "# Loss function: Mean Squared Error\n",
        "\n",
        "Loss function must be a part of the graph as well, so that we can do backpropagation."
      ]
    },
    {
      "cell_type": "code",
      "metadata": {
        "id": "kTKiB3jud4cR"
      },
      "source": [
        "with tf.name_scope(\"MSE\"):\n",
        "    y_true = tf.placeholder(\"float32\", shape=(None,), name=\"y_true\")\n",
        "    y_predicted = tf.placeholder(\"float32\", shape=(None,), name=\"y_predicted\")\n",
        "    # Implement MSE(y_true, y_predicted), use tf.reduce_mean(...)\n",
        "    mse = tf.reduce_mean((y_true-y_predicted)**2)\n",
        "\n",
        "def compute_mse(vector1, vector2):\n",
        "    return mse.eval({y_true: vector1, y_predicted: vector2})"
      ],
      "execution_count": 38,
      "outputs": []
    },
    {
      "cell_type": "code",
      "metadata": {
        "id": "lXPqqco9d4cR"
      },
      "source": [
        "writer.add_graph(mse.graph)\n",
        "writer.flush()"
      ],
      "execution_count": 39,
      "outputs": []
    },
    {
      "cell_type": "code",
      "metadata": {
        "id": "VNfkPi9hd4cR"
      },
      "source": [
        "# Rigorous local testing of MSE implementation\n",
        "import sklearn.metrics\n",
        "for n in [1, 5, 10, 10**3]:\n",
        "    elems = [np.arange(n), np.arange(n, 0, -1), np.zeros(n),\n",
        "             np.ones(n), np.random.random(n), np.random.randint(100, size=n)]\n",
        "    for el in elems:\n",
        "        for el_2 in elems:\n",
        "            true_mse = np.array(sklearn.metrics.mean_squared_error(el, el_2))\n",
        "            my_mse = compute_mse(el, el_2)\n",
        "            if not np.allclose(true_mse, my_mse):\n",
        "                print('mse(%s,%s)' % (el, el_2))\n",
        "                print(\"should be: %f, but your function returned %f\" % (true_mse, my_mse))\n",
        "                raise ValueError('Wrong result')"
      ],
      "execution_count": 40,
      "outputs": []
    },
    {
      "cell_type": "markdown",
      "metadata": {
        "id": "PKx4NWHNd4cR"
      },
      "source": [
        "# Variables\n",
        "\n",
        "Placeholder and transformation values are not stored in the graph once the execution is finished. This isn't too comfortable if you want your model to have parameters (e.g. network weights) that are always present, but can change their value over time.\n",
        "\n",
        "Tensorflow solves this with `tf.Variable` objects.\n",
        "* You can assign variable a value at any time in your graph\n",
        "* Unlike placeholders, there's no need to explicitly pass values to variables when `s.run(...)`-ing\n",
        "* You can use variables the same way you use transformations \n",
        " "
      ]
    },
    {
      "cell_type": "code",
      "metadata": {
        "id": "RwQfKcm-d4cS"
      },
      "source": [
        "# Creating a shared variable\n",
        "shared_vector_1 = tf.Variable(initial_value=np.ones(5),\n",
        "                              name=\"example_variable\")"
      ],
      "execution_count": 41,
      "outputs": []
    },
    {
      "cell_type": "code",
      "metadata": {
        "colab": {
          "base_uri": "https://localhost:8080/"
        },
        "id": "cuCtyAb-d4cS",
        "outputId": "68145326-2b2a-4408-a50f-5935bc6a1b3b"
      },
      "source": [
        "# Initialize variable(s) with initial values\n",
        "s.run(tf.global_variables_initializer())\n",
        "\n",
        "# Evaluating the shared variable\n",
        "print(\"Initial value\", s.run(shared_vector_1))"
      ],
      "execution_count": 42,
      "outputs": [
        {
          "output_type": "stream",
          "text": [
            "Initial value [1. 1. 1. 1. 1.]\n"
          ],
          "name": "stdout"
        }
      ]
    },
    {
      "cell_type": "code",
      "metadata": {
        "colab": {
          "base_uri": "https://localhost:8080/"
        },
        "id": "bPMfPqHVd4cS",
        "outputId": "ad143228-dcf6-4cc1-c19c-3576b371cfa3"
      },
      "source": [
        "# Setting a new value\n",
        "s.run(shared_vector_1.assign(np.arange(5)))\n",
        "\n",
        "# Getting that new value\n",
        "print(\"New value\", s.run(shared_vector_1))"
      ],
      "execution_count": 43,
      "outputs": [
        {
          "output_type": "stream",
          "text": [
            "New value [0. 1. 2. 3. 4.]\n"
          ],
          "name": "stdout"
        }
      ]
    },
    {
      "cell_type": "markdown",
      "metadata": {
        "id": "jrTNM72od4cT"
      },
      "source": [
        "# tf.gradients - why graphs matter\n",
        "* Tensorflow can compute derivatives and gradients automatically using the computation graph\n",
        "* True to its name it can manage matrix derivatives\n",
        "* Gradients are computed as a product of elementary derivatives via the chain rule:\n",
        "\n",
        "$$ {\\partial f(g(x)) \\over \\partial x} = {\\partial f(g(x)) \\over \\partial g(x)}\\cdot {\\partial g(x) \\over \\partial x} $$\n",
        "\n",
        "It can get you the derivative of any graph as long as it knows how to differentiate elementary operations"
      ]
    },
    {
      "cell_type": "code",
      "metadata": {
        "colab": {
          "base_uri": "https://localhost:8080/"
        },
        "id": "800Hb-JOd4cT",
        "outputId": "aed1483a-731e-4447-9587-e86c461fa0e5"
      },
      "source": [
        "my_scalar = tf.placeholder('float32')\n",
        "\n",
        "scalar_squared = my_scalar**2\n",
        "\n",
        "# A derivative of scalar_squared by my_scalar\n",
        "derivative = tf.gradients(scalar_squared, [my_scalar, ])"
      ],
      "execution_count": 44,
      "outputs": [
        {
          "output_type": "stream",
          "text": [
            "WARNING:tensorflow:From /tensorflow-1.15.2/python3.6/tensorflow_core/python/ops/math_grad.py:1375: where (from tensorflow.python.ops.array_ops) is deprecated and will be removed in a future version.\n",
            "Instructions for updating:\n",
            "Use tf.where in 2.0, which has the same broadcast rule as np.where\n"
          ],
          "name": "stdout"
        }
      ]
    },
    {
      "cell_type": "code",
      "metadata": {
        "colab": {
          "base_uri": "https://localhost:8080/"
        },
        "id": "yGJ38VOLd4cU",
        "outputId": "86273df5-5c14-4232-ca95-68b7b1802bdb"
      },
      "source": [
        "derivative"
      ],
      "execution_count": 45,
      "outputs": [
        {
          "output_type": "execute_result",
          "data": {
            "text/plain": [
              "[<tf.Tensor 'gradients/pow_1_grad/Reshape:0' shape=<unknown> dtype=float32>]"
            ]
          },
          "metadata": {
            "tags": []
          },
          "execution_count": 45
        }
      ]
    },
    {
      "cell_type": "code",
      "metadata": {
        "colab": {
          "base_uri": "https://localhost:8080/",
          "height": 265
        },
        "id": "D7moaxLcd4cU",
        "outputId": "4615de37-13e8-4019-9085-07750350b67e"
      },
      "source": [
        "import matplotlib.pyplot as plt\n",
        "%matplotlib inline\n",
        "\n",
        "x = np.linspace(-3, 3)\n",
        "x_squared, x_squared_der = s.run([scalar_squared, derivative[0]],\n",
        "                                 {my_scalar:x})\n",
        "\n",
        "plt.plot(x, x_squared,label=\"$x^2$\")\n",
        "plt.plot(x, x_squared_der, label=r\"$\\frac{\\delta x^2}{\\delta x}$\")\n",
        "plt.legend();"
      ],
      "execution_count": 47,
      "outputs": [
        {
          "output_type": "display_data",
          "data": {
            "image/png": "[encoded data removed]",
            "text/plain": [
              "<Figure size 432x288 with 1 Axes>"
            ]
          },
          "metadata": {
            "tags": [],
            "needs_background": "light"
          }
        }
      ]
    },
    {
      "cell_type": "markdown",
      "metadata": {
        "id": "gpbEHxPrd4cU"
      },
      "source": [
        "# Why that rocks"
      ]
    },
    {
      "cell_type": "code",
      "metadata": {
        "id": "BwmzQ5wad4cU"
      },
      "source": [
        "my_vector = tf.placeholder('float32', [None])\n",
        "# Compute the gradient of the next weird function over my_scalar and my_vector\n",
        "# Warning! Trying to understand the meaning of that function may result in permanent brain damage\n",
        "weird_psychotic_function = tf.reduce_mean(\n",
        "    (my_vector+my_scalar)**(1+tf.nn.moments(my_vector,[0])[1]) + \n",
        "    1./ tf.atan(my_scalar))/(my_scalar**2 + 1) + 0.01*tf.sin(\n",
        "    2*my_scalar**1.5)*(tf.reduce_sum(my_vector)* my_scalar**2\n",
        "                      )*tf.exp((my_scalar-4)**2)/(\n",
        "    1+tf.exp((my_scalar-4)**2))*(1.-(tf.exp(-(my_scalar-4)**2)\n",
        "                                    )/(1+tf.exp(-(my_scalar-4)**2)))**2\n",
        "\n",
        "der_by_scalar = tf.gradients(weird_psychotic_function, my_scalar)\n",
        "der_by_vector = tf.gradients(weird_psychotic_function, my_vector)"
      ],
      "execution_count": 48,
      "outputs": []
    },
    {
      "cell_type": "code",
      "metadata": {
        "colab": {
          "base_uri": "https://localhost:8080/",
          "height": 265
        },
        "id": "xhLV7-ryd4cU",
        "outputId": "0f7a9153-2b8d-4c16-d942-0c59fcb100a1"
      },
      "source": [
        "# Plotting the derivative\n",
        "scalar_space = np.linspace(1, 7, 100)\n",
        "\n",
        "y = [s.run(weird_psychotic_function, {my_scalar:x, my_vector:[1, 2, 3]})\n",
        "     for x in scalar_space]\n",
        "\n",
        "plt.plot(scalar_space, y, label='function')\n",
        "\n",
        "y_der_by_scalar = [s.run(der_by_scalar,\n",
        "                         {my_scalar:x, my_vector:[1, 2, 3]})\n",
        "                   for x in scalar_space]\n",
        "\n",
        "plt.plot(scalar_space, y_der_by_scalar, label='derivative')\n",
        "plt.grid()\n",
        "plt.legend();"
      ],
      "execution_count": 49,
      "outputs": [
        {
          "output_type": "display_data",
          "data": {
            "image/png": "[encoded data removed]",
            "text/plain": [
              "<Figure size 432x288 with 1 Axes>"
            ]
          },
          "metadata": {
            "tags": [],
            "needs_background": "light"
          }
        }
      ]
    },
    {
      "cell_type": "markdown",
      "metadata": {
        "id": "t2RX8EF7d4cV"
      },
      "source": [
        "# Almost done - optimizers\n",
        "\n",
        "While you can perform gradient descent by hand with automatic gradients from above, tensorflow also has some optimization methods implemented for you. Recall momentum & rmsprop?"
      ]
    },
    {
      "cell_type": "code",
      "metadata": {
        "id": "7hKG3hoSd4cV"
      },
      "source": [
        "y_guess = tf.Variable(np.zeros(2, dtype='float32'))\n",
        "y_true = tf.range(1, 3, dtype='float32')\n",
        "\n",
        "loss = tf.reduce_mean((y_guess - y_true + 0.5*tf.random_normal([2]))**2) \n",
        "\n",
        "step = tf.train.MomentumOptimizer(0.03, 0.5).minimize(loss, var_list=y_guess)"
      ],
      "execution_count": 50,
      "outputs": []
    },
    {
      "cell_type": "markdown",
      "metadata": {
        "id": "CNlR10rrd4cV"
      },
      "source": [
        "Let's draw a trajectory of a gradient descent in 2D"
      ]
    },
    {
      "cell_type": "code",
      "metadata": {
        "colab": {
          "base_uri": "https://localhost:8080/",
          "height": 269
        },
        "id": "pS1Di1kad4cV",
        "outputId": "cb74b400-e11f-4f99-fa30-46e144db397c"
      },
      "source": [
        "from matplotlib import animation, rc\n",
        "import matplotlib_utils\n",
        "from IPython.display import HTML, display_html\n",
        "\n",
        "# nice figure settings\n",
        "fig, ax = plt.subplots()\n",
        "y_true_value = s.run(y_true)\n",
        "level_x = np.arange(0, 2, 0.02)\n",
        "level_y = np.arange(0, 3, 0.02)\n",
        "X, Y = np.meshgrid(level_x, level_y)\n",
        "Z = (X - y_true_value[0])**2 + (Y - y_true_value[1])**2\n",
        "ax.set_xlim(-0.02, 2)\n",
        "ax.set_ylim(-0.02, 3)\n",
        "s.run(tf.global_variables_initializer())\n",
        "ax.scatter(*s.run(y_true), c='red')\n",
        "contour = ax.contour(X, Y, Z, 10)\n",
        "ax.clabel(contour, inline=1, fontsize=10)\n",
        "line, = ax.plot([], [], lw=2)\n",
        "\n",
        "# start animation with empty trajectory\n",
        "def init():\n",
        "    line.set_data([], [])\n",
        "    return (line,)\n",
        "\n",
        "trajectory = [s.run(y_guess)]\n",
        "\n",
        "# one animation step (make one GD step)\n",
        "def animate(i):\n",
        "    s.run(step)\n",
        "    trajectory.append(s.run(y_guess))\n",
        "    line.set_data(*zip(*trajectory))\n",
        "    return (line,)\n",
        "\n",
        "anim = animation.FuncAnimation(fig, animate, init_func=init,\n",
        "                               frames=100, interval=20, blit=True)"
      ],
      "execution_count": 52,
      "outputs": [
        {
          "output_type": "display_data",
          "data": {
            "image/png": "[encoded data removed]",
            "text/plain": [
              "<Figure size 432x288 with 1 Axes>"
            ]
          },
          "metadata": {
            "tags": [],
            "needs_background": "light"
          }
        }
      ]
    },
    {
      "cell_type": "code",
      "metadata": {
        "colab": {
          "base_uri": "https://localhost:8080/",
          "height": 309
        },
        "id": "MO-l6kaQd4cW",
        "outputId": "0a5e5503-bbfb-4123-e2f9-7591f79122f6"
      },
      "source": [
        "try:\n",
        "    display_html(HTML(anim.to_html5_video()))\n",
        "except (RuntimeError, KeyError):\n",
        "    # In case the build-in renderers are unaviable, fall back to\n",
        "    # a custom one, that doesn't require external libraries\n",
        "    anim.save(None, writer=matplotlib_utils.SimpleMovieWriter(0.001))"
      ],
      "execution_count": 53,
      "outputs": [
        {
          "output_type": "display_data",
          "data": {
            "text/html": [
              "<video width=\"432\" height=\"288\" controls autoplay loop>\n",
              "  <source type=\"video/mp4\" src=\"data:video/mp4;base64,AAAAHGZ0eXBNNFYgAAACAGlzb21pc28yYXZjMQAAAAhmcmVlAABMKW1kYXQAAAKuBgX//6rcRem9\n",
              "5tlIt5Ys2CDZI+7veDI2NCAtIGNvcmUgMTUyIHIyODU0IGU5YTU5MDMgLSBILjI2NC9NUEVHLTQg\n",
              "QVZDIGNvZGVjIC0gQ29weWxlZnQgMjAwMy0yMDE3IC0gaHR0cDovL3d3dy52aWRlb2xhbi5vcmcv\n",
              "eDI2NC5odG1sIC0gb3B0aW9uczogY2FiYWM9MSByZWY9MyBkZWJsb2NrPTE6MDowIGFuYWx5c2U9\n",
              "MHgzOjB4MTEzIG1lPWhleCBzdWJtZT03IHBzeT0xIHBzeV9yZD0xLjAwOjAuMDAgbWl4ZWRfcmVm\n",
              "PTEgbWVfcmFuZ2U9MTYgY2hyb21hX21lPTEgdHJlbGxpcz0xIDh4OGRjdD0xIGNxbT0wIGRlYWR6\n",
              "b25lPTIxLDExIGZhc3RfcHNraXA9MSBjaHJvbWFfcXBfb2Zmc2V0PS0yIHRocmVhZHM9MyBsb29r\n",
              "YWhlYWRfdGhyZWFkcz0xIHNsaWNlZF90aHJlYWRzPTAgbnI9MCBkZWNpbWF0ZT0xIGludGVybGFj\n",
              "ZWQ9MCBibHVyYXlfY29tcGF0PTAgY29uc3RyYWluZWRfaW50cmE9MCBiZnJhbWVzPTMgYl9weXJh\n",
              "bWlkPTIgYl9hZGFwdD0xIGJfYmlhcz0wIGRpcmVjdD0xIHdlaWdodGI9MSBvcGVuX2dvcD0wIHdl\n",
              "aWdodHA9MiBrZXlpbnQ9MjUwIGtleWludF9taW49MjUgc2NlbmVjdXQ9NDAgaW50cmFfcmVmcmVz\n",
              "aD0wIHJjX2xvb2thaGVhZD00MCByYz1jcmYgbWJ0cmVlPTEgY3JmPTIzLjAgcWNvbXA9MC42MCBx\n",
              "cG1pbj0wIHFwbWF4PTY5IHFwc3RlcD00IGlwX3JhdGlvPTEuNDAgYXE9MToxLjAwAIAAADICZYiE\n",
              "AC///vau/MsrRwuVLh1Ze7NR8uhJcv2IMH1oAAADAADVayF8oYJVUBjg5Cl8UC950wnQObmxLpMS\n",
              "eTd2N1o7ZvU7nZLqidQWs9IRqH4qZFuUNOvgrgAArGB7WlESNB735J/CfrjEy3i5zjzWx5r7oD4b\n",
              "7vRGf5YZpSE2SfCltWRnqtLPBS3FxRjhpp/BEdar5txSfEu67R/ppgZwAi2i8ff512MwmU2ndVwZ\n",
              "0/IypwbXeLiexIGKwjGLSLtuFQ6Y/OKysfXRdbpNhUrKtfRj7PsZ4sEuP5y4zl61S+z6VZzYCdA7\n",
              "422O/g7ogLDysqUE24GpHGaJCX2wbS68ujTHQP6XxiSrNlnDwZHgbp5EeVkCuMJlhlbRejAAAW5E\n",
              "i95ObYO5PsuB/yXJXIr296w2R4KtEWts2QxCeaTyILNtSj0FAa6n+Sm+7xuX2JriZx97d2rE/cAU\n",
              "Qsh/+Ymis26EZW9S/cjgVqTEtyVS3CIlK2Ezdp99jK7/nX0GHUivuh8QdJ4bhVPEmo5B7TQYe9Nv\n",
              "n+ebyMRkTx7hvj05vOEfMTes/dwPLUI91WSm8NQ11fuo1LrBS7pJhE73vxY1JjcZWnegaFLpPjAo\n",
              "+BqceCYe5S3Av97ANnEBmzojm/SDmWarQluOhREg6XGZMu4a7snjhzyH4/KonlxVMyXTB8Ya3dGT\n",
              "vrxM2T8GRxsFP+Ki2XIeafZhzaICPKgU1x2LYZqQc9bRDlrWDpuTNmcCbrO7DXBPWt4+vc4y9j4O\n",
              "nmehjy3+29CwtFTKfeNDtJqpsgh9q2E1nXMB/b67agis4/9zgOkKQTrSKTL/ETxrRLU+M6bDF5Hw\n",
              "Mkk0WQCW3/aB4rOdB/mjy0qnw4YqFkBjk8S3abocW1VP5xCX6kQu/S+pHlRN6K+k0MK67uDbQpak\n",
              "Tg3oFCVnZYtI4fIdaw6N4CrUmzN3+T+U2DAvRHNB/dqFoMjErvCTrUOM5i6sgMFnPlzXuzglEx3r\n",
              "tNS/ihpBKoZOTd1ViyEWuvp6CRVIYeDAf+u+GRvSyJD0uB2YFMYXUoJNAnwTcmSYyZTb5a4nxvDl\n",
              "TOC8jlarLZ59F/D69SA66HYNiutMC2dploDTw52cruOXTwGu6T12mOk1kVNnQZriDnZ5c7I+N9HQ\n",
              "a5ZPa57KaQLMuwNl5cmGiFp4HWwZktokWS6ak4lEXjSXXAiOxi7qBV49WigxIGR33VW8wRNdN3Dv\n",
              "xgLQBmCInEdpSYWVa/7NpJBBH7cIb8ttDQIp2sXitLdMBUvDn63XlKb2/rqFXm4DJl2Woi2N3Ol0\n",
              "XloGi675i1F6emt9/LLYQhVVKflHygiF0G+O9AVc2N/8DsTZJwFSpbyMG/Tst2fF3Nvy0sScZcTV\n",
              "4KwHspWfq9YHyH4DdFDKVMWM1BaNsqek0yKv6K+jX0LsoL5Vr8KjZJ+RihiRjHS1R2byBoCqoi0P\n",
              "rEI0pWor53obQeyY52ReSt/DWLCDSWlOgDG1tlMEleKmjysrE3aS59PR9hA8bdC7kPhnQ2tV0gSL\n",
              "26GNMIDjsMBRW/3SowhuZbrNmTlxmBYV3hCRfvFysfKbzpg5k1qs459I2wsyLeKD4f8dcrcvCUg7\n",
              "oa5G0vn+lToJZzDw2LcJk1HdFaIWUgC+woiUDqCzpfSNceg028zPwTXzCmJDKwJOvcBGFhwXmp4z\n",
              "wi9Vr56d6r3XzmGGMexwaChFdcX3+RnqS6Fw1gLH+WHqMHBf88Ng0IQKG0O7KY1SfRF+RNUMAqRU\n",
              "kBDnE+T7CsIWk+iAI54usYhOf3ZzwGkFSFlrZlHY9TRsZ15m0U1+pVprAMA4MsGtUeFB07K6uyAV\n",
              "hk2T8AkUAGDGt4sbuxuZG7PcrbYaj8llFH8rxyn95ylTaRabhsAziWWC7fnI6NQXfyLMhYWCHoVI\n",
              "r/iEsCfCLQj0d8obYU/KyGIJsSVNrRLeMmc00DlWyv/ZHiAjr7+xLTQlAoP7yT5iaVIfVSZ9+b+Z\n",
              "WeCsaCl25Ys9K99tuM5jvlafGWZkFq1spKlVeojxVAAMpL8DFV2WUfJVGDMyE1ct046A1kPeiiRG\n",
              "MndQwdVptxma2zKIvc2BRolDDSa8/LEF/DjiwriNa9wikvvaZARq+hDDcPuIcAKXtTPQq2ohiVuw\n",
              "uarMf2mA9MkFrneFjnQM/0s+uU5jgquFlKj9kUf//Lh34l2T6bAG0DTd5uCP6eT02CYSX3QIXsLL\n",
              "vy+OY3KnRyizGufKPRrjje2TuAigKjeqH7cYeCWz1iPtwQykwnhsY3/FF/HX986703GJVFl1p/be\n",
              "f1tDkb3B0ULSUcf1tgTlTn8Myoh4A1wgOqpDaNHzXmTBg9pH/cMjBYQQuTtpURQKVbwIHZWR0Uyy\n",
              "u1MxcZgaHnIFqJXEdLsje/wFD8aC1GUFwM6/CSYeMQWp3u2I+3S4yNoI3fHZfah0u4c1vvNbiEcK\n",
              "Nz6vsG6t0IfQVVeKqAoiOUqHAsu3ZOaFvOwn5EIaLhRH1bjVxyA4jOYhY8mJ6SrGdsncxO1mEKJp\n",
              "VZpQgC5hyDeyoH+/ZrHoyH01UpsZxzfvl2U6PuiBIVCWlKAUfiiMyg9tS1LiqfTp3pNXVZkOglxU\n",
              "AVXLxhAvM7ve5ct6bpU3I6pDH2Liipvmm6CmJ3v7FLEMFSAH/fleCoqOjQA3ybCj248xQb5sNOJN\n",
              "DBHEnP5YJ4jTDtzYbvfyC24/Wz9K1LK057yAuT51mRhoEj3ok2srA2J0BF5mI/th3bLiMXqrnoFv\n",
              "F7Jbp85SUJzo/otG3/hBE2m5kolxd9TFo2JMmdD15GataI/wfXGq2K2K1KbW8DrtvpHzbROuO3e3\n",
              "AQB0lsTn1SgiUtDwLeQEhMGpdUuL6vUzrtIR/MfSIDUT444AOMTmTBjCApv5r3nbK+LIB53KuKMh\n",
              "E4P1gWIqhgveyuzjO5LMBk124zNjbyfuFpbvJkP5N0RiqBr+L+fr2qzU35QRvVND8DrK1gqls4Q0\n",
              "q4dbNY0Tr7219x0kShy+1x091tFmqEtxT5hAvLfmxbXE/XnVzdSgCgvaAJ+1mAWA0FCAq5GobAr0\n",
              "N+TPlx9cYh2BDinM3jlCtpKPgK2CC8NvRXjG+kQKLslf3wmNPLMgmX0pKqEAwj4TnrNZeaQwItkC\n",
              "GMRcLyhDXKlFJ+5NkMfnhv1xR888TU36NlRBZiRS5fVt+ECMzqb/qhATDHMTLPYZD37bRJyRVR1q\n",
              "B7yIuFp7L7cZIHwy8537GsmiyiEFVe9Oq0XlJsdCLfMKR3dCkUZbvaWNeVFG4KL0SSa+LclD1tcg\n",
              "c0Xu89/prve6hu54fkOX1h4qYmlwzbDbXdiTdUmQkwS3w2CPRd7EUL7vOufafBaORx4Aec/B4cH0\n",
              "lbtgc8L3GyoPK7UZXLMD9b2XALIDvq1LhTqkC6ohjqsYhspIkkmO250o/5m0vaLETfSle7pzIxBj\n",
              "nrkuH0hNrni9s093qkhN0l/3/HDjsTLC77bQeisJKBywBMy5YBhoIMGYyjOzCZMyRWdZHlMTBWKM\n",
              "+JQlXemyMQMXvjvaelulNnV3SX9VfRC47Kh5v9ODGZf1ZOXpODmjPGmolHS7mED5TACZ6vGex71K\n",
              "8++6rlWmPYFs/Bwcbmi8DukqdEEgVScQYLOPNxCeGG0++cHzUVK6IEwMfYti4YwZWNUWlyMzSCJD\n",
              "EgfSESp7CggmWqefyps6Xqhim8ym0VRT2UySQM306LsyM07IC1hjfiX9LUJFgmyeisKYdBenJbMR\n",
              "2VIJAYgmEo6rKL/sGSDZ2ataZAAhLeep6V/TKCVH5rIxzY7k7Vd33VG5oV7XSWbS2tcgnB1APyNd\n",
              "RbM1ofcrW0kFbw4A8vJ5WcCd8hp+esUDnDA/VntRBv4ibKWp3LmJhI967fO1HhIgqD2PkVoYiW30\n",
              "BVkY3DLHQe77Xexw3BXacrByzpDr3Boq6MXfbmdf6tTteDhLiBOZKaHkGBHC6GdpLC1tXP/+F7bp\n",
              "vZZIhLaDWG0QUOAsNB0uTWxf2S2VexdiQd5mw9s9iPmmjaGtHRbM4eAbXkSw+SVDscSSDS16GdSZ\n",
              "Yf7DTDhJ+DrfD1ad6ncHnrRTm3XjHXEgrGvYDeovml3qNFPoqWZN/dDGzjHQ+FsLTR/5J9grPjIl\n",
              "0LSA00cRVSjvmby+5cMEDBHZfWLX1Lav+jlgSMJkNqa9M0rxUnwpYGXwIqWkfwqK2Cvu3oH4Y0VW\n",
              "7FmGO6/ui/+1AyRnoSz/aZQ/vGo1AiKTbKTObiQuDkuEhqO/a2y6ZPzndAtpP4In//9JZM1FKY8N\n",
              "vrPYoIURvgGFKo0GN237DJq0gz1qrsZJSu0d3xAm5tibVYBhmSIv3TFu7BEyJN7QRxzKJhkDNZdN\n",
              "KC6ajWybJLHgkhV2EQkct7uxl2pDieqwVD4dA86iUsJp/8xzdfe00sXJo3WVMgNuAW9lshhBUd5i\n",
              "8BEVkR615Vy2shSx6Y8vlrbkgftpB6C3+NzJmlADASCtXVBWPaii/0E0D+jewYZRd4ZpGE1JhyPS\n",
              "7mSpZnhMJpMyLie9F02IpegPgVkywrF5mukkczLcZl/axkF0A7Usg10M2HrRwl85fQFOyTT2GlOU\n",
              "vAqWZ2iQvDZnQMnFUcC4GGqKW2KQFb/CDjTfJBZXIh0mncwrAI6EPiG9JasKKo+b9nZKDDqCq/oZ\n",
              "XlxJJeMjwtoCbJFTkN39glqxkDsAtGl9Rp8UDH/VGy9L2IPbk0WheUmHMzGbthJwFrV6OS9VcUWm\n",
              "O970oaNwvII/k/haGMl6AsbC9NxIRjACZLEGXCyWd0+lJdpN40L//7NgI8lJluwu4ljiSF4nfrLX\n",
              "XKFgVBiqaOdz05xuLnh8KsKWwL05F/2L6ezSDl8OuOfeZbArvbSmWhHV3CQcEZAiR54SWF5oAi7M\n",
              "6w/l0rVoqaozoFU09gKzo+WF/qmdX5jFrDWidvDGSVnbU7NWrqnDp2Dqd+hpjgxMzoUs1YGnfgEc\n",
              "341kEE414+nBqvlrB6S3bbMHPILZ2xzfLIzeQIDF7KRYmubqg/mldnFQAAmLp90/wQ7f9hAYDY3M\n",
              "uN+LE2CC9TtzIROLhdait/UjCn/j3iNAq6r2/codeurG4LMkmedDZvZcBFh9u0+dm+Lp/tGD5tkm\n",
              "2t6rUK52HlXI+kxRGHzKBofmODElegBNGFKTlLHMTJNvOHl1kGg3PAjE5mQno95cxSHsFOP9TWdn\n",
              "HccG0Yy+11mFK9U6NtYdcRoj1cRk35VYeNQWQ2WfYyQ5zAGI/tXWtnV80o9/NJ48yTzwaAaiEzZo\n",
              "7bgzgndaE3aTnL1P4C/jONSZsMVkiOjK3eigSHSQ6XGOInFAIiTuNTeFf50Z4wEfdzRfr2sPEKtg\n",
              "aR7xwRcqK1tKGoBL+1XzVfOYgGnonPJANI1Z9Ps/YwK6yZUOtm4EU+ViEHELGNJCCPMeNPVA2V3P\n",
              "8Zbj/r4Nevgnfqb6wB8eMH/g/ZrYfu6OS7H6VJLgl82CMUW0ExGUDsYb9JiT0joNRSUXYkeBUpHH\n",
              "OHQwg2wLrKxmzdnmc30IgrBsemqoyQwuNkbbFCC5GOYCd9xSVXD40n0DSLNz8LUb0Kt69aAmj8j5\n",
              "DQXRDGo2juQNIWan48mTIRG9uPDLszg9OFY5HMJnoVs0A2+xkogRb0VswrZwx3wx6mtyBLih+gC7\n",
              "1g+gIp9r0j8g+p/tDC0HpnsF60WSyoMc3NExHNq635jAIGuW+2BsWcoc5WKw5sCCNVNz5OXy320y\n",
              "eLN83iXfeXHSPhWFuG4EOC1WoHYwOnkpjtJ/ZoMoJDOEqsxcnYKyJN3LpNj75iJd5DpEpcKqLe/0\n",
              "9etyGHE+eEpPKdcO4HN9r2xWe11Mz8Qvx6JEBPA7plhrW9kWgsefdlJ4vWcD6LpuI7+N+nKKPuhN\n",
              "Uctxw0HnE6EWWicLrIzHThtAANHQEe5G2UcUFzYJI0bDjw0eCEhfyUQqb26exMG78DxUJ3etewcB\n",
              "5GwawFLlRH3hxyC+R5XUrd0T78gjYh1ui57APjlPc2s66nRdHIS17wvYpjKH09kmgBekn9WMDkZz\n",
              "HiLcPi7mNG4TY5GDGxydXBm+AC3W3WlHtiMEx4+4PMGOrRpBB+p4pVrhdSQM95YfO+mYrJhGY+YC\n",
              "If46ECs5Dls0mEAw5TuQYVzTlYZLSCU73UTjRXWlsMkO1ZWAW0paGf5O/HJURlLYFagCLdQt+q38\n",
              "z/ddB6mey9o+HRNj1f5G5PYf/wBYn9sPS2N31vW4O3fvGrMqkHjq1/Y2LnjN+/nFxURgDDJhuymZ\n",
              "ISGUu75y7SHVJN7s27DY8sEpqHINyk9m8nwax5OlxmdyEXkXgmHTi9jXgkP+5QkISK37Z4ESqWRy\n",
              "ciVLvxUZRQ6ZdmF6AMav603XHZkBlkBIxo/syRIDXJPqRreKIY4j2h4DJDCc2GcbYiXcFemDFyF8\n",
              "H8PAyBr74RBpF/D6PUH+UqV3VSz9BgCZHZWgSpZdzHCdtL+woisVAOHiaUeiGqzICjwl3bPxbiYs\n",
              "w/WmE85KlkFZV9Z8QXyTJadjXbuTj8HPkXrPXo2cUN6/ZumZoTSfIAzMQter5JfanYqwYRmH5aiZ\n",
              "Pq0wMFRz3X9RbAVhfCT1ub77Tf4GkisVjjrxCuy3Dn/SwoXxoR+xC/ChpPjfWdRwjt5nVz/OaVkM\n",
              "JzXWqKG3aaY00NmfhFC7XSgBzBiLr5JaygorIew0eHMrD2RJUFvwmFtG0WnX7GJCxfMniQLY9ICo\n",
              "CFxi7k2dql+M4f3hNyb2OE6y9JKxptgqrZPTHAw/usxEG6eLm6UsTMnmodHNZphZCZeF3LFYDfds\n",
              "moVKyh9xmBS99PT+jJFJ3izfmB5DXt1rIRYQecGkhMBQc7Ptxoztdhv5DYayhsCAT4GQc7oufRCJ\n",
              "u7Fj/dWcFwJS+sucfoYhzNpa7+isgJzByveKgNahss/rbVjWUNvqBlqxFAn1H44CTMz6G05iJLvX\n",
              "2NPMLEBOJLTjbhtRMVZyAeYP5QWKoDFxvSG2h9bjG52+bRFV4XUfoG/SqYK7mqzUfIOG1t3WhwMD\n",
              "d9Vr8w1tNFr334ECzYfDISCkYEtWDVnvvrPNOIXZ9Gvcj38k2ODnsBXtnP0nc0TXGcPnnxtwMqlw\n",
              "k76zViaS+nB+PnhCwxnFtM8NCCxJrujiElmg5ct8F7OrNwUq9LOpzJNfwhvnX0IBr9WWkQqJo2Lc\n",
              "8aBW2CdPOsi1/JMPSECxzIHM1FLR8AMKJHYh9LhrkGLJuqX1CuHwK7Enx7JdqeRv12gO7bPemkGM\n",
              "+8rvlbr2ReH682DNRHUXnhWz+Y1yuozGqRIFkOQtYMQFRmtAbWY/0OjBC6LtcIce/JxTuGyr8LUy\n",
              "9cn8ksFPbosrwjSUlIDM01ztDqqgiHNe+85CTts/c/0m5Kayaqrv8p6xOqEW3nDkU9b/dDSDDx1y\n",
              "XfUevfH5WYcTKSqIPyoJmijpMJQ4ymTEIkG2xnDv988HE5VVHT8whMeo++pSDHsXYSToMSlGIjEy\n",
              "5Wq4f4DVb4xglbvP/1y9a+qMPF1LTjMOs1zrXbOtqwjFJzo5TKZMXHEsUJ24JjitepparYCDw3Xc\n",
              "uDn8YbLbJ9RMDOBMzLM6stpY7HdBN9+JM7AhOQ34QRUK/xepifKcNQwUscazT6NexDEIr3KZsDrM\n",
              "0QJ1danWoC8V/zEKOfn3KObsHV90WFJo4MmCXTJd56X3efA5J+qPa1k5a57+82LhY7UKIbirxz8p\n",
              "/Aik/JVlFN0xDL0fcKCDpVrqxLybluJAlodzfNk2hTdL4zyTaPGilvi2ag4I/kH6ip+hHpGojHMk\n",
              "gWRBfsYrzmw9GjmG1y5WukPYEcQQzanERJ3aG0VFI+HA0Fdk95cqqZMHgPJ6HaTPF2UMVfgCFhSd\n",
              "05N7KVMygcgS709ieV4efIJw0DH0CTab+98cpW7p8mfPFtPqQyXr/5MCjWvUyAE8mFGKUbtzuK45\n",
              "5Lq8qG3mN178FrPtyxJsepgUy/z8npzEFpy/zkr8VgIx1hgdL9Et+y81fU2fDQe0TTEOXQZdSnp8\n",
              "UnNNRLbfAUb/yebzNcl5rh70g36yoVpzN43Y4DQiFbkRmLI33lNx4E5+BjMY6UQ+2p2nUv2lZXVb\n",
              "GnsV1RwdzClcbP7iYMvXccIKXW54ZZFt1GtM4tGVBvEZG8qKnOBTfN+tc/VQYUScK7eIs09UP4Iw\n",
              "/9afekNTpxvKdQakQpX895wTUw3B4Fqq+CE95xB/S2WLA6KywS9+pzDHWElYyh6HnCIA/6v5tUsT\n",
              "ERXsd2o+XDCaTjhQGhmxKUrwQCcLN41RxVnawm5v7QEV+l4tkfeKlL1iUvrbH/ydTshRwbwCsRAn\n",
              "p2VPmRKITmWNOzKFSytGce49LtdRuhGDVThsI7Tcw3xxdDlDJVVj2maiRKir9ajG9OMEdYToKVt4\n",
              "HZ1aGcw8b/1SOQS2xDX3sYNXC5Iu+Jjca4fUIckczQdgg4dXuWpfHy9M325OUggxO40va4QcmP5j\n",
              "n0grSvP7dwlSDP1ZsqH6g4jDR0Zv27y452caQr0NZNTPdtccW4V+htFmrQKRDRvTny2uXoKrlk6J\n",
              "sL1CkDQzSMih4UuuqFylHFQ+ejtUIP6WJTaalD/Z5PC2j5MEdcP9J80jSUUGkhbOtLqaxpHZc6Y/\n",
              "c3SbzvkzCQ4PAuOgeVlreHcg1UT7/na/nogYYR6n6kHihzXfCcwJwWWwXm5PfrCvaP/XIWBBCFIg\n",
              "y3c6XBIqma8TVcCPCRKKOkYZxmaQ3rXEiqXENiCC4N5AXieMuwBPN1srNCF09h1C7RHuUdqQkxNh\n",
              "5EPUIWHtCWk07RH5BBYL+3ZuqYvj9L0jQaDUKnr41f1noK++i5tN/qg+zuiqx4livY/VA0I6GTsH\n",
              "HzGBuxZVuOx12Zar237BhIb41d6MVtH4LF6LMaQ4UIHKg2wpUP47GddZVQuakMs1YatgoISALowG\n",
              "ierYCexQKJImlUSZL1PNkKtRA39lOUqhsfPKM+cKAkiMtx5EucnRa2u31K9nWa2byZJofuryAGSl\n",
              "erNh+G2eUL6M86UBFv3h364FL/gW8fx925vCr69kLeGAAHfMl0LvNp6eU6JW4fVULwXqTmz90MCm\n",
              "2HvLEu3UWwp29eveyRm0ougU1M0NvL1AGrv7W0sH0Exca2NpR1LxC64qLgDA1ACnufB+Y7872gdF\n",
              "GHc9oxbiUUeNqnrmgbZLZ93XFq3HxeOFX6sSuoOIZGV8kouUDmegntrGATJHncaAptdC4QRDW/ey\n",
              "8+FGK66+rhovajBaI9Rt9/+mVeu0P6K4N2IgZ2X8HPz9ePX3t6yTosTwjQzfbohHnuSE1+HEo0Ac\n",
              "dkt+DoJ3vK9+vJ6GAVZlUHMgxfGhsYTHLIfqoGpO7/sNrtqWaFRMLgHTGJ0uAnz4XlcPyA6JMah/\n",
              "TkpcyvqYNKUvOoBxBVr+uUj0Vz3ZpQt1e276F4N58Ee3TFh0eqMCyjVDSpykHEFlLkF2aAl9Eulz\n",
              "h0VB1QXbxxp/ygc0qFGvYlJuAoDF7IYML0xMoDmBI2lykuQjE9hRWRc/jhncIcuGD5rc2Z3QbTd+\n",
              "jzroAXdZldE0zkPImb5lYY4YScsvFznlnkk20yWhwrDijHK+QPqvsFKh7OK99xdnbzaG0GAXVQ9w\n",
              "o+6rfu30Ez6elA4cpKmu5HUzxe3yTG4uft1QMJstd6oas1wQIqobcN4tsXcclviAMDYABh185Ga5\n",
              "s6NTpeVXFP1Wid/Yt71SutyrMYOErUpV6gm/lf0LmMp4LtKW1cVRL7/NdapRH2hNscJlqiJr1+7p\n",
              "xgG5JAO9eYnHV/8ursvNI1ZG9ogH15cN6VhRQgQ90LhCpRBiGQeOZdbbaHzVNRDp2OMi900Wiycx\n",
              "6lwkr4vGQkVPKU7dPVKEMmsyI+4JdG+3akvXxWSdAg8rnusZxcrNifyBUFZH4Tgo4Ex4g25ttwd8\n",
              "xIv+pp1WNGMKAj1HuM87zYCsRlPbgdoR3jDwHhL0W7TZCGhv0ap5WvAF8obc+NmJMtcFmqUM0pEs\n",
              "aKi+eDAhwpYn4q+bBIwbMh0WD49z1tZeAKHTNn2NcIntru3I1gBCPvHFsw1aPiJ60LV+5gaUIcKY\n",
              "0/CpMyUJphZBc00o9O/Argij85VnrP+c5pfNa64BgQex95RijNkR5VUfkgpqjtrbvjRk9vggaKen\n",
              "t4pO9vDO5SAjlunmNRrBIqPYn6uR9b89xYL6AvOkhoUSu13SjPpPGo7UUgVUS4HrpwPZcApLd0wl\n",
              "v0+8GSS2Q3oRB0XhK+v6UtKb8nEFytlUfIm8E3xKm+5m8dNbeiK/geu1KSqUX/WCcAd5JJMpjfre\n",
              "elWGfLkOkkxLMXHg6dk0CI4FbGd7XjcO8d59FG/FjCnX15146TWKimJid2bAgezjBgPdgdUTn6R4\n",
              "QIX96Oi+YVvKVtB+MlEId0KkloCSSw5WN8I89YjenTeL6KS/SYSs/yI9YckKo6aA9PbgF1nLcC7G\n",
              "zwZ7T/oyKLPTzUjUX2xCLBCsmASE90QesoWCDMu/VvxMucSZnt2+//QghUS9JPkS1HD1ASkIv3w9\n",
              "cKdMmajCfkq9NxoWmHFOPW1SvYfFtLgK4L23GipHQ2m5/eQT0wHn/rDKPLngic4MPqm1G/FQoN2y\n",
              "44Udf83peCvusak1+dlSG+LqBxC/kO7Xz/3+ZKHjn/knZTlvDnmftjE6Y+olFcvfLGEqHBeAb3iX\n",
              "PDFkdWGwVHgQkSJk6LifFkBNrKaxF+77aVyITEMTzt4/hja+jVQuB6/s24DHjuMBMqH6g38dafPA\n",
              "QNx/or9LsnYbKe6wolZcLwstCbUaZD2oC3CF+O3hlNmHFRaMQaf7CqeeqoL+/pFxS30iGzhsFOPT\n",
              "bJUty55n/q7DiwST9cHAEINfwwJ1jNISz1e4qJme+3O7PdP16lXkZDxM/LKTA3z3BFQO0Qpzekrf\n",
              "ojF4RbeyWNsdbTV0J7XWufgVcBaPIK+t210bwGmFRigCF8/m6Zsx5HWlmbYq15z16V6841Ff8bhi\n",
              "PoNhM1WCr5FZuY6S4uOoGYwA49MFoJFrq+9XhxbI//qE6EWWBeOU5mOA1v1BEh51UjjhmEYygYqN\n",
              "kK5Bqm1bVfPi6s5jcFFWkKAOyZfA+mDRfZoqicj0npJj3Nk/gI8J5jYg/kTgS6aKDA4erz0Kuane\n",
              "CtJptpP3DRyHEdPNgOY3mdk0i91VC0iTfeF06iemuxENabat6iGfrSMO2MBXEDZFzD+63VI4Ga91\n",
              "TnT1TQSNEYmThHKnOikNIf2edVY7HEGpJwqFth/AijXg5wa4A8rhMjJ5+y+60A5+AaDkB814oZRd\n",
              "7STfBWU6Q2f3+IXsec3/gW45Yhfo7uqebSrp0RcPp3DNafr/AKGW3oQSBs+3mK44o6aVjeQPPLiE\n",
              "s8AnuvifTfo7+jBTL10w5oDjkzazdZcuEHx3y/XNLlOa0ucer0Vr2pNPwTHtdr0dpebDST/xQ9nz\n",
              "rGIUVswNJ/UvxPBPgo/kIS1A4TOFD04WEfxGoUcvXADAvXni27uf4oXiKrTG0bUwpScHoP7W0cQw\n",
              "l0lnu4kQsDHGSDOb+qCPVRbiGvW8eWQB/YM8UnNOgLS/vRPge//8T7It5h6wMdAbdv6Y8z+3Pf4h\n",
              "j625tYNae+aDQMZ3TqlhnJ8uys/b9ClqP32uudnDZpsL8VuxQOYy3nY+BfuzCUXNEbI+E1A4ehht\n",
              "Q/08u3ZFSh6VC+za2a48D76JYRhDLWsofEuwDFtI+XDiVXE5NDnfacL8NkjVIcUADcqrCGMd9Dd2\n",
              "ej7nCWnXyK6t3l1LZkbKrMta7BY9kaLvTMIKfWi23eX3DgEp5ZjraIJ+WbO1W+/6xePckYYQPNyR\n",
              "k9jNf8CcIFfLSPdVsEIKZP5kNO8cnSRxtZwE5jsr0YPLNavUaNBV7t2749kQ4pCgYiDKh4/cHti9\n",
              "EEJA/L4ZiR0G0AfxkxHtb1G81mkl+BzM/AM01xb1DCD4TZmvyYxBfcYpdTmK+pvrNDgykJgdTyrU\n",
              "WUMouW8jX4b0gJjJs9KVyLa794pAea9D+ZFfnRIpRbee6T6EJvcTtJVcMwcq7twjOu6ZMDpftatX\n",
              "hoNlLwpY0oYesfwgFLZJoFfx9Ul5TUpww/lSyH4sIm5IEJ0Bzsm7zJi8NBM3syJP4/ouf7HqMiZ+\n",
              "eLtBDYnxK9P3B2o3yXeJWcHJpD3U47LXJa3gYVwKl6e21wGQhZ+mi3IA9/zBvkxu83O88TB1gxQS\n",
              "7k+T4/l70p+OKs657sg8cOTXSuoKToYzTFLuLQa3ogcoIQXlG5sjINC4cndRHW6Hdiqtal+xwu12\n",
              "bGy7uP7DOv8ziVuDw0XBqV+ZWh1mqgoxkFqNmASWA94/P+anfDBWMmDPnSGfrSwN2Q97CUNuzfTk\n",
              "nnHGMLUx25iav4bV7ZVXcgkYYz/dZMDNQ+yCGYu6AEYK5iXU595VEgZ/xA6fs+MxUxw8yPtYsCZL\n",
              "AjJk3F5dfY4JIKIb0g/egKRXtz9tJUdZ0URGOqVcfmXt7PnRRAs/lbnZqON0+ggVgMrrF89fKgBf\n",
              "VKS+hLn61Ai1QJl9MAq1r8+qs4vLNRyhY2IFHqiRW86BrKEpuqL0URS44Fyd8juzn2yUx3kvBW0w\n",
              "RyLN8bw5YLwk9hpVu0YNt9ZsetyRCkMrLakeVgY6G0+/FcfC0/TbPqOz9QwPeATQ8AHIB9afej/N\n",
              "Q4IX8cJeiri4gzgrcOs7AXauPwr8iDtHLLldrYa5e77NVLB1GsagmyLotAC7ivXAHS/DewNPXmp3\n",
              "DKdyIW8fvojIZ06nzRrwlq/pagqWmQnO+UAOjmAHaZqI8/apuIjG/0e/Wcz4n2TjO9XhccJsj3M4\n",
              "0WAFWnJX+fjJqF1bsxKwY7kE8wIW2j473xFPZ0MyW4OsurOQt3TgmsXO8KItB1/RHc0YYxBMCx2H\n",
              "kCJKMNzgjHF+4iCynbpOTgocx8Y9NmPZJbVYfbsHdXkapPWelpGKSLM7xDtML+d+snrTaTsZg+gR\n",
              "biecOWevXR/BM9K3xVIdKQ9SLAsiGOh9H3oMatn+gOl+Pcxovs/YaZV8+XnBWoOHeUP5NjjKi3TP\n",
              "vyu1hiyDZhKCpnqqsABgHv0I9O1BI3kUfqhOnbgo2Yy+I+zcdRAdFwdTtHArl7rCrGR0SEj2m0l/\n",
              "isjURAtz9TGBdx9iHNTp5nDkWpXVrA9LJWSJeQFINGHtp6ywXAHQo6WGadGA8+BS/7X5hKfLpscK\n",
              "jewuhNi7mKvjCPyaxKoj4EHnp8+QvvnKb10C7HyzyGDBQxE10Yu5ZynMGu9d/9w87VY4xl4bISDQ\n",
              "jXQCYHdANvZNAplQJHgNvuEzMEkALMIb8JYi6/1/1sj2Mhnmr7jVy7OppwwaY4gFHqDmgH9BgRxA\n",
              "cDDNwW5HVWMCZbxKf7Js/NpiS285Je/vEjkvxWaba8pxWdxBUwAGaP8M/kpSJgBefH3YPZ7LSb8c\n",
              "BTnhBV6lLtl2NBi1+aBcTPVG81kdRaPN2VQg+nA3d9T/nHJ20hJEd9126d/rxHWiWIykthPmoCyx\n",
              "3CAwjuS4T6D/BGuFvjwR2BXlvhEFreOrm7VXh4+nhJMshpAiXnxTE5L6+8nt/TFRMF237HIJPcTr\n",
              "x2rckXnvi3XW4k+AW6gHGcLDVh14EojBXWW4D6XitpabuYaZL/UEgI3cD1s8a8VM5MD+rqdGlnZ3\n",
              "gVxWevHGW5ETIBQ+/34286FH/q9/qy5xc92r8lSgYUK6cU8HT005w8rtGQ7m81dkpgX2OeJ6bv6a\n",
              "+K6wM13bDIyXVeqdamyo/cf/MU1LUvamqgV3jjeu9k0+YPtyezSN839P5Go9krNXGNFaEmlYkV90\n",
              "MlGND6qqK8HKvEYneZNr92I4h1LzCoPhMNyZBYQL2rkwkmx19wYgOPaVmh7UyF+Adl+UaNNaB3oX\n",
              "CW2UJZiteMdjQnwzXkprsLjvJGKYhkXXWpiwHCvr9NjcPDWKrTiEupye8plDdsPBj3oLGXRqQeUr\n",
              "fZZzgwcPnrXRfOkmSXmKLWIgkNkWFfv1hfoYa3VDr6zD8cVzARKkX92vxjppD3mTjOYzUFqdjYX2\n",
              "zH2J2ZNeMvzrBfNYjmYRGuLYsQuEjMRMRqxq4uSCI5ng4cBbm66Hqs7PMwqz4C0uVYJ1io+QgGdP\n",
              "xg8gpWWaqgxg0PLzPxO6BHoqGH/rRfkgnBAfrnaa1b8RSzuJO2Zm+KWZcUPezUsz4QiMA9clauC5\n",
              "aFCqIgq8DUEVQnRLOJnRHN3HLdON545dEvoYFXmVd6d3/n5VhdpQsFZBo7y10SF4LaIWW8mFx7Y2\n",
              "34gSLHibUvPmyuNIji2zFfF24DcEXvK90Lw+WSag6TZ/fnKNfvpReaQLuxVVpJjF1gOPZjyQ+oeb\n",
              "Zops5rHyFnPGSALiSLp5e1h/IGqZpseNHufMuEYbfxyxhEmMsmJMFzNK3ey89woib4XpHv5iWWDg\n",
              "FPYGk/vpJDE1rMS/2rqnRjMc/6D8GpLmOAesKKImxER9AYlF1IyaFDzD8PBJ9QE20LR61JBDhNrX\n",
              "maTgEkpsfLgA2oZTlXkoGhNuH19QJjl1tRyoDZsioAUCBc0DS4xXAxViUZqPbbkA5v9RyExmv9NA\n",
              "Ux6bqFDkME9soBbk1lx0sxU/lxD06BF1nuVUJiC0tA32ddbpo9IWQUxCpbJI/NJc/xbiYmTCgMAx\n",
              "pcNVwCBMWglDxc10r/2hF33o+FT+tQh5w1Ih6c0RpEtE7uTl8p+P9Cz5DMm+ahQguNrJn4RZrzWQ\n",
              "aBvrWe1qK9kBfjsb4NISi3xxgYBAo2QtHdtNa3v/+VtrDBAJf1INpdt54YN7j+Sr9ezuAO1fPmGA\n",
              "1ZMR9x5S7/FfWNhdkBOwLI17yRHRjf5jvTDVpGc5/mOCEjUr23gTKpFaBKDFbIBMYKQcJaRDF7pg\n",
              "eSo5pBkpaNuftN0uhfIEHJ45L+LulnGrITPUi2QnyMpRUfbOf62Adn8U0qU3r7mhov0+VjH5fY95\n",
              "xriaWdc/Qka7mJy3YOvJPx1gUsuOOP0TgTOSXzEzUntM+QGzzD2x6cdxU22sW8yFT5aK605dWPFa\n",
              "P01pIhqGXV0QYg9nRHYVgsdZLNbKTfOd1kRIbgdk2ccWOZZm+p8/wBnkMJlh1QuTn4wZK03UmQoJ\n",
              "gtYR2qRz9Rt0/JvT7WxtbfMS/ZC33f+OK/PftmmUIvxq3+bFnuI7f+DMoqsTNGP49a/XR5yl4Ry+\n",
              "lJnZKBf3ubnHZPRzf92CmwSuY4YZATiEc6A7g4jSMvZUk2628BKY/aj2RpIfEL5+w09fMeg/q5vp\n",
              "YKwn3tjabYjhoJjKdA9aZRXjy6ne7jZoP3SeNVl/YveEdDwuq925qqbZDZ/9zfy2CI8Wz0vxxnxT\n",
              "evtTvEsj/9Ub0fzdlAIXjAIDsXhhcHp7TAFIgZEpCFS+Me2WF/LGvbSpzwT8gO6MVeJgT7fhMt5q\n",
              "6fH72ox15ycbPIvqgCGQxXA2I8Ara3i7BpOEpL0qOf3kvuvKIdXSNvfzU0K5/6Vurk1AxR0VN+ne\n",
              "QOFTylvnSerCmRpEH9U0h3dwwyUW3NRk5jxl6GUqcJIDvZN+hAy/TkqxK5up4w6fQYkdTTSAapGr\n",
              "vRc7b/wig8m3+bJdxXg86HaTgM9PseAPsas+lbzXFw9wyio1ndqHU2IGYoyr2ioZgBrhHrOgLNfu\n",
              "Z3bsppEm5QpkzqQe5tkT798y2ukQ7w6GJZKvvAeF7RTONVYjEDJQk7JxlBT7BIPKFRbm6tSfJSVR\n",
              "O1i70f9s6mWSVmFLHehcCFZ985hSrWbTJlwbXdg7azLQBedfYQdnYLPES/n5CxV+5JklbSnE1C5O\n",
              "CRhByBey45x7WK/KKzVpJ1HraNKBBmLWhfKsjvrntzhURfND2s80lpPHxqw/YD6BuItEqBxSch63\n",
              "3XO328uJKilaRHS/8Cna5Hdvg1iPVtJ+tcXBT1vy9b4j85WoYLYYcJPBSWox8QE0Nf8EqwK7COjo\n",
              "NOhMEZajW6nvtuu+O021Y9UycNimN4KHN1kr20EgVrTOG9J2M7gs+Q48xyI1B/Wh0iu4N9zmQG8K\n",
              "J7ckZGX5YCXT+4qzps6HwKzeiPSwzfy+c5PSSeNxvvASUKjIi5xW6o6zs6l3XowuHVm5mRSjMYao\n",
              "on7oMG8Op8qyZH2v20/VPNwu4WU2YKFTcc3XCUFlKJLb0BukJSHClvAz6J5D0pxITWJDJWQHB+on\n",
              "mh+qzGgFRd296V69qSbnWARQ9Hry/NNKIuG3vwOlb1oH2gBMhcQW8keXbXBQCnSLse+LYSb/VPwx\n",
              "mdFnl2q9CSrnOWk5oGFjJ1bNvwkPxJJBJkBfOh4JCS21oRLxrIZcXLvGgtnndbdPRu+0jvsA8bkM\n",
              "zUy2RV7N0S7Ic5S/pjbboNn3cGF3V+SEf2ZpYrbzLMGqAra5GJxP7MfSgHvStUoJfQk98TSIOMCE\n",
              "m3KNvrg/1wsI4unIAZWv2b9ejsOPCeCQFlB+KL947yWFG0Ua7XsVJQSmPwjnyaOrSezvpySl578v\n",
              "cxAlQbVl2hklJGeXFVm1pEzUfRz7qQupL30uL3iU3agLhgu8KFGp8wzSBE1mrJ9kQUADhZwXYNJc\n",
              "7rqKwV688GkNrzY6nNDJ9cD5MEgOl3Jt0Ts/Dt1y9w/kdckCqkLIAGNFZq5oP4v5DVfpOAuM3uT6\n",
              "YzV+1MtWX8+gjwPQPdkM25uY0CUak/tK21SwuJ93enzHCvsnYyAngeCH8K9t5wOut9r8W7iHncVe\n",
              "EkcilKAMlyjaobUNWMtJvTH1MhddWTd1Kimr/DoKY7hhLDjOsQlb9qRfKv1i7T5Ey3Bord7iNQCt\n",
              "4b8oLkCzlovHB5M5ubPnu+WalLT7wFPXVnTDUCmYrdbJeu3IU2wvynov7OWxfFaXwyMw9TNt/57v\n",
              "sjEv1l1XzuUhAXqcUdz7gpsfn/4CJKOBoyRqY89U+e8TD0ZwxdKYm/N0E7Vwau2aM7xr663zxFC6\n",
              "uP6SSAog/W/X5M98jEy3tFHoJEtLoeLzcAFm/MOjP9f5lMKcuZuYUEwSXpGOXwi17hBQ+iamc4ar\n",
              "EPexk5lgfqX8S7UdvD5tVQexhKHkX3r4lqlCAYIgwLlmX44+yjS3VfmquBhUtMfSucDx8FsbASPm\n",
              "jsd/0c0XSy+estjv8GxsALOUh0XgawvBVgw1BtaE5QAAAxNBmiJsQv/+jLAc3E5Oc+AHspDv9Btk\n",
              "A1qov4XI1DElY/lyF6L1Dj2lhoV/fmPK8GYGAE8k0CiqDRbrSaLfUyueGMatOTMwiHaJBvlSK+i0\n",
              "oRvR+ywMv9l53OtZJswrLnuMa8twC32xmB+D+n+I6PmLMgmjyqEHaPJX4jKfbs8r5VCqOtdcI86j\n",
              "TEUusxg2+T8g6ioafkni8YfjqJRKhAzos5Cvvdpb93i311G+VQD0bxpdN2e0z9oUeNW8+rnz51F8\n",
              "/xHLO4fNIya4K/iI0xgumiVSpHqZ1sfg6GNBbErm0u2MODn9Zs0QlcWAo4/mGwU6jmiu9FhRC9wB\n",
              "0b5ff7v3eWwZYVCp6Yw5I4Afig3a7QTe36mnDE4GLbDbB1JRwT8rVuM1Mr0S7ylSfjfDPeEHLm18\n",
              "LepYFWSrXkUi4C0PxaJmOb1cpGsETpEmPdYUr809edqsmfDaU9fErAprmi8qQVtIX6QzKMx1idyl\n",
              "MYwGje+agPU2Au5/lfBs/GhzAxMdN8EKMCJLJND9e1ec3ZNPvPv0BqyceRrbQ4ARMBmLL/giT5eQ\n",
              "sXG5XLyBK3hvcUYR3iQYtUx+WlWjGwnJk/PaFOlnfNsw/+t3krlc49jaMVn+1Cg6HLgH1Otf7Ob3\n",
              "MLSD97apb+s38UtUBZ3SjMxLbCr6JY/xvdNq2/0ytFg0clsKes3VrHUzN9x3GYZ0VxC6kh/M1HLe\n",
              "d+ERZh4j0AWSwx4P9ylrkFLAZZAWtUtzA7dcO/EKfLAQCHS48sGroWdugCCP/P8mQPtmBKTFH8v1\n",
              "j76J9VIA8J0ZKTcJGx3Q88pOkpMfyrfvjTVNofVHP9hRN/5ikhscpB1W8SveEPQCFGn1Swwm5R9+\n",
              "vZgnhKQOdK75Wm55KUKv/N7cv/2aRzJ9lGnqp2TSM9khTmPG4LHf0a1BwJgOMnuS65uzmDYKGcGq\n",
              "KGsQTOcAF0AAHOmitgTQaYx2mnZc9JsGQNtK3dbd4ETIpQQbv0NSRyJlJTII7g8ivk7OFF/NG+CG\n",
              "LkC1r8heSqiNj0JtYlbIgff0ZsXmup+AAAAAXQGeQXkf/wfrvFIPqfZbvoRH2psSMrLT7xqbfYnp\n",
              "4mtnk8f5JKZ2A9Z8XYNrWZmSF2pwBzX1aVORXDXAR3WHx4AHFhbcE7FBzOp4kjJ/pejKkfY8EXjv\n",
              "IrutsPAjKwAAAQNBmkQ8IZMphC///oywhOJyc58APZJh2sqwnsuAo3dimou5oLVvTAHxn8v3Q+Ps\n",
              "H3A+TT4pAk/hAIWijaf9Qu5YA+WYpIxFSugE+5h9RHFWUe2w41dffrRmRGPuOGQKfKVdF0oafdXL\n",
              "31gH43D0F7qZ1/siIpfmySeB9ChPe+ibR+VMbEi0ahzQKzg3YNGIwa4Qp4lnu80eAKcbDUFExHuA\n",
              "8kgmGVuvKyllFX0n3IB0/1Lgf/gZ0VQizYPyaTgxmCArljCSt+2P7UiQkd2xf6/sqJvAXIfezkDH\n",
              "t4yUc1i8tzlYPxX58pQ8i1M+laswwXBYUGBXxZ6EEkSh26pljbVR0IuYAAAAPQGeY2pH/wfkijKK\n",
              "SqTfFYHOQpndu3QhXMIXp3HgaaeN3yd7Cehu48waWJpA98sojgAJamgyU7NTTBpGXZEAAACyQZpm\n",
              "SeEPJlMFPC///oywFR3NBrU5XMLNjqX0trLEe2sM7fX6oygBt+pQjk4S1bAGN8mURWbL8FmdKd9e\n",
              "p4HE+iJp1xoL8M5CgpazhFHLLbV4Q06GdXSPU6AKnw9cCeggL6jiL7dvNR9wTGYKoKAsWerYgsQi\n",
              "pQewIGOOo+y+MD8m14SSyxNPw5gsUD6JDitVVpJkDTgZyuOgGPD5k/vWuDSUCoxKZ++8pHepJBQY\n",
              "X/Sh1wAAACABnoVqR/8E8kiI6uvN0pqyED9d5lqzjiDWp70BXQSPSQAAAGZBmodJ4Q8mUwIX//6M\n",
              "sAABgdU1k2ATDhQjiBk42XeJivUqBo1q9nEJZInF1gt7Nq85dRS5O/VflgfDQ+2vRq8HrUBoJPcv\n",
              "MwmRRD5AmCQSFdRKfWx+K4qoaEE/Aje867GIf/fPonEAAACmQZqrSeEPJlMCF//+jLAAAwDu2wDV\n",
              "9JQfxOdiWlex55Arma2WjruYcR3Ngr9ufY3PkM7TkTpNs5wCIyfFzyf8HkHVe+J91eK/TYWUEvVH\n",
              "ylGR4QAfurbWoLhQ0wD7m0tnt9tpUbBNUQnsQE24TFT/kcOEkS58LrjgZB0fOXulbjeu1gLKb/Vh\n",
              "EdQ7ZqaK8YU414hwlAhfw87Bu0/iODkNcYe88mPB3AAAAC1BnslFETwj/wDc3HmuqYWiOLmIz5og\n",
              "EYeiBjFOQAXF0ZWR8Bd6UDH06UMO2JsAAAAcAZ7odEf/ACOsQNb2NhAAC6ALwe11/RAAFLY5CQAA\n",
              "ABYBnupqR/8AI78ei+VeCpxcjIcsvJtwAAAAokGa7kmoQWiZTAhf//6MsAAF2x22AaM0k28AZBlI\n",
              "dbvqcmtlkp9cng3iZMF9nFcIZSh+HEbvtPDtgRWZS720HvIXeKkW28U2a2L796a9J9T1vF86tHfO\n",
              "TBowYaSrQKOoH8dCOwPW4PojxkBoduOFd1bD4JsKAf5jRAzow20Rr59iqNug7TGLEh+bP6D+bYKR\n",
              "mGdhAUh6ElchdUfEuS/Vgycr0AAAAChBnwxFESwj/wCTFQgZlTfWd2yoE4ZOlAAfh4GQf2zi1sB/\n",
              "OvVo5UwFAAAAHgGfLWpH/wAjvx7yXK45cIAC0/+A6P9ufbQXcyty0QAAAMFBmzJJqEFsmUwIX//+\n",
              "jLAACyZToAHLFRkYaO3RP0pXj60SWhyueI96EUvuQJt2AhFJLWoANvysNANF7lrfcTc18pvkrJeJ\n",
              "cNI4RPZKM5UFLrLo3hvXU/qCA8+MSh+9A/k94XmDDypLZfXJ9ehLoauUXHwVTSirR+qrRJCoNzfZ\n",
              "jAsNTV7NDdTJ2hrQ/GVXKvxWiyHh6IG37Dfk3/qeTnUkVzXAqKGqrai2+W+e9NEqZctn8Nl9JZpP\n",
              "GPG2QYL5idphAAAAJUGfUEUVLCP/ANzce5rC5HvMJ3zqm0PVME7RtfJ0N49ugPxv1owAAAAcAZ9v\n",
              "dEf/ACOsQXwCiAATicR5wCojbkiYTbcguAAAAB0Bn3FqR/8AI78fqZY1gAuf8lNmM0fB+qeqUvs+\n",
              "sQAAAD1Bm3NJqEFsmUwIX//+jLAACyMwcWL4AUG2dPYVQYimtWPlz3oJLVBir211a9EVVvzs8mDe\n",
              "P3JLPE4Mf8lBAAAAQ0GblknhClJlMCF//oywAAsmtJAAOkH+5kCA3mD3x2i4bJ1HRxkdKGCq3O3n\n",
              "6lvLwp+7wPR62p6yyXmmZSbWxx2Zn+AAAAAhQZ+0RTRMI/8AkwU8khJ3KLpmRuvPk3wuTL3PTiXY\n",
              "W9pBAAAAGgGf1WpH/wAjvx+o9RAAJv6vH2x8CvReAs1MAAAAcUGb2kmoQWiZTAhf//6MsAApf+QK\n",
              "QP57mp0QebQY4cHtoeImawvL6iyjecEL7XiVKNhwTbd/XGLJMPevUQPg9X+wV8fZMwRVOiccCTLE\n",
              "cMqc7ctqTzL1IdHqs9Z6jAt84s+RLGOIwW0LOsj1aggwfFK3AAAALEGf+EURLCP/ANzce5rC5HvM\n",
              "J3zsGgQZ+gVw57sALBHSsreeKO71ghRVL1pfAAAAHAGeF3RH/wAjrEVrrdcdrThdhFsq7gnMQshg\n",
              "BJAAAAAeAZ4Zakf/ACO/IRe/kkAGtWgfSoHv1jql171biAZdAAAAdkGaHkmoQWyZTAhX//44QABT\n",
              "8GRAKSdyVWhuBrE+LrwpiozZrwSwn7X1Eiq48xS4N2NwiONIO2WZh5uw9aPLLYCin6UIM8qWlcpR\n",
              "yIOj1ZDBtRrKi8HXOi2YRmLqOjLbNGiv8lWb2b3TqOnqAsxRnrQKN6mj5vQAAAAiQZ48RRUsI/8A\n",
              "3Nx7msLke8wnfOrUAB0Yoj0ZJDK/6+g1mQAAABwBnlt0R/8AI6xFSAogAF07cn45BmDb9RyAkAWB\n",
              "AAAAFAGeXWpH/wAjvyEC2Wq5+Qiq0FOXAAAAO0GaX0moQWyZTAhf//6MsAAVNZ4VyALWeuEA5sow\n",
              "cBQJEHPlBsguDyr8zFA/qGHkb7Ry7bsF4ddHZLOAAAAAekGaYUnhClJlMFFSwv/+jLAAKljtsA1f\n",
              "SQe30jDTrr0ls2BTDJ6bVJR8tZBzIzdmzc86GoBkVpmtF2+dZoSekzSttDYsI9y99DhM1ujth5aL\n",
              "amUt6aJVJRRK0xmgmhZ1v8QkYUwyee/ojkkAwZp/dvjJBE04UEqs6VnlAAAAIwGegGpH/wBxQniP\n",
              "sWLejm7YqgZTmoBABaUPVtG++j6qSB1QAAAAN0GahUnhDomUwIV//jhAAKNZQIArfnMEgolrm1qC\n",
              "QOzHAtjLw1bU/1ynpc8DDevJ3TzDFoKu0f8AAAAiQZ6jRRU8I/8A3Nx5rqmFoji5iM+apGIB58sT\n",
              "QxWYPPpYgAAAABMBnsJ0R/8AI6xMi6cGesGxbyQFAAAAEwGexGpH/wAjvyXCCLiiMw3YuEEAAAB2\n",
              "QZrGSahBaJlMCF///oywACpY/RgBFT8KSaqfXtA9l4//wHnBzm3Q8pgSatqWq/ISf/nstJyE6lfY\n",
              "qOAhjxNHflNQgoEamUdUJ6q7T88xQ1GSQWce6CJ0jwYjuCsuIx1uvP4BIGafGFRAnfMbChGRxJwa\n",
              "JwSonQAAAEFBmuhJ4QpSZTBREsL//oywACqFQsZbEkAL7zkAPcjUuLbISZ/tOyY+4nqEcn0n8fD5\n",
              "uYQoFJ63/xsZUldL+4+CRwAAAB8BnwdqR/8AcUJ4j7Fi3o4cgcqAImLag2VzmJlIoCXgAAAAREGb\n",
              "CUnhDomUwIX//oywACpa0kAA5YqTxV6JeAOVj4QEcz+R0EubsVDTn1KzjFh0HfLYenzXpsIr7DbV\n",
              "n/3M7+6iGGVAAAAAPUGbLEnhDyZTAhn//p4QACohTsdaBgCNTmbJCLRQ5gVogZhNwlZ5SynecmXq\n",
              "wS7NXxAYmunfq1JkPuCw3oEAAAAiQZ9KRRE8I/8AkSipZDUMWyvmubl59YACc5ru+V0kGfoC7gAA\n",
              "AA8Bn2tqR/8AI78m//OkYEAAAABHQZtwSahBaJlMCF///oywACuMNjgeAAK69bhletuMQvxvNv/c\n",
              "BBljetFtb4UWV7v/ffMT594zP/WVjTCKDkEWyvLX+n+0YqsAAAAoQZ+ORREsI/8A3Nx7msLke8wo\n",
              "ppWdfrC+qgAM/a9JBXmt2mZ0BWEUtwAAABQBn610R/8AI6xOeJGyTsx4AhbxwQAAABIBn69qR/8A\n",
              "LGQb2ATurbmJq44AAABEQZuzSahBbJlMCGf//p4QAFa9F4jddaVxC3ljflfsGZp8nUkG2GVR4tuw\n",
              "4Is/p2zCQAqNPcO3q3pF6Lo19s+4U7suQcAAAAAaQZ/RRRUsI/8AkxUIGZU314a/wgUwYLje6VsA\n",
              "AAATAZ/yakf/ACxZz4uDYjQrh4GygAAAAG1Bm/dJqEFsmUwIZ//+nhAAWIg899K7gFHAniUUwqvE\n",
              "2da3RDtmXIcAEhVNmQDQwNvxvB9QGKI+w3QVMOsz11W2sIcl0YxyP10QT+wUgR1UZOCd53aFAnIo\n",
              "XX+0wdbWGi9z4s90f7vlYcWdnCDgAAAAJ0GeFUUVLCP/ANzce5rC5HvMKN2KNZ2rkAOMx6t/N97F\n",
              "RufAFHrl0QAAABgBnjR0R/8ALXouelXnSOHyCYibaVCDITAAAAAQAZ42akf/ACNLzPEuehtFgQAA\n",
              "AGJBmjtJqEFsmUwIX//+jLAAjCOCd7GuAKOaNcGiPBcHDiJUZFJPYVTci3q779JIxAM4+HOAyDn5\n",
              "02j5GNafHiO2hxElUW5dExVjO2GS8QM9aGoNvtorDcHUk2XS8C4PkfCtgQAAAB9BnllFFSwj/wDc\n",
              "3HuawuR7zCjYhYV8f8So4Bebs86AAAAAEQGeeHRH/wAtYrlPFmOsBsspAAAADwGeempH/wAjvx4r\n",
              "UwwggAAAAFpBmn9JqEFsmUwIX//+jLAARhHBMgwe5CASa/0MmYTnyjArKKonbwzZ31Y4WGpkBG9l\n",
              "77++oLHKIP4UxipLKxpia3fMS5AHcKTah71DKt/ryPBD0aC0Gw2pAtsAAAAlQZ6dRRUsI/8A3Nx7\n",
              "msLke8wnecU/+toAST56jqgbwTeABMb/swAAAA8Bnrx0R/8AI6xAJc7ZxJwAAAAPAZ6+akf/ABXg\n",
              "fOTMAjqBAAAASkGao0moQWyZTAhf//6MsABUsu7YAiQ0aNDQI2KD7W7SoaMp57scGjJgoTYv8b60\n",
              "JTTpJtfspBWUIXdSG+wrp3Fr923BHs5T9F5BAAAAI0GewUUVLCP/ANzce5rC5HvMKHEuNPjQQAEz\n",
              "hEj+gYIKAJc8AAAAGgGe4HRH/wAWIWdvwAEql2zxV7rDoFV3ysKBAAAAEgGe4mpH/wArD9HO9l4R\n",
              "IteZkAAAADBBmuRJqEFsmUwIZ//+nhAAU/K+OAG5rlqgGDe6KTDMzbesXztbzGXTnKdenDBYGBEA\n",
              "AABPQZsISeEKUmUwIZ/+nhAAU/J0YArfq1QjXP71+YGiNRl17PpTwsQqFHihnBvYypoUkszkMkNh\n",
              "W4Xez8Jf0+fhVIJvsjmpv7GUBdmXJE4JuQAAACRBnyZFNEwj/wDc3HuHveyGwp2qb6j4AJZEb1rW\n",
              "DJOuHhkA8YEAAAAVAZ9FdEf/ACroQwkAE6wPcqH8FGrBAAAACwGfR2pH/wAAAwO6AAAAU0GbTEmo\n",
              "QWiZTAhn//6eEABT8OuAILcYazIjh55CIjXKCSHRIpmHPg456RWs4n836wPswqIwjSnQo1ne6OPb\n",
              "7pWOMkWDmDOOfQ73sn8XIvkhIK2AAAAAJ0GfakURLCP/ANzce5rC5HvMKC5gBn0ALIhTObXqrt7G\n",
              "EyxWVbYBiwAAABYBn4l0R/8AKh9MAAs2XHKFSIKmCjagAAAAFAGfi2pH/wApuv0ZgASz3H2xhDBg\n",
              "AAAAVEGbkEmoQWyZTAhn//6eEABT8bjgCJDajc5D8foHiXk6j/NK+aNi7n3MdDCpDHW0gR5xTc5K\n",
              "LTU50Rxa9xC8Xlu+ogNSyLV40zFSCRp00MrfGrQwYQAAABlBn65FFSwj/wDc3HuawuR7zChxJoJD\n",
              "5KVtAAAADAGfzXRH/wAADI4WhQAAABYBn89qR/8AKzozQAdw8peLMWDwKlXAAAAAR0Gb1EmoQWyZ\n",
              "TAhf//6MsABUsp0ACw+NV+ykVBkcj3d3IBkpV7X7ImbvqWKIgiHw4g0fw76kQkkaszskzVPBs3YZ\n",
              "TSxgfB0wAAAAGUGf8kUVLCP/ANzce5rC5HvMKHEtU0KPwl8AAAAMAZ4RdEf/AAAMjhaFAAAADwGe\n",
              "E2pH/wArKfirGj4dMgAAACNBmhhJqEFsmUwIX//+jLAAKlr7tgBrnp5oAdBgQnMPSszEPQAAABlB\n",
              "njZFFSwj/wDc3HuawuR7zCajAgH8sL6AAAAADAGeVXRH/wAADI4WhQAAAAwBnldqR/8AAAyUoEsA\n",
              "AAA5QZpcSahBbJlMCF///oywACt5mwAEtW1Er1UcbeoxmSjLer9gNKK3qvsSpD6yPPvUce2/7Q8s\n",
              "PgjYAAAAIUGeekUVLCP/ANzce5rC5HvMJqdr57KAB+5iiOfg2F+JwQAAAA8Bnpl0R/8AFZ9GLYVG\n",
              "xJwAAAAPAZ6bakf/ABYs1hS0pMSdAAAAL0GagEmoQWyZTAhX//44QACouavHiWZdxKYgBJtmnfYw\n",
              "oNTxyMD+fptNtVmQzIxpAAAAI0GevkUVLCP/ANzce5rC5HvMJqaeE4YjAhAAlfOseDhyfYNgAAAA\n",
              "DwGe3XRH/wAWIXItYtnEnAAAABIBnt9qR/8AFU1smM6CJokn1AkAAAApQZrCSahBbJlMFEwj//3h\n",
              "AAJ7J0UACcS7Byn46PzkBFNmS32mJTH4b0AAAAAbAZ7hakf/AOh3yFRq8iznRuUAAmR/2ie9xCTh\n",
              "AAAAI0Ga40nhClJlMCP//IQACadYEAE0uWmVvbRFxH0x39/ZWKCAAAAHvm1vb3YAAABsbXZoZAAA\n",
              "AAAAAAAAAAAAAAAAA+gAAAfQAAEAAAEAAAAAAAAAAAAAAAABAAAAAAAAAAAAAAAAAAAAAQAAAAAA\n",
              "AAAAAAAAAAAAQAAAAAAAAAAAAAAAAAAAAAAAAAAAAAAAAAAAAAAAAAIAAAbodHJhawAAAFx0a2hk\n",
              "AAAAAwAAAAAAAAAAAAAAAQAAAAAAAAfQAAAAAAAAAAAAAAAAAAAAAAABAAAAAAAAAAAAAAAAAAAA\n",
              "AQAAAAAAAAAAAAAAAAAAQAAAAAGwAAABIAAAAAAAJGVkdHMAAAAcZWxzdAAAAAAAAAABAAAH0AAA\n",
              "AgAAAQAAAAAGYG1kaWEAAAAgbWRoZAAAAAAAAAAAAAAAAAAAMgAAAGQAVcQAAAAAAC1oZGxyAAAA\n",
              "AAAAAAB2aWRlAAAAAAAAAAAAAAAAVmlkZW9IYW5kbGVyAAAABgttaW5mAAAAFHZtaGQAAAABAAAA\n",
              "AAAAAAAAAAAkZGluZgAAABxkcmVmAAAAAAAAAAEAAAAMdXJsIAAAAAEAAAXLc3RibAAAALNzdHNk\n",
              "AAAAAAAAAAEAAACjYXZjMQAAAAAAAAABAAAAAAAAAAAAAAAAAAAAAAGwASAASAAAAEgAAAAAAAAA\n",
              "AQAAAAAAAAAAAAAAAAAAAAAAAAAAAAAAAAAAAAAAAAAAABj//wAAADFhdmNDAWQAHv/hABhnZAAe\n",
              "rNlBsJaEAAADAAQAAAMBkDxYtlgBAAZo6+PLIsAAAAAcdXVpZGtoQPJfJE/FujmlG88DI/MAAAAA\n",
              "AAAAGHN0dHMAAAAAAAAAAQAAAGQAAAEAAAAAFHN0c3MAAAAAAAAAAQAAAAEAAAMQY3R0cwAAAAAA\n",
              "AABgAAAAAQAAAgAAAAABAAADAAAAAAEAAAEAAAAAAQAAAwAAAAABAAABAAAAAAEAAAMAAAAAAQAA\n",
              "AQAAAAABAAACAAAAAAEAAAUAAAAAAQAAAgAAAAABAAAAAAAAAAEAAAEAAAAAAQAABAAAAAACAAAB\n",
              "AAAAAAEAAAUAAAAAAQAAAgAAAAABAAAAAAAAAAEAAAEAAAAAAQAAAgAAAAABAAAEAAAAAAIAAAEA\n",
              "AAAAAQAABQAAAAABAAACAAAAAAEAAAAAAAAAAQAAAQAAAAABAAAFAAAAAAEAAAIAAAAAAQAAAAAA\n",
              "AAABAAABAAAAAAEAAAIAAAAAAQAAAwAAAAABAAABAAAAAAEAAAUAAAAAAQAAAgAAAAABAAAAAAAA\n",
              "AAEAAAEAAAAAAQAAAgAAAAABAAADAAAAAAEAAAEAAAAAAQAAAgAAAAABAAAEAAAAAAIAAAEAAAAA\n",
              "AQAABQAAAAABAAACAAAAAAEAAAAAAAAAAQAAAQAAAAABAAAEAAAAAAIAAAEAAAAAAQAABQAAAAAB\n",
              "AAACAAAAAAEAAAAAAAAAAQAAAQAAAAABAAAFAAAAAAEAAAIAAAAAAQAAAAAAAAABAAABAAAAAAEA\n",
              "AAUAAAAAAQAAAgAAAAABAAAAAAAAAAEAAAEAAAAAAQAABQAAAAABAAACAAAAAAEAAAAAAAAAAQAA\n",
              "AQAAAAABAAACAAAAAAEAAAUAAAAAAQAAAgAAAAABAAAAAAAAAAEAAAEAAAAAAQAABQAAAAABAAAC\n",
              "AAAAAAEAAAAAAAAAAQAAAQAAAAABAAAFAAAAAAEAAAIAAAAAAQAAAAAAAAABAAABAAAAAAEAAAUA\n",
              "AAAAAQAAAgAAAAABAAAAAAAAAAEAAAEAAAAAAQAABQAAAAABAAACAAAAAAEAAAAAAAAAAQAAAQAA\n",
              "AAABAAAFAAAAAAEAAAIAAAAAAQAAAAAAAAABAAABAAAAAAEAAAUAAAAAAQAAAgAAAAABAAAAAAAA\n",
              "AAEAAAEAAAAAAQAAAwAAAAABAAABAAAAAAEAAAIAAAAAHHN0c2MAAAAAAAAAAQAAAAEAAABkAAAA\n",
              "AQAAAaRzdHN6AAAAAAAAAAAAAABkAAA0uAAAAxcAAABhAAABBwAAAEEAAAC2AAAAJAAAAGoAAACq\n",
              "AAAAMQAAACAAAAAaAAAApgAAACwAAAAiAAAAxQAAACkAAAAgAAAAIQAAAEEAAABHAAAAJQAAAB4A\n",
              "AAB1AAAAMAAAACAAAAAiAAAAegAAACYAAAAgAAAAGAAAAD8AAAB+AAAAJwAAADsAAAAmAAAAFwAA\n",
              "ABcAAAB6AAAARQAAACMAAABIAAAAQQAAACYAAAATAAAASwAAACwAAAAYAAAAFgAAAEgAAAAeAAAA\n",
              "FwAAAHEAAAArAAAAHAAAABQAAABmAAAAIwAAABUAAAATAAAAXgAAACkAAAATAAAAEwAAAE4AAAAn\n",
              "AAAAHgAAABYAAAA0AAAAUwAAACgAAAAZAAAADwAAAFcAAAArAAAAGgAAABgAAABYAAAAHQAAABAA\n",
              "AAAaAAAASwAAAB0AAAAQAAAAEwAAACcAAAAdAAAAEAAAABAAAAA9AAAAJQAAABMAAAATAAAAMwAA\n",
              "ACcAAAATAAAAFgAAAC0AAAAfAAAAJwAAABRzdGNvAAAAAAAAAAEAAAAsAAAAYnVkdGEAAABabWV0\n",
              "YQAAAAAAAAAhaGRscgAAAAAAAAAAbWRpcmFwcGwAAAAAAAAAAAAAAAAtaWxzdAAAACWpdG9vAAAA\n",
              "HWRhdGEAAAABAAAAAExhdmY1Ny44My4xMDA=\n",
              "\">\n",
              "  Your browser does not support the video tag.\n",
              "</video>"
            ]
          },
          "metadata": {
            "tags": []
          }
        }
      ]
    },
    {
      "cell_type": "code",
      "metadata": {
        "id": "sdJC6jxPmibs"
      },
      "source": [
        ""
      ],
      "execution_count": null,
      "outputs": []
    }
  ]
}