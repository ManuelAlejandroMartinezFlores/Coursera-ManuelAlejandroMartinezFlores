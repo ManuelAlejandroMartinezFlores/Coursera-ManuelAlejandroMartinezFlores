{
 "cells": [
  {
   "cell_type": "code",
   "execution_count": 14,
   "metadata": {},
   "outputs": [
    {
     "name": "stdout",
     "output_type": "stream",
     "text": [
      "edges = 88234\n",
      "nodes = 4039\n",
      "0.6055467186200876\n",
      "rgraph_edges = 4039\n",
      "rgraph_acc = 0.010924349006080374\n"
     ]
    }
   ],
   "source": [
    "import networkx as nx\n",
    "from random import random\n",
    "import random\n",
    "\n",
    "# Read data from the dataset, and create graph G_fb\n",
    "G_fb = nx.read_edgelist(\"facebook_combined.txt\", create_using = nx.Graph(), nodetype=int);\n",
    "\n",
    "# Show the number of edges in G_fb\n",
    "print(\"edges = \" + str(G_fb.number_of_edges()));\n",
    "\n",
    "# Show number of nodes in G_fb\n",
    "print(\"nodes = \" + str(G_fb.number_of_nodes()));\n",
    "v=G_fb.number_of_nodes()\n",
    "e=G_fb.number_of_edges()\n",
    "# TASK1. Now your task is to compute the probability whether there is an edge between two vertices.\n",
    "## edge_probab = ...\n",
    "edge_probab = 2*e/(v*(v-1))\n",
    "    \n",
    "# TASK2. Compute the ACC (average clustering coefficient) of G_fb\n",
    "# (consult the NetworkX manual or the video lecture for the correct function which does it)\n",
    "## av_clust_coeff =  ...{\n",
    "\n",
    "\n",
    "av_clust_coeff = nx.average_clustering(G_fb)\n",
    "print(str(av_clust_coeff));\n",
    "# Now we have to generate a random graph. First we initialize it\n",
    "G_rand=nx.erdos_renyi_graph(k, edge_probab, seed=None, directed=False)\n",
    "\n",
    "print(\"rgraph_edges = \" + str(G_rand.number_of_nodes()));\n",
    "\n",
    "av_clust_coeff=nx.average_clustering(G_rand)\n",
    "\n",
    "print(\"rgraph_acc = \" + str(av_clust_coeff));"
   ]
  },
  {
   "cell_type": "code",
   "execution_count": null,
   "metadata": {},
   "outputs": [],
   "source": []
  }
 ],
 "metadata": {
  "kernelspec": {
   "display_name": "Python 3",
   "language": "python",
   "name": "python3"
  },
  "language_info": {
   "codemirror_mode": {
    "name": "ipython",
    "version": 3
   },
   "file_extension": ".py",
   "mimetype": "text/x-python",
   "name": "python",
   "nbconvert_exporter": "python",
   "pygments_lexer": "ipython3",
   "version": "3.7.1"
  }
 },
 "nbformat": 4,
 "nbformat_minor": 2
}
