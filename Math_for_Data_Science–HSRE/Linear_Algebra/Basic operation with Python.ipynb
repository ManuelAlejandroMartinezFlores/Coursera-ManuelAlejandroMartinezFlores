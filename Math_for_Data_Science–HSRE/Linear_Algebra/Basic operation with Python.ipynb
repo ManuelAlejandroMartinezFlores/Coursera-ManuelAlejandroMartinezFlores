{
 "cells": [
  {
   "cell_type": "markdown",
   "metadata": {},
   "source": [
    "# Welcome to this programming assignment\n",
    "During week 1 we covered some basic numpy methods to perform basic calculations in Python. In this notebook you will be asked to complete some problems dealing with matrix and vector operations. There will be comments along the way to help you successfully complete this assignment. Good luck!\n",
    "\n",
    "Check the [documentation](https://numpy.org/doc/1.17/reference/index.html) to find out more information about the library and methods it provides."
   ]
  },
  {
   "cell_type": "code",
   "execution_count": 2,
   "metadata": {},
   "outputs": [],
   "source": [
    "import numpy as np\n",
    "import numpy.linalg as LA"
   ]
  },
  {
   "cell_type": "code",
   "execution_count": null,
   "metadata": {},
   "outputs": [],
   "source": [
    "Find dot product of the matrices\n",
    "Find the sum of all matrix elements that are greater than 5\n",
    "Calculate the difference between matrices\n",
    "Find the solution to system, use matrix inverse\n",
    "Create an identity matrix and subtract it from A\n",
    "Find the sum of all elements in an array\n",
    "# Find the PLU decomposition and assert that by multiplying\n",
    "#      the matrices in the decomposition you get the iriginal matrix back"
   ]
  },
  {
   "cell_type": "code",
   "execution_count": 3,
   "metadata": {},
   "outputs": [
    {
     "data": {
      "text/plain": [
       "array([[ 1, 13,  4,  5, -6],\n",
       "       [-9,  4, 12,  0,  2],\n",
       "       [45,  4,  3,  2,  1],\n",
       "       [ 3, -9, 15,  6, 22],\n",
       "       [ 3,  5,  0, -7, 12]])"
      ]
     },
     "execution_count": 3,
     "metadata": {},
     "output_type": "execute_result"
    }
   ],
   "source": [
    "# Find the sum of all elements in an array\n",
    "a = np.array([[1,13,4,5, -6],[-9,4,12,0,2],[45,4,3,2,1], [3,-9,15,6,22],[3,5,0,-7,12]])\n",
    "a"
   ]
  },
  {
   "cell_type": "code",
   "execution_count": 4,
   "metadata": {},
   "outputs": [
    {
     "data": {
      "text/plain": [
       "131"
      ]
     },
     "execution_count": 4,
     "metadata": {},
     "output_type": "execute_result"
    }
   ],
   "source": [
    "a.sum()"
   ]
  },
  {
   "cell_type": "code",
   "execution_count": null,
   "metadata": {},
   "outputs": [],
   "source": []
  }
 ],
 "metadata": {
  "kernelspec": {
   "display_name": "Python 3",
   "language": "python",
   "name": "python3"
  },
  "language_info": {
   "codemirror_mode": {
    "name": "ipython",
    "version": 3
   },
   "file_extension": ".py",
   "mimetype": "text/x-python",
   "name": "python",
   "nbconvert_exporter": "python",
   "pygments_lexer": "ipython3",
   "version": "3.7.1"
  }
 },
 "nbformat": 4,
 "nbformat_minor": 2
}
